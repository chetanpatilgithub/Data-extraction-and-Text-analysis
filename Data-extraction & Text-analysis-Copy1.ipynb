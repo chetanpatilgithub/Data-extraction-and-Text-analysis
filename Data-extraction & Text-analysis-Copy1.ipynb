{
 "cells": [
  {
   "cell_type": "markdown",
   "metadata": {},
   "source": [
    "# PREPROCESSING"
   ]
  },
  {
   "cell_type": "markdown",
   "metadata": {},
   "source": [
    "## Importing the libraries"
   ]
  },
  {
   "cell_type": "code",
   "execution_count": 18,
   "metadata": {
    "execution": {
     "iopub.execute_input": "2022-01-06T16:36:23.356009Z",
     "iopub.status.busy": "2022-01-06T16:36:23.355610Z",
     "iopub.status.idle": "2022-01-06T16:36:25.176074Z",
     "shell.execute_reply": "2022-01-06T16:36:25.174332Z",
     "shell.execute_reply.started": "2022-01-06T16:36:23.355914Z"
    },
    "id": "v79PZ-C99FUr"
   },
   "outputs": [],
   "source": [
    "import pandas as pd\n",
    "import requests\n",
    "import bs4 as bfs\n",
    "import nltk\n",
    "from nltk.tokenize import sent_tokenize\n",
    "from nltk.tokenize import word_tokenize\n",
    "from nltk.corpus import stopwords\n",
    "from nltk.tokenize import word_tokenize\n",
    "from nltk.sentiment.vader import SentimentIntensityAnalyzer\n",
    "import string\n",
    "from textblob import TextBlob\n",
    "import csv\n",
    "import numpy as np"
   ]
  },
  {
   "cell_type": "code",
   "execution_count": 19,
   "metadata": {
    "execution": {
     "iopub.execute_input": "2022-01-06T16:36:30.522962Z",
     "iopub.status.busy": "2022-01-06T16:36:30.522045Z",
     "iopub.status.idle": "2022-01-06T16:36:30.688004Z",
     "shell.execute_reply": "2022-01-06T16:36:30.687038Z",
     "shell.execute_reply.started": "2022-01-06T16:36:30.522914Z"
    },
    "id": "9LpZJcJ_uqVM",
    "outputId": "97a32130-8ea6-4ca6-d521-b4ec670dc3ac",
    "scrolled": true
   },
   "outputs": [
    {
     "name": "stderr",
     "output_type": "stream",
     "text": [
      "[nltk_data] Error loading stopwords: <urlopen error [WinError 10060] A\n",
      "[nltk_data]     connection attempt failed because the connected party\n",
      "[nltk_data]     did not properly respond after a period of time, or\n",
      "[nltk_data]     established connection failed because connected host\n",
      "[nltk_data]     has failed to respond>\n",
      "[nltk_data] Error loading punkt: <urlopen error [WinError 10060] A\n",
      "[nltk_data]     connection attempt failed because the connected party\n",
      "[nltk_data]     did not properly respond after a period of time, or\n",
      "[nltk_data]     established connection failed because connected host\n",
      "[nltk_data]     has failed to respond>\n"
     ]
    },
    {
     "data": {
      "text/plain": [
       "False"
      ]
     },
     "execution_count": 19,
     "metadata": {},
     "output_type": "execute_result"
    }
   ],
   "source": [
    "nltk.download('stopwords')\n",
    "nltk.download('punkt')"
   ]
  },
  {
   "cell_type": "markdown",
   "metadata": {},
   "source": [
    "## Importing the dataset"
   ]
  },
  {
   "cell_type": "code",
   "execution_count": 20,
   "metadata": {
    "execution": {
     "iopub.execute_input": "2022-01-06T16:37:23.426410Z",
     "iopub.status.busy": "2022-01-06T16:37:23.426073Z",
     "iopub.status.idle": "2022-01-06T16:37:23.448241Z",
     "shell.execute_reply": "2022-01-06T16:37:23.447624Z",
     "shell.execute_reply.started": "2022-01-06T16:37:23.426373Z"
    },
    "id": "5ztfmSkE9O8q"
   },
   "outputs": [
    {
     "data": {
      "text/html": [
       "<div>\n",
       "<style scoped>\n",
       "    .dataframe tbody tr th:only-of-type {\n",
       "        vertical-align: middle;\n",
       "    }\n",
       "\n",
       "    .dataframe tbody tr th {\n",
       "        vertical-align: top;\n",
       "    }\n",
       "\n",
       "    .dataframe thead th {\n",
       "        text-align: right;\n",
       "    }\n",
       "</style>\n",
       "<table border=\"1\" class=\"dataframe\">\n",
       "  <thead>\n",
       "    <tr style=\"text-align: right;\">\n",
       "      <th></th>\n",
       "      <th>URL</th>\n",
       "      <th>POSITIVE SCORE</th>\n",
       "      <th>NEGATIVE SCORE</th>\n",
       "      <th>POLARITY SCORE</th>\n",
       "      <th>SUBJECTIVITY SCORE</th>\n",
       "      <th>AVG SENTENCE LENGTH</th>\n",
       "      <th>PERCENTAGE OF COMPLEX WORDS</th>\n",
       "      <th>FOG INDEX</th>\n",
       "      <th>AVG NUMBER OF WORDS PER SENTENCE</th>\n",
       "      <th>COMPLEX WORD COUNT</th>\n",
       "      <th>WORD COUNT</th>\n",
       "      <th>SYLLABLE PER WORD</th>\n",
       "      <th>PERSONAL PRONOUNS</th>\n",
       "      <th>AVG WORD LENGTH</th>\n",
       "      <th>Unnamed: 15</th>\n",
       "      <th>Unnamed: 16</th>\n",
       "      <th>Unnamed: 17</th>\n",
       "      <th>Unnamed: 18</th>\n",
       "      <th>Unnamed: 19</th>\n",
       "      <th>Unnamed: 20</th>\n",
       "    </tr>\n",
       "    <tr>\n",
       "      <th>URL_ID</th>\n",
       "      <th></th>\n",
       "      <th></th>\n",
       "      <th></th>\n",
       "      <th></th>\n",
       "      <th></th>\n",
       "      <th></th>\n",
       "      <th></th>\n",
       "      <th></th>\n",
       "      <th></th>\n",
       "      <th></th>\n",
       "      <th></th>\n",
       "      <th></th>\n",
       "      <th></th>\n",
       "      <th></th>\n",
       "      <th></th>\n",
       "      <th></th>\n",
       "      <th></th>\n",
       "      <th></th>\n",
       "      <th></th>\n",
       "      <th></th>\n",
       "    </tr>\n",
       "  </thead>\n",
       "  <tbody>\n",
       "    <tr>\n",
       "      <th>1</th>\n",
       "      <td>https://insights.blackcoffer.com/is-telehealth...</td>\n",
       "      <td>NaN</td>\n",
       "      <td>NaN</td>\n",
       "      <td>NaN</td>\n",
       "      <td>NaN</td>\n",
       "      <td>NaN</td>\n",
       "      <td>NaN</td>\n",
       "      <td>NaN</td>\n",
       "      <td>NaN</td>\n",
       "      <td>NaN</td>\n",
       "      <td>NaN</td>\n",
       "      <td>NaN</td>\n",
       "      <td>NaN</td>\n",
       "      <td>NaN</td>\n",
       "      <td>NaN</td>\n",
       "      <td>NaN</td>\n",
       "      <td>NaN</td>\n",
       "      <td>NaN</td>\n",
       "      <td>NaN</td>\n",
       "      <td>NaN</td>\n",
       "    </tr>\n",
       "    <tr>\n",
       "      <th>2</th>\n",
       "      <td>https://insights.blackcoffer.com/how-telehealt...</td>\n",
       "      <td>NaN</td>\n",
       "      <td>NaN</td>\n",
       "      <td>NaN</td>\n",
       "      <td>NaN</td>\n",
       "      <td>NaN</td>\n",
       "      <td>NaN</td>\n",
       "      <td>NaN</td>\n",
       "      <td>NaN</td>\n",
       "      <td>NaN</td>\n",
       "      <td>NaN</td>\n",
       "      <td>NaN</td>\n",
       "      <td>NaN</td>\n",
       "      <td>NaN</td>\n",
       "      <td>NaN</td>\n",
       "      <td>NaN</td>\n",
       "      <td>NaN</td>\n",
       "      <td>NaN</td>\n",
       "      <td>NaN</td>\n",
       "      <td>NaN</td>\n",
       "    </tr>\n",
       "    <tr>\n",
       "      <th>3</th>\n",
       "      <td>https://insights.blackcoffer.com/is-telemedici...</td>\n",
       "      <td>NaN</td>\n",
       "      <td>NaN</td>\n",
       "      <td>NaN</td>\n",
       "      <td>NaN</td>\n",
       "      <td>NaN</td>\n",
       "      <td>NaN</td>\n",
       "      <td>NaN</td>\n",
       "      <td>NaN</td>\n",
       "      <td>NaN</td>\n",
       "      <td>NaN</td>\n",
       "      <td>NaN</td>\n",
       "      <td>NaN</td>\n",
       "      <td>NaN</td>\n",
       "      <td>NaN</td>\n",
       "      <td>NaN</td>\n",
       "      <td>NaN</td>\n",
       "      <td>NaN</td>\n",
       "      <td>NaN</td>\n",
       "      <td>NaN</td>\n",
       "    </tr>\n",
       "    <tr>\n",
       "      <th>4</th>\n",
       "      <td>https://insights.blackcoffer.com/is-telehealth...</td>\n",
       "      <td>NaN</td>\n",
       "      <td>NaN</td>\n",
       "      <td>NaN</td>\n",
       "      <td>NaN</td>\n",
       "      <td>NaN</td>\n",
       "      <td>NaN</td>\n",
       "      <td>NaN</td>\n",
       "      <td>NaN</td>\n",
       "      <td>NaN</td>\n",
       "      <td>NaN</td>\n",
       "      <td>NaN</td>\n",
       "      <td>NaN</td>\n",
       "      <td>NaN</td>\n",
       "      <td>NaN</td>\n",
       "      <td>NaN</td>\n",
       "      <td>NaN</td>\n",
       "      <td>NaN</td>\n",
       "      <td>NaN</td>\n",
       "      <td>NaN</td>\n",
       "    </tr>\n",
       "    <tr>\n",
       "      <th>5</th>\n",
       "      <td>https://insights.blackcoffer.com/how-people-di...</td>\n",
       "      <td>NaN</td>\n",
       "      <td>NaN</td>\n",
       "      <td>NaN</td>\n",
       "      <td>NaN</td>\n",
       "      <td>NaN</td>\n",
       "      <td>NaN</td>\n",
       "      <td>NaN</td>\n",
       "      <td>NaN</td>\n",
       "      <td>NaN</td>\n",
       "      <td>NaN</td>\n",
       "      <td>NaN</td>\n",
       "      <td>NaN</td>\n",
       "      <td>NaN</td>\n",
       "      <td>NaN</td>\n",
       "      <td>NaN</td>\n",
       "      <td>NaN</td>\n",
       "      <td>NaN</td>\n",
       "      <td>NaN</td>\n",
       "      <td>NaN</td>\n",
       "    </tr>\n",
       "    <tr>\n",
       "      <th>...</th>\n",
       "      <td>...</td>\n",
       "      <td>...</td>\n",
       "      <td>...</td>\n",
       "      <td>...</td>\n",
       "      <td>...</td>\n",
       "      <td>...</td>\n",
       "      <td>...</td>\n",
       "      <td>...</td>\n",
       "      <td>...</td>\n",
       "      <td>...</td>\n",
       "      <td>...</td>\n",
       "      <td>...</td>\n",
       "      <td>...</td>\n",
       "      <td>...</td>\n",
       "      <td>...</td>\n",
       "      <td>...</td>\n",
       "      <td>...</td>\n",
       "      <td>...</td>\n",
       "      <td>...</td>\n",
       "      <td>...</td>\n",
       "    </tr>\n",
       "    <tr>\n",
       "      <th>146</th>\n",
       "      <td>https://insights.blackcoffer.com/blockchain-fo...</td>\n",
       "      <td>NaN</td>\n",
       "      <td>NaN</td>\n",
       "      <td>NaN</td>\n",
       "      <td>NaN</td>\n",
       "      <td>NaN</td>\n",
       "      <td>NaN</td>\n",
       "      <td>NaN</td>\n",
       "      <td>NaN</td>\n",
       "      <td>NaN</td>\n",
       "      <td>NaN</td>\n",
       "      <td>NaN</td>\n",
       "      <td>NaN</td>\n",
       "      <td>NaN</td>\n",
       "      <td>NaN</td>\n",
       "      <td>NaN</td>\n",
       "      <td>NaN</td>\n",
       "      <td>NaN</td>\n",
       "      <td>NaN</td>\n",
       "      <td>NaN</td>\n",
       "    </tr>\n",
       "    <tr>\n",
       "      <th>147</th>\n",
       "      <td>https://insights.blackcoffer.com/the-future-of...</td>\n",
       "      <td>NaN</td>\n",
       "      <td>NaN</td>\n",
       "      <td>NaN</td>\n",
       "      <td>NaN</td>\n",
       "      <td>NaN</td>\n",
       "      <td>NaN</td>\n",
       "      <td>NaN</td>\n",
       "      <td>NaN</td>\n",
       "      <td>NaN</td>\n",
       "      <td>NaN</td>\n",
       "      <td>NaN</td>\n",
       "      <td>NaN</td>\n",
       "      <td>NaN</td>\n",
       "      <td>NaN</td>\n",
       "      <td>NaN</td>\n",
       "      <td>NaN</td>\n",
       "      <td>NaN</td>\n",
       "      <td>NaN</td>\n",
       "      <td>NaN</td>\n",
       "    </tr>\n",
       "    <tr>\n",
       "      <th>148</th>\n",
       "      <td>https://insights.blackcoffer.com/big-data-anal...</td>\n",
       "      <td>NaN</td>\n",
       "      <td>NaN</td>\n",
       "      <td>NaN</td>\n",
       "      <td>NaN</td>\n",
       "      <td>NaN</td>\n",
       "      <td>NaN</td>\n",
       "      <td>NaN</td>\n",
       "      <td>NaN</td>\n",
       "      <td>NaN</td>\n",
       "      <td>NaN</td>\n",
       "      <td>NaN</td>\n",
       "      <td>NaN</td>\n",
       "      <td>NaN</td>\n",
       "      <td>NaN</td>\n",
       "      <td>NaN</td>\n",
       "      <td>NaN</td>\n",
       "      <td>NaN</td>\n",
       "      <td>NaN</td>\n",
       "      <td>NaN</td>\n",
       "    </tr>\n",
       "    <tr>\n",
       "      <th>149</th>\n",
       "      <td>https://insights.blackcoffer.com/business-anal...</td>\n",
       "      <td>NaN</td>\n",
       "      <td>NaN</td>\n",
       "      <td>NaN</td>\n",
       "      <td>NaN</td>\n",
       "      <td>NaN</td>\n",
       "      <td>NaN</td>\n",
       "      <td>NaN</td>\n",
       "      <td>NaN</td>\n",
       "      <td>NaN</td>\n",
       "      <td>NaN</td>\n",
       "      <td>NaN</td>\n",
       "      <td>NaN</td>\n",
       "      <td>NaN</td>\n",
       "      <td>NaN</td>\n",
       "      <td>NaN</td>\n",
       "      <td>NaN</td>\n",
       "      <td>NaN</td>\n",
       "      <td>NaN</td>\n",
       "      <td>NaN</td>\n",
       "    </tr>\n",
       "    <tr>\n",
       "      <th>150</th>\n",
       "      <td>https://insights.blackcoffer.com/challenges-an...</td>\n",
       "      <td>NaN</td>\n",
       "      <td>NaN</td>\n",
       "      <td>NaN</td>\n",
       "      <td>NaN</td>\n",
       "      <td>NaN</td>\n",
       "      <td>NaN</td>\n",
       "      <td>NaN</td>\n",
       "      <td>NaN</td>\n",
       "      <td>NaN</td>\n",
       "      <td>NaN</td>\n",
       "      <td>NaN</td>\n",
       "      <td>NaN</td>\n",
       "      <td>NaN</td>\n",
       "      <td>NaN</td>\n",
       "      <td>NaN</td>\n",
       "      <td>NaN</td>\n",
       "      <td>NaN</td>\n",
       "      <td>NaN</td>\n",
       "      <td>NaN</td>\n",
       "    </tr>\n",
       "  </tbody>\n",
       "</table>\n",
       "<p>150 rows × 20 columns</p>\n",
       "</div>"
      ],
      "text/plain": [
       "                                                      URL  POSITIVE SCORE  \\\n",
       "URL_ID                                                                      \n",
       "1       https://insights.blackcoffer.com/is-telehealth...             NaN   \n",
       "2       https://insights.blackcoffer.com/how-telehealt...             NaN   \n",
       "3       https://insights.blackcoffer.com/is-telemedici...             NaN   \n",
       "4       https://insights.blackcoffer.com/is-telehealth...             NaN   \n",
       "5       https://insights.blackcoffer.com/how-people-di...             NaN   \n",
       "...                                                   ...             ...   \n",
       "146     https://insights.blackcoffer.com/blockchain-fo...             NaN   \n",
       "147     https://insights.blackcoffer.com/the-future-of...             NaN   \n",
       "148     https://insights.blackcoffer.com/big-data-anal...             NaN   \n",
       "149     https://insights.blackcoffer.com/business-anal...             NaN   \n",
       "150     https://insights.blackcoffer.com/challenges-an...             NaN   \n",
       "\n",
       "        NEGATIVE SCORE  POLARITY SCORE  SUBJECTIVITY SCORE  \\\n",
       "URL_ID                                                       \n",
       "1                  NaN             NaN                 NaN   \n",
       "2                  NaN             NaN                 NaN   \n",
       "3                  NaN             NaN                 NaN   \n",
       "4                  NaN             NaN                 NaN   \n",
       "5                  NaN             NaN                 NaN   \n",
       "...                ...             ...                 ...   \n",
       "146                NaN             NaN                 NaN   \n",
       "147                NaN             NaN                 NaN   \n",
       "148                NaN             NaN                 NaN   \n",
       "149                NaN             NaN                 NaN   \n",
       "150                NaN             NaN                 NaN   \n",
       "\n",
       "        AVG SENTENCE LENGTH  PERCENTAGE OF COMPLEX WORDS  FOG INDEX  \\\n",
       "URL_ID                                                                \n",
       "1                       NaN                          NaN        NaN   \n",
       "2                       NaN                          NaN        NaN   \n",
       "3                       NaN                          NaN        NaN   \n",
       "4                       NaN                          NaN        NaN   \n",
       "5                       NaN                          NaN        NaN   \n",
       "...                     ...                          ...        ...   \n",
       "146                     NaN                          NaN        NaN   \n",
       "147                     NaN                          NaN        NaN   \n",
       "148                     NaN                          NaN        NaN   \n",
       "149                     NaN                          NaN        NaN   \n",
       "150                     NaN                          NaN        NaN   \n",
       "\n",
       "        AVG NUMBER OF WORDS PER SENTENCE  COMPLEX WORD COUNT  WORD COUNT  \\\n",
       "URL_ID                                                                     \n",
       "1                                    NaN                 NaN         NaN   \n",
       "2                                    NaN                 NaN         NaN   \n",
       "3                                    NaN                 NaN         NaN   \n",
       "4                                    NaN                 NaN         NaN   \n",
       "5                                    NaN                 NaN         NaN   \n",
       "...                                  ...                 ...         ...   \n",
       "146                                  NaN                 NaN         NaN   \n",
       "147                                  NaN                 NaN         NaN   \n",
       "148                                  NaN                 NaN         NaN   \n",
       "149                                  NaN                 NaN         NaN   \n",
       "150                                  NaN                 NaN         NaN   \n",
       "\n",
       "        SYLLABLE PER WORD  PERSONAL PRONOUNS  AVG WORD LENGTH  Unnamed: 15  \\\n",
       "URL_ID                                                                       \n",
       "1                     NaN                NaN              NaN          NaN   \n",
       "2                     NaN                NaN              NaN          NaN   \n",
       "3                     NaN                NaN              NaN          NaN   \n",
       "4                     NaN                NaN              NaN          NaN   \n",
       "5                     NaN                NaN              NaN          NaN   \n",
       "...                   ...                ...              ...          ...   \n",
       "146                   NaN                NaN              NaN          NaN   \n",
       "147                   NaN                NaN              NaN          NaN   \n",
       "148                   NaN                NaN              NaN          NaN   \n",
       "149                   NaN                NaN              NaN          NaN   \n",
       "150                   NaN                NaN              NaN          NaN   \n",
       "\n",
       "        Unnamed: 16  Unnamed: 17  Unnamed: 18  Unnamed: 19  Unnamed: 20  \n",
       "URL_ID                                                                   \n",
       "1               NaN          NaN          NaN          NaN          NaN  \n",
       "2               NaN          NaN          NaN          NaN          NaN  \n",
       "3               NaN          NaN          NaN          NaN          NaN  \n",
       "4               NaN          NaN          NaN          NaN          NaN  \n",
       "5               NaN          NaN          NaN          NaN          NaN  \n",
       "...             ...          ...          ...          ...          ...  \n",
       "146             NaN          NaN          NaN          NaN          NaN  \n",
       "147             NaN          NaN          NaN          NaN          NaN  \n",
       "148             NaN          NaN          NaN          NaN          NaN  \n",
       "149             NaN          NaN          NaN          NaN          NaN  \n",
       "150             NaN          NaN          NaN          NaN          NaN  \n",
       "\n",
       "[150 rows x 20 columns]"
      ]
     },
     "execution_count": 20,
     "metadata": {},
     "output_type": "execute_result"
    }
   ],
   "source": [
    "\n",
    "read_file = pd.read_excel (\"Output Data Structure.xlsx\")\n",
    "\n",
    "read_file.to_csv (\"Output Data Structure.csv\",\n",
    "                index = None,\n",
    "                header=True)\n",
    "\n",
    "df = pd.DataFrame(pd.read_csv(\"Output Data Structure.csv\"))\n",
    "df = pd.read_csv('Output Data Structure.csv',index_col=0)\n",
    "df\n"
   ]
  },
  {
   "cell_type": "markdown",
   "metadata": {},
   "source": [
    "## Cleaning the dataset"
   ]
  },
  {
   "cell_type": "code",
   "execution_count": 21,
   "metadata": {},
   "outputs": [],
   "source": [
    "df = df.drop(columns = ['Unnamed: 15','Unnamed: 16','Unnamed: 17', 'Unnamed: 18', 'Unnamed: 19', 'Unnamed: 20' ])"
   ]
  },
  {
   "cell_type": "code",
   "execution_count": 22,
   "metadata": {},
   "outputs": [
    {
     "data": {
      "text/html": [
       "<div>\n",
       "<style scoped>\n",
       "    .dataframe tbody tr th:only-of-type {\n",
       "        vertical-align: middle;\n",
       "    }\n",
       "\n",
       "    .dataframe tbody tr th {\n",
       "        vertical-align: top;\n",
       "    }\n",
       "\n",
       "    .dataframe thead th {\n",
       "        text-align: right;\n",
       "    }\n",
       "</style>\n",
       "<table border=\"1\" class=\"dataframe\">\n",
       "  <thead>\n",
       "    <tr style=\"text-align: right;\">\n",
       "      <th></th>\n",
       "      <th>URL</th>\n",
       "      <th>POSITIVE SCORE</th>\n",
       "      <th>NEGATIVE SCORE</th>\n",
       "      <th>POLARITY SCORE</th>\n",
       "      <th>SUBJECTIVITY SCORE</th>\n",
       "      <th>AVG SENTENCE LENGTH</th>\n",
       "      <th>PERCENTAGE OF COMPLEX WORDS</th>\n",
       "      <th>FOG INDEX</th>\n",
       "      <th>AVG NUMBER OF WORDS PER SENTENCE</th>\n",
       "      <th>COMPLEX WORD COUNT</th>\n",
       "      <th>WORD COUNT</th>\n",
       "      <th>SYLLABLE PER WORD</th>\n",
       "      <th>PERSONAL PRONOUNS</th>\n",
       "      <th>AVG WORD LENGTH</th>\n",
       "    </tr>\n",
       "    <tr>\n",
       "      <th>URL_ID</th>\n",
       "      <th></th>\n",
       "      <th></th>\n",
       "      <th></th>\n",
       "      <th></th>\n",
       "      <th></th>\n",
       "      <th></th>\n",
       "      <th></th>\n",
       "      <th></th>\n",
       "      <th></th>\n",
       "      <th></th>\n",
       "      <th></th>\n",
       "      <th></th>\n",
       "      <th></th>\n",
       "      <th></th>\n",
       "    </tr>\n",
       "  </thead>\n",
       "  <tbody>\n",
       "    <tr>\n",
       "      <th>1</th>\n",
       "      <td>https://insights.blackcoffer.com/is-telehealth...</td>\n",
       "      <td>NaN</td>\n",
       "      <td>NaN</td>\n",
       "      <td>NaN</td>\n",
       "      <td>NaN</td>\n",
       "      <td>NaN</td>\n",
       "      <td>NaN</td>\n",
       "      <td>NaN</td>\n",
       "      <td>NaN</td>\n",
       "      <td>NaN</td>\n",
       "      <td>NaN</td>\n",
       "      <td>NaN</td>\n",
       "      <td>NaN</td>\n",
       "      <td>NaN</td>\n",
       "    </tr>\n",
       "    <tr>\n",
       "      <th>2</th>\n",
       "      <td>https://insights.blackcoffer.com/how-telehealt...</td>\n",
       "      <td>NaN</td>\n",
       "      <td>NaN</td>\n",
       "      <td>NaN</td>\n",
       "      <td>NaN</td>\n",
       "      <td>NaN</td>\n",
       "      <td>NaN</td>\n",
       "      <td>NaN</td>\n",
       "      <td>NaN</td>\n",
       "      <td>NaN</td>\n",
       "      <td>NaN</td>\n",
       "      <td>NaN</td>\n",
       "      <td>NaN</td>\n",
       "      <td>NaN</td>\n",
       "    </tr>\n",
       "    <tr>\n",
       "      <th>3</th>\n",
       "      <td>https://insights.blackcoffer.com/is-telemedici...</td>\n",
       "      <td>NaN</td>\n",
       "      <td>NaN</td>\n",
       "      <td>NaN</td>\n",
       "      <td>NaN</td>\n",
       "      <td>NaN</td>\n",
       "      <td>NaN</td>\n",
       "      <td>NaN</td>\n",
       "      <td>NaN</td>\n",
       "      <td>NaN</td>\n",
       "      <td>NaN</td>\n",
       "      <td>NaN</td>\n",
       "      <td>NaN</td>\n",
       "      <td>NaN</td>\n",
       "    </tr>\n",
       "    <tr>\n",
       "      <th>4</th>\n",
       "      <td>https://insights.blackcoffer.com/is-telehealth...</td>\n",
       "      <td>NaN</td>\n",
       "      <td>NaN</td>\n",
       "      <td>NaN</td>\n",
       "      <td>NaN</td>\n",
       "      <td>NaN</td>\n",
       "      <td>NaN</td>\n",
       "      <td>NaN</td>\n",
       "      <td>NaN</td>\n",
       "      <td>NaN</td>\n",
       "      <td>NaN</td>\n",
       "      <td>NaN</td>\n",
       "      <td>NaN</td>\n",
       "      <td>NaN</td>\n",
       "    </tr>\n",
       "    <tr>\n",
       "      <th>5</th>\n",
       "      <td>https://insights.blackcoffer.com/how-people-di...</td>\n",
       "      <td>NaN</td>\n",
       "      <td>NaN</td>\n",
       "      <td>NaN</td>\n",
       "      <td>NaN</td>\n",
       "      <td>NaN</td>\n",
       "      <td>NaN</td>\n",
       "      <td>NaN</td>\n",
       "      <td>NaN</td>\n",
       "      <td>NaN</td>\n",
       "      <td>NaN</td>\n",
       "      <td>NaN</td>\n",
       "      <td>NaN</td>\n",
       "      <td>NaN</td>\n",
       "    </tr>\n",
       "    <tr>\n",
       "      <th>...</th>\n",
       "      <td>...</td>\n",
       "      <td>...</td>\n",
       "      <td>...</td>\n",
       "      <td>...</td>\n",
       "      <td>...</td>\n",
       "      <td>...</td>\n",
       "      <td>...</td>\n",
       "      <td>...</td>\n",
       "      <td>...</td>\n",
       "      <td>...</td>\n",
       "      <td>...</td>\n",
       "      <td>...</td>\n",
       "      <td>...</td>\n",
       "      <td>...</td>\n",
       "    </tr>\n",
       "    <tr>\n",
       "      <th>146</th>\n",
       "      <td>https://insights.blackcoffer.com/blockchain-fo...</td>\n",
       "      <td>NaN</td>\n",
       "      <td>NaN</td>\n",
       "      <td>NaN</td>\n",
       "      <td>NaN</td>\n",
       "      <td>NaN</td>\n",
       "      <td>NaN</td>\n",
       "      <td>NaN</td>\n",
       "      <td>NaN</td>\n",
       "      <td>NaN</td>\n",
       "      <td>NaN</td>\n",
       "      <td>NaN</td>\n",
       "      <td>NaN</td>\n",
       "      <td>NaN</td>\n",
       "    </tr>\n",
       "    <tr>\n",
       "      <th>147</th>\n",
       "      <td>https://insights.blackcoffer.com/the-future-of...</td>\n",
       "      <td>NaN</td>\n",
       "      <td>NaN</td>\n",
       "      <td>NaN</td>\n",
       "      <td>NaN</td>\n",
       "      <td>NaN</td>\n",
       "      <td>NaN</td>\n",
       "      <td>NaN</td>\n",
       "      <td>NaN</td>\n",
       "      <td>NaN</td>\n",
       "      <td>NaN</td>\n",
       "      <td>NaN</td>\n",
       "      <td>NaN</td>\n",
       "      <td>NaN</td>\n",
       "    </tr>\n",
       "    <tr>\n",
       "      <th>148</th>\n",
       "      <td>https://insights.blackcoffer.com/big-data-anal...</td>\n",
       "      <td>NaN</td>\n",
       "      <td>NaN</td>\n",
       "      <td>NaN</td>\n",
       "      <td>NaN</td>\n",
       "      <td>NaN</td>\n",
       "      <td>NaN</td>\n",
       "      <td>NaN</td>\n",
       "      <td>NaN</td>\n",
       "      <td>NaN</td>\n",
       "      <td>NaN</td>\n",
       "      <td>NaN</td>\n",
       "      <td>NaN</td>\n",
       "      <td>NaN</td>\n",
       "    </tr>\n",
       "    <tr>\n",
       "      <th>149</th>\n",
       "      <td>https://insights.blackcoffer.com/business-anal...</td>\n",
       "      <td>NaN</td>\n",
       "      <td>NaN</td>\n",
       "      <td>NaN</td>\n",
       "      <td>NaN</td>\n",
       "      <td>NaN</td>\n",
       "      <td>NaN</td>\n",
       "      <td>NaN</td>\n",
       "      <td>NaN</td>\n",
       "      <td>NaN</td>\n",
       "      <td>NaN</td>\n",
       "      <td>NaN</td>\n",
       "      <td>NaN</td>\n",
       "      <td>NaN</td>\n",
       "    </tr>\n",
       "    <tr>\n",
       "      <th>150</th>\n",
       "      <td>https://insights.blackcoffer.com/challenges-an...</td>\n",
       "      <td>NaN</td>\n",
       "      <td>NaN</td>\n",
       "      <td>NaN</td>\n",
       "      <td>NaN</td>\n",
       "      <td>NaN</td>\n",
       "      <td>NaN</td>\n",
       "      <td>NaN</td>\n",
       "      <td>NaN</td>\n",
       "      <td>NaN</td>\n",
       "      <td>NaN</td>\n",
       "      <td>NaN</td>\n",
       "      <td>NaN</td>\n",
       "      <td>NaN</td>\n",
       "    </tr>\n",
       "  </tbody>\n",
       "</table>\n",
       "<p>150 rows × 14 columns</p>\n",
       "</div>"
      ],
      "text/plain": [
       "                                                      URL  POSITIVE SCORE  \\\n",
       "URL_ID                                                                      \n",
       "1       https://insights.blackcoffer.com/is-telehealth...             NaN   \n",
       "2       https://insights.blackcoffer.com/how-telehealt...             NaN   \n",
       "3       https://insights.blackcoffer.com/is-telemedici...             NaN   \n",
       "4       https://insights.blackcoffer.com/is-telehealth...             NaN   \n",
       "5       https://insights.blackcoffer.com/how-people-di...             NaN   \n",
       "...                                                   ...             ...   \n",
       "146     https://insights.blackcoffer.com/blockchain-fo...             NaN   \n",
       "147     https://insights.blackcoffer.com/the-future-of...             NaN   \n",
       "148     https://insights.blackcoffer.com/big-data-anal...             NaN   \n",
       "149     https://insights.blackcoffer.com/business-anal...             NaN   \n",
       "150     https://insights.blackcoffer.com/challenges-an...             NaN   \n",
       "\n",
       "        NEGATIVE SCORE  POLARITY SCORE  SUBJECTIVITY SCORE  \\\n",
       "URL_ID                                                       \n",
       "1                  NaN             NaN                 NaN   \n",
       "2                  NaN             NaN                 NaN   \n",
       "3                  NaN             NaN                 NaN   \n",
       "4                  NaN             NaN                 NaN   \n",
       "5                  NaN             NaN                 NaN   \n",
       "...                ...             ...                 ...   \n",
       "146                NaN             NaN                 NaN   \n",
       "147                NaN             NaN                 NaN   \n",
       "148                NaN             NaN                 NaN   \n",
       "149                NaN             NaN                 NaN   \n",
       "150                NaN             NaN                 NaN   \n",
       "\n",
       "        AVG SENTENCE LENGTH  PERCENTAGE OF COMPLEX WORDS  FOG INDEX  \\\n",
       "URL_ID                                                                \n",
       "1                       NaN                          NaN        NaN   \n",
       "2                       NaN                          NaN        NaN   \n",
       "3                       NaN                          NaN        NaN   \n",
       "4                       NaN                          NaN        NaN   \n",
       "5                       NaN                          NaN        NaN   \n",
       "...                     ...                          ...        ...   \n",
       "146                     NaN                          NaN        NaN   \n",
       "147                     NaN                          NaN        NaN   \n",
       "148                     NaN                          NaN        NaN   \n",
       "149                     NaN                          NaN        NaN   \n",
       "150                     NaN                          NaN        NaN   \n",
       "\n",
       "        AVG NUMBER OF WORDS PER SENTENCE  COMPLEX WORD COUNT  WORD COUNT  \\\n",
       "URL_ID                                                                     \n",
       "1                                    NaN                 NaN         NaN   \n",
       "2                                    NaN                 NaN         NaN   \n",
       "3                                    NaN                 NaN         NaN   \n",
       "4                                    NaN                 NaN         NaN   \n",
       "5                                    NaN                 NaN         NaN   \n",
       "...                                  ...                 ...         ...   \n",
       "146                                  NaN                 NaN         NaN   \n",
       "147                                  NaN                 NaN         NaN   \n",
       "148                                  NaN                 NaN         NaN   \n",
       "149                                  NaN                 NaN         NaN   \n",
       "150                                  NaN                 NaN         NaN   \n",
       "\n",
       "        SYLLABLE PER WORD  PERSONAL PRONOUNS  AVG WORD LENGTH  \n",
       "URL_ID                                                         \n",
       "1                     NaN                NaN              NaN  \n",
       "2                     NaN                NaN              NaN  \n",
       "3                     NaN                NaN              NaN  \n",
       "4                     NaN                NaN              NaN  \n",
       "5                     NaN                NaN              NaN  \n",
       "...                   ...                ...              ...  \n",
       "146                   NaN                NaN              NaN  \n",
       "147                   NaN                NaN              NaN  \n",
       "148                   NaN                NaN              NaN  \n",
       "149                   NaN                NaN              NaN  \n",
       "150                   NaN                NaN              NaN  \n",
       "\n",
       "[150 rows x 14 columns]"
      ]
     },
     "execution_count": 22,
     "metadata": {},
     "output_type": "execute_result"
    }
   ],
   "source": [
    "df"
   ]
  },
  {
   "cell_type": "markdown",
   "metadata": {},
   "source": [
    "# DATA EXTRACTION (WEB SCRAPING)"
   ]
  },
  {
   "cell_type": "code",
   "execution_count": 23,
   "metadata": {
    "execution": {
     "iopub.execute_input": "2022-01-06T16:38:23.134583Z",
     "iopub.status.busy": "2022-01-06T16:38:23.134241Z",
     "iopub.status.idle": "2022-01-06T16:38:23.146395Z",
     "shell.execute_reply": "2022-01-06T16:38:23.145741Z",
     "shell.execute_reply.started": "2022-01-06T16:38:23.134540Z"
    },
    "id": "Gr0N1lKu9VAE",
    "scrolled": true
   },
   "outputs": [
    {
     "data": {
      "text/plain": [
       "['https://insights.blackcoffer.com/is-telehealth-the-future-of-healthcare-3/',\n",
       " 'https://insights.blackcoffer.com/how-telehealth-and-telemedicine-helping-people-to-fight-against-covid-19-2/',\n",
       " 'https://insights.blackcoffer.com/is-telemedicine-effective-in-treating-patients/',\n",
       " 'https://insights.blackcoffer.com/is-telehealth-the-future-of-healthcare-2/',\n",
       " 'https://insights.blackcoffer.com/how-people-diverted-to-telehealth-services-and-telemedicine/',\n",
       " 'https://insights.blackcoffer.com/the-future-of-telehealth-services/',\n",
       " 'https://insights.blackcoffer.com/how-telehealth-and-telemedicine-helping-people-to-fight-against-covid-19/',\n",
       " 'https://insights.blackcoffer.com/how-does-metaverse-work-in-the-financial-sector-2/',\n",
       " 'https://insights.blackcoffer.com/the-impact-of-the-metaverse-on-financial-services/',\n",
       " 'https://insights.blackcoffer.com/how-metaverse-and-vr-can-reform-work-culture/',\n",
       " 'https://insights.blackcoffer.com/how-does-metaverse-work-in-the-financial-sector/',\n",
       " 'https://insights.blackcoffer.com/how-metaverse-will-change-your-life/',\n",
       " 'https://insights.blackcoffer.com/the-metaverse-and-its-implications-for-our-digital-future/',\n",
       " 'https://insights.blackcoffer.com/do-all-social-media-is-owned-by-meta/',\n",
       " 'https://insights.blackcoffer.com/how-metaverse-is-shaping-the-future-the-next-big-tech-phenomena/',\n",
       " 'https://insights.blackcoffer.com/what-are-the-challenges-and-acceptance-of-e-learning-during-the-covid-19-for-students-and-teachers-2/',\n",
       " 'https://insights.blackcoffer.com/what-is-the-limitation-of-e-learning-classes/',\n",
       " 'https://insights.blackcoffer.com/what-are-the-challenges-and-acceptance-of-e-learning-during-the-covid-19-for-students-and-teachers/',\n",
       " 'https://insights.blackcoffer.com/problems-faced-by-students-in-online-classes-during-covid-19/',\n",
       " 'https://insights.blackcoffer.com/impact-of-covid-19-on-engineering-and-medical-college-during-this-pandemic-lockdown/',\n",
       " 'https://insights.blackcoffer.com/how-is-login-logout-time-tracking-for-employees-in-office-done-by-ai/',\n",
       " 'https://insights.blackcoffer.com/how-does-ai-help-to-monitor-retail-shelf-watches/',\n",
       " 'https://insights.blackcoffer.com/ai-and-its-impact-on-the-fashion-industry/',\n",
       " 'https://insights.blackcoffer.com/how-do-deep-learning-models-predict-old-and-new-drugs-that-are-successfully-treated-in-healthcare/',\n",
       " 'https://insights.blackcoffer.com/how-artificial-intelligence-can-boost-your-productivity-level/',\n",
       " 'https://insights.blackcoffer.com/how-are-genetic-sequencing-maps-affected-by-deep-learning-and-ai/',\n",
       " 'https://insights.blackcoffer.com/how-is-ai-used-to-solve-traffic-management/',\n",
       " 'https://insights.blackcoffer.com/benefits-of-big-data-in-different-fields/',\n",
       " 'https://insights.blackcoffer.com/how-big-data-will-impact-the-future-of-business/',\n",
       " 'https://insights.blackcoffer.com/how-will-ai-make-decisions-in-tomorrows-wars/',\n",
       " 'https://insights.blackcoffer.com/which-one-is-better-ai-or-big-data/',\n",
       " 'https://insights.blackcoffer.com/how-robots-can-help-in-e-learning-platforms/',\n",
       " 'https://insights.blackcoffer.com/how-does-big-data-help-in-finance-and-the-growth-of-large-firms/',\n",
       " 'https://insights.blackcoffer.com/future-of-work-robot-ai-and-automation/',\n",
       " 'https://insights.blackcoffer.com/how-ai-will-help-the-defense-power-of-a-country/',\n",
       " 'https://insights.blackcoffer.com/future-of-ai-and-machine-roles-in-the-medical-sector/',\n",
       " 'https://insights.blackcoffer.com/ai-in-healthcare-to-improve-patient-outcomes/',\n",
       " 'https://insights.blackcoffer.com/what-if-the-creation-is-taking-over-the-creator/',\n",
       " 'https://insights.blackcoffer.com/what-jobs-will-robots-take-from-humans-in-the-future/',\n",
       " 'https://insights.blackcoffer.com/will-machine-replace-the-human-in-the-future-of-work/',\n",
       " 'https://insights.blackcoffer.com/will-ai-replace-us-or-work-with-us/',\n",
       " 'https://insights.blackcoffer.com/man-and-machines-together-machines-are-more-diligent-than-humans-blackcoffe/',\n",
       " 'https://insights.blackcoffer.com/in-future-or-in-upcoming-years-humans-and-machines-are-going-to-work-together-in-every-field-of-work/',\n",
       " 'https://insights.blackcoffer.com/how-neural-networks-can-be-applied-in-various-areas-in-the-future/',\n",
       " 'https://insights.blackcoffer.com/how-machine-learning-will-affect-your-business/',\n",
       " 'https://insights.blackcoffer.com/deep-learning-impact-on-areas-of-e-learning/',\n",
       " 'https://insights.blackcoffer.com/how-to-protect-future-data-and-its-privacy-blackcoffer/',\n",
       " 'https://insights.blackcoffer.com/how-machines-ai-automations-and-robo-human-are-effective-in-finance-and-banking/',\n",
       " 'https://insights.blackcoffer.com/ai-human-robotics-machine-future-planet-blackcoffer-thinking-jobs-workplace/',\n",
       " 'https://insights.blackcoffer.com/how-ai-will-change-the-world-blackcoffer/',\n",
       " 'https://insights.blackcoffer.com/future-of-work-how-ai-has-entered-the-workplace/',\n",
       " 'https://insights.blackcoffer.com/ai-tool-alexa-google-assistant-finance-banking-tool-future/',\n",
       " 'https://insights.blackcoffer.com/ai-healthcare-revolution-ml-technology-algorithm-google-analytics-industrialrevolution/',\n",
       " 'https://insights.blackcoffer.com/all-you-need-to-know-about-online-marketing/',\n",
       " 'https://insights.blackcoffer.com/evolution-of-advertising-industry/',\n",
       " 'https://insights.blackcoffer.com/how-data-analytics-can-help-your-business-respond-to-the-impact-of-covid-19/',\n",
       " 'https://insights.blackcoffer.com/covid-19-environmental-impact-for-the-future/',\n",
       " 'https://insights.blackcoffer.com/environmental-impact-of-the-covid-19-pandemic-lesson-for-the-future/',\n",
       " 'https://insights.blackcoffer.com/how-data-analytics-and-ai-are-used-to-halt-the-covid-19-pandemic/',\n",
       " 'https://insights.blackcoffer.com/difference-between-artificial-intelligence-machine-learning-statistics-and-data-mining/',\n",
       " 'https://insights.blackcoffer.com/how-python-became-the-first-choice-for-data-science/',\n",
       " 'https://insights.blackcoffer.com/how-google-fit-measure-heart-and-respiratory-rates-using-a-phone/',\n",
       " 'https://insights.blackcoffer.com/what-is-the-future-of-mobile-apps/',\n",
       " 'https://insights.blackcoffer.com/impact-of-ai-in-health-and-medicine/',\n",
       " 'https://insights.blackcoffer.com/telemedicine-what-patients-like-and-dislike-about-it/',\n",
       " 'https://insights.blackcoffer.com/how-we-forecast-future-technologies/',\n",
       " 'https://insights.blackcoffer.com/can-robots-tackle-late-life-loneliness/',\n",
       " 'https://insights.blackcoffer.com/embedding-care-robots-into-society-socio-technical-considerations/',\n",
       " 'https://insights.blackcoffer.com/management-challenges-for-future-digitalization-of-healthcare-services/',\n",
       " 'https://insights.blackcoffer.com/are-we-any-closer-to-preventing-a-nuclear-holocaust/',\n",
       " 'https://insights.blackcoffer.com/will-technology-eliminate-the-need-for-animal-testing-in-drug-development/',\n",
       " 'https://insights.blackcoffer.com/will-we-ever-understand-the-nature-of-consciousness/',\n",
       " 'https://insights.blackcoffer.com/will-we-ever-colonize-outer-space/',\n",
       " 'https://insights.blackcoffer.com/what-is-the-chance-homo-sapiens-will-survive-for-the-next-500-years/',\n",
       " 'https://insights.blackcoffer.com/why-does-your-business-need-a-chatbot/',\n",
       " 'https://insights.blackcoffer.com/how-you-lead-a-project-or-a-team-without-any-technical-expertise/',\n",
       " 'https://insights.blackcoffer.com/can-you-be-great-leader-without-technical-expertise/',\n",
       " 'https://insights.blackcoffer.com/how-does-artificial-intelligence-affect-the-environment/',\n",
       " 'https://insights.blackcoffer.com/how-to-overcome-your-fear-of-making-mistakes-2/',\n",
       " 'https://insights.blackcoffer.com/is-perfection-the-greatest-enemy-of-productivity/',\n",
       " 'https://insights.blackcoffer.com/global-financial-crisis-2008-causes-effects-and-its-solution/',\n",
       " 'https://insights.blackcoffer.com/gender-diversity-and-equality-in-the-tech-industry/',\n",
       " 'https://insights.blackcoffer.com/how-to-overcome-your-fear-of-making-mistakes/',\n",
       " 'https://insights.blackcoffer.com/how-small-business-can-survive-the-coronavirus-crisis/',\n",
       " 'https://insights.blackcoffer.com/impacts-of-covid-19-on-vegetable-vendors-and-food-stalls/',\n",
       " 'https://insights.blackcoffer.com/impacts-of-covid-19-on-vegetable-vendors/',\n",
       " 'https://insights.blackcoffer.com/impact-of-covid-19-pandemic-on-tourism-aviation-industries/',\n",
       " 'https://insights.blackcoffer.com/impact-of-covid-19-pandemic-on-sports-events-around-the-world/',\n",
       " 'https://insights.blackcoffer.com/changing-landscape-and-emerging-trends-in-the-indian-it-ites-industry/',\n",
       " 'https://insights.blackcoffer.com/online-gaming-adolescent-online-gaming-effects-demotivated-depression-musculoskeletal-and-psychosomatic-symptoms/',\n",
       " 'https://insights.blackcoffer.com/human-rights-outlook/',\n",
       " 'https://insights.blackcoffer.com/how-voice-search-makes-your-business-a-successful-business/',\n",
       " 'https://insights.blackcoffer.com/how-the-covid-19-crisis-is-redefining-jobs-and-services/',\n",
       " 'https://insights.blackcoffer.com/how-to-increase-social-media-engagement-for-marketers/',\n",
       " 'https://insights.blackcoffer.com/impacts-of-covid-19-on-streets-sides-food-stalls/',\n",
       " 'https://insights.blackcoffer.com/coronavirus-impact-on-energy-markets-2/',\n",
       " 'https://insights.blackcoffer.com/coronavirus-impact-on-the-hospitality-industry-5/',\n",
       " 'https://insights.blackcoffer.com/lessons-from-the-past-some-key-learnings-relevant-to-the-coronavirus-crisis-4/',\n",
       " 'https://insights.blackcoffer.com/estimating-the-impact-of-covid-19-on-the-world-of-work-2/',\n",
       " 'https://insights.blackcoffer.com/estimating-the-impact-of-covid-19-on-the-world-of-work-3/',\n",
       " 'https://insights.blackcoffer.com/travel-and-tourism-outlook/',\n",
       " 'https://insights.blackcoffer.com/gaming-disorder-and-effects-of-gaming-on-health/',\n",
       " 'https://insights.blackcoffer.com/what-is-the-repercussion-of-the-environment-due-to-the-covid-19-pandemic-situation/',\n",
       " 'https://insights.blackcoffer.com/what-is-the-repercussion-of-the-environment-due-to-the-covid-19-pandemic-situation-2/',\n",
       " 'https://insights.blackcoffer.com/impact-of-covid-19-pandemic-on-office-space-and-co-working-industries/',\n",
       " 'https://insights.blackcoffer.com/contribution-of-handicrafts-visual-arts-literature-in-the-indian-economy/',\n",
       " 'https://insights.blackcoffer.com/how-covid-19-is-impacting-payment-preferences/',\n",
       " 'https://insights.blackcoffer.com/how-will-covid-19-affect-the-world-of-work-2/',\n",
       " 'https://insights.blackcoffer.com/lessons-from-the-past-some-key-learnings-relevant-to-the-coronavirus-crisis/',\n",
       " 'https://insights.blackcoffer.com/covid-19-how-have-countries-been-responding/',\n",
       " 'https://insights.blackcoffer.com/coronavirus-impact-on-the-hospitality-industry-2/',\n",
       " 'https://insights.blackcoffer.com/how-will-covid-19-affect-the-world-of-work-3/',\n",
       " 'https://insights.blackcoffer.com/coronavirus-impact-on-the-hospitality-industry-3/',\n",
       " 'https://insights.blackcoffer.com/estimating-the-impact-of-covid-19-on-the-world-of-work/',\n",
       " 'https://insights.blackcoffer.com/covid-19-how-have-countries-been-responding-2/',\n",
       " 'https://insights.blackcoffer.com/how-will-covid-19-affect-the-world-of-work-4/',\n",
       " 'https://insights.blackcoffer.com/lessons-from-the-past-some-key-learnings-relevant-to-the-coronavirus-crisis-2/',\n",
       " 'https://insights.blackcoffer.com/lessons-from-the-past-some-key-learnings-relevant-to-the-coronavirus-crisis-3/',\n",
       " 'https://insights.blackcoffer.com/coronavirus-impact-on-the-hospitality-industry-4/',\n",
       " 'https://insights.blackcoffer.com/why-scams-like-nirav-modi-happen-with-indian-banks/',\n",
       " 'https://insights.blackcoffer.com/impact-of-covid-19-on-the-global-economy/',\n",
       " 'https://insights.blackcoffer.com/impact-of-covid-19coronavirus-on-the-indian-economy-2/',\n",
       " 'https://insights.blackcoffer.com/impact-of-covid-19-on-the-global-economy-2/',\n",
       " 'https://insights.blackcoffer.com/impact-of-covid-19-coronavirus-on-the-indian-economy-3/',\n",
       " 'https://insights.blackcoffer.com/should-celebrities-be-allowed-to-join-politics/',\n",
       " 'https://insights.blackcoffer.com/how-prepared-is-india-to-tackle-a-possible-covid-19-outbreak/',\n",
       " 'https://insights.blackcoffer.com/how-will-covid-19-affect-the-world-of-work/',\n",
       " 'https://insights.blackcoffer.com/controversy-as-a-marketing-strategy/',\n",
       " 'https://insights.blackcoffer.com/coronavirus-impact-on-the-hospitality-industry/',\n",
       " 'https://insights.blackcoffer.com/coronavirus-impact-on-energy-markets/',\n",
       " 'https://insights.blackcoffer.com/what-are-the-key-policies-that-will-mitigate-the-impacts-of-covid-19-on-the-world-of-work/',\n",
       " 'https://insights.blackcoffer.com/marketing-drives-results-with-a-focus-on-problems/',\n",
       " 'https://insights.blackcoffer.com/continued-demand-for-sustainability/',\n",
       " 'https://insights.blackcoffer.com/coronavirus-disease-covid-19-effect-the-impact-and-role-of-mass-media-during-the-pandemic/',\n",
       " 'https://insights.blackcoffer.com/should-people-wear-fabric-gloves-seeking-evidence-regarding-the-differential-transfer-of-covid-19-or-coronaviruses-generally-between-surfaces/',\n",
       " 'https://insights.blackcoffer.com/why-is-there-a-severe-immunological-and-inflammatory-explosion-in-those-affected-by-sarms-covid-19/',\n",
       " 'https://insights.blackcoffer.com/what-do-you-think-is-the-lesson-or-lessons-to-be-learned-with-covid-19/',\n",
       " 'https://insights.blackcoffer.com/coronavirus-the-unexpected-challenge-for-the-european-union/',\n",
       " 'https://insights.blackcoffer.com/industrial-revolution-4-0-pros-and-cons/',\n",
       " 'https://insights.blackcoffer.com/impact-of-covid-19-coronavirus-on-the-indian-economy/',\n",
       " 'https://insights.blackcoffer.com/impact-of-covid-19-coronavirus-on-the-indian-economy-2/',\n",
       " 'https://insights.blackcoffer.com/impact-of-covid-19coronavirus-on-the-indian-economy/',\n",
       " 'https://insights.blackcoffer.com/impact-of-covid-19-coronavirus-on-the-global-economy/',\n",
       " 'https://insights.blackcoffer.com/ensuring-growth-through-insurance-technology/',\n",
       " 'https://insights.blackcoffer.com/blockchain-in-fintech/',\n",
       " 'https://insights.blackcoffer.com/blockchain-for-payments/',\n",
       " 'https://insights.blackcoffer.com/the-future-of-investing/',\n",
       " 'https://insights.blackcoffer.com/big-data-analytics-in-healthcare/',\n",
       " 'https://insights.blackcoffer.com/business-analytics-in-the-healthcare-industry/',\n",
       " 'https://insights.blackcoffer.com/challenges-and-opportunities-of-big-data-in-healthcare/']"
      ]
     },
     "execution_count": 23,
     "metadata": {},
     "output_type": "execute_result"
    }
   ],
   "source": [
    "li = [url for url in df['URL']]\n",
    "li"
   ]
  },
  {
   "cell_type": "code",
   "execution_count": 46,
   "metadata": {
    "execution": {
     "iopub.execute_input": "2022-01-06T16:45:15.666658Z",
     "iopub.status.busy": "2022-01-06T16:45:15.666328Z",
     "iopub.status.idle": "2022-01-06T16:45:58.671689Z",
     "shell.execute_reply": "2022-01-06T16:45:58.670868Z",
     "shell.execute_reply.started": "2022-01-06T16:45:15.666625Z"
    },
    "id": "n3BPrl0K9VlS"
   },
   "outputs": [],
   "source": [
    "articletext = []\n",
    "for url in li:\n",
    "    articletext.append(requests.get(url,headers={\"User-Agent\": \"XY\"}))\n"
   ]
  },
  {
   "cell_type": "code",
   "execution_count": 25,
   "metadata": {},
   "outputs": [
    {
     "data": {
      "text/plain": [
       "[<Response [200]>,\n",
       " <Response [200]>,\n",
       " <Response [200]>,\n",
       " <Response [200]>,\n",
       " <Response [200]>,\n",
       " <Response [200]>,\n",
       " <Response [200]>,\n",
       " <Response [200]>,\n",
       " <Response [200]>,\n",
       " <Response [200]>,\n",
       " <Response [200]>,\n",
       " <Response [200]>,\n",
       " <Response [200]>,\n",
       " <Response [200]>,\n",
       " <Response [200]>,\n",
       " <Response [200]>,\n",
       " <Response [200]>,\n",
       " <Response [200]>,\n",
       " <Response [200]>,\n",
       " <Response [200]>,\n",
       " <Response [200]>,\n",
       " <Response [200]>,\n",
       " <Response [200]>,\n",
       " <Response [404]>,\n",
       " <Response [200]>,\n",
       " <Response [200]>,\n",
       " <Response [200]>,\n",
       " <Response [200]>,\n",
       " <Response [200]>,\n",
       " <Response [200]>,\n",
       " <Response [200]>,\n",
       " <Response [200]>,\n",
       " <Response [200]>,\n",
       " <Response [200]>,\n",
       " <Response [200]>,\n",
       " <Response [200]>,\n",
       " <Response [200]>,\n",
       " <Response [200]>,\n",
       " <Response [200]>,\n",
       " <Response [200]>,\n",
       " <Response [200]>,\n",
       " <Response [200]>,\n",
       " <Response [200]>,\n",
       " <Response [404]>,\n",
       " <Response [200]>,\n",
       " <Response [200]>,\n",
       " <Response [200]>,\n",
       " <Response [200]>,\n",
       " <Response [200]>,\n",
       " <Response [200]>,\n",
       " <Response [200]>,\n",
       " <Response [200]>,\n",
       " <Response [200]>,\n",
       " <Response [200]>,\n",
       " <Response [200]>,\n",
       " <Response [200]>,\n",
       " <Response [404]>,\n",
       " <Response [200]>,\n",
       " <Response [200]>,\n",
       " <Response [200]>,\n",
       " <Response [200]>,\n",
       " <Response [200]>,\n",
       " <Response [200]>,\n",
       " <Response [200]>,\n",
       " <Response [200]>,\n",
       " <Response [200]>,\n",
       " <Response [200]>,\n",
       " <Response [200]>,\n",
       " <Response [200]>,\n",
       " <Response [200]>,\n",
       " <Response [200]>,\n",
       " <Response [200]>,\n",
       " <Response [200]>,\n",
       " <Response [200]>,\n",
       " <Response [200]>,\n",
       " <Response [200]>,\n",
       " <Response [200]>,\n",
       " <Response [200]>,\n",
       " <Response [200]>,\n",
       " <Response [200]>,\n",
       " <Response [200]>,\n",
       " <Response [200]>,\n",
       " <Response [200]>,\n",
       " <Response [200]>,\n",
       " <Response [200]>,\n",
       " <Response [200]>,\n",
       " <Response [200]>,\n",
       " <Response [200]>,\n",
       " <Response [200]>,\n",
       " <Response [200]>,\n",
       " <Response [200]>,\n",
       " <Response [200]>,\n",
       " <Response [200]>,\n",
       " <Response [200]>,\n",
       " <Response [200]>,\n",
       " <Response [200]>,\n",
       " <Response [200]>,\n",
       " <Response [200]>,\n",
       " <Response [200]>,\n",
       " <Response [200]>,\n",
       " <Response [200]>,\n",
       " <Response [200]>,\n",
       " <Response [200]>,\n",
       " <Response [200]>,\n",
       " <Response [200]>,\n",
       " <Response [200]>,\n",
       " <Response [200]>,\n",
       " <Response [200]>,\n",
       " <Response [200]>,\n",
       " <Response [200]>,\n",
       " <Response [200]>,\n",
       " <Response [200]>,\n",
       " <Response [200]>,\n",
       " <Response [200]>,\n",
       " <Response [200]>,\n",
       " <Response [200]>,\n",
       " <Response [200]>,\n",
       " <Response [200]>,\n",
       " <Response [200]>,\n",
       " <Response [200]>,\n",
       " <Response [200]>,\n",
       " <Response [200]>,\n",
       " <Response [200]>,\n",
       " <Response [200]>,\n",
       " <Response [200]>,\n",
       " <Response [200]>,\n",
       " <Response [200]>,\n",
       " <Response [200]>,\n",
       " <Response [200]>,\n",
       " <Response [200]>,\n",
       " <Response [200]>,\n",
       " <Response [200]>,\n",
       " <Response [200]>,\n",
       " <Response [200]>,\n",
       " <Response [200]>,\n",
       " <Response [200]>,\n",
       " <Response [200]>,\n",
       " <Response [200]>,\n",
       " <Response [200]>,\n",
       " <Response [200]>,\n",
       " <Response [200]>,\n",
       " <Response [200]>,\n",
       " <Response [200]>,\n",
       " <Response [404]>,\n",
       " <Response [200]>,\n",
       " <Response [200]>,\n",
       " <Response [200]>,\n",
       " <Response [200]>,\n",
       " <Response [200]>,\n",
       " <Response [200]>]"
      ]
     },
     "execution_count": 25,
     "metadata": {},
     "output_type": "execute_result"
    }
   ],
   "source": [
    "text"
   ]
  },
  {
   "cell_type": "code",
   "execution_count": 26,
   "metadata": {
    "execution": {
     "iopub.execute_input": "2022-01-06T16:54:46.502720Z",
     "iopub.status.busy": "2022-01-06T16:54:46.502420Z",
     "iopub.status.idle": "2022-01-06T16:55:00.622743Z",
     "shell.execute_reply": "2022-01-06T16:55:00.621634Z",
     "shell.execute_reply.started": "2022-01-06T16:54:46.502691Z"
    },
    "id": "XYVx0P9Jn5gG"
   },
   "outputs": [],
   "source": [
    "for i in range(len(articletext)):\n",
    "articletext[i] = bfs.BeautifulSoup(articletext[i].content,'html.parser')\n",
    "\n"
   ]
  },
  {
   "cell_type": "code",
   "execution_count": 27,
   "metadata": {},
   "outputs": [
    {
     "data": {
      "text/plain": [
       "[]"
      ]
     },
     "execution_count": 27,
     "metadata": {},
     "output_type": "execute_result"
    }
   ],
   "source": [
    "articles"
   ]
  },
  {
   "cell_type": "code",
   "execution_count": 44,
   "metadata": {
    "execution": {
     "iopub.execute_input": "2022-01-06T16:55:00.624654Z",
     "iopub.status.busy": "2022-01-06T16:55:00.624404Z",
     "iopub.status.idle": "2022-01-06T16:55:01.929738Z",
     "shell.execute_reply": "2022-01-06T16:55:01.928812Z",
     "shell.execute_reply.started": "2022-01-06T16:55:00.624619Z"
    },
    "id": "sPy9eGxvoU9-"
   },
   "outputs": [
    {
     "ename": "TypeError",
     "evalue": "find() takes no keyword arguments",
     "output_type": "error",
     "traceback": [
      "\u001b[1;31m---------------------------------------------------------------------------\u001b[0m",
      "\u001b[1;31mTypeError\u001b[0m                                 Traceback (most recent call last)",
      "\u001b[1;32m<ipython-input-44-77eca84e5422>\u001b[0m in \u001b[0;36m<module>\u001b[1;34m\u001b[0m\n\u001b[0;32m      1\u001b[0m \u001b[0marticles\u001b[0m \u001b[1;33m=\u001b[0m \u001b[1;33m[\u001b[0m\u001b[1;33m]\u001b[0m\u001b[1;33m\u001b[0m\u001b[1;33m\u001b[0m\u001b[0m\n\u001b[0;32m      2\u001b[0m \u001b[1;32mfor\u001b[0m \u001b[0mtext\u001b[0m \u001b[1;32min\u001b[0m \u001b[0mtext\u001b[0m\u001b[1;33m:\u001b[0m\u001b[1;33m\u001b[0m\u001b[1;33m\u001b[0m\u001b[0m\n\u001b[1;32m----> 3\u001b[1;33m   \u001b[0marticles\u001b[0m\u001b[1;33m.\u001b[0m\u001b[0mappend\u001b[0m\u001b[1;33m(\u001b[0m\u001b[0msoup\u001b[0m\u001b[1;33m.\u001b[0m\u001b[0mfind\u001b[0m\u001b[1;33m(\u001b[0m\u001b[0mattrs\u001b[0m\u001b[1;33m=\u001b[0m \u001b[1;33m{\u001b[0m\u001b[1;34m\"class\"\u001b[0m\u001b[1;33m:\u001b[0m\u001b[1;34m\"td-post-content\"\u001b[0m\u001b[1;33m}\u001b[0m\u001b[1;33m)\u001b[0m\u001b[1;33m.\u001b[0m\u001b[0mtext\u001b[0m\u001b[1;33m)\u001b[0m\u001b[1;33m\u001b[0m\u001b[1;33m\u001b[0m\u001b[0m\n\u001b[0m",
      "\u001b[1;31mTypeError\u001b[0m: find() takes no keyword arguments"
     ]
    }
   ],
   "source": [
    "articles = []\n",
    "for text in articletext[i]:\n",
    "articles.append(articletext[i].find(attrs= {\"class\":\"td-post-content\"}).text)"
   ]
  },
  {
   "cell_type": "code",
   "execution_count": null,
   "metadata": {
    "execution": {
     "iopub.execute_input": "2022-01-06T16:55:01.931772Z",
     "iopub.status.busy": "2022-01-06T16:55:01.931440Z",
     "iopub.status.idle": "2022-01-06T16:55:01.938424Z",
     "shell.execute_reply": "2022-01-06T16:55:01.937482Z",
     "shell.execute_reply.started": "2022-01-06T16:55:01.931730Z"
    },
    "id": "hW6zHaP4u5y0"
   },
   "outputs": [],
   "source": [
    "for i in range(len(articles)):\n",
    "  articles[i]= articles[i].replace('\\n','')"
   ]
  },
  {
   "cell_type": "markdown",
   "metadata": {},
   "source": [
    "# TEXT ANALYSIS"
   ]
  },
  {
   "cell_type": "code",
   "execution_count": null,
   "metadata": {
    "execution": {
     "iopub.execute_input": "2022-01-06T16:55:01.940571Z",
     "iopub.status.busy": "2022-01-06T16:55:01.940306Z",
     "iopub.status.idle": "2022-01-06T16:55:01.957041Z",
     "shell.execute_reply": "2022-01-06T16:55:01.955760Z",
     "shell.execute_reply.started": "2022-01-06T16:55:01.940539Z"
    },
    "id": "MGadHv-Fujbn"
   },
   "outputs": [],
   "source": [
    "stop_words = list(set(stopwords.words('english')))"
   ]
  },
  {
   "cell_type": "code",
   "execution_count": null,
   "metadata": {
    "execution": {
     "iopub.execute_input": "2022-01-06T16:55:01.961173Z",
     "iopub.status.busy": "2022-01-06T16:55:01.960592Z",
     "iopub.status.idle": "2022-01-06T16:55:02.307328Z",
     "shell.execute_reply": "2022-01-06T16:55:02.306374Z",
     "shell.execute_reply.started": "2022-01-06T16:55:01.961127Z"
    },
    "id": "jUoglchUQ6qO"
   },
   "outputs": [],
   "source": [
    "sentences = []\n",
    "for article in articles:\n",
    "  sentences.append(len(sent_tokenize(article)))"
   ]
  },
  {
   "cell_type": "code",
   "execution_count": null,
   "metadata": {
    "execution": {
     "iopub.execute_input": "2022-01-06T16:55:02.309156Z",
     "iopub.status.busy": "2022-01-06T16:55:02.308872Z",
     "iopub.status.idle": "2022-01-06T16:55:02.313107Z",
     "shell.execute_reply": "2022-01-06T16:55:02.312243Z",
     "shell.execute_reply.started": "2022-01-06T16:55:02.309124Z"
    },
    "id": "771AbhB0utiZ"
   },
   "outputs": [],
   "source": [
    "cleaned_articles = [' ']*len(articles)"
   ]
  },
  {
   "cell_type": "code",
   "execution_count": null,
   "metadata": {
    "execution": {
     "iopub.execute_input": "2022-01-06T16:55:02.314692Z",
     "iopub.status.busy": "2022-01-06T16:55:02.314413Z",
     "iopub.status.idle": "2022-01-06T16:55:03.493983Z",
     "shell.execute_reply": "2022-01-06T16:55:03.493037Z",
     "shell.execute_reply.started": "2022-01-06T16:55:02.314664Z"
    },
    "id": "0PSyHpFpuOeV"
   },
   "outputs": [],
   "source": [
    "for i in range(len(articles)):\n",
    "  for w in stop_words:\n",
    "    cleaned_articles[i]= articles[i].replace(' '+w+' ',' ').replace('?','').replace('.','').replace(',','').replace('!','')\n",
    "    #? ! , .\n"
   ]
  },
  {
   "cell_type": "code",
   "execution_count": null,
   "metadata": {
    "execution": {
     "iopub.execute_input": "2022-01-06T16:55:03.495830Z",
     "iopub.status.busy": "2022-01-06T16:55:03.495412Z",
     "iopub.status.idle": "2022-01-06T16:55:04.780961Z",
     "shell.execute_reply": "2022-01-06T16:55:04.779960Z",
     "shell.execute_reply.started": "2022-01-06T16:55:03.495760Z"
    },
    "id": "_yjHfky1sYq6"
   },
   "outputs": [],
   "source": [
    "words = []\n",
    "for article in articles:\n",
    "  words.append(len(word_tokenize(article)))\n"
   ]
  },
  {
   "cell_type": "code",
   "execution_count": null,
   "metadata": {
    "execution": {
     "iopub.execute_input": "2022-01-06T16:55:04.782666Z",
     "iopub.status.busy": "2022-01-06T16:55:04.782268Z",
     "iopub.status.idle": "2022-01-06T16:55:05.612551Z",
     "shell.execute_reply": "2022-01-06T16:55:05.611652Z",
     "shell.execute_reply.started": "2022-01-06T16:55:04.782611Z"
    },
    "id": "8_Y8yJ7yvc43"
   },
   "outputs": [],
   "source": [
    "words_cleaned = []\n",
    "for article in cleaned_articles:\n",
    "  words_cleaned.append(len(word_tokenize(article)))\n"
   ]
  },
  {
   "cell_type": "code",
   "execution_count": null,
   "metadata": {
    "execution": {
     "iopub.execute_input": "2022-01-06T16:56:28.298552Z",
     "iopub.status.busy": "2022-01-06T16:56:28.298186Z",
     "iopub.status.idle": "2022-01-06T16:56:28.343640Z",
     "shell.execute_reply": "2022-01-06T16:56:28.342898Z",
     "shell.execute_reply.started": "2022-01-06T16:56:28.298516Z"
    },
    "id": "vboIrHn98xe3",
    "scrolled": true
   },
   "outputs": [],
   "source": [
    "file = open('positive-words.txt', 'r')\n",
    "positive_words = file.read().split()\n",
    "positive_words = [word.lower() for word in positive_words]"
   ]
  },
  {
   "cell_type": "code",
   "execution_count": null,
   "metadata": {},
   "outputs": [],
   "source": [
    "file = open('negative-words.txt', 'r')\n",
    "negative_words = file.read().split()\n"
   ]
  },
  {
   "cell_type": "markdown",
   "metadata": {},
   "source": [
    "### Positive score"
   ]
  },
  {
   "cell_type": "code",
   "execution_count": null,
   "metadata": {
    "execution": {
     "iopub.execute_input": "2022-01-06T16:56:28.375836Z",
     "iopub.status.busy": "2022-01-06T16:56:28.375119Z",
     "iopub.status.idle": "2022-01-06T16:56:38.016239Z",
     "shell.execute_reply": "2022-01-06T16:56:38.015623Z",
     "shell.execute_reply.started": "2022-01-06T16:56:28.375768Z"
    },
    "id": "vfvvmZLJCT7n"
   },
   "outputs": [],
   "source": [
    "positive_score = [0]*len(articles)\n",
    "for i in range(len(articles)):\n",
    "  for word in positive_words:\n",
    "    for letter in cleaned_articles[i].lower().split(' '):\n",
    "      if letter==word:\n",
    "        positive_score[i]+=1"
   ]
  },
  {
   "cell_type": "markdown",
   "metadata": {},
   "source": [
    "### Negative score"
   ]
  },
  {
   "cell_type": "code",
   "execution_count": null,
   "metadata": {
    "execution": {
     "iopub.execute_input": "2022-01-06T16:56:44.122308Z",
     "iopub.status.busy": "2022-01-06T16:56:44.121818Z",
     "iopub.status.idle": "2022-01-06T16:57:48.531314Z",
     "shell.execute_reply": "2022-01-06T16:57:48.530430Z",
     "shell.execute_reply.started": "2022-01-06T16:56:44.122275Z"
    },
    "id": "lNCjV7Vl__9x"
   },
   "outputs": [],
   "source": [
    "negative_score = [0]*len(articles)\n",
    "for i in range(len(articles)):\n",
    "  for word in negative_words:\n",
    "    for letter in cleaned_articles[i].lower().split(' '):\n",
    "      if letter==word:\n",
    "        negative_score[i]+=1"
   ]
  },
  {
   "cell_type": "code",
   "execution_count": null,
   "metadata": {},
   "outputs": [],
   "source": [
    "print(positive_score)\n",
    "print(positive_words)\n",
    "print(negative_score)\n",
    "print(negative_words)\n"
   ]
  },
  {
   "cell_type": "code",
   "execution_count": null,
   "metadata": {
    "execution": {
     "iopub.execute_input": "2022-01-06T16:57:48.533097Z",
     "iopub.status.busy": "2022-01-06T16:57:48.532866Z",
     "iopub.status.idle": "2022-01-06T16:57:48.537591Z",
     "shell.execute_reply": "2022-01-06T16:57:48.536829Z",
     "shell.execute_reply.started": "2022-01-06T16:57:48.533069Z"
    },
    "id": "yvsalqf_PITP"
   },
   "outputs": [],
   "source": [
    "words_cleaned = np.array(words_cleaned)\n",
    "sentences = np.array(sentences)"
   ]
  },
  {
   "cell_type": "code",
   "execution_count": null,
   "metadata": {
    "execution": {
     "iopub.execute_input": "2022-01-06T16:57:48.539466Z",
     "iopub.status.busy": "2022-01-06T16:57:48.539027Z",
     "iopub.status.idle": "2022-01-06T16:57:48.552971Z",
     "shell.execute_reply": "2022-01-06T16:57:48.552081Z",
     "shell.execute_reply.started": "2022-01-06T16:57:48.539427Z"
    },
    "id": "pgTWHrJWAsPg"
   },
   "outputs": [],
   "source": [
    "df['POSITIVE SCORE'] = positive_score\n",
    "df['NEGATIVE SCORE'] = negative_score"
   ]
  },
  {
   "cell_type": "code",
   "execution_count": null,
   "metadata": {
    "execution": {
     "iopub.execute_input": "2022-01-06T16:57:48.556255Z",
     "iopub.status.busy": "2022-01-06T16:57:48.555441Z",
     "iopub.status.idle": "2022-01-06T16:57:48.565936Z",
     "shell.execute_reply": "2022-01-06T16:57:48.565254Z",
     "shell.execute_reply.started": "2022-01-06T16:57:48.556211Z"
    },
    "id": "i1o27fd3AxR0"
   },
   "outputs": [],
   "source": [
    "df['POLARITY SCORE'] = (df['POSITIVE SCORE']-df['NEGATIVE SCORE'])/ ((df['POSITIVE SCORE'] +df['NEGATIVE SCORE']) + 0.000001)\n",
    "polarity_score = df['POLARITY SCORE']"
   ]
  },
  {
   "cell_type": "code",
   "execution_count": null,
   "metadata": {},
   "outputs": [],
   "source": [
    "polarity_score"
   ]
  },
  {
   "cell_type": "code",
   "execution_count": null,
   "metadata": {
    "execution": {
     "iopub.execute_input": "2022-01-06T16:57:48.567452Z",
     "iopub.status.busy": "2022-01-06T16:57:48.567234Z",
     "iopub.status.idle": "2022-01-06T16:57:48.578225Z",
     "shell.execute_reply": "2022-01-06T16:57:48.577432Z",
     "shell.execute_reply.started": "2022-01-06T16:57:48.567426Z"
    },
    "id": "QudsRkGYIefj"
   },
   "outputs": [],
   "source": [
    "df['SUBJECTIVITY SCORE'] = (df['POSITIVE SCORE'] + df['NEGATIVE SCORE'])/( (words_cleaned) + 0.000001)"
   ]
  },
  {
   "cell_type": "code",
   "execution_count": null,
   "metadata": {
    "execution": {
     "iopub.execute_input": "2022-01-06T16:57:48.579779Z",
     "iopub.status.busy": "2022-01-06T16:57:48.579428Z",
     "iopub.status.idle": "2022-01-06T16:57:48.589236Z",
     "shell.execute_reply": "2022-01-06T16:57:48.588603Z",
     "shell.execute_reply.started": "2022-01-06T16:57:48.579753Z"
    },
    "id": "f5v_BzIWHtPf"
   },
   "outputs": [],
   "source": [
    "df['AVG SENTENCE LENGTH'] = np.array(words)/np.array(sentences)"
   ]
  },
  {
   "cell_type": "code",
   "execution_count": null,
   "metadata": {
    "execution": {
     "iopub.execute_input": "2022-01-06T16:57:48.590650Z",
     "iopub.status.busy": "2022-01-06T16:57:48.590334Z",
     "iopub.status.idle": "2022-01-06T16:57:48.600373Z",
     "shell.execute_reply": "2022-01-06T16:57:48.599691Z",
     "shell.execute_reply.started": "2022-01-06T16:57:48.590623Z"
    },
    "id": "kcUePYVTLbSi"
   },
   "outputs": [],
   "source": [
    "complex_words = []\n",
    "sylabble_counts = []"
   ]
  },
  {
   "cell_type": "code",
   "execution_count": null,
   "metadata": {
    "execution": {
     "iopub.execute_input": "2022-01-06T16:57:48.601920Z",
     "iopub.status.busy": "2022-01-06T16:57:48.601524Z",
     "iopub.status.idle": "2022-01-06T16:57:49.355074Z",
     "shell.execute_reply": "2022-01-06T16:57:49.354304Z",
     "shell.execute_reply.started": "2022-01-06T16:57:48.601891Z"
    },
    "id": "W3LH89f3Ls5i"
   },
   "outputs": [],
   "source": [
    "\n",
    "for article in articles:\n",
    "  sylabble_count=0\n",
    "  d=article.split()\n",
    "  ans=0\n",
    "  for word in d:\n",
    "    count=0\n",
    "    for i in range(len(word)):\n",
    "      if(word[i]=='a' or word[i]=='e' or word[i] =='i' or word[i] == 'o' or word[i] == 'u'):\n",
    "           count+=1\n",
    "#            print(words[i])\n",
    "      if(i==len(word)-2 and (word[i]=='e' and word[i+1]=='d')):\n",
    "        count-=1;\n",
    "      if(i==len(word)-2 and (word[i]=='e' and word[i]=='s')):\n",
    "        count-=1;\n",
    "    sylabble_count+=count    \n",
    "    if(count>2):\n",
    "        ans+=1\n",
    "  sylabble_counts.append(sylabble_count)\n",
    "  complex_words.append(ans)           \n",
    "\n"
   ]
  },
  {
   "cell_type": "code",
   "execution_count": null,
   "metadata": {
    "execution": {
     "iopub.execute_input": "2022-01-06T16:57:49.356546Z",
     "iopub.status.busy": "2022-01-06T16:57:49.356240Z",
     "iopub.status.idle": "2022-01-06T16:57:49.362330Z",
     "shell.execute_reply": "2022-01-06T16:57:49.361311Z",
     "shell.execute_reply.started": "2022-01-06T16:57:49.356509Z"
    },
    "id": "SHCc9FviOLlH"
   },
   "outputs": [],
   "source": [
    "df['PERCENTAGE OF COMPLEX WORDS'] = np.array(complex_words)/np.array(words)"
   ]
  },
  {
   "cell_type": "code",
   "execution_count": null,
   "metadata": {
    "execution": {
     "iopub.execute_input": "2022-01-06T16:57:49.364894Z",
     "iopub.status.busy": "2022-01-06T16:57:49.364651Z",
     "iopub.status.idle": "2022-01-06T16:57:49.373613Z",
     "shell.execute_reply": "2022-01-06T16:57:49.373035Z",
     "shell.execute_reply.started": "2022-01-06T16:57:49.364858Z"
    },
    "id": "dG7QyRVsOMDt"
   },
   "outputs": [],
   "source": [
    "df['FOG INDEX'] = 0.4 * (df['AVG SENTENCE LENGTH'] + df['PERCENTAGE OF COMPLEX WORDS'])"
   ]
  },
  {
   "cell_type": "code",
   "execution_count": null,
   "metadata": {
    "execution": {
     "iopub.execute_input": "2022-01-06T16:57:49.374932Z",
     "iopub.status.busy": "2022-01-06T16:57:49.374667Z",
     "iopub.status.idle": "2022-01-06T16:57:49.386082Z",
     "shell.execute_reply": "2022-01-06T16:57:49.385297Z",
     "shell.execute_reply.started": "2022-01-06T16:57:49.374904Z"
    },
    "id": "cLzDldp_kY5X"
   },
   "outputs": [],
   "source": [
    "df['AVG NUMBER OF WORDS PER SENTENCE'] = df['AVG SENTENCE LENGTH']"
   ]
  },
  {
   "cell_type": "code",
   "execution_count": null,
   "metadata": {
    "execution": {
     "iopub.execute_input": "2022-01-06T16:57:49.387976Z",
     "iopub.status.busy": "2022-01-06T16:57:49.387421Z",
     "iopub.status.idle": "2022-01-06T16:57:49.401866Z",
     "shell.execute_reply": "2022-01-06T16:57:49.400971Z",
     "shell.execute_reply.started": "2022-01-06T16:57:49.387941Z"
    },
    "id": "Ss7JUsWyk3Js"
   },
   "outputs": [],
   "source": [
    "df['COMPLEX WORD COUNT'] = complex_words"
   ]
  },
  {
   "cell_type": "code",
   "execution_count": null,
   "metadata": {
    "execution": {
     "iopub.execute_input": "2022-01-06T16:57:49.403261Z",
     "iopub.status.busy": "2022-01-06T16:57:49.402959Z",
     "iopub.status.idle": "2022-01-06T16:57:49.414703Z",
     "shell.execute_reply": "2022-01-06T16:57:49.413730Z",
     "shell.execute_reply.started": "2022-01-06T16:57:49.403234Z"
    },
    "id": "5JZAkZ0glNta"
   },
   "outputs": [],
   "source": [
    "df['WORD COUNT'] = words"
   ]
  },
  {
   "cell_type": "code",
   "execution_count": null,
   "metadata": {
    "execution": {
     "iopub.execute_input": "2022-01-06T16:57:49.416194Z",
     "iopub.status.busy": "2022-01-06T16:57:49.415884Z",
     "iopub.status.idle": "2022-01-06T16:57:49.428103Z",
     "shell.execute_reply": "2022-01-06T16:57:49.427486Z",
     "shell.execute_reply.started": "2022-01-06T16:57:49.416160Z"
    },
    "id": "PzcrXMtKlY3n"
   },
   "outputs": [],
   "source": [
    "df['SYLLABLE PER WORD'] = np.array(sylabble_counts)/np.array(words)"
   ]
  },
  {
   "cell_type": "code",
   "execution_count": null,
   "metadata": {
    "execution": {
     "iopub.execute_input": "2022-01-06T16:57:49.429500Z",
     "iopub.status.busy": "2022-01-06T16:57:49.429276Z",
     "iopub.status.idle": "2022-01-06T16:57:49.483154Z",
     "shell.execute_reply": "2022-01-06T16:57:49.482331Z",
     "shell.execute_reply.started": "2022-01-06T16:57:49.429473Z"
    },
    "id": "2hEeuUMpqBQ-"
   },
   "outputs": [],
   "source": [
    "total_characters = []\n",
    "for article in articles:\n",
    "  characters = 0\n",
    "  for word in article.split():\n",
    "    characters+=len(word)\n",
    "  total_characters.append(characters)  \n",
    "\n"
   ]
  },
  {
   "cell_type": "code",
   "execution_count": null,
   "metadata": {
    "execution": {
     "iopub.execute_input": "2022-01-06T16:57:49.484606Z",
     "iopub.status.busy": "2022-01-06T16:57:49.484365Z",
     "iopub.status.idle": "2022-01-06T16:57:49.687653Z",
     "shell.execute_reply": "2022-01-06T16:57:49.686767Z",
     "shell.execute_reply.started": "2022-01-06T16:57:49.484577Z"
    },
    "id": "T3XRq_TrzDTQ"
   },
   "outputs": [],
   "source": [
    "personal_nouns = []\n",
    "personal_noun =['I', 'we','my', 'ours','and' 'us','My','We','Ours','Us','And'] \n",
    "for article in articles:\n",
    "  ans=0\n",
    "  for word in article:\n",
    "    if word in personal_noun:\n",
    "      ans+=1\n",
    "  personal_nouns.append(ans)"
   ]
  },
  {
   "cell_type": "code",
   "execution_count": null,
   "metadata": {
    "execution": {
     "iopub.execute_input": "2022-01-06T16:57:49.689455Z",
     "iopub.status.busy": "2022-01-06T16:57:49.689154Z",
     "iopub.status.idle": "2022-01-06T16:57:49.694564Z",
     "shell.execute_reply": "2022-01-06T16:57:49.693896Z",
     "shell.execute_reply.started": "2022-01-06T16:57:49.689418Z"
    },
    "id": "0SX5g6cRtyR9"
   },
   "outputs": [],
   "source": [
    "df['PERSONAL PRONOUNS'] = personal_nouns\n",
    "#as the all pronouns were cleared when clearing the stop words."
   ]
  },
  {
   "cell_type": "code",
   "execution_count": null,
   "metadata": {
    "execution": {
     "iopub.execute_input": "2022-01-06T16:57:49.696087Z",
     "iopub.status.busy": "2022-01-06T16:57:49.695485Z",
     "iopub.status.idle": "2022-01-06T16:57:49.707564Z",
     "shell.execute_reply": "2022-01-06T16:57:49.706967Z",
     "shell.execute_reply.started": "2022-01-06T16:57:49.696056Z"
    },
    "id": "SmiKpfhzuBOU"
   },
   "outputs": [],
   "source": [
    "df['AVG WORD LENGTH'] = np.array(total_characters)/np.array(words)"
   ]
  },
  {
   "cell_type": "code",
   "execution_count": null,
   "metadata": {},
   "outputs": [],
   "source": [
    "articles"
   ]
  },
  {
   "cell_type": "code",
   "execution_count": null,
   "metadata": {},
   "outputs": [],
   "source": [
    "cleaned_articles"
   ]
  },
  {
   "cell_type": "markdown",
   "metadata": {},
   "source": [
    "## Creating output file"
   ]
  },
  {
   "cell_type": "code",
   "execution_count": null,
   "metadata": {},
   "outputs": [],
   "source": [
    "df.to_csv (r'C:\\Users\\Lenovo\\My datasets\\INTERNSHIP\\20211030 Test Assignment\\output.csv', index = None, header=True)"
   ]
  },
  {
   "cell_type": "code",
   "execution_count": null,
   "metadata": {},
   "outputs": [],
   "source": [
    "df"
   ]
  },
  {
   "cell_type": "code",
   "execution_count": null,
   "metadata": {
    "execution": {
     "iopub.execute_input": "2022-01-06T16:59:30.559943Z",
     "iopub.status.busy": "2022-01-06T16:59:30.559325Z",
     "iopub.status.idle": "2022-01-06T16:59:30.603197Z",
     "shell.execute_reply": "2022-01-06T16:59:30.601817Z",
     "shell.execute_reply.started": "2022-01-06T16:59:30.559893Z"
    },
    "id": "FgPrjxphuMim"
   },
   "outputs": [],
   "source": []
  },
  {
   "cell_type": "code",
   "execution_count": null,
   "metadata": {
    "execution": {
     "iopub.execute_input": "2022-01-06T17:01:13.376853Z",
     "iopub.status.busy": "2022-01-06T17:01:13.376521Z",
     "iopub.status.idle": "2022-01-06T17:01:13.413210Z",
     "shell.execute_reply": "2022-01-06T17:01:13.412196Z",
     "shell.execute_reply.started": "2022-01-06T17:01:13.376820Z"
    },
    "id": "wO7vS07wy9Z3",
    "outputId": "50b50e6a-f2dd-41f9-e889-34aaa3dec1e8"
   },
   "outputs": [],
   "source": []
  },
  {
   "cell_type": "markdown",
   "metadata": {
    "id": "_zY_-3CQxvoQ"
   },
   "source": [
    "# THANK YOU!"
   ]
  },
  {
   "cell_type": "code",
   "execution_count": null,
   "metadata": {},
   "outputs": [],
   "source": []
  },
  {
   "cell_type": "code",
   "execution_count": null,
   "metadata": {},
   "outputs": [],
   "source": []
  },
  {
   "cell_type": "code",
   "execution_count": null,
   "metadata": {},
   "outputs": [],
   "source": []
  }
 ],
 "metadata": {
  "kernelspec": {
   "display_name": "Python 3",
   "language": "python",
   "name": "python3"
  },
  "language_info": {
   "codemirror_mode": {
    "name": "ipython",
    "version": 3
   },
   "file_extension": ".py",
   "mimetype": "text/x-python",
   "name": "python",
   "nbconvert_exporter": "python",
   "pygments_lexer": "ipython3",
   "version": "3.8.8"
  }
 },
 "nbformat": 4,
 "nbformat_minor": 4
}

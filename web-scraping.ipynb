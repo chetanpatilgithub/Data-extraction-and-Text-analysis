{
 "cells": [
  {
   "cell_type": "code",
   "execution_count": 6,
   "id": "d57b037c",
   "metadata": {},
   "outputs": [],
   "source": [
    "import requests"
   ]
  },
  {
   "cell_type": "code",
   "execution_count": 7,
   "id": "25b07d39",
   "metadata": {},
   "outputs": [],
   "source": [
    "res1 = requests.get(\"http://www.example.com\")"
   ]
  },
  {
   "cell_type": "code",
   "execution_count": 8,
   "id": "42dcd70d",
   "metadata": {},
   "outputs": [],
   "source": [
    "res2 = requests.get(\"https://insights.blackcoffer.com/how-telehealth-and-telemedicine-helping-people-to-fight-against-covid-19-2/\")"
   ]
  },
  {
   "cell_type": "code",
   "execution_count": 9,
   "id": "20c00bfa",
   "metadata": {},
   "outputs": [
    {
     "data": {
      "text/plain": [
       "requests.models.Response"
      ]
     },
     "execution_count": 9,
     "metadata": {},
     "output_type": "execute_result"
    }
   ],
   "source": [
    "type(res1)"
   ]
  },
  {
   "cell_type": "code",
   "execution_count": 10,
   "id": "608f4e90",
   "metadata": {},
   "outputs": [
    {
     "data": {
      "text/plain": [
       "requests.models.Response"
      ]
     },
     "execution_count": 10,
     "metadata": {},
     "output_type": "execute_result"
    }
   ],
   "source": [
    "type(res2)"
   ]
  },
  {
   "cell_type": "code",
   "execution_count": 11,
   "id": "eff60445",
   "metadata": {},
   "outputs": [
    {
     "data": {
      "text/plain": [
       "'<!doctype html>\\n<html>\\n<head>\\n    <title>Example Domain</title>\\n\\n    <meta charset=\"utf-8\" />\\n    <meta http-equiv=\"Content-type\" content=\"text/html; charset=utf-8\" />\\n    <meta name=\"viewport\" content=\"width=device-width, initial-scale=1\" />\\n    <style type=\"text/css\">\\n    body {\\n        background-color: #f0f0f2;\\n        margin: 0;\\n        padding: 0;\\n        font-family: -apple-system, system-ui, BlinkMacSystemFont, \"Segoe UI\", \"Open Sans\", \"Helvetica Neue\", Helvetica, Arial, sans-serif;\\n        \\n    }\\n    div {\\n        width: 600px;\\n        margin: 5em auto;\\n        padding: 2em;\\n        background-color: #fdfdff;\\n        border-radius: 0.5em;\\n        box-shadow: 2px 3px 7px 2px rgba(0,0,0,0.02);\\n    }\\n    a:link, a:visited {\\n        color: #38488f;\\n        text-decoration: none;\\n    }\\n    @media (max-width: 700px) {\\n        div {\\n            margin: 0 auto;\\n            width: auto;\\n        }\\n    }\\n    </style>    \\n</head>\\n\\n<body>\\n<div>\\n    <h1>Example Domain</h1>\\n    <p>This domain is for use in illustrative examples in documents. You may use this\\n    domain in literature without prior coordination or asking for permission.</p>\\n    <p><a href=\"https://www.iana.org/domains/example\">More information...</a></p>\\n</div>\\n</body>\\n</html>\\n'"
      ]
     },
     "execution_count": 11,
     "metadata": {},
     "output_type": "execute_result"
    }
   ],
   "source": [
    "res1.text"
   ]
  },
  {
   "cell_type": "code",
   "execution_count": 12,
   "id": "44501cb2",
   "metadata": {},
   "outputs": [
    {
     "data": {
      "text/plain": [
       "'<!doctype html >\\r\\n<!--[if IE 8]>    <html class=\"ie8\" lang=\"en\"> <![endif]-->\\r\\n<!--[if IE 9]>    <html class=\"ie9\" lang=\"en\"> <![endif]-->\\r\\n<!--[if gt IE 8]><!--> <html lang=\"en-US\"> <!--<![endif]-->\\r\\n<head>\\r\\n    <meta charset=\"UTF-8\" />\\r\\n    <meta name=\"viewport\" content=\"width=device-width, initial-scale=1.0\">\\r\\n    <link rel=\"pingback\" href=\"https://insights.blackcoffer.com/xmlrpc.php\" />\\r\\n    <meta name=\\'robots\\' content=\\'index, follow, max-image-preview:large, max-snippet:-1, max-video-preview:-1\\' />\\n<meta property=\"og:image\" content=\"https://insights.blackcoffer.com/wp-content/uploads/2022/04/GettyImages-1301576794.jpg\" />\\n\\t<!-- This site is optimized with the Yoast SEO plugin v20.1 - https://yoast.com/wordpress/plugins/seo/ -->\\n\\t<title>How Telehealth and Telemedicine helping people to fight against COVID-19 - Blackcoffer Insights</title>\\n\\t<meta name=\"description\" content=\"The aim of this technology is to overcome the barriers and to provide equal access to the services and the interventions. This technology helps to overcome the barrier and solve problems like adverse weather and illness.\" />\\n\\t<link rel=\"canonical\" href=\"https://insights.blackcoffer.com/how-telehealth-and-telemedicine-helping-people-to-fight-against-covid-19-2/\" />\\n\\t<meta property=\"og:locale\" content=\"en_US\" />\\n\\t<meta property=\"og:type\" content=\"article\" />\\n\\t<meta property=\"og:title\" content=\"How Telehealth and Telemedicine helping people to fight against COVID-19 - Blackcoffer Insights\" />\\n\\t<meta property=\"og:description\" content=\"The aim of this technology is to overcome the barriers and to provide equal access to the services and the interventions. This technology helps to overcome the barrier and solve problems like adverse weather and illness.\" />\\n\\t<meta property=\"og:url\" content=\"https://insights.blackcoffer.com/how-telehealth-and-telemedicine-helping-people-to-fight-against-covid-19-2/\" />\\n\\t<meta property=\"og:site_name\" content=\"Blackcoffer Insights\" />\\n\\t<meta property=\"article:publisher\" content=\"https://www.facebook.com/blackcoffer.consulting\" />\\n\\t<meta property=\"article:published_time\" content=\"2022-04-28T15:34:47+00:00\" />\\n\\t<meta property=\"og:image\" content=\"https://insights.blackcoffer.com/wp-content/uploads/2022/04/GettyImages-1301576794.jpg\" />\\n\\t<meta property=\"og:image:width\" content=\"2100\" />\\n\\t<meta property=\"og:image:height\" content=\"1400\" />\\n\\t<meta property=\"og:image:type\" content=\"image/jpeg\" />\\n\\t<meta name=\"author\" content=\"Ajay Bidyarthy\" />\\n\\t<meta name=\"twitter:card\" content=\"summary_large_image\" />\\n\\t<meta name=\"twitter:creator\" content=\"@Blackcoffer1\" />\\n\\t<meta name=\"twitter:site\" content=\"@Blackcoffer1\" />\\n\\t<meta name=\"twitter:label1\" content=\"Written by\" />\\n\\t<meta name=\"twitter:data1\" content=\"Ajay Bidyarthy\" />\\n\\t<meta name=\"twitter:label2\" content=\"Est. reading time\" />\\n\\t<meta name=\"twitter:data2\" content=\"5 minutes\" />\\n\\t<script type=\"application/ld+json\" class=\"yoast-schema-graph\">{\"@context\":\"https://schema.org\",\"@graph\":[{\"@type\":\"Article\",\"@id\":\"https://insights.blackcoffer.com/how-telehealth-and-telemedicine-helping-people-to-fight-against-covid-19-2/#article\",\"isPartOf\":{\"@id\":\"https://insights.blackcoffer.com/how-telehealth-and-telemedicine-helping-people-to-fight-against-covid-19-2/\"},\"author\":{\"name\":\"Ajay Bidyarthy\",\"@id\":\"https://insights.blackcoffer.com/#/schema/person/0d4fd6036c1e876d151c7bad2abf5ab4\"},\"headline\":\"How Telehealth and Telemedicine helping people to fight against COVID-19\",\"datePublished\":\"2022-04-28T15:34:47+00:00\",\"dateModified\":\"2022-04-28T15:34:47+00:00\",\"mainEntityOfPage\":{\"@id\":\"https://insights.blackcoffer.com/how-telehealth-and-telemedicine-helping-people-to-fight-against-covid-19-2/\"},\"wordCount\":966,\"publisher\":{\"@id\":\"https://insights.blackcoffer.com/#organization\"},\"image\":{\"@id\":\"https://insights.blackcoffer.com/how-telehealth-and-telemedicine-helping-people-to-fight-against-covid-19-2/#primaryimage\"},\"thumbnailUrl\":\"https://insights.blackcoffer.com/wp-content/uploads/2022/04/GettyImages-1301576794.jpg\",\"keywords\":[\"Communication\",\"Healthcare\",\"Innovation\",\"Telehealth Covid-19\",\"Telemedicine\"],\"articleSection\":[\"Health Care Equipment &amp; Services\",\"Healthcare\",\"Pharmaceuticals, Biotechnology &amp; Life Sciences\",\"What We Think\"],\"inLanguage\":\"en-US\"},{\"@type\":\"WebPage\",\"@id\":\"https://insights.blackcoffer.com/how-telehealth-and-telemedicine-helping-people-to-fight-against-covid-19-2/\",\"url\":\"https://insights.blackcoffer.com/how-telehealth-and-telemedicine-helping-people-to-fight-against-covid-19-2/\",\"name\":\"How Telehealth and Telemedicine helping people to fight against COVID-19 - Blackcoffer Insights\",\"isPartOf\":{\"@id\":\"https://insights.blackcoffer.com/#website\"},\"primaryImageOfPage\":{\"@id\":\"https://insights.blackcoffer.com/how-telehealth-and-telemedicine-helping-people-to-fight-against-covid-19-2/#primaryimage\"},\"image\":{\"@id\":\"https://insights.blackcoffer.com/how-telehealth-and-telemedicine-helping-people-to-fight-against-covid-19-2/#primaryimage\"},\"thumbnailUrl\":\"https://insights.blackcoffer.com/wp-content/uploads/2022/04/GettyImages-1301576794.jpg\",\"datePublished\":\"2022-04-28T15:34:47+00:00\",\"dateModified\":\"2022-04-28T15:34:47+00:00\",\"description\":\"The aim of this technology is to overcome the barriers and to provide equal access to the services and the interventions. This technology helps to overcome the barrier and solve problems like adverse weather and illness.\",\"breadcrumb\":{\"@id\":\"https://insights.blackcoffer.com/how-telehealth-and-telemedicine-helping-people-to-fight-against-covid-19-2/#breadcrumb\"},\"inLanguage\":\"en-US\",\"potentialAction\":[{\"@type\":\"ReadAction\",\"target\":[\"https://insights.blackcoffer.com/how-telehealth-and-telemedicine-helping-people-to-fight-against-covid-19-2/\"]}]},{\"@type\":\"ImageObject\",\"inLanguage\":\"en-US\",\"@id\":\"https://insights.blackcoffer.com/how-telehealth-and-telemedicine-helping-people-to-fight-against-covid-19-2/#primaryimage\",\"url\":\"https://insights.blackcoffer.com/wp-content/uploads/2022/04/GettyImages-1301576794.jpg\",\"contentUrl\":\"https://insights.blackcoffer.com/wp-content/uploads/2022/04/GettyImages-1301576794.jpg\",\"width\":2100,\"height\":1400},{\"@type\":\"BreadcrumbList\",\"@id\":\"https://insights.blackcoffer.com/how-telehealth-and-telemedicine-helping-people-to-fight-against-covid-19-2/#breadcrumb\",\"itemListElement\":[{\"@type\":\"ListItem\",\"position\":1,\"name\":\"Home\",\"item\":\"https://insights.blackcoffer.com/\"},{\"@type\":\"ListItem\",\"position\":2,\"name\":\"How Telehealth and Telemedicine helping people to fight against COVID-19\"}]},{\"@type\":\"WebSite\",\"@id\":\"https://insights.blackcoffer.com/#website\",\"url\":\"https://insights.blackcoffer.com/\",\"name\":\"Blackcoffer Insights\",\"description\":\"Delivering beautiful insights, future strategic foresight, industry trends, innovations, and experts thoughts\",\"publisher\":{\"@id\":\"https://insights.blackcoffer.com/#organization\"},\"potentialAction\":[{\"@type\":\"SearchAction\",\"target\":{\"@type\":\"EntryPoint\",\"urlTemplate\":\"https://insights.blackcoffer.com/?s={search_term_string}\"},\"query-input\":\"required name=search_term_string\"}],\"inLanguage\":\"en-US\"},{\"@type\":\"Organization\",\"@id\":\"https://insights.blackcoffer.com/#organization\",\"name\":\"Blackcoffer Insights\",\"url\":\"https://insights.blackcoffer.com/\",\"logo\":{\"@type\":\"ImageObject\",\"inLanguage\":\"en-US\",\"@id\":\"https://insights.blackcoffer.com/#/schema/logo/image/\",\"url\":\"https://insights.blackcoffer.com/wp-content/uploads/2018/12/Black-720x172-Nobackground.png\",\"contentUrl\":\"https://insights.blackcoffer.com/wp-content/uploads/2018/12/Black-720x172-Nobackground.png\",\"width\":720,\"height\":172,\"caption\":\"Blackcoffer Insights\"},\"image\":{\"@id\":\"https://insights.blackcoffer.com/#/schema/logo/image/\"},\"sameAs\":[\"https://www.facebook.com/blackcoffer.consulting\",\"https://twitter.com/Blackcoffer1\",\"https://www.linkedin.com/company-beta/13218008/\"]},{\"@type\":\"Person\",\"@id\":\"https://insights.blackcoffer.com/#/schema/person/0d4fd6036c1e876d151c7bad2abf5ab4\",\"name\":\"Ajay Bidyarthy\",\"url\":\"https://insights.blackcoffer.com/author/admin/\"}]}</script>\\n\\t<!-- / Yoast SEO plugin. -->\\n\\n\\n<link rel=\\'dns-prefetch\\' href=\\'//fonts.googleapis.com\\' />\\n<link rel=\"alternate\" type=\"application/rss+xml\" title=\"Blackcoffer Insights &raquo; Feed\" href=\"https://insights.blackcoffer.com/feed/\" />\\n<link rel=\"alternate\" type=\"application/rss+xml\" title=\"Blackcoffer Insights &raquo; Comments Feed\" href=\"https://insights.blackcoffer.com/comments/feed/\" />\\n<style type=\"text/css\">\\nimg.wp-smiley,\\nimg.emoji {\\n\\tdisplay: inline !important;\\n\\tborder: none !important;\\n\\tbox-shadow: none !important;\\n\\theight: 1em !important;\\n\\twidth: 1em !important;\\n\\tmargin: 0 0.07em !important;\\n\\tvertical-align: -0.1em !important;\\n\\tbackground: none !important;\\n\\tpadding: 0 !important;\\n}\\n</style>\\n\\t<link rel=\\'stylesheet\\' id=\\'wp-block-library-css\\' href=\\'https://insights.blackcoffer.com/wp-includes/css/dist/block-library/style.min.css?ver=6.1.1\\' type=\\'text/css\\' media=\\'all\\' />\\n<link rel=\\'stylesheet\\' id=\\'classic-theme-styles-css\\' href=\\'https://insights.blackcoffer.com/wp-includes/css/classic-themes.min.css?ver=1\\' type=\\'text/css\\' media=\\'all\\' />\\n<style id=\\'global-styles-inline-css\\' type=\\'text/css\\'>\\nbody{--wp--preset--color--black: #000000;--wp--preset--color--cyan-bluish-gray: #abb8c3;--wp--preset--color--white: #ffffff;--wp--preset--color--pale-pink: #f78da7;--wp--preset--color--vivid-red: #cf2e2e;--wp--preset--color--luminous-vivid-orange: #ff6900;--wp--preset--color--luminous-vivid-amber: #fcb900;--wp--preset--color--light-green-cyan: #7bdcb5;--wp--preset--color--vivid-green-cyan: #00d084;--wp--preset--color--pale-cyan-blue: #8ed1fc;--wp--preset--color--vivid-cyan-blue: #0693e3;--wp--preset--color--vivid-purple: #9b51e0;--wp--preset--gradient--vivid-cyan-blue-to-vivid-purple: linear-gradient(135deg,rgba(6,147,227,1) 0%,rgb(155,81,224) 100%);--wp--preset--gradient--light-green-cyan-to-vivid-green-cyan: linear-gradient(135deg,rgb(122,220,180) 0%,rgb(0,208,130) 100%);--wp--preset--gradient--luminous-vivid-amber-to-luminous-vivid-orange: linear-gradient(135deg,rgba(252,185,0,1) 0%,rgba(255,105,0,1) 100%);--wp--preset--gradient--luminous-vivid-orange-to-vivid-red: linear-gradient(135deg,rgba(255,105,0,1) 0%,rgb(207,46,46) 100%);--wp--preset--gradient--very-light-gray-to-cyan-bluish-gray: linear-gradient(135deg,rgb(238,238,238) 0%,rgb(169,184,195) 100%);--wp--preset--gradient--cool-to-warm-spectrum: linear-gradient(135deg,rgb(74,234,220) 0%,rgb(151,120,209) 20%,rgb(207,42,186) 40%,rgb(238,44,130) 60%,rgb(251,105,98) 80%,rgb(254,248,76) 100%);--wp--preset--gradient--blush-light-purple: linear-gradient(135deg,rgb(255,206,236) 0%,rgb(152,150,240) 100%);--wp--preset--gradient--blush-bordeaux: linear-gradient(135deg,rgb(254,205,165) 0%,rgb(254,45,45) 50%,rgb(107,0,62) 100%);--wp--preset--gradient--luminous-dusk: linear-gradient(135deg,rgb(255,203,112) 0%,rgb(199,81,192) 50%,rgb(65,88,208) 100%);--wp--preset--gradient--pale-ocean: linear-gradient(135deg,rgb(255,245,203) 0%,rgb(182,227,212) 50%,rgb(51,167,181) 100%);--wp--preset--gradient--electric-grass: linear-gradient(135deg,rgb(202,248,128) 0%,rgb(113,206,126) 100%);--wp--preset--gradient--midnight: linear-gradient(135deg,rgb(2,3,129) 0%,rgb(40,116,252) 100%);--wp--preset--duotone--dark-grayscale: url(\\'#wp-duotone-dark-grayscale\\');--wp--preset--duotone--grayscale: url(\\'#wp-duotone-grayscale\\');--wp--preset--duotone--purple-yellow: url(\\'#wp-duotone-purple-yellow\\');--wp--preset--duotone--blue-red: url(\\'#wp-duotone-blue-red\\');--wp--preset--duotone--midnight: url(\\'#wp-duotone-midnight\\');--wp--preset--duotone--magenta-yellow: url(\\'#wp-duotone-magenta-yellow\\');--wp--preset--duotone--purple-green: url(\\'#wp-duotone-purple-green\\');--wp--preset--duotone--blue-orange: url(\\'#wp-duotone-blue-orange\\');--wp--preset--font-size--small: 11px;--wp--preset--font-size--medium: 20px;--wp--preset--font-size--large: 32px;--wp--preset--font-size--x-large: 42px;--wp--preset--font-size--regular: 15px;--wp--preset--font-size--larger: 50px;--wp--preset--spacing--20: 0.44rem;--wp--preset--spacing--30: 0.67rem;--wp--preset--spacing--40: 1rem;--wp--preset--spacing--50: 1.5rem;--wp--preset--spacing--60: 2.25rem;--wp--preset--spacing--70: 3.38rem;--wp--preset--spacing--80: 5.06rem;}:where(.is-layout-flex){gap: 0.5em;}body .is-layout-flow > .alignleft{float: left;margin-inline-start: 0;margin-inline-end: 2em;}body .is-layout-flow > .alignright{float: right;margin-inline-start: 2em;margin-inline-end: 0;}body .is-layout-flow > .aligncenter{margin-left: auto !important;margin-right: auto !important;}body .is-layout-constrained > .alignleft{float: left;margin-inline-start: 0;margin-inline-end: 2em;}body .is-layout-constrained > .alignright{float: right;margin-inline-start: 2em;margin-inline-end: 0;}body .is-layout-constrained > .aligncenter{margin-left: auto !important;margin-right: auto !important;}body .is-layout-constrained > :where(:not(.alignleft):not(.alignright):not(.alignfull)){max-width: var(--wp--style--global--content-size);margin-left: auto !important;margin-right: auto !important;}body .is-layout-constrained > .alignwide{max-width: var(--wp--style--global--wide-size);}body .is-layout-flex{display: flex;}body .is-layout-flex{flex-wrap: wrap;align-items: center;}body .is-layout-flex > *{margin: 0;}:where(.wp-block-columns.is-layout-flex){gap: 2em;}.has-black-color{color: var(--wp--preset--color--black) !important;}.has-cyan-bluish-gray-color{color: var(--wp--preset--color--cyan-bluish-gray) !important;}.has-white-color{color: var(--wp--preset--color--white) !important;}.has-pale-pink-color{color: var(--wp--preset--color--pale-pink) !important;}.has-vivid-red-color{color: var(--wp--preset--color--vivid-red) !important;}.has-luminous-vivid-orange-color{color: var(--wp--preset--color--luminous-vivid-orange) !important;}.has-luminous-vivid-amber-color{color: var(--wp--preset--color--luminous-vivid-amber) !important;}.has-light-green-cyan-color{color: var(--wp--preset--color--light-green-cyan) !important;}.has-vivid-green-cyan-color{color: var(--wp--preset--color--vivid-green-cyan) !important;}.has-pale-cyan-blue-color{color: var(--wp--preset--color--pale-cyan-blue) !important;}.has-vivid-cyan-blue-color{color: var(--wp--preset--color--vivid-cyan-blue) !important;}.has-vivid-purple-color{color: var(--wp--preset--color--vivid-purple) !important;}.has-black-background-color{background-color: var(--wp--preset--color--black) !important;}.has-cyan-bluish-gray-background-color{background-color: var(--wp--preset--color--cyan-bluish-gray) !important;}.has-white-background-color{background-color: var(--wp--preset--color--white) !important;}.has-pale-pink-background-color{background-color: var(--wp--preset--color--pale-pink) !important;}.has-vivid-red-background-color{background-color: var(--wp--preset--color--vivid-red) !important;}.has-luminous-vivid-orange-background-color{background-color: var(--wp--preset--color--luminous-vivid-orange) !important;}.has-luminous-vivid-amber-background-color{background-color: var(--wp--preset--color--luminous-vivid-amber) !important;}.has-light-green-cyan-background-color{background-color: var(--wp--preset--color--light-green-cyan) !important;}.has-vivid-green-cyan-background-color{background-color: var(--wp--preset--color--vivid-green-cyan) !important;}.has-pale-cyan-blue-background-color{background-color: var(--wp--preset--color--pale-cyan-blue) !important;}.has-vivid-cyan-blue-background-color{background-color: var(--wp--preset--color--vivid-cyan-blue) !important;}.has-vivid-purple-background-color{background-color: var(--wp--preset--color--vivid-purple) !important;}.has-black-border-color{border-color: var(--wp--preset--color--black) !important;}.has-cyan-bluish-gray-border-color{border-color: var(--wp--preset--color--cyan-bluish-gray) !important;}.has-white-border-color{border-color: var(--wp--preset--color--white) !important;}.has-pale-pink-border-color{border-color: var(--wp--preset--color--pale-pink) !important;}.has-vivid-red-border-color{border-color: var(--wp--preset--color--vivid-red) !important;}.has-luminous-vivid-orange-border-color{border-color: var(--wp--preset--color--luminous-vivid-orange) !important;}.has-luminous-vivid-amber-border-color{border-color: var(--wp--preset--color--luminous-vivid-amber) !important;}.has-light-green-cyan-border-color{border-color: var(--wp--preset--color--light-green-cyan) !important;}.has-vivid-green-cyan-border-color{border-color: var(--wp--preset--color--vivid-green-cyan) !important;}.has-pale-cyan-blue-border-color{border-color: var(--wp--preset--color--pale-cyan-blue) !important;}.has-vivid-cyan-blue-border-color{border-color: var(--wp--preset--color--vivid-cyan-blue) !important;}.has-vivid-purple-border-color{border-color: var(--wp--preset--color--vivid-purple) !important;}.has-vivid-cyan-blue-to-vivid-purple-gradient-background{background: var(--wp--preset--gradient--vivid-cyan-blue-to-vivid-purple) !important;}.has-light-green-cyan-to-vivid-green-cyan-gradient-background{background: var(--wp--preset--gradient--light-green-cyan-to-vivid-green-cyan) !important;}.has-luminous-vivid-amber-to-luminous-vivid-orange-gradient-background{background: var(--wp--preset--gradient--luminous-vivid-amber-to-luminous-vivid-orange) !important;}.has-luminous-vivid-orange-to-vivid-red-gradient-background{background: var(--wp--preset--gradient--luminous-vivid-orange-to-vivid-red) !important;}.has-very-light-gray-to-cyan-bluish-gray-gradient-background{background: var(--wp--preset--gradient--very-light-gray-to-cyan-bluish-gray) !important;}.has-cool-to-warm-spectrum-gradient-background{background: var(--wp--preset--gradient--cool-to-warm-spectrum) !important;}.has-blush-light-purple-gradient-background{background: var(--wp--preset--gradient--blush-light-purple) !important;}.has-blush-bordeaux-gradient-background{background: var(--wp--preset--gradient--blush-bordeaux) !important;}.has-luminous-dusk-gradient-background{background: var(--wp--preset--gradient--luminous-dusk) !important;}.has-pale-ocean-gradient-background{background: var(--wp--preset--gradient--pale-ocean) !important;}.has-electric-grass-gradient-background{background: var(--wp--preset--gradient--electric-grass) !important;}.has-midnight-gradient-background{background: var(--wp--preset--gradient--midnight) !important;}.has-small-font-size{font-size: var(--wp--preset--font-size--small) !important;}.has-medium-font-size{font-size: var(--wp--preset--font-size--medium) !important;}.has-large-font-size{font-size: var(--wp--preset--font-size--large) !important;}.has-x-large-font-size{font-size: var(--wp--preset--font-size--x-large) !important;}\\n.wp-block-navigation a:where(:not(.wp-element-button)){color: inherit;}\\n:where(.wp-block-columns.is-layout-flex){gap: 2em;}\\n.wp-block-pullquote{font-size: 1.5em;line-height: 1.6;}\\n</style>\\n<link rel=\\'stylesheet\\' id=\\'td-plugin-newsletter-css\\' href=\\'https://insights.blackcoffer.com/wp-content/plugins/td-newsletter/style.css?ver=9.7.2\\' type=\\'text/css\\' media=\\'all\\' />\\n<link rel=\\'stylesheet\\' id=\\'td-plugin-multi-purpose-css\\' href=\\'https://insights.blackcoffer.com/wp-content/plugins/td-composer/td-multi-purpose/style.css?ver=87aa69b3a2aab340715eee6578a06159\\' type=\\'text/css\\' media=\\'all\\' />\\n<link rel=\\'stylesheet\\' id=\\'google-fonts-style-css\\' href=\\'https://fonts.googleapis.com/css?family=Open+Sans%3A300italic%2C400%2C400italic%2C600%2C600italic%2C700%7CRoboto%3A300%2C400%2C400italic%2C500%2C500italic%2C700%2C900&#038;ver=9.7.2\\' type=\\'text/css\\' media=\\'all\\' />\\n<link rel=\\'stylesheet\\' id=\\'td-theme-css\\' href=\\'https://insights.blackcoffer.com/wp-content/themes/Newspaper/style.css?ver=9.7.2\\' type=\\'text/css\\' media=\\'all\\' />\\n<style id=\\'td-theme-inline-css\\' type=\\'text/css\\'>\\n    \\r\\n        @media (max-width: 767px) {\\r\\n            .td-header-desktop-wrap {\\r\\n                display: none;\\r\\n            }\\r\\n        }\\r\\n        @media (min-width: 767px) {\\r\\n            .td-header-mobile-wrap {\\r\\n                display: none;\\r\\n            }\\r\\n        }\\r\\n    \\r\\n\\t\\n</style>\\n<link rel=\\'stylesheet\\' id=\\'td-legacy-framework-front-style-css\\' href=\\'https://insights.blackcoffer.com/wp-content/plugins/td-composer/legacy/Newspaper/assets/css/td_legacy_main.css?ver=87aa69b3a2aab340715eee6578a06159\\' type=\\'text/css\\' media=\\'all\\' />\\n<link rel=\\'stylesheet\\' id=\\'tdb_front_style-css\\' href=\\'https://insights.blackcoffer.com/wp-content/plugins/td-cloud-library/assets/css/tdb_less_front.css?ver=96be9388232cf6f1e9ad7a3c9f4e9872\\' type=\\'text/css\\' media=\\'all\\' />\\n<script type=\\'text/javascript\\' src=\\'https://insights.blackcoffer.com/wp-includes/js/jquery/jquery.min.js?ver=3.6.1\\' id=\\'jquery-core-js\\'></script>\\n<script type=\\'text/javascript\\' src=\\'https://insights.blackcoffer.com/wp-includes/js/jquery/jquery-migrate.min.js?ver=3.3.2\\' id=\\'jquery-migrate-js\\'></script>\\n<link rel=\"https://api.w.org/\" href=\"https://insights.blackcoffer.com/wp-json/\" /><link rel=\"alternate\" type=\"application/json\" href=\"https://insights.blackcoffer.com/wp-json/wp/v2/posts/3839\" /><link rel=\"EditURI\" type=\"application/rsd+xml\" title=\"RSD\" href=\"https://insights.blackcoffer.com/xmlrpc.php?rsd\" />\\n<link rel=\"wlwmanifest\" type=\"application/wlwmanifest+xml\" href=\"https://insights.blackcoffer.com/wp-includes/wlwmanifest.xml\" />\\n<meta name=\"generator\" content=\"WordPress 6.1.1\" />\\n<link rel=\\'shortlink\\' href=\\'https://insights.blackcoffer.com/?p=3839\\' />\\n<!--[if lt IE 9]><script src=\"https://cdnjs.cloudflare.com/ajax/libs/html5shiv/3.7.3/html5shiv.js\"></script><![endif]-->\\r\\n        <script>\\r\\n        window.tdb_globals = {\"wpRestNonce\":\"9f1ababae7\",\"wpRestUrl\":\"https:\\\\/\\\\/insights.blackcoffer.com\\\\/wp-json\\\\/\",\"permalinkStructure\":\"\\\\/%postname%\\\\/\",\"isAjax\":false,\"isAdminBarShowing\":false,\"autoloadScrollPercent\":50,\"origPostEditUrl\":null};\\r\\n    </script>\\r\\n    \\t\\t\\t<script>\\r\\n\\t\\t\\t\\twindow.tdwGlobal = {\"adminUrl\":\"https:\\\\/\\\\/insights.blackcoffer.com\\\\/wp-admin\\\\/\",\"wpRestNonce\":\"9f1ababae7\",\"wpRestUrl\":\"https:\\\\/\\\\/insights.blackcoffer.com\\\\/wp-json\\\\/\",\"permalinkStructure\":\"\\\\/%postname%\\\\/\"};\\r\\n\\t\\t\\t</script>\\r\\n\\t\\t\\t\\n<!-- JS generated by theme -->\\n\\n<script>\\n    \\n    \\r\\n\\r\\n\\t    var tdBlocksArray = []; //here we store all the items for the current page\\r\\n\\r\\n\\t    //td_block class - each ajax block uses a object of this class for requests\\r\\n\\t    function tdBlock() {\\r\\n\\t\\t    this.id = \\'\\';\\r\\n\\t\\t    this.block_type = 1; //block type id (1-234 etc)\\r\\n\\t\\t    this.atts = \\'\\';\\r\\n\\t\\t    this.td_column_number = \\'\\';\\r\\n\\t\\t    this.td_current_page = 1; //\\r\\n\\t\\t    this.post_count = 0; //from wp\\r\\n\\t\\t    this.found_posts = 0; //from wp\\r\\n\\t\\t    this.max_num_pages = 0; //from wp\\r\\n\\t\\t    this.td_filter_value = \\'\\'; //current live filter value\\r\\n\\t\\t    this.is_ajax_running = false;\\r\\n\\t\\t    this.td_user_action = \\'\\'; // load more or infinite loader (used by the animation)\\r\\n\\t\\t    this.header_color = \\'\\';\\r\\n\\t\\t    this.ajax_pagination_infinite_stop = \\'\\'; //show load more at page x\\r\\n\\t    }\\r\\n\\r\\n\\r\\n        // td_js_generator - mini detector\\r\\n        (function(){\\r\\n            var htmlTag = document.getElementsByTagName(\"html\")[0];\\r\\n\\r\\n\\t        if ( navigator.userAgent.indexOf(\"MSIE 10.0\") > -1 ) {\\r\\n                htmlTag.className += \\' ie10\\';\\r\\n            }\\r\\n\\r\\n            if ( !!navigator.userAgent.match(/Trident.*rv\\\\:11\\\\./) ) {\\r\\n                htmlTag.className += \\' ie11\\';\\r\\n            }\\r\\n\\r\\n\\t        if ( navigator.userAgent.indexOf(\"Edge\") > -1 ) {\\r\\n                htmlTag.className += \\' ieEdge\\';\\r\\n            }\\r\\n\\r\\n            if ( /(iPad|iPhone|iPod)/g.test(navigator.userAgent) ) {\\r\\n                htmlTag.className += \\' td-md-is-ios\\';\\r\\n            }\\r\\n\\r\\n            var user_agent = navigator.userAgent.toLowerCase();\\r\\n            if ( user_agent.indexOf(\"android\") > -1 ) {\\r\\n                htmlTag.className += \\' td-md-is-android\\';\\r\\n            }\\r\\n\\r\\n            if ( -1 !== navigator.userAgent.indexOf(\\'Mac OS X\\')  ) {\\r\\n                htmlTag.className += \\' td-md-is-os-x\\';\\r\\n            }\\r\\n\\r\\n            if ( /chrom(e|ium)/.test(navigator.userAgent.toLowerCase()) ) {\\r\\n               htmlTag.className += \\' td-md-is-chrome\\';\\r\\n            }\\r\\n\\r\\n            if ( -1 !== navigator.userAgent.indexOf(\\'Firefox\\') ) {\\r\\n                htmlTag.className += \\' td-md-is-firefox\\';\\r\\n            }\\r\\n\\r\\n            if ( -1 !== navigator.userAgent.indexOf(\\'Safari\\') && -1 === navigator.userAgent.indexOf(\\'Chrome\\') ) {\\r\\n                htmlTag.className += \\' td-md-is-safari\\';\\r\\n            }\\r\\n\\r\\n            if( -1 !== navigator.userAgent.indexOf(\\'IEMobile\\') ){\\r\\n                htmlTag.className += \\' td-md-is-iemobile\\';\\r\\n            }\\r\\n\\r\\n        })();\\r\\n\\r\\n\\r\\n\\r\\n\\r\\n        var tdLocalCache = {};\\r\\n\\r\\n        ( function () {\\r\\n            \"use strict\";\\r\\n\\r\\n            tdLocalCache = {\\r\\n                data: {},\\r\\n                remove: function (resource_id) {\\r\\n                    delete tdLocalCache.data[resource_id];\\r\\n                },\\r\\n                exist: function (resource_id) {\\r\\n                    return tdLocalCache.data.hasOwnProperty(resource_id) && tdLocalCache.data[resource_id] !== null;\\r\\n                },\\r\\n                get: function (resource_id) {\\r\\n                    return tdLocalCache.data[resource_id];\\r\\n                },\\r\\n                set: function (resource_id, cachedData) {\\r\\n                    tdLocalCache.remove(resource_id);\\r\\n                    tdLocalCache.data[resource_id] = cachedData;\\r\\n                }\\r\\n            };\\r\\n        })();\\r\\n\\r\\n    \\r\\n    \\nvar td_viewport_interval_list=[{\"limitBottom\":767,\"sidebarWidth\":228},{\"limitBottom\":1018,\"sidebarWidth\":300},{\"limitBottom\":1140,\"sidebarWidth\":324}];\\nvar tds_general_modal_image=\"yes\";\\nvar tdc_is_installed=\"yes\";\\nvar td_ajax_url=\"https:\\\\/\\\\/insights.blackcoffer.com\\\\/wp-admin\\\\/admin-ajax.php?td_theme_name=Newspaper&v=9.7.2\";\\nvar td_get_template_directory_uri=\"https:\\\\/\\\\/insights.blackcoffer.com\\\\/wp-content\\\\/themes\\\\/Newspaper\";\\nvar tds_snap_menu=\"\";\\nvar tds_logo_on_sticky=\"show_header_logo\";\\nvar tds_header_style=\"\";\\nvar td_please_wait=\"Please wait...\";\\nvar td_email_user_pass_incorrect=\"User or password incorrect!\";\\nvar td_email_user_incorrect=\"Email or username incorrect!\";\\nvar td_email_incorrect=\"Email incorrect!\";\\nvar tds_more_articles_on_post_enable=\"show\";\\nvar tds_more_articles_on_post_time_to_wait=\"\";\\nvar tds_more_articles_on_post_pages_distance_from_top=0;\\nvar tds_theme_color_site_wide=\"#4db2ec\";\\nvar tds_smart_sidebar=\"\";\\nvar tdThemeName=\"Newspaper\";\\nvar td_magnific_popup_translation_tPrev=\"Previous (Left arrow key)\";\\nvar td_magnific_popup_translation_tNext=\"Next (Right arrow key)\";\\nvar td_magnific_popup_translation_tCounter=\"%curr% of %total%\";\\nvar td_magnific_popup_translation_ajax_tError=\"The content from %url% could not be loaded.\";\\nvar td_magnific_popup_translation_image_tError=\"The image #%curr% could not be loaded.\";\\nvar tdBlockNonce=\"82acc5427b\";\\nvar tdDateNamesI18n={\"month_names\":[\"January\",\"February\",\"March\",\"April\",\"May\",\"June\",\"July\",\"August\",\"September\",\"October\",\"November\",\"December\"],\"month_names_short\":[\"Jan\",\"Feb\",\"Mar\",\"Apr\",\"May\",\"Jun\",\"Jul\",\"Aug\",\"Sep\",\"Oct\",\"Nov\",\"Dec\"],\"day_names\":[\"Sunday\",\"Monday\",\"Tuesday\",\"Wednesday\",\"Thursday\",\"Friday\",\"Saturday\"],\"day_names_short\":[\"Sun\",\"Mon\",\"Tue\",\"Wed\",\"Thu\",\"Fri\",\"Sat\"]};\\nvar td_ad_background_click_link=\"\";\\nvar td_ad_background_click_target=\"\";\\n</script>\\n\\n\\n<!-- Header style compiled by theme -->\\n\\n<style>\\n    \\n.block-title > span,\\r\\n    .block-title > span > a,\\r\\n    .block-title > a,\\r\\n    .block-title > label,\\r\\n    .widgettitle,\\r\\n    .widgettitle:after,\\r\\n    .td-trending-now-title,\\r\\n    .td-trending-now-wrapper:hover .td-trending-now-title,\\r\\n    .wpb_tabs li.ui-tabs-active a,\\r\\n    .wpb_tabs li:hover a,\\r\\n    .vc_tta-container .vc_tta-color-grey.vc_tta-tabs-position-top.vc_tta-style-classic .vc_tta-tabs-container .vc_tta-tab.vc_active > a,\\r\\n    .vc_tta-container .vc_tta-color-grey.vc_tta-tabs-position-top.vc_tta-style-classic .vc_tta-tabs-container .vc_tta-tab:hover > a,\\r\\n    .td_block_template_1 .td-related-title .td-cur-simple-item,\\r\\n    .woocommerce .product .products h2:not(.woocommerce-loop-product__title),\\r\\n    .td-subcat-filter .td-subcat-dropdown:hover .td-subcat-more,\\r\\n    .td-weather-information:before,\\r\\n    .td-weather-week:before,\\r\\n    .td_block_exchange .td-exchange-header:before,\\r\\n    .td-theme-wrap .td_block_template_3 .td-block-title > *,\\r\\n    .td-theme-wrap .td_block_template_4 .td-block-title > *,\\r\\n    .td-theme-wrap .td_block_template_7 .td-block-title > *,\\r\\n    .td-theme-wrap .td_block_template_9 .td-block-title:after,\\r\\n    .td-theme-wrap .td_block_template_10 .td-block-title::before,\\r\\n    .td-theme-wrap .td_block_template_11 .td-block-title::before,\\r\\n    .td-theme-wrap .td_block_template_11 .td-block-title::after,\\r\\n    .td-theme-wrap .td_block_template_14 .td-block-title,\\r\\n    .td-theme-wrap .td_block_template_15 .td-block-title:before,\\r\\n    .td-theme-wrap .td_block_template_17 .td-block-title:before {\\r\\n        background-color: #222222;\\r\\n    }\\r\\n\\r\\n    .woocommerce div.product .woocommerce-tabs ul.tabs li.active {\\r\\n    \\tbackground-color: #222222 !important;\\r\\n    }\\r\\n\\r\\n    .block-title,\\r\\n    .td_block_template_1 .td-related-title,\\r\\n    .wpb_tabs .wpb_tabs_nav,\\r\\n    .vc_tta-container .vc_tta-color-grey.vc_tta-tabs-position-top.vc_tta-style-classic .vc_tta-tabs-container,\\r\\n    .woocommerce div.product .woocommerce-tabs ul.tabs:before,\\r\\n    .td-theme-wrap .td_block_template_5 .td-block-title > *,\\r\\n    .td-theme-wrap .td_block_template_17 .td-block-title,\\r\\n    .td-theme-wrap .td_block_template_17 .td-block-title::before {\\r\\n        border-color: #222222;\\r\\n    }\\r\\n\\r\\n    .td-theme-wrap .td_block_template_4 .td-block-title > *:before,\\r\\n    .td-theme-wrap .td_block_template_17 .td-block-title::after {\\r\\n        border-color: #222222 transparent transparent transparent;\\r\\n    }\\r\\n    \\r\\n    .td-theme-wrap .td_block_template_4 .td-related-title .td-cur-simple-item:before {\\r\\n        border-color: #222222 transparent transparent transparent !important;\\r\\n    }\\r\\n\\r\\n    \\r\\n    .td-header-bg:before {\\r\\n        background-size: auto;\\r\\n    }\\r\\n\\r\\n    \\r\\n    .td-footer-wrapper,\\r\\n    .td-footer-wrapper .td_block_template_7 .td-block-title > *,\\r\\n    .td-footer-wrapper .td_block_template_17 .td-block-title,\\r\\n    .td-footer-wrapper .td-block-title-wrap .td-wrapper-pulldown-filter {\\r\\n        background-color: #111111;\\r\\n    }\\r\\n\\r\\n    \\r\\n    .td-footer-wrapper::before {\\r\\n        background-image: url(\\'https://insights.blackcoffer.com/wp-content/uploads/2022/08/8.jpg\\');\\r\\n    }\\r\\n\\r\\n    \\r\\n    .td-footer-wrapper::before {\\r\\n        background-size: cover;\\r\\n    }\\r\\n\\r\\n    \\r\\n    .td-footer-wrapper::before {\\r\\n        background-position: center center;\\r\\n    }\\r\\n\\r\\n    \\r\\n    .td-footer-wrapper::before {\\r\\n        opacity: 0.1;\\r\\n    }\\r\\n\\r\\n\\r\\n\\r\\n    \\r\\n    .td-menu-background,\\r\\n    .td-search-background {\\r\\n        background-image: url(\\'https://insights.blackcoffer.com/wp-content/uploads/2022/08/8.jpg\\');\\r\\n    }\\r\\n\\r\\n    \\r\\n    .white-popup-block:before {\\r\\n        background-image: url(\\'https://insights.blackcoffer.com/wp-content/uploads/2022/08/8.jpg\\');\\r\\n    }\\n</style>\\n\\n<link rel=\"icon\" href=\"https://insights.blackcoffer.com/wp-content/uploads/2018/06/Black-432x466-v02-150x150.png\" sizes=\"32x32\" />\\n<link rel=\"icon\" href=\"https://insights.blackcoffer.com/wp-content/uploads/2018/06/Black-432x466-v02.png\" sizes=\"192x192\" />\\n<link rel=\"apple-touch-icon\" href=\"https://insights.blackcoffer.com/wp-content/uploads/2018/06/Black-432x466-v02.png\" />\\n<meta name=\"msapplication-TileImage\" content=\"https://insights.blackcoffer.com/wp-content/uploads/2018/06/Black-432x466-v02.png\" />\\n\\n<!-- Button style compiled by theme -->\\n\\n<style>\\n    \\n</style>\\n\\n\\t<style id=\"tdw-css-placeholder\">.td-big-grid-wrapper .entry-thumb {\\r\\n  width: 100% !important;\\r\\n  height: 100% !important;\\r\\n  object-fit: cover !important;\\r\\n}\\r\\n</style></head>\\r\\n\\r\\n<body class=\"post-template-default single single-post postid-3839 single-format-standard how-telehealth-and-telemedicine-helping-people-to-fight-against-covid-19-2 global-block-template-1 single_template_7 td-full-layout\" itemscope=\"itemscope\" itemtype=\"https://schema.org/WebPage\">\\r\\n\\r\\n        <div class=\"td-scroll-up\"><i class=\"td-icon-menu-up\"></i></div>\\r\\n    \\r\\n    <div class=\"td-menu-background\"></div>\\r\\n<div id=\"td-mobile-nav\">\\r\\n    <div class=\"td-mobile-container\">\\r\\n        <!-- mobile menu top section -->\\r\\n        <div class=\"td-menu-socials-wrap\">\\r\\n            <!-- socials -->\\r\\n            <div class=\"td-menu-socials\">\\r\\n                \\r\\n        <span class=\"td-social-icon-wrap\">\\r\\n            <a target=\"_blank\" href=\"https://www.facebook.com/blackcoffer.consulting\" title=\"Facebook\">\\r\\n                <i class=\"td-icon-font td-icon-facebook\"></i>\\r\\n            </a>\\r\\n        </span>\\r\\n        <span class=\"td-social-icon-wrap\">\\r\\n            <a target=\"_blank\" href=\"https://www.linkedin.com/company/blackcoffer/mycompany/\" title=\"Linkedin\">\\r\\n                <i class=\"td-icon-font td-icon-linkedin\"></i>\\r\\n            </a>\\r\\n        </span>\\r\\n        <span class=\"td-social-icon-wrap\">\\r\\n            <a target=\"_blank\" href=\"https://twitter.com/Blackcoffer1\" title=\"Twitter\">\\r\\n                <i class=\"td-icon-font td-icon-twitter\"></i>\\r\\n            </a>\\r\\n        </span>\\r\\n        <span class=\"td-social-icon-wrap\">\\r\\n            <a target=\"_blank\" href=\"https://www.youtube.com/channel/UCfr95TYacXeHI3cklmYdtXg\" title=\"Youtube\">\\r\\n                <i class=\"td-icon-font td-icon-youtube\"></i>\\r\\n            </a>\\r\\n        </span>            </div>\\r\\n            <!-- close button -->\\r\\n            <div class=\"td-mobile-close\">\\r\\n                <a href=\"#\"><i class=\"td-icon-close-mobile\"></i></a>\\r\\n            </div>\\r\\n        </div>\\r\\n\\r\\n        <!-- login section -->\\r\\n        \\r\\n        <!-- menu section -->\\r\\n        <div class=\"td-mobile-content\">\\r\\n            <div class=\"menu-main-2-container\"><ul id=\"menu-main-2\" class=\"td-mobile-main-menu\"><li id=\"menu-item-4058\" class=\"menu-item menu-item-type-taxonomy menu-item-object-category menu-item-first menu-item-has-children menu-item-4058\"><a href=\"https://insights.blackcoffer.com/category/our-success-stories/\">Our Success Stories<i class=\"td-icon-menu-right td-element-after\"></i></a>\\n<ul class=\"sub-menu\">\\n\\t<li id=\"menu-item-0\" class=\"menu-item-0\"><a href=\"https://insights.blackcoffer.com/category/our-success-stories/banking-securities-and-insurance/\">Banking, Financials, Securities, and Insurance</a></li>\\n\\t<li class=\"menu-item-0\"><a href=\"https://insights.blackcoffer.com/category/our-success-stories/energy-our-success-stories/\">Energy</a></li>\\n\\t<li class=\"menu-item-0\"><a href=\"https://insights.blackcoffer.com/category/our-success-stories/entertainment-our-success-stories/\">Entertainment</a></li>\\n\\t<li class=\"menu-item-0\"><a href=\"https://insights.blackcoffer.com/category/our-success-stories/fast-moving-consumer-goods/\">Fast Moving Consumer Goods</a></li>\\n\\t<li class=\"menu-item-0\"><a href=\"https://insights.blackcoffer.com/category/our-success-stories/government-think-tanks/\">Government &amp; Think Tanks</a></li>\\n\\t<li class=\"menu-item-0\"><a href=\"https://insights.blackcoffer.com/category/our-success-stories/healthcare-our-success-stories/\">Healthcare</a></li>\\n\\t<li class=\"menu-item-0\"><a href=\"https://insights.blackcoffer.com/category/our-success-stories/infrastructure-real-estate/\">Infrastructure &amp; Real Estate</a></li>\\n\\t<li class=\"menu-item-0\"><a href=\"https://insights.blackcoffer.com/category/our-success-stories/it/\">IT</a></li>\\n\\t<li class=\"menu-item-0\"><a href=\"https://insights.blackcoffer.com/category/our-success-stories/lifestyle-ecommerce-market-place/\">Lifestyle, eCommerce &amp; Online Market Place</a></li>\\n\\t<li class=\"menu-item-0\"><a href=\"https://insights.blackcoffer.com/category/our-success-stories/production-manufacturing/\">Production &amp; Manufacturing</a></li>\\n\\t<li class=\"menu-item-0\"><a href=\"https://insights.blackcoffer.com/category/our-success-stories/research-academia/\">Research &amp; Academia</a></li>\\n\\t<li class=\"menu-item-0\"><a href=\"https://insights.blackcoffer.com/category/our-success-stories/retail-supply-chain/\">Retail &amp; Supply Chain</a></li>\\n\\t<li class=\"menu-item-0\"><a href=\"https://insights.blackcoffer.com/category/our-success-stories/telecom/\">Telecom</a></li>\\n</ul>\\n</li>\\n<li id=\"menu-item-4059\" class=\"menu-item menu-item-type-taxonomy menu-item-object-category menu-item-has-children menu-item-4059\"><a href=\"https://insights.blackcoffer.com/category/our-solutions/\">What We Do<i class=\"td-icon-menu-right td-element-after\"></i></a>\\n<ul class=\"sub-menu\">\\n\\t<li class=\"menu-item-0\"><a href=\"https://insights.blackcoffer.com/category/our-solutions/banking-financials-securities-and-insurance-solutions/\">Banking, Financials, Securities, and Insurance</a></li>\\n\\t<li class=\"menu-item-0\"><a href=\"https://insights.blackcoffer.com/category/our-solutions/energy-our-solutions/\">Energy</a></li>\\n\\t<li class=\"menu-item-0\"><a href=\"https://insights.blackcoffer.com/category/our-solutions/entertainment-our-solutions/\">Entertainment</a></li>\\n\\t<li class=\"menu-item-0\"><a href=\"https://insights.blackcoffer.com/category/our-solutions/fast-moving-consumer-goods-our-solutions/\">Fast Moving Consumer Goods</a></li>\\n\\t<li class=\"menu-item-0\"><a href=\"https://insights.blackcoffer.com/category/our-solutions/government-think-tanks-our-solutions/\">Government &amp; Think Tanks</a></li>\\n\\t<li class=\"menu-item-0\"><a href=\"https://insights.blackcoffer.com/category/our-solutions/healthcare-our-solutions/\">Healthcare</a></li>\\n\\t<li class=\"menu-item-0\"><a href=\"https://insights.blackcoffer.com/category/our-solutions/hospitality/\">Hospitality</a></li>\\n\\t<li class=\"menu-item-0\"><a href=\"https://insights.blackcoffer.com/category/our-solutions/infrastructure-real-estate-our-solutions/\">Infrastructure &amp; Real Estate</a></li>\\n\\t<li class=\"menu-item-0\"><a href=\"https://insights.blackcoffer.com/category/our-solutions/it-services/\">IT Services</a></li>\\n\\t<li class=\"menu-item-0\"><a href=\"https://insights.blackcoffer.com/category/our-solutions/lifestyle-ecommerce-market-place-solutions/\">Lifestyle, eCommerce &amp; Online Market Place</a></li>\\n\\t<li class=\"menu-item-0\"><a href=\"https://insights.blackcoffer.com/category/our-solutions/news-media/\">News &amp; Media</a></li>\\n\\t<li class=\"menu-item-0\"><a href=\"https://insights.blackcoffer.com/category/our-solutions/production-manufacturing-our-solutions/\">Production &amp; Manufacturing</a></li>\\n\\t<li class=\"menu-item-0\"><a href=\"https://insights.blackcoffer.com/category/our-solutions/research-academia-our-solutions/\">Research &amp; Academia</a></li>\\n\\t<li class=\"menu-item-0\"><a href=\"https://insights.blackcoffer.com/category/our-solutions/retail-supply-chain-our-solutions/\">Retail &amp; Supply Chain</a></li>\\n</ul>\\n</li>\\n<li id=\"menu-item-4060\" class=\"menu-item menu-item-type-taxonomy menu-item-object-category current-post-ancestor current-menu-parent current-post-parent menu-item-has-children menu-item-4060\"><a href=\"https://insights.blackcoffer.com/category/what-we-think/\">What We Think<i class=\"td-icon-menu-right td-element-after\"></i></a>\\n<ul class=\"sub-menu\">\\n\\t<li class=\"menu-item-0\"><a href=\"https://insights.blackcoffer.com/category/what-we-think/automobiles-components/\">Automobiles &amp; Components</a></li>\\n\\t<li class=\"menu-item-0\"><a href=\"https://insights.blackcoffer.com/category/what-we-think/financials/\">BFSI</a></li>\\n\\t<li class=\"menu-item-0\"><a href=\"https://insights.blackcoffer.com/category/what-we-think/financials/asset-and-portfolio/\">Asset and Portfolio</a></li>\\n\\t<li class=\"menu-item-0\"><a href=\"https://insights.blackcoffer.com/category/what-we-think/financials/banks/\">Banks</a></li>\\n\\t<li class=\"menu-item-0\"><a href=\"https://insights.blackcoffer.com/category/what-we-think/financials/capital-markets/\">Capital Markets</a></li>\\n\\t<li class=\"menu-item-0\"><a href=\"https://insights.blackcoffer.com/category/what-we-think/financials/derivatives-and-securities/\">Derivatives and Securities</a></li>\\n\\t<li class=\"menu-item-0\"><a href=\"https://insights.blackcoffer.com/category/what-we-think/financials/diversified-financials/\">Diversified Financials</a></li>\\n\\t<li class=\"menu-item-0\"><a href=\"https://insights.blackcoffer.com/category/what-we-think/financials/finance-and-accounting/\">Finance &amp; Accounting</a></li>\\n\\t<li class=\"menu-item-0\"><a href=\"https://insights.blackcoffer.com/category/what-we-think/financials/insurance/\">Insurance</a></li>\\n\\t<li class=\"menu-item-0\"><a href=\"https://insights.blackcoffer.com/category/what-we-think/financials/securities-and-capital-markets/\">Securities and Capital Markets</a></li>\\n\\t<li class=\"menu-item-0\"><a href=\"https://insights.blackcoffer.com/category/what-we-think/capital-goods/\">Capital Goods</a></li>\\n\\t<li class=\"menu-item-0\"><a href=\"https://insights.blackcoffer.com/category/what-we-think/commercial-professional-services/\">Commercial &amp; Professional Services</a></li>\\n\\t<li class=\"menu-item-0\"><a href=\"https://insights.blackcoffer.com/category/what-we-think/consumer-discretionary/\">Consumer Discretionary</a></li>\\n\\t<li class=\"menu-item-0\"><a href=\"https://insights.blackcoffer.com/category/what-we-think/consumer-durables-apparel/\">Consumer Durables &amp; Apparel</a></li>\\n\\t<li class=\"menu-item-0\"><a href=\"https://insights.blackcoffer.com/category/what-we-think/consumer-services/\">Consumer Services</a></li>\\n\\t<li class=\"menu-item-0\"><a href=\"https://insights.blackcoffer.com/category/what-we-think/consumer-staples/\">Consumer Staples</a></li>\\n\\t<li class=\"menu-item-0\"><a href=\"https://insights.blackcoffer.com/category/what-we-think/consumer-staples/food-staples-retailing/\">Food &amp; Staples Retailing</a></li>\\n\\t<li class=\"menu-item-0\"><a href=\"https://insights.blackcoffer.com/category/what-we-think/consumer-staples/food-beverage-tobacco/\">Food, Beverage &amp; Tobacco</a></li>\\n\\t<li class=\"menu-item-0\"><a href=\"https://insights.blackcoffer.com/category/what-we-think/consumer-staples/household-personal-products/\">Household &amp; Personal Products</a></li>\\n\\t<li class=\"menu-item-0\"><a href=\"https://insights.blackcoffer.com/category/what-we-think/data-science/\">Data Science</a></li>\\n\\t<li class=\"menu-item-0\"><a href=\"https://insights.blackcoffer.com/category/what-we-think/data-science/analytics/\">Analytics</a></li>\\n\\t<li class=\"menu-item-0\"><a href=\"https://insights.blackcoffer.com/category/what-we-think/data-science/artificial-intelligence/\">Artificial Intelligence</a></li>\\n\\t<li class=\"menu-item-0\"><a href=\"https://insights.blackcoffer.com/category/what-we-think/data-science/big-data/\">Big Data</a></li>\\n\\t<li class=\"menu-item-0\"><a href=\"https://insights.blackcoffer.com/category/what-we-think/data-science/business-analytics/\">Business Analytics</a></li>\\n\\t<li class=\"menu-item-0\"><a href=\"https://insights.blackcoffer.com/category/what-we-think/data-science/data-visualization/\">Data Visualization</a></li>\\n\\t<li class=\"menu-item-0\"><a href=\"https://insights.blackcoffer.com/category/what-we-think/data-science/internet-of-things/\">Internet of Things</a></li>\\n\\t<li class=\"menu-item-0\"><a href=\"https://insights.blackcoffer.com/category/what-we-think/data-science/machine-learning/\">Machine Learning</a></li>\\n\\t<li class=\"menu-item-0\"><a href=\"https://insights.blackcoffer.com/category/what-we-think/data-science/statistics/\">Statistics</a></li>\\n\\t<li class=\"menu-item-0\"><a href=\"https://insights.blackcoffer.com/category/what-we-think/energy/\">Energy</a></li>\\n\\t<li class=\"menu-item-0\"><a href=\"https://insights.blackcoffer.com/category/what-we-think/energy/dataoil/\">DataOil</a></li>\\n</ul>\\n</li>\\n<li id=\"menu-item-4061\" class=\"menu-item menu-item-type-taxonomy menu-item-object-category menu-item-has-children menu-item-4061\"><a href=\"https://insights.blackcoffer.com/category/how-to/\">How To<i class=\"td-icon-menu-right td-element-after\"></i></a>\\n<ul class=\"sub-menu\">\\n\\t<li class=\"menu-item-0\"><a href=\"https://insights.blackcoffer.com/category/how-to/analytics-how-to/\">Analytics</a></li>\\n\\t<li class=\"menu-item-0\"><a href=\"https://insights.blackcoffer.com/category/how-to/application-development-how-to/\">Application Development</a></li>\\n\\t<li class=\"menu-item-0\"><a href=\"https://insights.blackcoffer.com/category/how-to/artificial-intelligence-how-to/\">Artificial Intelligence</a></li>\\n\\t<li class=\"menu-item-0\"><a href=\"https://insights.blackcoffer.com/category/how-to/business-analytics-how-to/\">Business Analytics</a></li>\\n\\t<li class=\"menu-item-0\"><a href=\"https://insights.blackcoffer.com/category/how-to/example/\">Example</a></li>\\n\\t<li class=\"menu-item-0\"><a href=\"https://insights.blackcoffer.com/category/how-to/optimization/\">Optimization</a></li>\\n\\t<li class=\"menu-item-0\"><a href=\"https://insights.blackcoffer.com/category/how-to/projects/\">Projects</a></li>\\n\\t<li class=\"menu-item-0\"><a href=\"https://insights.blackcoffer.com/category/how-to/software-development/\">Software Development</a></li>\\n\\t<li class=\"menu-item-0\"><a href=\"https://insights.blackcoffer.com/category/how-to/source-code-audit/\">Source Code Audit</a></li>\\n\\t<li class=\"menu-item-0\"><a href=\"https://insights.blackcoffer.com/category/how-to/statistics-how-to/\">Statistics</a></li>\\n\\t<li class=\"menu-item-0\"><a href=\"https://insights.blackcoffer.com/category/how-to/web-mobile-app-development/\">Web &amp; Mobile App Development</a></li>\\n</ul>\\n</li>\\n<li id=\"menu-item-4062\" class=\"menu-item menu-item-type-custom menu-item-object-custom menu-item-4062\"><a href=\"#\">Schedule Demo</a></li>\\n<li id=\"menu-item-4063\" class=\"menu-item menu-item-type-post_type menu-item-object-page menu-item-4063\"><a href=\"https://insights.blackcoffer.com/contact/\">Contact</a></li>\\n</ul></div>        </div>\\r\\n    </div>\\r\\n\\r\\n    <!-- register/login section -->\\r\\n    </div>    <div class=\"td-search-background\"></div>\\r\\n<div class=\"td-search-wrap-mob\">\\r\\n\\t<div class=\"td-drop-down-search\" aria-labelledby=\"td-header-search-button\">\\r\\n\\t\\t<form method=\"get\" class=\"td-search-form\" action=\"https://insights.blackcoffer.com/\">\\r\\n\\t\\t\\t<!-- close button -->\\r\\n\\t\\t\\t<div class=\"td-search-close\">\\r\\n\\t\\t\\t\\t<a href=\"#\"><i class=\"td-icon-close-mobile\"></i></a>\\r\\n\\t\\t\\t</div>\\r\\n\\t\\t\\t<div role=\"search\" class=\"td-search-input\">\\r\\n\\t\\t\\t\\t<span>Search</span>\\r\\n\\t\\t\\t\\t<input id=\"td-header-search-mob\" type=\"text\" value=\"\" name=\"s\" autocomplete=\"off\" />\\r\\n\\t\\t\\t</div>\\r\\n\\t\\t</form>\\r\\n\\t\\t<div id=\"td-aj-search-mob\"></div>\\r\\n\\t</div>\\r\\n</div>\\r\\n\\r\\n    <div id=\"td-outer-wrap\" class=\"td-theme-wrap\">\\r\\n    \\r\\n        \\r\\n            <div class=\"tdc-header-wrap \">\\r\\n\\r\\n            <!--\\r\\nHeader style 1\\r\\n-->\\r\\n\\r\\n\\r\\n<div class=\"td-header-wrap td-header-style-1 \">\\r\\n    \\r\\n    <div class=\"td-header-top-menu-full td-container-wrap \">\\r\\n        <div class=\"td-container td-header-row td-header-top-menu\">\\r\\n            \\r\\n    <div class=\"top-bar-style-1\">\\r\\n        \\r\\n<div class=\"td-header-sp-top-menu\">\\r\\n\\r\\n\\r\\n\\t        <div class=\"td_data_time\">\\r\\n            <div >\\r\\n\\r\\n                Sunday, February 12, 2023\\r\\n            </div>\\r\\n        </div>\\r\\n    </div>\\r\\n        <div class=\"td-header-sp-top-widget\">\\r\\n    \\r\\n    \\r\\n        \\r\\n        <span class=\"td-social-icon-wrap\">\\r\\n            <a target=\"_blank\" href=\"https://www.facebook.com/blackcoffer.consulting\" title=\"Facebook\">\\r\\n                <i class=\"td-icon-font td-icon-facebook\"></i>\\r\\n            </a>\\r\\n        </span>\\r\\n        <span class=\"td-social-icon-wrap\">\\r\\n            <a target=\"_blank\" href=\"https://www.linkedin.com/company/blackcoffer/mycompany/\" title=\"Linkedin\">\\r\\n                <i class=\"td-icon-font td-icon-linkedin\"></i>\\r\\n            </a>\\r\\n        </span>\\r\\n        <span class=\"td-social-icon-wrap\">\\r\\n            <a target=\"_blank\" href=\"https://twitter.com/Blackcoffer1\" title=\"Twitter\">\\r\\n                <i class=\"td-icon-font td-icon-twitter\"></i>\\r\\n            </a>\\r\\n        </span>\\r\\n        <span class=\"td-social-icon-wrap\">\\r\\n            <a target=\"_blank\" href=\"https://www.youtube.com/channel/UCfr95TYacXeHI3cklmYdtXg\" title=\"Youtube\">\\r\\n                <i class=\"td-icon-font td-icon-youtube\"></i>\\r\\n            </a>\\r\\n        </span>    </div>    </div>\\r\\n\\r\\n<!-- LOGIN MODAL -->\\r\\n        </div>\\r\\n    </div>\\r\\n\\r\\n    <div class=\"td-banner-wrap-full td-logo-wrap-full td-container-wrap \">\\r\\n        <div class=\"td-container td-header-row td-header-header\">\\r\\n            <div class=\"td-header-sp-logo\">\\r\\n                            <a class=\"td-main-logo\" href=\"https://insights.blackcoffer.com/\">\\r\\n                <img src=\"https://insights.blackcoffer.com/wp-content/uploads/2018/12/Insights-blackv02.png\" alt=\"\"/>\\r\\n                <span class=\"td-visual-hidden\">Blackcoffer Insights</span>\\r\\n            </a>\\r\\n                    </div>\\r\\n                            <div class=\"td-header-sp-recs\">\\r\\n                    <div class=\"td-header-rec-wrap\">\\r\\n    <div class=\"td-a-rec td-a-rec-id-header  td-rec-hide-on-p td_uid_1_63e882a03bc24_rand td_block_template_1\">\\n<style>\\n/* custom css */\\n.td_uid_1_63e882a03bc24_rand.td-a-rec-img {\\r\\n\\t\\t\\t\\t    text-align: left;\\r\\n\\t\\t\\t\\t}\\r\\n\\t\\t\\t\\t.td_uid_1_63e882a03bc24_rand.td-a-rec-img img {\\r\\n                    margin: 0 auto 0 0;\\r\\n                }\\n</style><div class=\"td-all-devices\"><a href=\"#\" target=\"_blank\"><img src=\"https://insights.blackcoffer.com/wp-content/uploads/2018/12/1.png\"  style=\"transition: all 0.3s ease 0s; transform: scale(1);\" onmouseover=\"this.style.transform=`scale(0.9)`\" onmouseout=\"this.style.transform=`scale(1)`\"/></a></div></div>\\r\\n</div>                </div>\\r\\n                    </div>\\r\\n    </div>\\r\\n\\r\\n    <div class=\"td-header-menu-wrap-full td-container-wrap \">\\r\\n        \\r\\n        <div class=\"td-header-menu-wrap td-header-gradient \">\\r\\n            <div class=\"td-container td-header-row td-header-main-menu\">\\r\\n                <div id=\"td-header-menu\" role=\"navigation\">\\r\\n    <div id=\"td-top-mobile-toggle\"><a href=\"#\"><i class=\"td-icon-font td-icon-mobile\"></i></a></div>\\r\\n    <div class=\"td-main-menu-logo td-logo-in-header\">\\r\\n        \\t\\t<a class=\"td-mobile-logo td-sticky-header\" href=\"https://insights.blackcoffer.com/\">\\r\\n\\t\\t\\t<img src=\"https://insights.blackcoffer.com/wp-content/uploads/2018/12/Insights-blackv02-300x60.png\" alt=\"\"/>\\r\\n\\t\\t</a>\\r\\n\\t\\t\\t<a class=\"td-header-logo td-sticky-header\" href=\"https://insights.blackcoffer.com/\">\\r\\n\\t\\t\\t<img src=\"https://insights.blackcoffer.com/wp-content/uploads/2018/12/Insights-blackv02.png\" alt=\"\"/>\\r\\n\\t\\t</a>\\r\\n\\t    </div>\\r\\n    <div class=\"menu-main-2-container\"><ul id=\"menu-main-3\" class=\"sf-menu\"><li class=\"menu-item menu-item-type-taxonomy menu-item-object-category menu-item-first td-menu-item td-mega-menu menu-item-4058\"><a href=\"https://insights.blackcoffer.com/category/our-success-stories/\">Our Success Stories</a>\\n<ul class=\"sub-menu\">\\n\\t<li class=\"menu-item-0\"><div class=\"td-container-border\"><div class=\"td-mega-grid\"><div class=\"td_block_wrap td_block_mega_menu td_uid_2_63e882a03d4b5_rand td_with_ajax_pagination td-pb-border-top td_block_template_1\"  data-td-block-uid=\"td_uid_2_63e882a03d4b5\" ><script>var block_td_uid_2_63e882a03d4b5 = new tdBlock();\\nblock_td_uid_2_63e882a03d4b5.id = \"td_uid_2_63e882a03d4b5\";\\nblock_td_uid_2_63e882a03d4b5.atts = \\'{\"limit\":4,\"td_column_number\":3,\"ajax_pagination\":\"next_prev\",\"category_id\":\"268\",\"show_child_cat\":30,\"td_ajax_filter_type\":\"td_category_ids_filter\",\"td_ajax_preloading\":\"\",\"block_template_id\":\"\",\"header_color\":\"\",\"ajax_pagination_infinite_stop\":\"\",\"offset\":\"\",\"td_filter_default_txt\":\"\",\"td_ajax_filter_ids\":\"\",\"el_class\":\"\",\"color_preset\":\"\",\"border_top\":\"\",\"css\":\"\",\"tdc_css\":\"\",\"class\":\"td_uid_2_63e882a03d4b5_rand\",\"tdc_css_class\":\"td_uid_2_63e882a03d4b5_rand\",\"tdc_css_class_style\":\"td_uid_2_63e882a03d4b5_rand_style\"}\\';\\nblock_td_uid_2_63e882a03d4b5.td_column_number = \"3\";\\nblock_td_uid_2_63e882a03d4b5.block_type = \"td_block_mega_menu\";\\nblock_td_uid_2_63e882a03d4b5.post_count = \"4\";\\nblock_td_uid_2_63e882a03d4b5.found_posts = \"132\";\\nblock_td_uid_2_63e882a03d4b5.header_color = \"\";\\nblock_td_uid_2_63e882a03d4b5.ajax_pagination_infinite_stop = \"\";\\nblock_td_uid_2_63e882a03d4b5.max_num_pages = \"33\";\\ntdBlocksArray.push(block_td_uid_2_63e882a03d4b5);\\n</script><div class=\"td_mega_menu_sub_cats\"><div class=\"block-mega-child-cats\"><a class=\"cur-sub-cat mega-menu-sub-cat-td_uid_2_63e882a03d4b5\" id=\"td_uid_3_63e882a041003\" data-td_block_id=\"td_uid_2_63e882a03d4b5\" data-td_filter_value=\"\" href=\"https://insights.blackcoffer.com/category/our-success-stories/\">All</a><a class=\"mega-menu-sub-cat-td_uid_2_63e882a03d4b5\"  id=\"td_uid_4_63e882a041044\" data-td_block_id=\"td_uid_2_63e882a03d4b5\" data-td_filter_value=\"274\" href=\"https://insights.blackcoffer.com/category/our-success-stories/banking-securities-and-insurance/\">Banking, Financials, Securities, and Insurance</a><a class=\"mega-menu-sub-cat-td_uid_2_63e882a03d4b5\"  id=\"td_uid_5_63e882a041081\" data-td_block_id=\"td_uid_2_63e882a03d4b5\" data-td_filter_value=\"273\" href=\"https://insights.blackcoffer.com/category/our-success-stories/energy-our-success-stories/\">Energy</a><a class=\"mega-menu-sub-cat-td_uid_2_63e882a03d4b5\"  id=\"td_uid_6_63e882a0410a8\" data-td_block_id=\"td_uid_2_63e882a03d4b5\" data-td_filter_value=\"279\" href=\"https://insights.blackcoffer.com/category/our-success-stories/entertainment-our-success-stories/\">Entertainment</a><a class=\"mega-menu-sub-cat-td_uid_2_63e882a03d4b5\"  id=\"td_uid_7_63e882a0410cb\" data-td_block_id=\"td_uid_2_63e882a03d4b5\" data-td_filter_value=\"275\" href=\"https://insights.blackcoffer.com/category/our-success-stories/fast-moving-consumer-goods/\">Fast Moving Consumer Goods</a><a class=\"mega-menu-sub-cat-td_uid_2_63e882a03d4b5\"  id=\"td_uid_8_63e882a0410ef\" data-td_block_id=\"td_uid_2_63e882a03d4b5\" data-td_filter_value=\"277\" href=\"https://insights.blackcoffer.com/category/our-success-stories/government-think-tanks/\">Government &amp; Think Tanks</a><a class=\"mega-menu-sub-cat-td_uid_2_63e882a03d4b5\"  id=\"td_uid_9_63e882a041112\" data-td_block_id=\"td_uid_2_63e882a03d4b5\" data-td_filter_value=\"272\" href=\"https://insights.blackcoffer.com/category/our-success-stories/healthcare-our-success-stories/\">Healthcare</a><a class=\"mega-menu-sub-cat-td_uid_2_63e882a03d4b5\"  id=\"td_uid_10_63e882a041135\" data-td_block_id=\"td_uid_2_63e882a03d4b5\" data-td_filter_value=\"281\" href=\"https://insights.blackcoffer.com/category/our-success-stories/infrastructure-real-estate/\">Infrastructure &amp; Real Estate</a><a class=\"mega-menu-sub-cat-td_uid_2_63e882a03d4b5\"  id=\"td_uid_11_63e882a04116b\" data-td_block_id=\"td_uid_2_63e882a03d4b5\" data-td_filter_value=\"1264\" href=\"https://insights.blackcoffer.com/category/our-success-stories/it/\">IT</a><a class=\"mega-menu-sub-cat-td_uid_2_63e882a03d4b5\"  id=\"td_uid_12_63e882a04118e\" data-td_block_id=\"td_uid_2_63e882a03d4b5\" data-td_filter_value=\"280\" href=\"https://insights.blackcoffer.com/category/our-success-stories/lifestyle-ecommerce-market-place/\">Lifestyle, eCommerce &amp; Online Market Place</a><a class=\"mega-menu-sub-cat-td_uid_2_63e882a03d4b5\"  id=\"td_uid_13_63e882a0411b1\" data-td_block_id=\"td_uid_2_63e882a03d4b5\" data-td_filter_value=\"278\" href=\"https://insights.blackcoffer.com/category/our-success-stories/production-manufacturing/\">Production &amp; Manufacturing</a><a class=\"mega-menu-sub-cat-td_uid_2_63e882a03d4b5\"  id=\"td_uid_14_63e882a0411d3\" data-td_block_id=\"td_uid_2_63e882a03d4b5\" data-td_filter_value=\"276\" href=\"https://insights.blackcoffer.com/category/our-success-stories/research-academia/\">Research &amp; Academia</a><a class=\"mega-menu-sub-cat-td_uid_2_63e882a03d4b5\"  id=\"td_uid_15_63e882a0411f6\" data-td_block_id=\"td_uid_2_63e882a03d4b5\" data-td_filter_value=\"282\" href=\"https://insights.blackcoffer.com/category/our-success-stories/retail-supply-chain/\">Retail &amp; Supply Chain</a><a class=\"mega-menu-sub-cat-td_uid_2_63e882a03d4b5\"  id=\"td_uid_16_63e882a041219\" data-td_block_id=\"td_uid_2_63e882a03d4b5\" data-td_filter_value=\"331\" href=\"https://insights.blackcoffer.com/category/our-success-stories/telecom/\">Telecom</a></div></div><div id=td_uid_2_63e882a03d4b5 class=\"td_block_inner\"><div class=\"td-mega-row\"><div class=\"td-mega-span\">\\r\\n        <div class=\"td_module_mega_menu td-animation-stack td_mod_mega_menu\">\\r\\n            <div class=\"td-module-image\">\\r\\n                <div class=\"td-module-thumb\"><a href=\"https://insights.blackcoffer.com/ranking-customer-behaviours-for-business-strategy/\" rel=\"bookmark\" class=\"td-image-wrap\" title=\"Ranking customer behaviours for business strategy\"><img width=\"218\" height=\"150\" class=\"entry-thumb\" src=\"https://insights.blackcoffer.com/wp-content/uploads/2022/12/chooseus-1-1-218x150.jpg\"  srcset=\"https://insights.blackcoffer.com/wp-content/uploads/2022/12/chooseus-1-1-218x150.jpg 218w, https://insights.blackcoffer.com/wp-content/uploads/2022/12/chooseus-1-1-100x70.jpg 100w\" sizes=\"(max-width: 218px) 100vw, 218px\"  alt=\"\" title=\"Ranking customer behaviours for business strategy\" /></a></div>                <a href=\"https://insights.blackcoffer.com/category/our-success-stories/\" class=\"td-post-category\">Our Success Stories</a>            </div>\\r\\n\\r\\n            <div class=\"item-details\">\\r\\n                <h3 class=\"entry-title td-module-title\"><a href=\"https://insights.blackcoffer.com/ranking-customer-behaviours-for-business-strategy/\" rel=\"bookmark\" title=\"Ranking customer behaviours for business strategy\">Ranking customer behaviours for business strategy</a></h3>            </div>\\r\\n        </div>\\r\\n        </div><div class=\"td-mega-span\">\\r\\n        <div class=\"td_module_mega_menu td-animation-stack td_mod_mega_menu\">\\r\\n            <div class=\"td-module-image\">\\r\\n                <div class=\"td-module-thumb\"><a href=\"https://insights.blackcoffer.com/algorithmic-trading-for-multiple-commodities-markets-like-forex-metals-energy-etc/\" rel=\"bookmark\" class=\"td-image-wrap\" title=\"Algorithmic trading for multiple commodities markets, like Forex, Metals, Energy, etc.\"><img width=\"218\" height=\"150\" class=\"entry-thumb\" src=\"https://insights.blackcoffer.com/wp-content/uploads/2022/12/h4-img-01-218x150.jpg\"  srcset=\"https://insights.blackcoffer.com/wp-content/uploads/2022/12/h4-img-01-218x150.jpg 218w, https://insights.blackcoffer.com/wp-content/uploads/2022/12/h4-img-01-100x70.jpg 100w\" sizes=\"(max-width: 218px) 100vw, 218px\"  alt=\"\" title=\"Algorithmic trading for multiple commodities markets, like Forex, Metals, Energy, etc.\" /></a></div>                <a href=\"https://insights.blackcoffer.com/category/our-success-stories/\" class=\"td-post-category\">Our Success Stories</a>            </div>\\r\\n\\r\\n            <div class=\"item-details\">\\r\\n                <h3 class=\"entry-title td-module-title\"><a href=\"https://insights.blackcoffer.com/algorithmic-trading-for-multiple-commodities-markets-like-forex-metals-energy-etc/\" rel=\"bookmark\" title=\"Algorithmic trading for multiple commodities markets, like Forex, Metals, Energy, etc.\">Algorithmic trading for multiple commodities markets, like Forex, Metals, Energy, etc.</a></h3>            </div>\\r\\n        </div>\\r\\n        </div><div class=\"td-mega-span\">\\r\\n        <div class=\"td_module_mega_menu td-animation-stack td_mod_mega_menu\">\\r\\n            <div class=\"td-module-image\">\\r\\n                <div class=\"td-module-thumb\"><a href=\"https://insights.blackcoffer.com/trading-bot-for-forex/\" rel=\"bookmark\" class=\"td-image-wrap\" title=\"Trading Bot for FOREX\"><img width=\"218\" height=\"150\" class=\"entry-thumb\" src=\"https://insights.blackcoffer.com/wp-content/uploads/2022/12/32-218x150.jpg\"  srcset=\"https://insights.blackcoffer.com/wp-content/uploads/2022/12/32-218x150.jpg 218w, https://insights.blackcoffer.com/wp-content/uploads/2022/12/32-100x70.jpg 100w\" sizes=\"(max-width: 218px) 100vw, 218px\"  alt=\"\" title=\"Trading Bot for FOREX\" /></a></div>                <a href=\"https://insights.blackcoffer.com/category/our-success-stories/\" class=\"td-post-category\">Our Success Stories</a>            </div>\\r\\n\\r\\n            <div class=\"item-details\">\\r\\n                <h3 class=\"entry-title td-module-title\"><a href=\"https://insights.blackcoffer.com/trading-bot-for-forex/\" rel=\"bookmark\" title=\"Trading Bot for FOREX\">Trading Bot for FOREX</a></h3>            </div>\\r\\n        </div>\\r\\n        </div><div class=\"td-mega-span\">\\r\\n        <div class=\"td_module_mega_menu td-animation-stack td_mod_mega_menu\">\\r\\n            <div class=\"td-module-image\">\\r\\n                <div class=\"td-module-thumb\"><a href=\"https://insights.blackcoffer.com/python-model-for-the-analysis-of-sector-specific-stock-etfs-for-investment-purposes%ef%bf%bc/\" rel=\"bookmark\" class=\"td-image-wrap\" title=\"Python model for the analysis of sector-specific stock ETFs for investment purposes\"><img width=\"218\" height=\"150\" class=\"entry-thumb\" src=\"https://insights.blackcoffer.com/wp-content/uploads/2022/12/main-218x150.jpg\"  srcset=\"https://insights.blackcoffer.com/wp-content/uploads/2022/12/main-218x150.jpg 218w, https://insights.blackcoffer.com/wp-content/uploads/2022/12/main-100x70.jpg 100w\" sizes=\"(max-width: 218px) 100vw, 218px\"  alt=\"\" title=\"Python model for the analysis of sector-specific stock ETFs for investment purposes\" /></a></div>                <a href=\"https://insights.blackcoffer.com/category/our-success-stories/\" class=\"td-post-category\">Our Success Stories</a>            </div>\\r\\n\\r\\n            <div class=\"item-details\">\\r\\n                <h3 class=\"entry-title td-module-title\"><a href=\"https://insights.blackcoffer.com/python-model-for-the-analysis-of-sector-specific-stock-etfs-for-investment-purposes%ef%bf%bc/\" rel=\"bookmark\" title=\"Python model for the analysis of sector-specific stock ETFs for investment purposes\">Python model for the analysis of sector-specific stock ETFs for investment&#8230;</a></h3>            </div>\\r\\n        </div>\\r\\n        </div></div></div><div class=\"td-next-prev-wrap\"><a href=\"#\" class=\"td-ajax-prev-page ajax-page-disabled\" id=\"prev-page-td_uid_2_63e882a03d4b5\" data-td_block_id=\"td_uid_2_63e882a03d4b5\"><i class=\"td-icon-font td-icon-menu-left\"></i></a><a href=\"#\"  class=\"td-ajax-next-page\" id=\"next-page-td_uid_2_63e882a03d4b5\" data-td_block_id=\"td_uid_2_63e882a03d4b5\"><i class=\"td-icon-font td-icon-menu-right\"></i></a></div><div class=\"clearfix\"></div></div> <!-- ./block1 --></div></div></li>\\n</ul>\\n</li>\\n<li class=\"menu-item menu-item-type-taxonomy menu-item-object-category td-menu-item td-mega-menu menu-item-4059\"><a href=\"https://insights.blackcoffer.com/category/our-solutions/\">What We Do</a>\\n<ul class=\"sub-menu\">\\n\\t<li class=\"menu-item-0\"><div class=\"td-container-border\"><div class=\"td-mega-grid\"><div class=\"td_block_wrap td_block_mega_menu td_uid_17_63e882a0430c8_rand td_with_ajax_pagination td-pb-border-top td_block_template_1\"  data-td-block-uid=\"td_uid_17_63e882a0430c8\" ><script>var block_td_uid_17_63e882a0430c8 = new tdBlock();\\nblock_td_uid_17_63e882a0430c8.id = \"td_uid_17_63e882a0430c8\";\\nblock_td_uid_17_63e882a0430c8.atts = \\'{\"limit\":4,\"td_column_number\":3,\"ajax_pagination\":\"next_prev\",\"category_id\":\"269\",\"show_child_cat\":30,\"td_ajax_filter_type\":\"td_category_ids_filter\",\"td_ajax_preloading\":\"\",\"block_template_id\":\"\",\"header_color\":\"\",\"ajax_pagination_infinite_stop\":\"\",\"offset\":\"\",\"td_filter_default_txt\":\"\",\"td_ajax_filter_ids\":\"\",\"el_class\":\"\",\"color_preset\":\"\",\"border_top\":\"\",\"css\":\"\",\"tdc_css\":\"\",\"class\":\"td_uid_17_63e882a0430c8_rand\",\"tdc_css_class\":\"td_uid_17_63e882a0430c8_rand\",\"tdc_css_class_style\":\"td_uid_17_63e882a0430c8_rand_style\"}\\';\\nblock_td_uid_17_63e882a0430c8.td_column_number = \"3\";\\nblock_td_uid_17_63e882a0430c8.block_type = \"td_block_mega_menu\";\\nblock_td_uid_17_63e882a0430c8.post_count = \"4\";\\nblock_td_uid_17_63e882a0430c8.found_posts = \"52\";\\nblock_td_uid_17_63e882a0430c8.header_color = \"\";\\nblock_td_uid_17_63e882a0430c8.ajax_pagination_infinite_stop = \"\";\\nblock_td_uid_17_63e882a0430c8.max_num_pages = \"13\";\\ntdBlocksArray.push(block_td_uid_17_63e882a0430c8);\\n</script><div class=\"td_mega_menu_sub_cats\"><div class=\"block-mega-child-cats\"><a class=\"cur-sub-cat mega-menu-sub-cat-td_uid_17_63e882a0430c8\" id=\"td_uid_18_63e882a0445ff\" data-td_block_id=\"td_uid_17_63e882a0430c8\" data-td_filter_value=\"\" href=\"https://insights.blackcoffer.com/category/our-solutions/\">All</a><a class=\"mega-menu-sub-cat-td_uid_17_63e882a0430c8\"  id=\"td_uid_19_63e882a044631\" data-td_block_id=\"td_uid_17_63e882a0430c8\" data-td_filter_value=\"285\" href=\"https://insights.blackcoffer.com/category/our-solutions/banking-financials-securities-and-insurance-solutions/\">Banking, Financials, Securities, and Insurance</a><a class=\"mega-menu-sub-cat-td_uid_17_63e882a0430c8\"  id=\"td_uid_20_63e882a04465b\" data-td_block_id=\"td_uid_17_63e882a0430c8\" data-td_filter_value=\"284\" href=\"https://insights.blackcoffer.com/category/our-solutions/energy-our-solutions/\">Energy</a><a class=\"mega-menu-sub-cat-td_uid_17_63e882a0430c8\"  id=\"td_uid_21_63e882a044680\" data-td_block_id=\"td_uid_17_63e882a0430c8\" data-td_filter_value=\"290\" href=\"https://insights.blackcoffer.com/category/our-solutions/entertainment-our-solutions/\">Entertainment</a><a class=\"mega-menu-sub-cat-td_uid_17_63e882a0430c8\"  id=\"td_uid_22_63e882a0446a4\" data-td_block_id=\"td_uid_17_63e882a0430c8\" data-td_filter_value=\"286\" href=\"https://insights.blackcoffer.com/category/our-solutions/fast-moving-consumer-goods-our-solutions/\">Fast Moving Consumer Goods</a><a class=\"mega-menu-sub-cat-td_uid_17_63e882a0430c8\"  id=\"td_uid_23_63e882a0446c6\" data-td_block_id=\"td_uid_17_63e882a0430c8\" data-td_filter_value=\"288\" href=\"https://insights.blackcoffer.com/category/our-solutions/government-think-tanks-our-solutions/\">Government &amp; Think Tanks</a><a class=\"mega-menu-sub-cat-td_uid_17_63e882a0430c8\"  id=\"td_uid_24_63e882a0446e8\" data-td_block_id=\"td_uid_17_63e882a0430c8\" data-td_filter_value=\"283\" href=\"https://insights.blackcoffer.com/category/our-solutions/healthcare-our-solutions/\">Healthcare</a><a class=\"mega-menu-sub-cat-td_uid_17_63e882a0430c8\"  id=\"td_uid_25_63e882a04471c\" data-td_block_id=\"td_uid_17_63e882a0430c8\" data-td_filter_value=\"339\" href=\"https://insights.blackcoffer.com/category/our-solutions/hospitality/\">Hospitality</a><a class=\"mega-menu-sub-cat-td_uid_17_63e882a0430c8\"  id=\"td_uid_26_63e882a04473f\" data-td_block_id=\"td_uid_17_63e882a0430c8\" data-td_filter_value=\"292\" href=\"https://insights.blackcoffer.com/category/our-solutions/infrastructure-real-estate-our-solutions/\">Infrastructure &amp; Real Estate</a><a class=\"mega-menu-sub-cat-td_uid_17_63e882a0430c8\"  id=\"td_uid_27_63e882a044761\" data-td_block_id=\"td_uid_17_63e882a0430c8\" data-td_filter_value=\"321\" href=\"https://insights.blackcoffer.com/category/our-solutions/it-services/\">IT Services</a><a class=\"mega-menu-sub-cat-td_uid_17_63e882a0430c8\"  id=\"td_uid_28_63e882a044784\" data-td_block_id=\"td_uid_17_63e882a0430c8\" data-td_filter_value=\"291\" href=\"https://insights.blackcoffer.com/category/our-solutions/lifestyle-ecommerce-market-place-solutions/\">Lifestyle, eCommerce &amp; Online Market Place</a><a class=\"mega-menu-sub-cat-td_uid_17_63e882a0430c8\"  id=\"td_uid_29_63e882a0447a6\" data-td_block_id=\"td_uid_17_63e882a0430c8\" data-td_filter_value=\"604\" href=\"https://insights.blackcoffer.com/category/our-solutions/news-media/\">News &amp; Media</a><a class=\"mega-menu-sub-cat-td_uid_17_63e882a0430c8\"  id=\"td_uid_30_63e882a0447c8\" data-td_block_id=\"td_uid_17_63e882a0430c8\" data-td_filter_value=\"289\" href=\"https://insights.blackcoffer.com/category/our-solutions/production-manufacturing-our-solutions/\">Production &amp; Manufacturing</a><a class=\"mega-menu-sub-cat-td_uid_17_63e882a0430c8\"  id=\"td_uid_31_63e882a0447e9\" data-td_block_id=\"td_uid_17_63e882a0430c8\" data-td_filter_value=\"287\" href=\"https://insights.blackcoffer.com/category/our-solutions/research-academia-our-solutions/\">Research &amp; Academia</a><a class=\"mega-menu-sub-cat-td_uid_17_63e882a0430c8\"  id=\"td_uid_32_63e882a044813\" data-td_block_id=\"td_uid_17_63e882a0430c8\" data-td_filter_value=\"293\" href=\"https://insights.blackcoffer.com/category/our-solutions/retail-supply-chain-our-solutions/\">Retail &amp; Supply Chain</a></div></div><div id=td_uid_17_63e882a0430c8 class=\"td_block_inner\"><div class=\"td-mega-row\"><div class=\"td-mega-span\">\\r\\n        <div class=\"td_module_mega_menu td-animation-stack td_mod_mega_menu\">\\r\\n            <div class=\"td-module-image\">\\r\\n                <div class=\"td-module-thumb\"><a href=\"https://insights.blackcoffer.com/playstore-appstore-to-google-analytics-ga-or-firebase-to-google-data-studio-mobile-app-kpi-dashboard/\" rel=\"bookmark\" class=\"td-image-wrap\" title=\"Playstore &#038; Appstore to Google Analytics (GA) or Firebase to Google Data Studio Mobile App KPI Dashboard\"><img width=\"218\" height=\"150\" class=\"entry-thumb\" src=\"https://insights.blackcoffer.com/wp-content/uploads/2022/09/post_08-218x150.jpg\"  srcset=\"https://insights.blackcoffer.com/wp-content/uploads/2022/09/post_08-218x150.jpg 218w, https://insights.blackcoffer.com/wp-content/uploads/2022/09/post_08-100x70.jpg 100w\" sizes=\"(max-width: 218px) 100vw, 218px\"  alt=\"\" title=\"Playstore &#038; Appstore to Google Analytics (GA) or Firebase to Google Data Studio Mobile App KPI Dashboard\" /></a></div>                <a href=\"https://insights.blackcoffer.com/category/our-solutions/\" class=\"td-post-category\">What We Do</a>            </div>\\r\\n\\r\\n            <div class=\"item-details\">\\r\\n                <h3 class=\"entry-title td-module-title\"><a href=\"https://insights.blackcoffer.com/playstore-appstore-to-google-analytics-ga-or-firebase-to-google-data-studio-mobile-app-kpi-dashboard/\" rel=\"bookmark\" title=\"Playstore &#038; Appstore to Google Analytics (GA) or Firebase to Google Data Studio Mobile App KPI Dashboard\">Playstore &#038; Appstore to Google Analytics (GA) or Firebase to Google&#8230;</a></h3>            </div>\\r\\n        </div>\\r\\n        </div><div class=\"td-mega-span\">\\r\\n        <div class=\"td_module_mega_menu td-animation-stack td_mod_mega_menu\">\\r\\n            <div class=\"td-module-image\">\\r\\n                <div class=\"td-module-thumb\"><a href=\"https://insights.blackcoffer.com/google-local-service-ads-lsa-api-to-google-bigquery-to-google-data-studio/\" rel=\"bookmark\" class=\"td-image-wrap\" title=\"Google Local Service Ads LSA API To Google BigQuery to Google Data Studio\"><img width=\"218\" height=\"150\" class=\"entry-thumb\" src=\"https://insights.blackcoffer.com/wp-content/uploads/2022/05/bgn-hero-218x150.jpg\"  srcset=\"https://insights.blackcoffer.com/wp-content/uploads/2022/05/bgn-hero-218x150.jpg 218w, https://insights.blackcoffer.com/wp-content/uploads/2022/05/bgn-hero-100x70.jpg 100w\" sizes=\"(max-width: 218px) 100vw, 218px\"  alt=\"\" title=\"Google Local Service Ads LSA API To Google BigQuery to Google Data Studio\" /></a></div>                <a href=\"https://insights.blackcoffer.com/category/our-solutions/\" class=\"td-post-category\">What We Do</a>            </div>\\r\\n\\r\\n            <div class=\"item-details\">\\r\\n                <h3 class=\"entry-title td-module-title\"><a href=\"https://insights.blackcoffer.com/google-local-service-ads-lsa-api-to-google-bigquery-to-google-data-studio/\" rel=\"bookmark\" title=\"Google Local Service Ads LSA API To Google BigQuery to Google Data Studio\">Google Local Service Ads LSA API To Google BigQuery to Google&#8230;</a></h3>            </div>\\r\\n        </div>\\r\\n        </div><div class=\"td-mega-span\">\\r\\n        <div class=\"td_module_mega_menu td-animation-stack td_mod_mega_menu\">\\r\\n            <div class=\"td-module-image\">\\r\\n                <div class=\"td-module-thumb\"><a href=\"https://insights.blackcoffer.com/ai-conversational-bot-using-rasa/\" rel=\"bookmark\" class=\"td-image-wrap\" title=\"AI Conversational Bot using RASA\"><img width=\"218\" height=\"150\" class=\"entry-thumb\" src=\"https://insights.blackcoffer.com/wp-content/uploads/2022/02/background_home_03-218x150.jpg\"  srcset=\"https://insights.blackcoffer.com/wp-content/uploads/2022/02/background_home_03-218x150.jpg 218w, https://insights.blackcoffer.com/wp-content/uploads/2022/02/background_home_03-100x70.jpg 100w\" sizes=\"(max-width: 218px) 100vw, 218px\"  alt=\"\" title=\"AI Conversational Bot using RASA\" /></a></div>                <a href=\"https://insights.blackcoffer.com/category/our-success-stories/\" class=\"td-post-category\">Our Success Stories</a>            </div>\\r\\n\\r\\n            <div class=\"item-details\">\\r\\n                <h3 class=\"entry-title td-module-title\"><a href=\"https://insights.blackcoffer.com/ai-conversational-bot-using-rasa/\" rel=\"bookmark\" title=\"AI Conversational Bot using RASA\">AI Conversational Bot using RASA</a></h3>            </div>\\r\\n        </div>\\r\\n        </div><div class=\"td-mega-span\">\\r\\n        <div class=\"td_module_mega_menu td-animation-stack td_mod_mega_menu\">\\r\\n            <div class=\"td-module-image\">\\r\\n                <div class=\"td-module-thumb\"><a href=\"https://insights.blackcoffer.com/recommendation-system-architecture/\" rel=\"bookmark\" class=\"td-image-wrap\" title=\"Recommendation System Architecture\"><img width=\"218\" height=\"150\" class=\"entry-thumb\" src=\"https://insights.blackcoffer.com/wp-content/uploads/2021/10/update-blog3-218x150.jpg\"  srcset=\"https://insights.blackcoffer.com/wp-content/uploads/2021/10/update-blog3-218x150.jpg 218w, https://insights.blackcoffer.com/wp-content/uploads/2021/10/update-blog3-100x70.jpg 100w\" sizes=\"(max-width: 218px) 100vw, 218px\"  alt=\"\" title=\"Recommendation System Architecture\" /></a></div>                <a href=\"https://insights.blackcoffer.com/category/our-solutions/\" class=\"td-post-category\">What We Do</a>            </div>\\r\\n\\r\\n            <div class=\"item-details\">\\r\\n                <h3 class=\"entry-title td-module-title\"><a href=\"https://insights.blackcoffer.com/recommendation-system-architecture/\" rel=\"bookmark\" title=\"Recommendation System Architecture\">Recommendation System Architecture</a></h3>            </div>\\r\\n        </div>\\r\\n        </div></div></div><div class=\"td-next-prev-wrap\"><a href=\"#\" class=\"td-ajax-prev-page ajax-page-disabled\" id=\"prev-page-td_uid_17_63e882a0430c8\" data-td_block_id=\"td_uid_17_63e882a0430c8\"><i class=\"td-icon-font td-icon-menu-left\"></i></a><a href=\"#\"  class=\"td-ajax-next-page\" id=\"next-page-td_uid_17_63e882a0430c8\" data-td_block_id=\"td_uid_17_63e882a0430c8\"><i class=\"td-icon-font td-icon-menu-right\"></i></a></div><div class=\"clearfix\"></div></div> <!-- ./block1 --></div></div></li>\\n</ul>\\n</li>\\n<li class=\"menu-item menu-item-type-taxonomy menu-item-object-category current-post-ancestor current-menu-parent current-post-parent td-menu-item td-mega-menu menu-item-4060\"><a href=\"https://insights.blackcoffer.com/category/what-we-think/\">What We Think</a>\\n<ul class=\"sub-menu\">\\n\\t<li class=\"menu-item-0\"><div class=\"td-container-border\"><div class=\"td-mega-grid\"><div class=\"td_block_wrap td_block_mega_menu td_uid_33_63e882a0466df_rand td_with_ajax_pagination td-pb-border-top td_block_template_1\"  data-td-block-uid=\"td_uid_33_63e882a0466df\" ><script>var block_td_uid_33_63e882a0466df = new tdBlock();\\nblock_td_uid_33_63e882a0466df.id = \"td_uid_33_63e882a0466df\";\\nblock_td_uid_33_63e882a0466df.atts = \\'{\"limit\":4,\"td_column_number\":3,\"ajax_pagination\":\"next_prev\",\"category_id\":\"270\",\"show_child_cat\":30,\"td_ajax_filter_type\":\"td_category_ids_filter\",\"td_ajax_preloading\":\"\",\"block_template_id\":\"\",\"header_color\":\"\",\"ajax_pagination_infinite_stop\":\"\",\"offset\":\"\",\"td_filter_default_txt\":\"\",\"td_ajax_filter_ids\":\"\",\"el_class\":\"\",\"color_preset\":\"\",\"border_top\":\"\",\"css\":\"\",\"tdc_css\":\"\",\"class\":\"td_uid_33_63e882a0466df_rand\",\"tdc_css_class\":\"td_uid_33_63e882a0466df_rand\",\"tdc_css_class_style\":\"td_uid_33_63e882a0466df_rand_style\"}\\';\\nblock_td_uid_33_63e882a0466df.td_column_number = \"3\";\\nblock_td_uid_33_63e882a0466df.block_type = \"td_block_mega_menu\";\\nblock_td_uid_33_63e882a0466df.post_count = \"4\";\\nblock_td_uid_33_63e882a0466df.found_posts = \"205\";\\nblock_td_uid_33_63e882a0466df.header_color = \"\";\\nblock_td_uid_33_63e882a0466df.ajax_pagination_infinite_stop = \"\";\\nblock_td_uid_33_63e882a0466df.max_num_pages = \"52\";\\ntdBlocksArray.push(block_td_uid_33_63e882a0466df);\\n</script><div class=\"td_mega_menu_sub_cats\"><div class=\"block-mega-child-cats\"><a class=\"cur-sub-cat mega-menu-sub-cat-td_uid_33_63e882a0466df\" id=\"td_uid_34_63e882a048dd2\" data-td_block_id=\"td_uid_33_63e882a0466df\" data-td_filter_value=\"\" href=\"https://insights.blackcoffer.com/category/what-we-think/\">All</a><a class=\"mega-menu-sub-cat-td_uid_33_63e882a0466df\"  id=\"td_uid_35_63e882a048e0f\" data-td_block_id=\"td_uid_33_63e882a0466df\" data-td_filter_value=\"116\" href=\"https://insights.blackcoffer.com/category/what-we-think/automobiles-components/\">Automobiles &amp; Components</a><a class=\"mega-menu-sub-cat-td_uid_33_63e882a0466df\"  id=\"td_uid_36_63e882a048e39\" data-td_block_id=\"td_uid_33_63e882a0466df\" data-td_filter_value=\"129\" href=\"https://insights.blackcoffer.com/category/what-we-think/financials/\">BFSI</a><a class=\"mega-menu-sub-cat-td_uid_33_63e882a0466df\"  id=\"td_uid_37_63e882a048e6b\" data-td_block_id=\"td_uid_33_63e882a0466df\" data-td_filter_value=\"247\" href=\"https://insights.blackcoffer.com/category/what-we-think/financials/asset-and-portfolio/\">Asset and Portfolio</a><a class=\"mega-menu-sub-cat-td_uid_33_63e882a0466df\"  id=\"td_uid_38_63e882a048e99\" data-td_block_id=\"td_uid_33_63e882a0466df\" data-td_filter_value=\"130\" href=\"https://insights.blackcoffer.com/category/what-we-think/financials/banks/\">Banks</a><a class=\"mega-menu-sub-cat-td_uid_33_63e882a0466df\"  id=\"td_uid_39_63e882a048ec6\" data-td_block_id=\"td_uid_33_63e882a0466df\" data-td_filter_value=\"244\" href=\"https://insights.blackcoffer.com/category/what-we-think/financials/capital-markets/\">Capital Markets</a><a class=\"mega-menu-sub-cat-td_uid_33_63e882a0466df\"  id=\"td_uid_40_63e882a048ef4\" data-td_block_id=\"td_uid_33_63e882a0466df\" data-td_filter_value=\"245\" href=\"https://insights.blackcoffer.com/category/what-we-think/financials/derivatives-and-securities/\">Derivatives and Securities</a><a class=\"mega-menu-sub-cat-td_uid_33_63e882a0466df\"  id=\"td_uid_41_63e882a048f21\" data-td_block_id=\"td_uid_33_63e882a0466df\" data-td_filter_value=\"131\" href=\"https://insights.blackcoffer.com/category/what-we-think/financials/diversified-financials/\">Diversified Financials</a><a class=\"mega-menu-sub-cat-td_uid_33_63e882a0466df\"  id=\"td_uid_42_63e882a048f4d\" data-td_block_id=\"td_uid_33_63e882a0466df\" data-td_filter_value=\"243\" href=\"https://insights.blackcoffer.com/category/what-we-think/financials/finance-and-accounting/\">Finance &amp; Accounting</a><a class=\"mega-menu-sub-cat-td_uid_33_63e882a0466df\"  id=\"td_uid_43_63e882a048f7a\" data-td_block_id=\"td_uid_33_63e882a0466df\" data-td_filter_value=\"132\" href=\"https://insights.blackcoffer.com/category/what-we-think/financials/insurance/\">Insurance</a><a class=\"mega-menu-sub-cat-td_uid_33_63e882a0466df\"  id=\"td_uid_44_63e882a048fa6\" data-td_block_id=\"td_uid_33_63e882a0466df\" data-td_filter_value=\"246\" href=\"https://insights.blackcoffer.com/category/what-we-think/financials/securities-and-capital-markets/\">Securities and Capital Markets</a><a class=\"mega-menu-sub-cat-td_uid_33_63e882a0466df\"  id=\"td_uid_45_63e882a048fd2\" data-td_block_id=\"td_uid_33_63e882a0466df\" data-td_filter_value=\"113\" href=\"https://insights.blackcoffer.com/category/what-we-think/capital-goods/\">Capital Goods</a><a class=\"mega-menu-sub-cat-td_uid_33_63e882a0466df\"  id=\"td_uid_46_63e882a048ff5\" data-td_block_id=\"td_uid_33_63e882a0466df\" data-td_filter_value=\"114\" href=\"https://insights.blackcoffer.com/category/what-we-think/commercial-professional-services/\">Commercial &amp; Professional Services</a><a class=\"mega-menu-sub-cat-td_uid_33_63e882a0466df\"  id=\"td_uid_47_63e882a049017\" data-td_block_id=\"td_uid_33_63e882a0466df\" data-td_filter_value=\"122\" href=\"https://insights.blackcoffer.com/category/what-we-think/consumer-discretionary/\">Consumer Discretionary</a><a class=\"mega-menu-sub-cat-td_uid_33_63e882a0466df\"  id=\"td_uid_48_63e882a049039\" data-td_block_id=\"td_uid_33_63e882a0466df\" data-td_filter_value=\"117\" href=\"https://insights.blackcoffer.com/category/what-we-think/consumer-durables-apparel/\">Consumer Durables &amp; Apparel</a><a class=\"mega-menu-sub-cat-td_uid_33_63e882a0466df\"  id=\"td_uid_49_63e882a04905b\" data-td_block_id=\"td_uid_33_63e882a0466df\" data-td_filter_value=\"118\" href=\"https://insights.blackcoffer.com/category/what-we-think/consumer-services/\">Consumer Services</a><a class=\"mega-menu-sub-cat-td_uid_33_63e882a0466df\"  id=\"td_uid_50_63e882a04907c\" data-td_block_id=\"td_uid_33_63e882a0466df\" data-td_filter_value=\"123\" href=\"https://insights.blackcoffer.com/category/what-we-think/consumer-staples/\">Consumer Staples</a><a class=\"mega-menu-sub-cat-td_uid_33_63e882a0466df\"  id=\"td_uid_51_63e882a04909d\" data-td_block_id=\"td_uid_33_63e882a0466df\" data-td_filter_value=\"124\" href=\"https://insights.blackcoffer.com/category/what-we-think/consumer-staples/food-staples-retailing/\">Food &amp; Staples Retailing</a><a class=\"mega-menu-sub-cat-td_uid_33_63e882a0466df\"  id=\"td_uid_52_63e882a0490ca\" data-td_block_id=\"td_uid_33_63e882a0466df\" data-td_filter_value=\"125\" href=\"https://insights.blackcoffer.com/category/what-we-think/consumer-staples/food-beverage-tobacco/\">Food, Beverage &amp; Tobacco</a><a class=\"mega-menu-sub-cat-td_uid_33_63e882a0466df\"  id=\"td_uid_53_63e882a0490f5\" data-td_block_id=\"td_uid_33_63e882a0466df\" data-td_filter_value=\"126\" href=\"https://insights.blackcoffer.com/category/what-we-think/consumer-staples/household-personal-products/\">Household &amp; Personal Products</a><a class=\"mega-menu-sub-cat-td_uid_33_63e882a0466df\"  id=\"td_uid_54_63e882a049121\" data-td_block_id=\"td_uid_33_63e882a0466df\" data-td_filter_value=\"140\" href=\"https://insights.blackcoffer.com/category/what-we-think/data-science/\">Data Science</a><a class=\"mega-menu-sub-cat-td_uid_33_63e882a0466df\"  id=\"td_uid_55_63e882a04914e\" data-td_block_id=\"td_uid_33_63e882a0466df\" data-td_filter_value=\"146\" href=\"https://insights.blackcoffer.com/category/what-we-think/data-science/analytics/\">Analytics</a><a class=\"mega-menu-sub-cat-td_uid_33_63e882a0466df\"  id=\"td_uid_56_63e882a04917a\" data-td_block_id=\"td_uid_33_63e882a0466df\" data-td_filter_value=\"143\" href=\"https://insights.blackcoffer.com/category/what-we-think/data-science/artificial-intelligence/\">Artificial Intelligence</a><a class=\"mega-menu-sub-cat-td_uid_33_63e882a0466df\"  id=\"td_uid_57_63e882a0491a6\" data-td_block_id=\"td_uid_33_63e882a0466df\" data-td_filter_value=\"145\" href=\"https://insights.blackcoffer.com/category/what-we-think/data-science/big-data/\">Big Data</a><a class=\"mega-menu-sub-cat-td_uid_33_63e882a0466df\"  id=\"td_uid_58_63e882a0491d2\" data-td_block_id=\"td_uid_33_63e882a0466df\" data-td_filter_value=\"195\" href=\"https://insights.blackcoffer.com/category/what-we-think/data-science/business-analytics/\">Business Analytics</a><a class=\"mega-menu-sub-cat-td_uid_33_63e882a0466df\"  id=\"td_uid_59_63e882a0491fe\" data-td_block_id=\"td_uid_33_63e882a0466df\" data-td_filter_value=\"148\" href=\"https://insights.blackcoffer.com/category/what-we-think/data-science/data-visualization/\">Data Visualization</a><a class=\"mega-menu-sub-cat-td_uid_33_63e882a0466df\"  id=\"td_uid_60_63e882a04922a\" data-td_block_id=\"td_uid_33_63e882a0466df\" data-td_filter_value=\"144\" href=\"https://insights.blackcoffer.com/category/what-we-think/data-science/internet-of-things/\">Internet of Things</a><a class=\"mega-menu-sub-cat-td_uid_33_63e882a0466df\"  id=\"td_uid_61_63e882a049264\" data-td_block_id=\"td_uid_33_63e882a0466df\" data-td_filter_value=\"142\" href=\"https://insights.blackcoffer.com/category/what-we-think/data-science/machine-learning/\">Machine Learning</a><a class=\"mega-menu-sub-cat-td_uid_33_63e882a0466df\"  id=\"td_uid_62_63e882a049290\" data-td_block_id=\"td_uid_33_63e882a0466df\" data-td_filter_value=\"141\" href=\"https://insights.blackcoffer.com/category/what-we-think/data-science/statistics/\">Statistics</a><a class=\"mega-menu-sub-cat-td_uid_33_63e882a0466df\"  id=\"td_uid_63_63e882a0492bc\" data-td_block_id=\"td_uid_33_63e882a0466df\" data-td_filter_value=\"109\" href=\"https://insights.blackcoffer.com/category/what-we-think/energy/\">Energy</a><a class=\"mega-menu-sub-cat-td_uid_33_63e882a0466df\"  id=\"td_uid_64_63e882a0492de\" data-td_block_id=\"td_uid_33_63e882a0466df\" data-td_filter_value=\"150\" href=\"https://insights.blackcoffer.com/category/what-we-think/energy/dataoil/\">DataOil</a></div></div><div id=td_uid_33_63e882a0466df class=\"td_block_inner\"><div class=\"td-mega-row\"><div class=\"td-mega-span\">\\r\\n        <div class=\"td_module_mega_menu td-animation-stack td_mod_mega_menu\">\\r\\n            <div class=\"td-module-image\">\\r\\n                <div class=\"td-module-thumb\"><a href=\"https://insights.blackcoffer.com/rise-of-telemedicine-and-its-impact-on-livelihood-by-2040-3/\" rel=\"bookmark\" class=\"td-image-wrap\" title=\"Rise of telemedicine and its Impact on Livelihood by 2040\"><img width=\"218\" height=\"150\" class=\"entry-thumb\" src=\"https://insights.blackcoffer.com/wp-content/uploads/2023/01/fidovhj-218x150.jpg\"  srcset=\"https://insights.blackcoffer.com/wp-content/uploads/2023/01/fidovhj-218x150.jpg 218w, https://insights.blackcoffer.com/wp-content/uploads/2023/01/fidovhj-100x70.jpg 100w\" sizes=\"(max-width: 218px) 100vw, 218px\"  alt=\"\" title=\"Rise of telemedicine and its Impact on Livelihood by 2040\" /></a></div>                <a href=\"https://insights.blackcoffer.com/category/what-we-think/\" class=\"td-post-category\">What We Think</a>            </div>\\r\\n\\r\\n            <div class=\"item-details\">\\r\\n                <h3 class=\"entry-title td-module-title\"><a href=\"https://insights.blackcoffer.com/rise-of-telemedicine-and-its-impact-on-livelihood-by-2040-3/\" rel=\"bookmark\" title=\"Rise of telemedicine and its Impact on Livelihood by 2040\">Rise of telemedicine and its Impact on Livelihood by 2040</a></h3>            </div>\\r\\n        </div>\\r\\n        </div><div class=\"td-mega-span\">\\r\\n        <div class=\"td_module_mega_menu td-animation-stack td_mod_mega_menu\">\\r\\n            <div class=\"td-module-image\">\\r\\n                <div class=\"td-module-thumb\"><a href=\"https://insights.blackcoffer.com/rise-of-e-health-and-its-impact-on-humans-by-the-year-2030/\" rel=\"bookmark\" class=\"td-image-wrap\" title=\"Rise of e-health and its impact on humans by the year 2030\"><img width=\"218\" height=\"150\" class=\"entry-thumb\" src=\"https://insights.blackcoffer.com/wp-content/uploads/2023/01/digital-health-218x150.jpg\"  srcset=\"https://insights.blackcoffer.com/wp-content/uploads/2023/01/digital-health-218x150.jpg 218w, https://insights.blackcoffer.com/wp-content/uploads/2023/01/digital-health-100x70.jpg 100w\" sizes=\"(max-width: 218px) 100vw, 218px\"  alt=\"\" title=\"Rise of e-health and its impact on humans by the year 2030\" /></a></div>                <a href=\"https://insights.blackcoffer.com/category/what-we-think/\" class=\"td-post-category\">What We Think</a>            </div>\\r\\n\\r\\n            <div class=\"item-details\">\\r\\n                <h3 class=\"entry-title td-module-title\"><a href=\"https://insights.blackcoffer.com/rise-of-e-health-and-its-impact-on-humans-by-the-year-2030/\" rel=\"bookmark\" title=\"Rise of e-health and its impact on humans by the year 2030\">Rise of e-health and its impact on humans by the year&#8230;</a></h3>            </div>\\r\\n        </div>\\r\\n        </div><div class=\"td-mega-span\">\\r\\n        <div class=\"td_module_mega_menu td-animation-stack td_mod_mega_menu\">\\r\\n            <div class=\"td-module-image\">\\r\\n                <div class=\"td-module-thumb\"><a href=\"https://insights.blackcoffer.com/rise-of-e-health-and-its-imapct-on-humans-by-the-year-2030-2/\" rel=\"bookmark\" class=\"td-image-wrap\" title=\"Rise of e-health and its impact on humans by the year 2030\"><img width=\"218\" height=\"150\" class=\"entry-thumb\" src=\"https://insights.blackcoffer.com/wp-content/uploads/2023/01/po-218x150.jpg\"  srcset=\"https://insights.blackcoffer.com/wp-content/uploads/2023/01/po-218x150.jpg 218w, https://insights.blackcoffer.com/wp-content/uploads/2023/01/po-100x70.jpg 100w\" sizes=\"(max-width: 218px) 100vw, 218px\"  alt=\"\" title=\"Rise of e-health and its impact on humans by the year 2030\" /></a></div>                <a href=\"https://insights.blackcoffer.com/category/what-we-think/\" class=\"td-post-category\">What We Think</a>            </div>\\r\\n\\r\\n            <div class=\"item-details\">\\r\\n                <h3 class=\"entry-title td-module-title\"><a href=\"https://insights.blackcoffer.com/rise-of-e-health-and-its-imapct-on-humans-by-the-year-2030-2/\" rel=\"bookmark\" title=\"Rise of e-health and its impact on humans by the year 2030\">Rise of e-health and its impact on humans by the year&#8230;</a></h3>            </div>\\r\\n        </div>\\r\\n        </div><div class=\"td-mega-span\">\\r\\n        <div class=\"td_module_mega_menu td-animation-stack td_mod_mega_menu\">\\r\\n            <div class=\"td-module-image\">\\r\\n                <div class=\"td-module-thumb\"><a href=\"https://insights.blackcoffer.com/rise-of-chatbots-and-its-impact-on-customer-support-by-the-year-2040-2/\" rel=\"bookmark\" class=\"td-image-wrap\" title=\"Rise of Chatbots and its impact on customer support by the year 2040\"><img width=\"218\" height=\"150\" class=\"entry-thumb\" src=\"https://insights.blackcoffer.com/wp-content/uploads/2023/01/AI-chatbot-218x150.jpg\"  srcset=\"https://insights.blackcoffer.com/wp-content/uploads/2023/01/AI-chatbot-218x150.jpg 218w, https://insights.blackcoffer.com/wp-content/uploads/2023/01/AI-chatbot-100x70.jpg 100w\" sizes=\"(max-width: 218px) 100vw, 218px\"  alt=\"\" title=\"Rise of Chatbots and its impact on customer support by the year 2040\" /></a></div>                <a href=\"https://insights.blackcoffer.com/category/what-we-think/\" class=\"td-post-category\">What We Think</a>            </div>\\r\\n\\r\\n            <div class=\"item-details\">\\r\\n                <h3 class=\"entry-title td-module-title\"><a href=\"https://insights.blackcoffer.com/rise-of-chatbots-and-its-impact-on-customer-support-by-the-year-2040-2/\" rel=\"bookmark\" title=\"Rise of Chatbots and its impact on customer support by the year 2040\">Rise of Chatbots and its impact on customer support by the&#8230;</a></h3>            </div>\\r\\n        </div>\\r\\n        </div></div></div><div class=\"td-next-prev-wrap\"><a href=\"#\" class=\"td-ajax-prev-page ajax-page-disabled\" id=\"prev-page-td_uid_33_63e882a0466df\" data-td_block_id=\"td_uid_33_63e882a0466df\"><i class=\"td-icon-font td-icon-menu-left\"></i></a><a href=\"#\"  class=\"td-ajax-next-page\" id=\"next-page-td_uid_33_63e882a0466df\" data-td_block_id=\"td_uid_33_63e882a0466df\"><i class=\"td-icon-font td-icon-menu-right\"></i></a></div><div class=\"clearfix\"></div></div> <!-- ./block1 --></div></div></li>\\n</ul>\\n</li>\\n<li class=\"menu-item menu-item-type-taxonomy menu-item-object-category td-menu-item td-mega-menu menu-item-4061\"><a href=\"https://insights.blackcoffer.com/category/how-to/\">How To</a>\\n<ul class=\"sub-menu\">\\n\\t<li class=\"menu-item-0\"><div class=\"td-container-border\"><div class=\"td-mega-grid\"><div class=\"td_block_wrap td_block_mega_menu td_uid_65_63e882a04afac_rand td_with_ajax_pagination td-pb-border-top td_block_template_1\"  data-td-block-uid=\"td_uid_65_63e882a04afac\" ><script>var block_td_uid_65_63e882a04afac = new tdBlock();\\nblock_td_uid_65_63e882a04afac.id = \"td_uid_65_63e882a04afac\";\\nblock_td_uid_65_63e882a04afac.atts = \\'{\"limit\":4,\"td_column_number\":3,\"ajax_pagination\":\"next_prev\",\"category_id\":\"271\",\"show_child_cat\":30,\"td_ajax_filter_type\":\"td_category_ids_filter\",\"td_ajax_preloading\":\"\",\"block_template_id\":\"\",\"header_color\":\"\",\"ajax_pagination_infinite_stop\":\"\",\"offset\":\"\",\"td_filter_default_txt\":\"\",\"td_ajax_filter_ids\":\"\",\"el_class\":\"\",\"color_preset\":\"\",\"border_top\":\"\",\"css\":\"\",\"tdc_css\":\"\",\"class\":\"td_uid_65_63e882a04afac_rand\",\"tdc_css_class\":\"td_uid_65_63e882a04afac_rand\",\"tdc_css_class_style\":\"td_uid_65_63e882a04afac_rand_style\"}\\';\\nblock_td_uid_65_63e882a04afac.td_column_number = \"3\";\\nblock_td_uid_65_63e882a04afac.block_type = \"td_block_mega_menu\";\\nblock_td_uid_65_63e882a04afac.post_count = \"4\";\\nblock_td_uid_65_63e882a04afac.found_posts = \"15\";\\nblock_td_uid_65_63e882a04afac.header_color = \"\";\\nblock_td_uid_65_63e882a04afac.ajax_pagination_infinite_stop = \"\";\\nblock_td_uid_65_63e882a04afac.max_num_pages = \"4\";\\ntdBlocksArray.push(block_td_uid_65_63e882a04afac);\\n</script><div class=\"td_mega_menu_sub_cats\"><div class=\"block-mega-child-cats\"><a class=\"cur-sub-cat mega-menu-sub-cat-td_uid_65_63e882a04afac\" id=\"td_uid_66_63e882a04c22c\" data-td_block_id=\"td_uid_65_63e882a04afac\" data-td_filter_value=\"\" href=\"https://insights.blackcoffer.com/category/how-to/\">All</a><a class=\"mega-menu-sub-cat-td_uid_65_63e882a04afac\"  id=\"td_uid_67_63e882a04c261\" data-td_block_id=\"td_uid_65_63e882a04afac\" data-td_filter_value=\"294\" href=\"https://insights.blackcoffer.com/category/how-to/analytics-how-to/\">Analytics</a><a class=\"mega-menu-sub-cat-td_uid_65_63e882a04afac\"  id=\"td_uid_68_63e882a04c28b\" data-td_block_id=\"td_uid_65_63e882a04afac\" data-td_filter_value=\"305\" href=\"https://insights.blackcoffer.com/category/how-to/application-development-how-to/\">Application Development</a><a class=\"mega-menu-sub-cat-td_uid_65_63e882a04afac\"  id=\"td_uid_69_63e882a04c2b0\" data-td_block_id=\"td_uid_65_63e882a04afac\" data-td_filter_value=\"295\" href=\"https://insights.blackcoffer.com/category/how-to/artificial-intelligence-how-to/\">Artificial Intelligence</a><a class=\"mega-menu-sub-cat-td_uid_65_63e882a04afac\"  id=\"td_uid_70_63e882a04c2d3\" data-td_block_id=\"td_uid_65_63e882a04afac\" data-td_filter_value=\"297\" href=\"https://insights.blackcoffer.com/category/how-to/business-analytics-how-to/\">Business Analytics</a><a class=\"mega-menu-sub-cat-td_uid_65_63e882a04afac\"  id=\"td_uid_71_63e882a04c2f5\" data-td_block_id=\"td_uid_65_63e882a04afac\" data-td_filter_value=\"309\" href=\"https://insights.blackcoffer.com/category/how-to/example/\">Example</a><a class=\"mega-menu-sub-cat-td_uid_65_63e882a04afac\"  id=\"td_uid_72_63e882a04c318\" data-td_block_id=\"td_uid_65_63e882a04afac\" data-td_filter_value=\"313\" href=\"https://insights.blackcoffer.com/category/how-to/optimization/\">Optimization</a><a class=\"mega-menu-sub-cat-td_uid_65_63e882a04afac\"  id=\"td_uid_73_63e882a04c33b\" data-td_block_id=\"td_uid_65_63e882a04afac\" data-td_filter_value=\"311\" href=\"https://insights.blackcoffer.com/category/how-to/projects/\">Projects</a><a class=\"mega-menu-sub-cat-td_uid_65_63e882a04afac\"  id=\"td_uid_74_63e882a04c35d\" data-td_block_id=\"td_uid_65_63e882a04afac\" data-td_filter_value=\"307\" href=\"https://insights.blackcoffer.com/category/how-to/software-development/\">Software Development</a><a class=\"mega-menu-sub-cat-td_uid_65_63e882a04afac\"  id=\"td_uid_75_63e882a04c380\" data-td_block_id=\"td_uid_65_63e882a04afac\" data-td_filter_value=\"347\" href=\"https://insights.blackcoffer.com/category/how-to/source-code-audit/\">Source Code Audit</a><a class=\"mega-menu-sub-cat-td_uid_65_63e882a04afac\"  id=\"td_uid_76_63e882a04c3a2\" data-td_block_id=\"td_uid_65_63e882a04afac\" data-td_filter_value=\"301\" href=\"https://insights.blackcoffer.com/category/how-to/statistics-how-to/\">Statistics</a><a class=\"mega-menu-sub-cat-td_uid_65_63e882a04afac\"  id=\"td_uid_77_63e882a04c3c3\" data-td_block_id=\"td_uid_65_63e882a04afac\" data-td_filter_value=\"306\" href=\"https://insights.blackcoffer.com/category/how-to/web-mobile-app-development/\">Web &amp; Mobile App Development</a></div></div><div id=td_uid_65_63e882a04afac class=\"td_block_inner\"><div class=\"td-mega-row\"><div class=\"td-mega-span\">\\r\\n        <div class=\"td_module_mega_menu td-animation-stack td_mod_mega_menu\">\\r\\n            <div class=\"td-module-image\">\\r\\n                <div class=\"td-module-thumb\"><a href=\"https://insights.blackcoffer.com/ai-ml-and-predictive-modeling/\" rel=\"bookmark\" class=\"td-image-wrap\" title=\"AI/ML and Predictive Modeling\"><img width=\"218\" height=\"150\" class=\"entry-thumb\" src=\"https://insights.blackcoffer.com/wp-content/uploads/2022/02/theme-08-218x150.jpg\"  srcset=\"https://insights.blackcoffer.com/wp-content/uploads/2022/02/theme-08-218x150.jpg 218w, https://insights.blackcoffer.com/wp-content/uploads/2022/02/theme-08-100x70.jpg 100w\" sizes=\"(max-width: 218px) 100vw, 218px\"  alt=\"\" title=\"AI/ML and Predictive Modeling\" /></a></div>                <a href=\"https://insights.blackcoffer.com/category/our-solutions/\" class=\"td-post-category\">What We Do</a>            </div>\\r\\n\\r\\n            <div class=\"item-details\">\\r\\n                <h3 class=\"entry-title td-module-title\"><a href=\"https://insights.blackcoffer.com/ai-ml-and-predictive-modeling/\" rel=\"bookmark\" title=\"AI/ML and Predictive Modeling\">AI/ML and Predictive Modeling</a></h3>            </div>\\r\\n        </div>\\r\\n        </div><div class=\"td-mega-span\">\\r\\n        <div class=\"td_module_mega_menu td-animation-stack td_mod_mega_menu\">\\r\\n            <div class=\"td-module-image\">\\r\\n                <div class=\"td-module-thumb\"><a href=\"https://insights.blackcoffer.com/solution-for-contact-centre-problems/\" rel=\"bookmark\" class=\"td-image-wrap\" title=\"Solution for Contact Centre Problems\"><img width=\"218\" height=\"150\" class=\"entry-thumb\" src=\"https://insights.blackcoffer.com/wp-content/uploads/2020/01/new2-slider1-bg02-218x150.jpg\"  srcset=\"https://insights.blackcoffer.com/wp-content/uploads/2020/01/new2-slider1-bg02-218x150.jpg 218w, https://insights.blackcoffer.com/wp-content/uploads/2020/01/new2-slider1-bg02-100x70.jpg 100w\" sizes=\"(max-width: 218px) 100vw, 218px\"  alt=\"\" title=\"Solution for Contact Centre Problems\" /></a></div>                <a href=\"https://insights.blackcoffer.com/category/blackcoffer/\" class=\"td-post-category\">Blackcoffer</a>            </div>\\r\\n\\r\\n            <div class=\"item-details\">\\r\\n                <h3 class=\"entry-title td-module-title\"><a href=\"https://insights.blackcoffer.com/solution-for-contact-centre-problems/\" rel=\"bookmark\" title=\"Solution for Contact Centre Problems\">Solution for Contact Centre Problems</a></h3>            </div>\\r\\n        </div>\\r\\n        </div><div class=\"td-mega-span\">\\r\\n        <div class=\"td_module_mega_menu td-animation-stack td_mod_mega_menu\">\\r\\n            <div class=\"td-module-image\">\\r\\n                <div class=\"td-module-thumb\"><a href=\"https://insights.blackcoffer.com/how-to-setup-custom-domain-for-google-app-engine-application/\" rel=\"bookmark\" class=\"td-image-wrap\" title=\"How to Setup Custom Domain for Google App Engine Application?\"><img width=\"218\" height=\"150\" class=\"entry-thumb\" src=\"https://insights.blackcoffer.com/wp-content/uploads/2021/02/01-3-7-768x581-1-218x150.png\"  srcset=\"https://insights.blackcoffer.com/wp-content/uploads/2021/02/01-3-7-768x581-1-218x150.png 218w, https://insights.blackcoffer.com/wp-content/uploads/2021/02/01-3-7-768x581-1-100x70.png 100w\" sizes=\"(max-width: 218px) 100vw, 218px\"  alt=\"Google App Engine Application\" title=\"How to Setup Custom Domain for Google App Engine Application?\" /></a></div>                <a href=\"https://insights.blackcoffer.com/category/how-to/\" class=\"td-post-category\">How To</a>            </div>\\r\\n\\r\\n            <div class=\"item-details\">\\r\\n                <h3 class=\"entry-title td-module-title\"><a href=\"https://insights.blackcoffer.com/how-to-setup-custom-domain-for-google-app-engine-application/\" rel=\"bookmark\" title=\"How to Setup Custom Domain for Google App Engine Application?\">How to Setup Custom Domain for Google App Engine Application?</a></h3>            </div>\\r\\n        </div>\\r\\n        </div><div class=\"td-mega-span\">\\r\\n        <div class=\"td_module_mega_menu td-animation-stack td_mod_mega_menu\">\\r\\n            <div class=\"td-module-image\">\\r\\n                <div class=\"td-module-thumb\"><a href=\"https://insights.blackcoffer.com/code-review-checklist/\" rel=\"bookmark\" class=\"td-image-wrap\" title=\"Code Review Checklist\"><img width=\"218\" height=\"150\" class=\"entry-thumb\" src=\"https://insights.blackcoffer.com/wp-content/uploads/2020/04/slider-home-3-218x150.jpg\"  srcset=\"https://insights.blackcoffer.com/wp-content/uploads/2020/04/slider-home-3-218x150.jpg 218w, https://insights.blackcoffer.com/wp-content/uploads/2020/04/slider-home-3-100x70.jpg 100w\" sizes=\"(max-width: 218px) 100vw, 218px\"  alt=\"\" title=\"Code Review Checklist\" /></a></div>                <a href=\"https://insights.blackcoffer.com/category/how-to/\" class=\"td-post-category\">How To</a>            </div>\\r\\n\\r\\n            <div class=\"item-details\">\\r\\n                <h3 class=\"entry-title td-module-title\"><a href=\"https://insights.blackcoffer.com/code-review-checklist/\" rel=\"bookmark\" title=\"Code Review Checklist\">Code Review Checklist</a></h3>            </div>\\r\\n        </div>\\r\\n        </div></div></div><div class=\"td-next-prev-wrap\"><a href=\"#\" class=\"td-ajax-prev-page ajax-page-disabled\" id=\"prev-page-td_uid_65_63e882a04afac\" data-td_block_id=\"td_uid_65_63e882a04afac\"><i class=\"td-icon-font td-icon-menu-left\"></i></a><a href=\"#\"  class=\"td-ajax-next-page\" id=\"next-page-td_uid_65_63e882a04afac\" data-td_block_id=\"td_uid_65_63e882a04afac\"><i class=\"td-icon-font td-icon-menu-right\"></i></a></div><div class=\"clearfix\"></div></div> <!-- ./block1 --></div></div></li>\\n</ul>\\n</li>\\n<li class=\"menu-item menu-item-type-custom menu-item-object-custom td-menu-item td-normal-menu menu-item-4062\"><a href=\"#\">Schedule Demo</a></li>\\n<li class=\"menu-item menu-item-type-post_type menu-item-object-page td-menu-item td-normal-menu menu-item-4063\"><a href=\"https://insights.blackcoffer.com/contact/\">Contact</a></li>\\n</ul></div></div>\\r\\n\\r\\n\\r\\n    <div class=\"header-search-wrap\">\\r\\n        <div class=\"td-search-btns-wrap\">\\r\\n            <a id=\"td-header-search-button\" href=\"#\" role=\"button\" class=\"dropdown-toggle \" data-toggle=\"dropdown\"><i class=\"td-icon-search\"></i></a>\\r\\n            <a id=\"td-header-search-button-mob\" href=\"#\" class=\"dropdown-toggle \" data-toggle=\"dropdown\"><i class=\"td-icon-search\"></i></a>\\r\\n        </div>\\r\\n\\r\\n        <div class=\"td-drop-down-search\" aria-labelledby=\"td-header-search-button\">\\r\\n            <form method=\"get\" class=\"td-search-form\" action=\"https://insights.blackcoffer.com/\">\\r\\n                <div role=\"search\" class=\"td-head-form-search-wrap\">\\r\\n                    <input id=\"td-header-search\" type=\"text\" value=\"\" name=\"s\" autocomplete=\"off\" /><input class=\"wpb_button wpb_btn-inverse btn\" type=\"submit\" id=\"td-header-search-top\" value=\"Search\" />\\r\\n                </div>\\r\\n            </form>\\r\\n            <div id=\"td-aj-search\"></div>\\r\\n        </div>\\r\\n    </div>\\r\\n            </div>\\r\\n        </div>\\r\\n    </div>\\r\\n\\r\\n</div>\\r\\n            </div>\\r\\n\\r\\n            \\r\\n\\r\\n<article id=\"post-3839\" class=\"td-post-template-7 post-3839 post type-post status-publish format-standard has-post-thumbnail category-health-care-equipment-services category-healthcare category-pharmaceuticals-biotechnology-life-sciences category-what-we-think tag-communication tag-healthcare tag-innovation tag-telehealth-covid-19 tag-telemedicine td-container-wrap\" itemscope itemtype=\"https://schema.org/Article\">\\r\\n\\r\\n    <div class=\"td-full-screen-header-image-wrap\">\\r\\n\\r\\n        <div class=\"td-container td-post-header\">\\r\\n            <div class=\"td-crumb-container\"></div>\\r\\n\\r\\n\\t        <div class=\"td-post-header-holder\">\\r\\n\\r\\n\\t\\t        <div class=\"td-parallax-header\">\\r\\n\\r\\n\\t                <header class=\"td-post-title\">\\r\\n\\r\\n\\t                    <ul class=\"td-category\"><li class=\"entry-category\"><a  href=\"https://insights.blackcoffer.com/category/what-we-think/healthcare/health-care-equipment-services/\">Health Care Equipment &amp; Services</a></li><li class=\"entry-category\"><a  href=\"https://insights.blackcoffer.com/category/what-we-think/healthcare/\">Healthcare</a></li><li class=\"entry-category\"><a  href=\"https://insights.blackcoffer.com/category/what-we-think/healthcare/pharmaceuticals-biotechnology-life-sciences/\">Pharmaceuticals, Biotechnology &amp; Life Sciences</a></li><li class=\"entry-category\"><a  href=\"https://insights.blackcoffer.com/category/what-we-think/\">What We Think</a></li></ul>\\t                    <h1 class=\"entry-title\">How Telehealth and Telemedicine helping people to fight against COVID-19</h1>\\r\\n\\r\\n\\t                    \\r\\n\\t                    <div class=\"td-module-meta-info\">\\r\\n\\t                        \\t                        <span class=\"td-post-date\"><time class=\"entry-date updated td-module-date\" datetime=\"2022-04-28T21:04:47+00:00\" >April 28, 2022</time></span>\\t                        <div class=\"td-post-views\"><i class=\"td-icon-views\"></i><span class=\"td-nr-views-3839\">125</span></div>\\t                        \\t                    </div>\\r\\n\\r\\n\\t                </header>\\r\\n\\r\\n\\t\\t            <div class=\"td-read-down\"><a href=\"#\"><i class=\"td-icon-read-down\"></i></a></div>\\r\\n\\t\\t        </div>\\r\\n            </div>\\r\\n\\r\\n        </div>\\r\\n\\r\\n        <div id=\"td-full-screen-header-image\" class=\"td-image-gradient-style7\">\\r\\n            <img class=\"td-backstretch\" src=\"https://insights.blackcoffer.com/wp-content/uploads/2022/04/GettyImages-1301576794.jpg\">\\r\\n        </div>\\r\\n    </div>\\r\\n\\r\\n    <div class=\"td-container\">\\r\\n        <div class=\"td-pb-row\">\\r\\n                                    <div class=\"td-pb-span8 td-main-content\" role=\"main\">\\r\\n                            <div class=\"td-ss-main-content\">\\r\\n                                \\r\\n    \\r\\n\\r\\n    <div class=\"td-post-content\">\\r\\n        \\n<p>The last 2 years are the most critical time in the world and to survive in that time it’s a great challenge for people. People all around the world are to be aware of this and they protect their families by maintaining the protocols. At this time online services play a great role. People all around the world can buy their daily life needs online and the providers also care for their customers, so they delivered the product to their customers by maintaining the covid-19 protocols. This online medicine service has also become popular. The people don’t need to be panicked to go out for this and they can provide the medicines to the patients at the home, and also store the necessary medicines on their own. The terms telehealth and telemedicine are used interchangeably. In remote areas to provide medicines and healthcare telehealth is used and to provide medicines at the doorsteps to the people telemedicine’s used. The technology is used for this clinic information. This technique is used for electronic communication and sharing the medicine&#8217;s information with the pharmacy directly. This concept is not new but in this situation, the use of this system has become very popular and also very useful.</p>\\n\\n\\n<h1><a>Discussion</a></h1>\\n\\n\\n<h2><a>Current scenario</a></h2>\\n\\n\\n<p>In every world, every government gives priority to telehealth and telemedicine technology. This thing started with the medicine library, which provides the necessary medicine and also gives an idea of the use of every medicine. This technique is used for electronic communication and sharing the medicine&#8217;s information with the pharmacy directly. In every remote area, this technology provides a great role. To support the teleconnection activity department of information technology has set a standard for that so that people can use this in this critical situation.</p>\\n\\n\\n<h2><a>Implementation</a></h2>\\n\\n\\n<p>Telehealth and telemedicine are different things, but the aim and purpose of these two technologies are the same, to provide healthcare services to people without any problem. This system is used for both the patient and healthcare professional education also for the public(Leite,2018). This technology aims to overcome the barriers and provide equal access to the services and the interventions. This technology helps to overcome the barrier and solve problems like adverse weather and illness. Telehealth technology is used to consult with the patient&#8217;s family about diagnosis and treatment by the service.</p>\\n\\n\\n<h2><a>Marketing Strategies</a></h2>\\n\\n\\n<p>The telehealth system provides the patient&#8217;s information to various locations to provide the patient with the best treatment. This system is accessed by every unavailable service for the patient in every remote area. Telehealth removes the travel time and waiting rooms for the patients to the remote areas. for this technique, the patients can get safe ety and are too ill to travel in restricted areas.\\xa0 This technology is not dependent on locations, it can work in every location. This marketing for this technology is very popular in the market and people also love to use this technology.</p>\\n\\n\\n<h2><a>Benefit</a></h2>\\n\\n\\n<p>\\xa0This is the benefit of this technology. This technology can manage the health of the patients by self-management and through monitoring. The patients can go for a checkup in time when they can choose this thing that always gives a benefit to the patients. There are more opportunities to improve standard care with various technologies. This is more equitable to access healthcare. The clients can use the medical images for diagnosis and they can tell the doctors about their problems through video calls. If the case is very serious they don’t wait to check the doctor they can directly connect with the doctors through video calls. But in other ways, it causes some problems for the patients. With this technology they can meet various doctors each time, these things can create confusion for the patients and their families. The older patients and the child does have a family member with them for their health purpose. The patient&#8217;s and the doctor&#8217;s communication is needed to be good and they need to understand this is a part of the therapy. If they do not communicate with each other, the problem will take a long time to resolve. The most important thing is that the patient and the therapist need to use the technology properly. In time this technology will help people in many ways like that.</p>\\n\\n\\n<h2><a>Future Scopes</a></h2>\\n\\n\\n<p>This technology has the scope to be more popular in the future. After the covid-19 situation, this technology became very popular so the care delivery services that connect the patient to the health professionals to provide using the video calls and texting, and many more. For this, accessible and affordable health care is born as people&#8217;s care. Today telehealth is bigger than everything (Rametta<em>et al </em>.2019).\\xa0 The services provide the patients to use this properly and get their therapy not to go to the clinic and can use these things as a lucky chance for their family and also.</p>\\n\\n\\n<h1><a>Conclusion</a></h1>\\n\\n\\n<p>Patients always appreciate this technology and agree that this technology always helps them a lot and this is a good review to proceed with these things in the future. The most common reason is to provide the technology everywhere to the GP technology which is easy to locate the patient&#8217;s position to access them in various conditions.\\xa0 Proper communication is when the GP system is working properly and it has the locking time that causes problems so that the two parties have every mall chance to face any problem.\\xa0 With this technology, people can have courage and faith in their life. So they believe in this system nowadays. After surviving this critical situation they are already using this in daily life. So the purpose of building this system is to reach their level and be successful to achieve its purpose.</p>\\n\\n\\n<pre class=\"wp-block-preformatted\">Blackcoffer Insights 40: Pranavitha.V, WOXSEN UNIVERSITY</pre>\\n    </div>\\r\\n\\r\\n\\r\\n    <footer>\\r\\n                \\r\\n        <div class=\"td-post-source-tags\">\\r\\n                        <ul class=\"td-tags td-post-small-box clearfix\"><li><span>TAGS</span></li><li><a href=\"https://insights.blackcoffer.com/tag/communication/\">Communication</a></li><li><a href=\"https://insights.blackcoffer.com/tag/healthcare/\">Healthcare</a></li><li><a href=\"https://insights.blackcoffer.com/tag/innovation/\">Innovation</a></li><li><a href=\"https://insights.blackcoffer.com/tag/telehealth-covid-19/\">Telehealth Covid-19</a></li><li><a href=\"https://insights.blackcoffer.com/tag/telemedicine/\">Telemedicine</a></li></ul>        </div>\\r\\n\\r\\n                <div class=\"td-block-row td-post-next-prev\"><div class=\"td-block-span6 td-post-prev-post\"><div class=\"td-post-next-prev-content\"><span>Previous article</span><a href=\"https://insights.blackcoffer.com/is-telemedicine-effective-in-treating-patients/\">Is telemedicine effective in treating patients?</a></div></div><div class=\"td-next-prev-separator\"></div><div class=\"td-block-span6 td-post-next-post\"><div class=\"td-post-next-prev-content\"><span>Next article</span><a href=\"https://insights.blackcoffer.com/is-telehealth-the-future-of-healthcare-3/\">Is telehealth the future of healthcare?</a></div></div></div>        <div class=\"td-author-name vcard author\" style=\"display: none\"><span class=\"fn\"><a href=\"https://insights.blackcoffer.com/author/admin/\">Ajay Bidyarthy</a></span></div>        <span class=\"td-page-meta\" itemprop=\"author\" itemscope itemtype=\"https://schema.org/Person\"><meta itemprop=\"name\" content=\"Ajay Bidyarthy\"></span><meta itemprop=\"datePublished\" content=\"2022-04-28T21:04:47+00:00\"><meta itemprop=\"dateModified\" content=\"2022-04-28T21:04:47+05:30\"><meta itemscope itemprop=\"mainEntityOfPage\" itemType=\"https://schema.org/WebPage\" itemid=\"https://insights.blackcoffer.com/how-telehealth-and-telemedicine-helping-people-to-fight-against-covid-19-2/\"/><span class=\"td-page-meta\" itemprop=\"publisher\" itemscope itemtype=\"https://schema.org/Organization\"><span class=\"td-page-meta\" itemprop=\"logo\" itemscope itemtype=\"https://schema.org/ImageObject\"><meta itemprop=\"url\" content=\"https://insights.blackcoffer.com/wp-content/uploads/2018/12/Insights-blackv02.png\"></span><meta itemprop=\"name\" content=\"Blackcoffer Insights\"></span><meta itemprop=\"headline \" content=\"How Telehealth and Telemedicine helping people to fight against COVID-19\"><span class=\"td-page-meta\" itemprop=\"image\" itemscope itemtype=\"https://schema.org/ImageObject\"><meta itemprop=\"url\" content=\"https://insights.blackcoffer.com/wp-content/uploads/2022/04/GettyImages-1301576794.jpg\"><meta itemprop=\"width\" content=\"2100\"><meta itemprop=\"height\" content=\"1400\"></span>    </footer>\\r\\n\\r\\n    <div class=\"td_block_wrap td_block_related_posts td_uid_79_63e882a04fdd2_rand td_with_ajax_pagination td-pb-border-top td_block_template_1\"  data-td-block-uid=\"td_uid_79_63e882a04fdd2\" ><script>var block_td_uid_79_63e882a04fdd2 = new tdBlock();\\nblock_td_uid_79_63e882a04fdd2.id = \"td_uid_79_63e882a04fdd2\";\\nblock_td_uid_79_63e882a04fdd2.atts = \\'{\"limit\":3,\"ajax_pagination\":\"next_prev\",\"live_filter\":\"cur_post_same_categories\",\"td_ajax_filter_type\":\"td_custom_related\",\"class\":\"td_uid_79_63e882a04fdd2_rand\",\"td_column_number\":3,\"live_filter_cur_post_id\":3839,\"live_filter_cur_post_author\":\"1\",\"block_template_id\":\"\",\"header_color\":\"\",\"ajax_pagination_infinite_stop\":\"\",\"offset\":\"\",\"td_ajax_preloading\":\"\",\"td_filter_default_txt\":\"\",\"td_ajax_filter_ids\":\"\",\"el_class\":\"\",\"color_preset\":\"\",\"border_top\":\"\",\"css\":\"\",\"tdc_css\":\"\",\"tdc_css_class\":\"td_uid_79_63e882a04fdd2_rand\",\"tdc_css_class_style\":\"td_uid_79_63e882a04fdd2_rand_style\"}\\';\\nblock_td_uid_79_63e882a04fdd2.td_column_number = \"3\";\\nblock_td_uid_79_63e882a04fdd2.block_type = \"td_block_related_posts\";\\nblock_td_uid_79_63e882a04fdd2.post_count = \"3\";\\nblock_td_uid_79_63e882a04fdd2.found_posts = \"171\";\\nblock_td_uid_79_63e882a04fdd2.header_color = \"\";\\nblock_td_uid_79_63e882a04fdd2.ajax_pagination_infinite_stop = \"\";\\nblock_td_uid_79_63e882a04fdd2.max_num_pages = \"57\";\\ntdBlocksArray.push(block_td_uid_79_63e882a04fdd2);\\n</script><h4 class=\"td-related-title td-block-title\"><a id=\"td_uid_80_63e882a0510a2\" class=\"td-related-left td-cur-simple-item\" data-td_filter_value=\"\" data-td_block_id=\"td_uid_79_63e882a04fdd2\" href=\"#\">RELATED ARTICLES</a><a id=\"td_uid_81_63e882a0510a8\" class=\"td-related-right\" data-td_filter_value=\"td_related_more_from_author\" data-td_block_id=\"td_uid_79_63e882a04fdd2\" href=\"#\">MORE FROM AUTHOR</a></h4><div id=td_uid_79_63e882a04fdd2 class=\"td_block_inner\">\\n\\n\\t<div class=\"td-related-row\">\\n\\n\\t<div class=\"td-related-span4\">\\n\\r\\n        <div class=\"td_module_related_posts td-animation-stack td_mod_related_posts\">\\r\\n            <div class=\"td-module-image\">\\r\\n                <div class=\"td-module-thumb\"><a href=\"https://insights.blackcoffer.com/rise-of-telemedicine-and-its-impact-on-livelihood-by-2040-3/\" rel=\"bookmark\" class=\"td-image-wrap\" title=\"Rise of telemedicine and its Impact on Livelihood by 2040\"><img width=\"218\" height=\"150\" class=\"entry-thumb\" src=\"https://insights.blackcoffer.com/wp-content/uploads/2023/01/fidovhj-218x150.jpg\"  srcset=\"https://insights.blackcoffer.com/wp-content/uploads/2023/01/fidovhj-218x150.jpg 218w, https://insights.blackcoffer.com/wp-content/uploads/2023/01/fidovhj-100x70.jpg 100w\" sizes=\"(max-width: 218px) 100vw, 218px\"  alt=\"\" title=\"Rise of telemedicine and its Impact on Livelihood by 2040\" /></a></div>                <a href=\"https://insights.blackcoffer.com/category/what-we-think/\" class=\"td-post-category\">What We Think</a>            </div>\\r\\n            <div class=\"item-details\">\\r\\n                <h3 class=\"entry-title td-module-title\"><a href=\"https://insights.blackcoffer.com/rise-of-telemedicine-and-its-impact-on-livelihood-by-2040-3/\" rel=\"bookmark\" title=\"Rise of telemedicine and its Impact on Livelihood by 2040\">Rise of telemedicine and its Impact on Livelihood by 2040</a></h3>            </div>\\r\\n        </div>\\r\\n        \\n\\t</div> <!-- ./td-related-span4 -->\\n\\n\\t<div class=\"td-related-span4\">\\n\\r\\n        <div class=\"td_module_related_posts td-animation-stack td_mod_related_posts\">\\r\\n            <div class=\"td-module-image\">\\r\\n                <div class=\"td-module-thumb\"><a href=\"https://insights.blackcoffer.com/rise-of-e-health-and-its-impact-on-humans-by-the-year-2030/\" rel=\"bookmark\" class=\"td-image-wrap\" title=\"Rise of e-health and its impact on humans by the year 2030\"><img width=\"218\" height=\"150\" class=\"entry-thumb\" src=\"https://insights.blackcoffer.com/wp-content/uploads/2023/01/digital-health-218x150.jpg\"  srcset=\"https://insights.blackcoffer.com/wp-content/uploads/2023/01/digital-health-218x150.jpg 218w, https://insights.blackcoffer.com/wp-content/uploads/2023/01/digital-health-100x70.jpg 100w\" sizes=\"(max-width: 218px) 100vw, 218px\"  alt=\"\" title=\"Rise of e-health and its impact on humans by the year 2030\" /></a></div>                <a href=\"https://insights.blackcoffer.com/category/what-we-think/\" class=\"td-post-category\">What We Think</a>            </div>\\r\\n            <div class=\"item-details\">\\r\\n                <h3 class=\"entry-title td-module-title\"><a href=\"https://insights.blackcoffer.com/rise-of-e-health-and-its-impact-on-humans-by-the-year-2030/\" rel=\"bookmark\" title=\"Rise of e-health and its impact on humans by the year 2030\">Rise of e-health and its impact on humans by the year 2030</a></h3>            </div>\\r\\n        </div>\\r\\n        \\n\\t</div> <!-- ./td-related-span4 -->\\n\\n\\t<div class=\"td-related-span4\">\\n\\r\\n        <div class=\"td_module_related_posts td-animation-stack td_mod_related_posts\">\\r\\n            <div class=\"td-module-image\">\\r\\n                <div class=\"td-module-thumb\"><a href=\"https://insights.blackcoffer.com/rise-of-e-health-and-its-imapct-on-humans-by-the-year-2030-2/\" rel=\"bookmark\" class=\"td-image-wrap\" title=\"Rise of e-health and its impact on humans by the year 2030\"><img width=\"218\" height=\"150\" class=\"entry-thumb\" src=\"https://insights.blackcoffer.com/wp-content/uploads/2023/01/po-218x150.jpg\"  srcset=\"https://insights.blackcoffer.com/wp-content/uploads/2023/01/po-218x150.jpg 218w, https://insights.blackcoffer.com/wp-content/uploads/2023/01/po-100x70.jpg 100w\" sizes=\"(max-width: 218px) 100vw, 218px\"  alt=\"\" title=\"Rise of e-health and its impact on humans by the year 2030\" /></a></div>                <a href=\"https://insights.blackcoffer.com/category/what-we-think/\" class=\"td-post-category\">What We Think</a>            </div>\\r\\n            <div class=\"item-details\">\\r\\n                <h3 class=\"entry-title td-module-title\"><a href=\"https://insights.blackcoffer.com/rise-of-e-health-and-its-imapct-on-humans-by-the-year-2030-2/\" rel=\"bookmark\" title=\"Rise of e-health and its impact on humans by the year 2030\">Rise of e-health and its impact on humans by the year 2030</a></h3>            </div>\\r\\n        </div>\\r\\n        \\n\\t</div> <!-- ./td-related-span4 --></div><!--./row-fluid--></div><div class=\"td-next-prev-wrap\"><a href=\"#\" class=\"td-ajax-prev-page ajax-page-disabled\" id=\"prev-page-td_uid_79_63e882a04fdd2\" data-td_block_id=\"td_uid_79_63e882a04fdd2\"><i class=\"td-icon-font td-icon-menu-left\"></i></a><a href=\"#\"  class=\"td-ajax-next-page\" id=\"next-page-td_uid_79_63e882a04fdd2\" data-td_block_id=\"td_uid_79_63e882a04fdd2\"><i class=\"td-icon-font td-icon-menu-right\"></i></a></div></div> <!-- ./block -->\\r\\n\\t<div class=\"comments\" id=\"comments\">\\r\\n            </div> <!-- /.content -->\\r\\n                            </div>\\r\\n                        </div>\\r\\n                        <div class=\"td-pb-span4 td-main-sidebar\" role=\"complementary\">\\r\\n                            <div class=\"td-ss-main-sidebar\">\\r\\n                                <div class=\"td-a-rec td-a-rec-id-sidebar  td_uid_82_63e882a052144_rand td_block_template_1\">\\n<style>\\n/* custom css */\\n.td_uid_82_63e882a052144_rand.td-a-rec-img {\\r\\n\\t\\t\\t\\t    text-align: left;\\r\\n\\t\\t\\t\\t}\\r\\n\\t\\t\\t\\t.td_uid_82_63e882a052144_rand.td-a-rec-img img {\\r\\n                    margin: 0 auto 0 0;\\r\\n                }\\n</style><span class=\"td-adspot-title\">- Advertisement -</span><div class=\"td-all-devices\"><a href=\"#\" target=\"_blank\"><img src=\"https://insights.blackcoffer.com/wp-content/uploads/2019/01/Blackcoffer_ad.png\"  style=\"transition: all 0.3s ease 0s; transform: scale(1);\" onmouseover=\"this.style.transform=`scale(1.1)`\" onmouseout=\"this.style.transform=`scale(1)`\"/></a></div></div><div class=\"td_block_wrap td_block_7 td_block_widget td_uid_83_63e882a05245c_rand td_with_ajax_pagination td-pb-border-top td_block_template_1 td-column-1 td_block_padding\"  data-td-block-uid=\"td_uid_83_63e882a05245c\" ><script>var block_td_uid_83_63e882a05245c = new tdBlock();\\nblock_td_uid_83_63e882a05245c.id = \"td_uid_83_63e882a05245c\";\\nblock_td_uid_83_63e882a05245c.atts = \\'{\"custom_title\":\"MOST POPULAR INSIGHTS\",\"custom_url\":\"\",\"block_template_id\":\"\",\"header_color\":\"#\",\"header_text_color\":\"#\",\"accent_text_color\":\"#\",\"m6_tl\":\"\",\"limit\":\"4\",\"offset\":\"\",\"el_class\":\"\",\"post_ids\":\"\",\"category_id\":\"\",\"category_ids\":\"\",\"tag_slug\":\"\",\"autors_id\":\"\",\"installed_post_types\":\"\",\"sort\":\"random_posts\",\"td_ajax_filter_type\":\"\",\"td_ajax_filter_ids\":\"\",\"td_filter_default_txt\":\"All\",\"td_ajax_preloading\":\"\",\"ajax_pagination\":\"load_more\",\"ajax_pagination_infinite_stop\":\"\",\"class\":\"td_block_widget td_uid_83_63e882a05245c_rand\",\"separator\":\"\",\"show_modified_date\":\"\",\"f_header_font_header\":\"\",\"f_header_font_title\":\"Block header\",\"f_header_font_settings\":\"\",\"f_header_font_family\":\"\",\"f_header_font_size\":\"\",\"f_header_font_line_height\":\"\",\"f_header_font_style\":\"\",\"f_header_font_weight\":\"\",\"f_header_font_transform\":\"\",\"f_header_font_spacing\":\"\",\"f_header_\":\"\",\"f_ajax_font_title\":\"Ajax categories\",\"f_ajax_font_settings\":\"\",\"f_ajax_font_family\":\"\",\"f_ajax_font_size\":\"\",\"f_ajax_font_line_height\":\"\",\"f_ajax_font_style\":\"\",\"f_ajax_font_weight\":\"\",\"f_ajax_font_transform\":\"\",\"f_ajax_font_spacing\":\"\",\"f_ajax_\":\"\",\"f_more_font_title\":\"Load more button\",\"f_more_font_settings\":\"\",\"f_more_font_family\":\"\",\"f_more_font_size\":\"\",\"f_more_font_line_height\":\"\",\"f_more_font_style\":\"\",\"f_more_font_weight\":\"\",\"f_more_font_transform\":\"\",\"f_more_font_spacing\":\"\",\"f_more_\":\"\",\"m6f_title_font_header\":\"\",\"m6f_title_font_title\":\"Article title\",\"m6f_title_font_settings\":\"\",\"m6f_title_font_family\":\"\",\"m6f_title_font_size\":\"\",\"m6f_title_font_line_height\":\"\",\"m6f_title_font_style\":\"\",\"m6f_title_font_weight\":\"\",\"m6f_title_font_transform\":\"\",\"m6f_title_font_spacing\":\"\",\"m6f_title_\":\"\",\"m6f_cat_font_title\":\"Article category tag\",\"m6f_cat_font_settings\":\"\",\"m6f_cat_font_family\":\"\",\"m6f_cat_font_size\":\"\",\"m6f_cat_font_line_height\":\"\",\"m6f_cat_font_style\":\"\",\"m6f_cat_font_weight\":\"\",\"m6f_cat_font_transform\":\"\",\"m6f_cat_font_spacing\":\"\",\"m6f_cat_\":\"\",\"m6f_meta_font_title\":\"Article meta info\",\"m6f_meta_font_settings\":\"\",\"m6f_meta_font_family\":\"\",\"m6f_meta_font_size\":\"\",\"m6f_meta_font_line_height\":\"\",\"m6f_meta_font_style\":\"\",\"m6f_meta_font_weight\":\"\",\"m6f_meta_font_transform\":\"\",\"m6f_meta_font_spacing\":\"\",\"m6f_meta_\":\"\",\"css\":\"\",\"tdc_css\":\"\",\"td_column_number\":1,\"color_preset\":\"\",\"border_top\":\"\",\"tdc_css_class\":\"td_uid_83_63e882a05245c_rand\",\"tdc_css_class_style\":\"td_uid_83_63e882a05245c_rand_style\"}\\';\\nblock_td_uid_83_63e882a05245c.td_column_number = \"1\";\\nblock_td_uid_83_63e882a05245c.block_type = \"td_block_7\";\\nblock_td_uid_83_63e882a05245c.post_count = \"4\";\\nblock_td_uid_83_63e882a05245c.found_posts = \"408\";\\nblock_td_uid_83_63e882a05245c.header_color = \"#\";\\nblock_td_uid_83_63e882a05245c.ajax_pagination_infinite_stop = \"\";\\nblock_td_uid_83_63e882a05245c.max_num_pages = \"102\";\\ntdBlocksArray.push(block_td_uid_83_63e882a05245c);\\n</script><div class=\"td-block-title-wrap\"><h4 class=\"block-title td-block-title\"><span class=\"td-pulldown-size\">MOST POPULAR INSIGHTS</span></h4></div><div id=td_uid_83_63e882a05245c class=\"td_block_inner\">\\n\\n\\t<div class=\"td-block-span12\">\\n\\r\\n        <div class=\"td_module_6 td_module_wrap td-animation-stack\">\\r\\n\\r\\n        <div class=\"td-module-thumb\"><a href=\"https://insights.blackcoffer.com/population-and-community-survey-of-america/\" rel=\"bookmark\" class=\"td-image-wrap\" title=\"Population and Community Survey of America\"><img width=\"100\" height=\"70\" class=\"entry-thumb\" src=\"https://insights.blackcoffer.com/wp-content/uploads/2021/08/hero_home_02-1-100x70.jpg\"  srcset=\"https://insights.blackcoffer.com/wp-content/uploads/2021/08/hero_home_02-1-100x70.jpg 100w, https://insights.blackcoffer.com/wp-content/uploads/2021/08/hero_home_02-1-218x150.jpg 218w\" sizes=\"(max-width: 100px) 100vw, 100px\"  alt=\"\" title=\"Population and Community Survey of America\" /></a></div>\\r\\n        <div class=\"item-details\">\\r\\n            <h3 class=\"entry-title td-module-title\"><a href=\"https://insights.blackcoffer.com/population-and-community-survey-of-america/\" rel=\"bookmark\" title=\"Population and Community Survey of America\">Population and Community Survey of America</a></h3>            <div class=\"td-module-meta-info\">\\r\\n                                                <span class=\"td-post-date\"><time class=\"entry-date updated td-module-date\" datetime=\"2021-08-22T18:34:50+00:00\" >August 22, 2021</time></span>                            </div>\\r\\n        </div>\\r\\n\\r\\n        </div>\\r\\n\\r\\n        \\n\\t</div> <!-- ./td-block-span12 -->\\n\\n\\t<div class=\"td-block-span12\">\\n\\r\\n        <div class=\"td_module_6 td_module_wrap td-animation-stack\">\\r\\n\\r\\n        <div class=\"td-module-thumb\"><a href=\"https://insights.blackcoffer.com/interprets-the-coefficients-in-regression-models/\" rel=\"bookmark\" class=\"td-image-wrap\" title=\"Interpret the Coefficients in Regression Models\"><img width=\"100\" height=\"70\" class=\"entry-thumb\" src=\"https://insights.blackcoffer.com/wp-content/uploads/2019/04/520x400x5-100x70.jpg\"  srcset=\"https://insights.blackcoffer.com/wp-content/uploads/2019/04/520x400x5-100x70.jpg 100w, https://insights.blackcoffer.com/wp-content/uploads/2019/04/520x400x5-218x150.jpg 218w\" sizes=\"(max-width: 100px) 100vw, 100px\"  alt=\"\" title=\"Interpret the Coefficients in Regression Models\" /></a></div>\\r\\n        <div class=\"item-details\">\\r\\n            <h3 class=\"entry-title td-module-title\"><a href=\"https://insights.blackcoffer.com/interprets-the-coefficients-in-regression-models/\" rel=\"bookmark\" title=\"Interpret the Coefficients in Regression Models\">Interpret the Coefficients in Regression Models</a></h3>            <div class=\"td-module-meta-info\">\\r\\n                                                <span class=\"td-post-date\"><time class=\"entry-date updated td-module-date\" datetime=\"2019-04-04T22:03:26+00:00\" >April 4, 2019</time></span>                            </div>\\r\\n        </div>\\r\\n\\r\\n        </div>\\r\\n\\r\\n        \\n\\t</div> <!-- ./td-block-span12 -->\\n\\n\\t<div class=\"td-block-span12\">\\n\\r\\n        <div class=\"td_module_6 td_module_wrap td-animation-stack\">\\r\\n\\r\\n        <div class=\"td-module-thumb\"><a href=\"https://insights.blackcoffer.com/how-does-ai-help-to-monitor-retail-shelf-watches/\" rel=\"bookmark\" class=\"td-image-wrap\" title=\"How does AI help to monitor Retail Shelf watches?\"><img width=\"100\" height=\"70\" class=\"entry-thumb\" src=\"https://insights.blackcoffer.com/wp-content/uploads/2021/09/dmall1-100x70.jpg\"  srcset=\"https://insights.blackcoffer.com/wp-content/uploads/2021/09/dmall1-100x70.jpg 100w, https://insights.blackcoffer.com/wp-content/uploads/2021/09/dmall1-218x150.jpg 218w\" sizes=\"(max-width: 100px) 100vw, 100px\"  alt=\"\" title=\"How does AI help to monitor Retail Shelf watches?\" /></a></div>\\r\\n        <div class=\"item-details\">\\r\\n            <h3 class=\"entry-title td-module-title\"><a href=\"https://insights.blackcoffer.com/how-does-ai-help-to-monitor-retail-shelf-watches/\" rel=\"bookmark\" title=\"How does AI help to monitor Retail Shelf watches?\">How does AI help to monitor Retail Shelf watches?</a></h3>            <div class=\"td-module-meta-info\">\\r\\n                                                <span class=\"td-post-date\"><time class=\"entry-date updated td-module-date\" datetime=\"2021-09-28T14:21:25+00:00\" >September 28, 2021</time></span>                            </div>\\r\\n        </div>\\r\\n\\r\\n        </div>\\r\\n\\r\\n        \\n\\t</div> <!-- ./td-block-span12 -->\\n\\n\\t<div class=\"td-block-span12\">\\n\\r\\n        <div class=\"td_module_6 td_module_wrap td-animation-stack\">\\r\\n\\r\\n        <div class=\"td-module-thumb\"><a href=\"https://insights.blackcoffer.com/big-data-problem-solutions/\" rel=\"bookmark\" class=\"td-image-wrap\" title=\"Big Data Problem &#038; Solutions\"><img width=\"100\" height=\"70\" class=\"entry-thumb\" src=\"https://insights.blackcoffer.com/wp-content/uploads/2019/07/Big-Data-Problem-Solutions-100x70.jpg\"  srcset=\"https://insights.blackcoffer.com/wp-content/uploads/2019/07/Big-Data-Problem-Solutions-100x70.jpg 100w, https://insights.blackcoffer.com/wp-content/uploads/2019/07/Big-Data-Problem-Solutions-218x150.jpg 218w\" sizes=\"(max-width: 100px) 100vw, 100px\"  alt=\"Big Data Problem &amp; Solutions\" title=\"Big Data Problem &#038; Solutions\" /></a></div>\\r\\n        <div class=\"item-details\">\\r\\n            <h3 class=\"entry-title td-module-title\"><a href=\"https://insights.blackcoffer.com/big-data-problem-solutions/\" rel=\"bookmark\" title=\"Big Data Problem &#038; Solutions\">Big Data Problem &#038; Solutions</a></h3>            <div class=\"td-module-meta-info\">\\r\\n                                                <span class=\"td-post-date\"><time class=\"entry-date updated td-module-date\" datetime=\"2019-07-04T16:12:27+00:00\" >July 4, 2019</time></span>                            </div>\\r\\n        </div>\\r\\n\\r\\n        </div>\\r\\n\\r\\n        \\n\\t</div> <!-- ./td-block-span12 --></div><div class=\"td-load-more-wrap\"><a href=\"#\" class=\"td_ajax_load_more td_ajax_load_more_js\" id=\"next-page-td_uid_83_63e882a05245c\" data-td_block_id=\"td_uid_83_63e882a05245c\">Load more<i class=\"td-icon-font td-icon-menu-right\"></i></a></div></div> <!-- ./block --><div class=\"td_block_wrap td_block_15 td_block_widget td_uid_84_63e882a0556b0_rand td_with_ajax_pagination td-pb-border-top td_block_template_1 td-column-1 td_block_padding\"  data-td-block-uid=\"td_uid_84_63e882a0556b0\" ><script>var block_td_uid_84_63e882a0556b0 = new tdBlock();\\nblock_td_uid_84_63e882a0556b0.id = \"td_uid_84_63e882a0556b0\";\\nblock_td_uid_84_63e882a0556b0.atts = \\'{\"custom_title\":\"RECOMMENDED INSIGHTS\",\"custom_url\":\"\",\"block_template_id\":\"\",\"header_color\":\"#\",\"header_text_color\":\"#\",\"accent_text_color\":\"#\",\"mx4_tl\":\"\",\"limit\":\"4\",\"offset\":\"\",\"el_class\":\"\",\"post_ids\":\"\",\"category_id\":\"\",\"category_ids\":\"\",\"tag_slug\":\"\",\"autors_id\":\"\",\"installed_post_types\":\"\",\"sort\":\"random_posts\",\"td_ajax_filter_type\":\"\",\"td_ajax_filter_ids\":\"\",\"td_filter_default_txt\":\"All\",\"td_ajax_preloading\":\"\",\"ajax_pagination\":\"next_prev\",\"ajax_pagination_infinite_stop\":\"\",\"class\":\"td_block_widget td_uid_84_63e882a0556b0_rand\",\"separator\":\"\",\"show_modified_date\":\"\",\"f_header_font_header\":\"\",\"f_header_font_title\":\"Block header\",\"f_header_font_settings\":\"\",\"f_header_font_family\":\"\",\"f_header_font_size\":\"\",\"f_header_font_line_height\":\"\",\"f_header_font_style\":\"\",\"f_header_font_weight\":\"\",\"f_header_font_transform\":\"\",\"f_header_font_spacing\":\"\",\"f_header_\":\"\",\"f_ajax_font_title\":\"Ajax categories\",\"f_ajax_font_settings\":\"\",\"f_ajax_font_family\":\"\",\"f_ajax_font_size\":\"\",\"f_ajax_font_line_height\":\"\",\"f_ajax_font_style\":\"\",\"f_ajax_font_weight\":\"\",\"f_ajax_font_transform\":\"\",\"f_ajax_font_spacing\":\"\",\"f_ajax_\":\"\",\"f_more_font_title\":\"Load more button\",\"f_more_font_settings\":\"\",\"f_more_font_family\":\"\",\"f_more_font_size\":\"\",\"f_more_font_line_height\":\"\",\"f_more_font_style\":\"\",\"f_more_font_weight\":\"\",\"f_more_font_transform\":\"\",\"f_more_font_spacing\":\"\",\"f_more_\":\"\",\"mx4f_title_font_header\":\"\",\"mx4f_title_font_title\":\"Article title\",\"mx4f_title_font_settings\":\"\",\"mx4f_title_font_family\":\"\",\"mx4f_title_font_size\":\"\",\"mx4f_title_font_line_height\":\"\",\"mx4f_title_font_style\":\"\",\"mx4f_title_font_weight\":\"\",\"mx4f_title_font_transform\":\"\",\"mx4f_title_font_spacing\":\"\",\"mx4f_title_\":\"\",\"mx4f_cat_font_title\":\"Article category tag\",\"mx4f_cat_font_settings\":\"\",\"mx4f_cat_font_family\":\"\",\"mx4f_cat_font_size\":\"\",\"mx4f_cat_font_line_height\":\"\",\"mx4f_cat_font_style\":\"\",\"mx4f_cat_font_weight\":\"\",\"mx4f_cat_font_transform\":\"\",\"mx4f_cat_font_spacing\":\"\",\"mx4f_cat_\":\"\",\"css\":\"\",\"tdc_css\":\"\",\"td_column_number\":1,\"color_preset\":\"\",\"border_top\":\"\",\"tdc_css_class\":\"td_uid_84_63e882a0556b0_rand\",\"tdc_css_class_style\":\"td_uid_84_63e882a0556b0_rand_style\"}\\';\\nblock_td_uid_84_63e882a0556b0.td_column_number = \"1\";\\nblock_td_uid_84_63e882a0556b0.block_type = \"td_block_15\";\\nblock_td_uid_84_63e882a0556b0.post_count = \"4\";\\nblock_td_uid_84_63e882a0556b0.found_posts = \"408\";\\nblock_td_uid_84_63e882a0556b0.header_color = \"#\";\\nblock_td_uid_84_63e882a0556b0.ajax_pagination_infinite_stop = \"\";\\nblock_td_uid_84_63e882a0556b0.max_num_pages = \"102\";\\ntdBlocksArray.push(block_td_uid_84_63e882a0556b0);\\n</script><div class=\"td-block-title-wrap\"><h4 class=\"block-title td-block-title\"><span class=\"td-pulldown-size\">RECOMMENDED INSIGHTS</span></h4></div><div id=td_uid_84_63e882a0556b0 class=\"td_block_inner td-column-1\"><div class=\"td-cust-row\">\\n\\n\\t<div class=\"td-block-span12\">\\n\\r\\n        <div class=\"td_module_mx4 td_module_wrap td-animation-stack\">\\r\\n            <div class=\"td-module-image\">\\r\\n                <div class=\"td-module-thumb\"><a href=\"https://insights.blackcoffer.com/sentiment-analysis-bot-for-price-prediction/\" rel=\"bookmark\" class=\"td-image-wrap\" title=\"Sentiment Analysis Bot for Price Prediction\"><img width=\"218\" height=\"150\" class=\"entry-thumb\" src=\"https://insights.blackcoffer.com/wp-content/uploads/2021/03/h1-image-4-1536x593-1-218x150.jpg\"  srcset=\"https://insights.blackcoffer.com/wp-content/uploads/2021/03/h1-image-4-1536x593-1-218x150.jpg 218w, https://insights.blackcoffer.com/wp-content/uploads/2021/03/h1-image-4-1536x593-1-100x70.jpg 100w\" sizes=\"(max-width: 218px) 100vw, 218px\"  alt=\"\" title=\"Sentiment Analysis Bot for Price Prediction\" /></a></div>                <a href=\"https://insights.blackcoffer.com/category/our-solutions/\" class=\"td-post-category\">What We Do</a>            </div>\\r\\n\\r\\n            <h3 class=\"entry-title td-module-title\"><a href=\"https://insights.blackcoffer.com/sentiment-analysis-bot-for-price-prediction/\" rel=\"bookmark\" title=\"Sentiment Analysis Bot for Price Prediction\">Sentiment Analysis Bot for Price Prediction</a></h3>\\r\\n        </div>\\r\\n\\r\\n        \\n\\t</div> <!-- ./td-block-span12 -->\\n\\n\\t<div class=\"td-block-span12\">\\n\\r\\n        <div class=\"td_module_mx4 td_module_wrap td-animation-stack\">\\r\\n            <div class=\"td-module-image\">\\r\\n                <div class=\"td-module-thumb\"><a href=\"https://insights.blackcoffer.com/easy-database-access/\" rel=\"bookmark\" class=\"td-image-wrap\" title=\"Easy Database Access\"><img width=\"218\" height=\"150\" class=\"entry-thumb\" src=\"https://insights.blackcoffer.com/wp-content/uploads/2019/06/Members_Map_–_Eonet-218x150.jpg\"  srcset=\"https://insights.blackcoffer.com/wp-content/uploads/2019/06/Members_Map_–_Eonet-218x150.jpg 218w, https://insights.blackcoffer.com/wp-content/uploads/2019/06/Members_Map_–_Eonet-100x70.jpg 100w\" sizes=\"(max-width: 218px) 100vw, 218px\"  alt=\"\" title=\"Easy Database Access\" /></a></div>                <a href=\"https://insights.blackcoffer.com/category/our-solutions/\" class=\"td-post-category\">What We Do</a>            </div>\\r\\n\\r\\n            <h3 class=\"entry-title td-module-title\"><a href=\"https://insights.blackcoffer.com/easy-database-access/\" rel=\"bookmark\" title=\"Easy Database Access\">Easy Database Access</a></h3>\\r\\n        </div>\\r\\n\\r\\n        \\n\\t</div> <!-- ./td-block-span12 --></div><div class=\"td-cust-row\">\\n\\n\\t<div class=\"td-block-span12\">\\n\\r\\n        <div class=\"td_module_mx4 td_module_wrap td-animation-stack\">\\r\\n            <div class=\"td-module-image\">\\r\\n                <div class=\"td-module-thumb\"><a href=\"https://insights.blackcoffer.com/the-future-of-telehealth-services/\" rel=\"bookmark\" class=\"td-image-wrap\" title=\"The future of Telehealth services.\"><img width=\"218\" height=\"150\" class=\"entry-thumb\" src=\"https://insights.blackcoffer.com/wp-content/uploads/2022/04/tel2-218x150.jpeg\"  srcset=\"https://insights.blackcoffer.com/wp-content/uploads/2022/04/tel2-218x150.jpeg 218w, https://insights.blackcoffer.com/wp-content/uploads/2022/04/tel2-100x70.jpeg 100w\" sizes=\"(max-width: 218px) 100vw, 218px\"  alt=\"\" title=\"The future of Telehealth services.\" /></a></div>                <a href=\"https://insights.blackcoffer.com/category/what-we-think/\" class=\"td-post-category\">What We Think</a>            </div>\\r\\n\\r\\n            <h3 class=\"entry-title td-module-title\"><a href=\"https://insights.blackcoffer.com/the-future-of-telehealth-services/\" rel=\"bookmark\" title=\"The future of Telehealth services.\">The future of Telehealth services.</a></h3>\\r\\n        </div>\\r\\n\\r\\n        \\n\\t</div> <!-- ./td-block-span12 -->\\n\\n\\t<div class=\"td-block-span12\">\\n\\r\\n        <div class=\"td_module_mx4 td_module_wrap td-animation-stack\">\\r\\n            <div class=\"td-module-image\">\\r\\n                <div class=\"td-module-thumb\"><a href=\"https://insights.blackcoffer.com/business-analytics-textile-industry/\" rel=\"bookmark\" class=\"td-image-wrap\" title=\"Business Analytics in Textile Industry (Raymond Ltd.)\"><img width=\"218\" height=\"150\" class=\"entry-thumb\" src=\"https://insights.blackcoffer.com/wp-content/uploads/2018/06/Business-Analytics-in-Textile-Industry-Raymond-Ltd.-218x150.jpg\"  srcset=\"https://insights.blackcoffer.com/wp-content/uploads/2018/06/Business-Analytics-in-Textile-Industry-Raymond-Ltd.-218x150.jpg 218w, https://insights.blackcoffer.com/wp-content/uploads/2018/06/Business-Analytics-in-Textile-Industry-Raymond-Ltd.-100x70.jpg 100w\" sizes=\"(max-width: 218px) 100vw, 218px\"  alt=\"Business Analytics in Textile Industry (Raymond Ltd.)\" title=\"Business Analytics in Textile Industry (Raymond Ltd.)\" /></a></div>                <a href=\"https://insights.blackcoffer.com/category/what-we-think/data-science/analytics/\" class=\"td-post-category\">Analytics</a>            </div>\\r\\n\\r\\n            <h3 class=\"entry-title td-module-title\"><a href=\"https://insights.blackcoffer.com/business-analytics-textile-industry/\" rel=\"bookmark\" title=\"Business Analytics in Textile Industry (Raymond Ltd.)\">Business Analytics in Textile Industry (Raymond Ltd.)</a></h3>\\r\\n        </div>\\r\\n\\r\\n        \\n\\t</div> <!-- ./td-block-span12 --></div></div><div class=\"td-next-prev-wrap\"><a href=\"#\" class=\"td-ajax-prev-page ajax-page-disabled\" id=\"prev-page-td_uid_84_63e882a0556b0\" data-td_block_id=\"td_uid_84_63e882a0556b0\"><i class=\"td-icon-font td-icon-menu-left\"></i></a><a href=\"#\"  class=\"td-ajax-next-page\" id=\"next-page-td_uid_84_63e882a0556b0\" data-td_block_id=\"td_uid_84_63e882a0556b0\"><i class=\"td-icon-font td-icon-menu-right\"></i></a></div></div> <!-- ./block --><div class=\"clearfix\"></div>                            </div>\\r\\n                        </div>\\r\\n                            </div> <!-- /.td-pb-row -->\\r\\n    </div> <!-- /.td-container -->\\r\\n</article> <!-- /.post -->\\r\\n\\r\\n<!-- Instagram -->\\r\\n\\r\\n\\r\\n\\r\\n\\r\\n\\t<!-- Footer -->\\r\\n\\t<div class=\"td-footer-wrapper td-footer-container td-container-wrap \">\\r\\n    <div class=\"td-container\">\\r\\n\\r\\n\\t    <div class=\"td-pb-row\">\\r\\n\\t\\t    <div class=\"td-pb-span12\">\\r\\n\\t\\t\\t    \\t\\t    </div>\\r\\n\\t    </div>\\r\\n\\r\\n        <div class=\"td-pb-row\">\\r\\n\\r\\n            <div class=\"td-pb-span4\">\\r\\n                <div class=\"td_block_wrap td_block_7 td_uid_86_63e882a0588c9_rand td-pb-border-top td_block_template_1 td-column-1 td_block_padding\"  data-td-block-uid=\"td_uid_86_63e882a0588c9\" ><script>var block_td_uid_86_63e882a0588c9 = new tdBlock();\\nblock_td_uid_86_63e882a0588c9.id = \"td_uid_86_63e882a0588c9\";\\nblock_td_uid_86_63e882a0588c9.atts = \\'{\"custom_title\":\"EDITOR PICKS\",\"limit\":3,\"sort\":\"featured\",\"separator\":\"\",\"custom_url\":\"\",\"block_template_id\":\"\",\"m6_tl\":\"\",\"post_ids\":\"\",\"category_id\":\"\",\"category_ids\":\"\",\"tag_slug\":\"\",\"autors_id\":\"\",\"installed_post_types\":\"\",\"offset\":\"\",\"show_modified_date\":\"\",\"el_class\":\"\",\"td_ajax_filter_type\":\"\",\"td_ajax_filter_ids\":\"\",\"td_filter_default_txt\":\"All\",\"td_ajax_preloading\":\"\",\"f_header_font_header\":\"\",\"f_header_font_title\":\"Block header\",\"f_header_font_settings\":\"\",\"f_header_font_family\":\"\",\"f_header_font_size\":\"\",\"f_header_font_line_height\":\"\",\"f_header_font_style\":\"\",\"f_header_font_weight\":\"\",\"f_header_font_transform\":\"\",\"f_header_font_spacing\":\"\",\"f_header_\":\"\",\"f_ajax_font_title\":\"Ajax categories\",\"f_ajax_font_settings\":\"\",\"f_ajax_font_family\":\"\",\"f_ajax_font_size\":\"\",\"f_ajax_font_line_height\":\"\",\"f_ajax_font_style\":\"\",\"f_ajax_font_weight\":\"\",\"f_ajax_font_transform\":\"\",\"f_ajax_font_spacing\":\"\",\"f_ajax_\":\"\",\"f_more_font_title\":\"Load more button\",\"f_more_font_settings\":\"\",\"f_more_font_family\":\"\",\"f_more_font_size\":\"\",\"f_more_font_line_height\":\"\",\"f_more_font_style\":\"\",\"f_more_font_weight\":\"\",\"f_more_font_transform\":\"\",\"f_more_font_spacing\":\"\",\"f_more_\":\"\",\"m6f_title_font_header\":\"\",\"m6f_title_font_title\":\"Article title\",\"m6f_title_font_settings\":\"\",\"m6f_title_font_family\":\"\",\"m6f_title_font_size\":\"\",\"m6f_title_font_line_height\":\"\",\"m6f_title_font_style\":\"\",\"m6f_title_font_weight\":\"\",\"m6f_title_font_transform\":\"\",\"m6f_title_font_spacing\":\"\",\"m6f_title_\":\"\",\"m6f_cat_font_title\":\"Article category tag\",\"m6f_cat_font_settings\":\"\",\"m6f_cat_font_family\":\"\",\"m6f_cat_font_size\":\"\",\"m6f_cat_font_line_height\":\"\",\"m6f_cat_font_style\":\"\",\"m6f_cat_font_weight\":\"\",\"m6f_cat_font_transform\":\"\",\"m6f_cat_font_spacing\":\"\",\"m6f_cat_\":\"\",\"m6f_meta_font_title\":\"Article meta info\",\"m6f_meta_font_settings\":\"\",\"m6f_meta_font_family\":\"\",\"m6f_meta_font_size\":\"\",\"m6f_meta_font_line_height\":\"\",\"m6f_meta_font_style\":\"\",\"m6f_meta_font_weight\":\"\",\"m6f_meta_font_transform\":\"\",\"m6f_meta_font_spacing\":\"\",\"m6f_meta_\":\"\",\"ajax_pagination\":\"\",\"ajax_pagination_infinite_stop\":\"\",\"css\":\"\",\"tdc_css\":\"\",\"td_column_number\":1,\"header_color\":\"\",\"color_preset\":\"\",\"border_top\":\"\",\"class\":\"td_uid_86_63e882a0588c9_rand\",\"tdc_css_class\":\"td_uid_86_63e882a0588c9_rand\",\"tdc_css_class_style\":\"td_uid_86_63e882a0588c9_rand_style\"}\\';\\nblock_td_uid_86_63e882a0588c9.td_column_number = \"1\";\\nblock_td_uid_86_63e882a0588c9.block_type = \"td_block_7\";\\nblock_td_uid_86_63e882a0588c9.post_count = \"3\";\\nblock_td_uid_86_63e882a0588c9.found_posts = \"72\";\\nblock_td_uid_86_63e882a0588c9.header_color = \"\";\\nblock_td_uid_86_63e882a0588c9.ajax_pagination_infinite_stop = \"\";\\nblock_td_uid_86_63e882a0588c9.max_num_pages = \"24\";\\ntdBlocksArray.push(block_td_uid_86_63e882a0588c9);\\n</script><div class=\"td-block-title-wrap\"><h4 class=\"block-title td-block-title\"><span class=\"td-pulldown-size\">EDITOR PICKS</span></h4></div><div id=td_uid_86_63e882a0588c9 class=\"td_block_inner\">\\n\\n\\t<div class=\"td-block-span12\">\\n\\r\\n        <div class=\"td_module_6 td_module_wrap td-animation-stack\">\\r\\n\\r\\n        <div class=\"td-module-thumb\"><a href=\"https://insights.blackcoffer.com/algorithmic-trading-for-multiple-commodities-markets-like-forex-metals-energy-etc/\" rel=\"bookmark\" class=\"td-image-wrap\" title=\"Algorithmic trading for multiple commodities markets, like Forex, Metals, Energy, etc.\"><img width=\"100\" height=\"70\" class=\"entry-thumb\" src=\"https://insights.blackcoffer.com/wp-content/uploads/2022/12/h4-img-01-100x70.jpg\"  srcset=\"https://insights.blackcoffer.com/wp-content/uploads/2022/12/h4-img-01-100x70.jpg 100w, https://insights.blackcoffer.com/wp-content/uploads/2022/12/h4-img-01-218x150.jpg 218w\" sizes=\"(max-width: 100px) 100vw, 100px\"  alt=\"\" title=\"Algorithmic trading for multiple commodities markets, like Forex, Metals, Energy, etc.\" /></a></div>\\r\\n        <div class=\"item-details\">\\r\\n            <h3 class=\"entry-title td-module-title\"><a href=\"https://insights.blackcoffer.com/algorithmic-trading-for-multiple-commodities-markets-like-forex-metals-energy-etc/\" rel=\"bookmark\" title=\"Algorithmic trading for multiple commodities markets, like Forex, Metals, Energy, etc.\">Algorithmic trading for multiple commodities markets, like Forex, Metals, Energy, etc.</a></h3>            <div class=\"td-module-meta-info\">\\r\\n                                                <span class=\"td-post-date\"><time class=\"entry-date updated td-module-date\" datetime=\"2022-12-31T20:32:11+00:00\" >December 31, 2022</time></span>                            </div>\\r\\n        </div>\\r\\n\\r\\n        </div>\\r\\n\\r\\n        \\n\\t</div> <!-- ./td-block-span12 -->\\n\\n\\t<div class=\"td-block-span12\">\\n\\r\\n        <div class=\"td_module_6 td_module_wrap td-animation-stack\">\\r\\n\\r\\n        <div class=\"td-module-thumb\"><a href=\"https://insights.blackcoffer.com/trading-bot-for-forex/\" rel=\"bookmark\" class=\"td-image-wrap\" title=\"Trading Bot for FOREX\"><img width=\"100\" height=\"70\" class=\"entry-thumb\" src=\"https://insights.blackcoffer.com/wp-content/uploads/2022/12/32-100x70.jpg\"  srcset=\"https://insights.blackcoffer.com/wp-content/uploads/2022/12/32-100x70.jpg 100w, https://insights.blackcoffer.com/wp-content/uploads/2022/12/32-218x150.jpg 218w\" sizes=\"(max-width: 100px) 100vw, 100px\"  alt=\"\" title=\"Trading Bot for FOREX\" /></a></div>\\r\\n        <div class=\"item-details\">\\r\\n            <h3 class=\"entry-title td-module-title\"><a href=\"https://insights.blackcoffer.com/trading-bot-for-forex/\" rel=\"bookmark\" title=\"Trading Bot for FOREX\">Trading Bot for FOREX</a></h3>            <div class=\"td-module-meta-info\">\\r\\n                                                <span class=\"td-post-date\"><time class=\"entry-date updated td-module-date\" datetime=\"2022-12-31T20:12:47+00:00\" >December 31, 2022</time></span>                            </div>\\r\\n        </div>\\r\\n\\r\\n        </div>\\r\\n\\r\\n        \\n\\t</div> <!-- ./td-block-span12 -->\\n\\n\\t<div class=\"td-block-span12\">\\n\\r\\n        <div class=\"td_module_6 td_module_wrap td-animation-stack\">\\r\\n\\r\\n        <div class=\"td-module-thumb\"><a href=\"https://insights.blackcoffer.com/python-model-for-the-analysis-of-sector-specific-stock-etfs-for-investment-purposes%ef%bf%bc/\" rel=\"bookmark\" class=\"td-image-wrap\" title=\"Python model for the analysis of sector-specific stock ETFs for investment purposes\"><img width=\"100\" height=\"70\" class=\"entry-thumb\" src=\"https://insights.blackcoffer.com/wp-content/uploads/2022/12/main-100x70.jpg\"  srcset=\"https://insights.blackcoffer.com/wp-content/uploads/2022/12/main-100x70.jpg 100w, https://insights.blackcoffer.com/wp-content/uploads/2022/12/main-218x150.jpg 218w\" sizes=\"(max-width: 100px) 100vw, 100px\"  alt=\"\" title=\"Python model for the analysis of sector-specific stock ETFs for investment purposes\" /></a></div>\\r\\n        <div class=\"item-details\">\\r\\n            <h3 class=\"entry-title td-module-title\"><a href=\"https://insights.blackcoffer.com/python-model-for-the-analysis-of-sector-specific-stock-etfs-for-investment-purposes%ef%bf%bc/\" rel=\"bookmark\" title=\"Python model for the analysis of sector-specific stock ETFs for investment purposes\">Python model for the analysis of sector-specific stock ETFs for investment...</a></h3>            <div class=\"td-module-meta-info\">\\r\\n                                                <span class=\"td-post-date\"><time class=\"entry-date updated td-module-date\" datetime=\"2022-12-31T19:31:55+00:00\" >December 31, 2022</time></span>                            </div>\\r\\n        </div>\\r\\n\\r\\n        </div>\\r\\n\\r\\n        \\n\\t</div> <!-- ./td-block-span12 --></div></div> <!-- ./block -->                            </div>\\r\\n\\r\\n            <div class=\"td-pb-span4\">\\r\\n                <div class=\"td_block_wrap td_block_7 td_uid_87_63e882a05aa57_rand td-pb-border-top td_block_template_1 td-column-1 td_block_padding\"  data-td-block-uid=\"td_uid_87_63e882a05aa57\" ><script>var block_td_uid_87_63e882a05aa57 = new tdBlock();\\nblock_td_uid_87_63e882a05aa57.id = \"td_uid_87_63e882a05aa57\";\\nblock_td_uid_87_63e882a05aa57.atts = \\'{\"custom_title\":\"POPULAR POSTS\",\"limit\":3,\"sort\":\"popular\",\"separator\":\"\",\"custom_url\":\"\",\"block_template_id\":\"\",\"m6_tl\":\"\",\"post_ids\":\"\",\"category_id\":\"\",\"category_ids\":\"\",\"tag_slug\":\"\",\"autors_id\":\"\",\"installed_post_types\":\"\",\"offset\":\"\",\"show_modified_date\":\"\",\"el_class\":\"\",\"td_ajax_filter_type\":\"\",\"td_ajax_filter_ids\":\"\",\"td_filter_default_txt\":\"All\",\"td_ajax_preloading\":\"\",\"f_header_font_header\":\"\",\"f_header_font_title\":\"Block header\",\"f_header_font_settings\":\"\",\"f_header_font_family\":\"\",\"f_header_font_size\":\"\",\"f_header_font_line_height\":\"\",\"f_header_font_style\":\"\",\"f_header_font_weight\":\"\",\"f_header_font_transform\":\"\",\"f_header_font_spacing\":\"\",\"f_header_\":\"\",\"f_ajax_font_title\":\"Ajax categories\",\"f_ajax_font_settings\":\"\",\"f_ajax_font_family\":\"\",\"f_ajax_font_size\":\"\",\"f_ajax_font_line_height\":\"\",\"f_ajax_font_style\":\"\",\"f_ajax_font_weight\":\"\",\"f_ajax_font_transform\":\"\",\"f_ajax_font_spacing\":\"\",\"f_ajax_\":\"\",\"f_more_font_title\":\"Load more button\",\"f_more_font_settings\":\"\",\"f_more_font_family\":\"\",\"f_more_font_size\":\"\",\"f_more_font_line_height\":\"\",\"f_more_font_style\":\"\",\"f_more_font_weight\":\"\",\"f_more_font_transform\":\"\",\"f_more_font_spacing\":\"\",\"f_more_\":\"\",\"m6f_title_font_header\":\"\",\"m6f_title_font_title\":\"Article title\",\"m6f_title_font_settings\":\"\",\"m6f_title_font_family\":\"\",\"m6f_title_font_size\":\"\",\"m6f_title_font_line_height\":\"\",\"m6f_title_font_style\":\"\",\"m6f_title_font_weight\":\"\",\"m6f_title_font_transform\":\"\",\"m6f_title_font_spacing\":\"\",\"m6f_title_\":\"\",\"m6f_cat_font_title\":\"Article category tag\",\"m6f_cat_font_settings\":\"\",\"m6f_cat_font_family\":\"\",\"m6f_cat_font_size\":\"\",\"m6f_cat_font_line_height\":\"\",\"m6f_cat_font_style\":\"\",\"m6f_cat_font_weight\":\"\",\"m6f_cat_font_transform\":\"\",\"m6f_cat_font_spacing\":\"\",\"m6f_cat_\":\"\",\"m6f_meta_font_title\":\"Article meta info\",\"m6f_meta_font_settings\":\"\",\"m6f_meta_font_family\":\"\",\"m6f_meta_font_size\":\"\",\"m6f_meta_font_line_height\":\"\",\"m6f_meta_font_style\":\"\",\"m6f_meta_font_weight\":\"\",\"m6f_meta_font_transform\":\"\",\"m6f_meta_font_spacing\":\"\",\"m6f_meta_\":\"\",\"ajax_pagination\":\"\",\"ajax_pagination_infinite_stop\":\"\",\"css\":\"\",\"tdc_css\":\"\",\"td_column_number\":1,\"header_color\":\"\",\"color_preset\":\"\",\"border_top\":\"\",\"class\":\"td_uid_87_63e882a05aa57_rand\",\"tdc_css_class\":\"td_uid_87_63e882a05aa57_rand\",\"tdc_css_class_style\":\"td_uid_87_63e882a05aa57_rand_style\"}\\';\\nblock_td_uid_87_63e882a05aa57.td_column_number = \"1\";\\nblock_td_uid_87_63e882a05aa57.block_type = \"td_block_7\";\\nblock_td_uid_87_63e882a05aa57.post_count = \"3\";\\nblock_td_uid_87_63e882a05aa57.found_posts = \"408\";\\nblock_td_uid_87_63e882a05aa57.header_color = \"\";\\nblock_td_uid_87_63e882a05aa57.ajax_pagination_infinite_stop = \"\";\\nblock_td_uid_87_63e882a05aa57.max_num_pages = \"136\";\\ntdBlocksArray.push(block_td_uid_87_63e882a05aa57);\\n</script><div class=\"td-block-title-wrap\"><h4 class=\"block-title td-block-title\"><span class=\"td-pulldown-size\">POPULAR POSTS</span></h4></div><div id=td_uid_87_63e882a05aa57 class=\"td_block_inner\">\\n\\n\\t<div class=\"td-block-span12\">\\n\\r\\n        <div class=\"td_module_6 td_module_wrap td-animation-stack\">\\r\\n\\r\\n        <div class=\"td-module-thumb\"><a href=\"https://insights.blackcoffer.com/ai-in-healthcare-to-improve-patient-outcomes/\" rel=\"bookmark\" class=\"td-image-wrap\" title=\"AI in healthcare to Improve Patient Outcomes\"><img width=\"100\" height=\"70\" class=\"entry-thumb\" src=\"https://insights.blackcoffer.com/wp-content/uploads/2021/06/h12-slider-image-2-100x70.jpg\"  srcset=\"https://insights.blackcoffer.com/wp-content/uploads/2021/06/h12-slider-image-2-100x70.jpg 100w, https://insights.blackcoffer.com/wp-content/uploads/2021/06/h12-slider-image-2-218x150.jpg 218w\" sizes=\"(max-width: 100px) 100vw, 100px\"  alt=\"\" title=\"AI in healthcare to Improve Patient Outcomes\" /></a></div>\\r\\n        <div class=\"item-details\">\\r\\n            <h3 class=\"entry-title td-module-title\"><a href=\"https://insights.blackcoffer.com/ai-in-healthcare-to-improve-patient-outcomes/\" rel=\"bookmark\" title=\"AI in healthcare to Improve Patient Outcomes\">AI in healthcare to Improve Patient Outcomes</a></h3>            <div class=\"td-module-meta-info\">\\r\\n                                                <span class=\"td-post-date\"><time class=\"entry-date updated td-module-date\" datetime=\"2021-06-26T12:37:50+00:00\" >June 26, 2021</time></span>                            </div>\\r\\n        </div>\\r\\n\\r\\n        </div>\\r\\n\\r\\n        \\n\\t</div> <!-- ./td-block-span12 -->\\n\\n\\t<div class=\"td-block-span12\">\\n\\r\\n        <div class=\"td_module_6 td_module_wrap td-animation-stack\">\\r\\n\\r\\n        <div class=\"td-module-thumb\"><a href=\"https://insights.blackcoffer.com/how-is-login-logout-time-tracking-for-employees-in-office-done-by-ai/\" rel=\"bookmark\" class=\"td-image-wrap\" title=\"How is Login Logout Time Tracking for Employees in Office done by AI?\"><img width=\"100\" height=\"70\" class=\"entry-thumb\" src=\"https://insights.blackcoffer.com/wp-content/uploads/2021/09/pro2-100x70.jpg\"  srcset=\"https://insights.blackcoffer.com/wp-content/uploads/2021/09/pro2-100x70.jpg 100w, https://insights.blackcoffer.com/wp-content/uploads/2021/09/pro2-218x150.jpg 218w\" sizes=\"(max-width: 100px) 100vw, 100px\"  alt=\"\" title=\"How is Login Logout Time Tracking for Employees in Office done by AI?\" /></a></div>\\r\\n        <div class=\"item-details\">\\r\\n            <h3 class=\"entry-title td-module-title\"><a href=\"https://insights.blackcoffer.com/how-is-login-logout-time-tracking-for-employees-in-office-done-by-ai/\" rel=\"bookmark\" title=\"How is Login Logout Time Tracking for Employees in Office done by AI?\">How is Login Logout Time Tracking for Employees in Office done...</a></h3>            <div class=\"td-module-meta-info\">\\r\\n                                                <span class=\"td-post-date\"><time class=\"entry-date updated td-module-date\" datetime=\"2021-09-28T15:23:17+00:00\" >September 28, 2021</time></span>                            </div>\\r\\n        </div>\\r\\n\\r\\n        </div>\\r\\n\\r\\n        \\n\\t</div> <!-- ./td-block-span12 -->\\n\\n\\t<div class=\"td-block-span12\">\\n\\r\\n        <div class=\"td_module_6 td_module_wrap td-animation-stack\">\\r\\n\\r\\n        <div class=\"td-module-thumb\"><a href=\"https://insights.blackcoffer.com/should-celebrities-be-allowed-to-join-politics/\" rel=\"bookmark\" class=\"td-image-wrap\" title=\"Should celebrities be allowed to join politics?\"><img width=\"100\" height=\"70\" class=\"entry-thumb\" src=\"https://insights.blackcoffer.com/wp-content/uploads/2020/04/new-100x70.jpg\"  srcset=\"https://insights.blackcoffer.com/wp-content/uploads/2020/04/new-100x70.jpg 100w, https://insights.blackcoffer.com/wp-content/uploads/2020/04/new-218x150.jpg 218w\" sizes=\"(max-width: 100px) 100vw, 100px\"  alt=\"Should celebrities be allowed to join politics ?\" title=\"Should celebrities be allowed to join politics?\" /></a></div>\\r\\n        <div class=\"item-details\">\\r\\n            <h3 class=\"entry-title td-module-title\"><a href=\"https://insights.blackcoffer.com/should-celebrities-be-allowed-to-join-politics/\" rel=\"bookmark\" title=\"Should celebrities be allowed to join politics?\">Should celebrities be allowed to join politics?</a></h3>            <div class=\"td-module-meta-info\">\\r\\n                                                <span class=\"td-post-date\"><time class=\"entry-date updated td-module-date\" datetime=\"2020-04-16T12:04:12+00:00\" >April 16, 2020</time></span>                            </div>\\r\\n        </div>\\r\\n\\r\\n        </div>\\r\\n\\r\\n        \\n\\t</div> <!-- ./td-block-span12 --></div></div> <!-- ./block -->                            </div>\\r\\n\\r\\n            <div class=\"td-pb-span4\">\\r\\n                <div class=\"td_block_wrap td_block_popular_categories td_uid_88_63e882a05f7bd_rand widget widget_categories td-pb-border-top td_block_template_1\"  data-td-block-uid=\"td_uid_88_63e882a05f7bd\" ><div class=\"td-block-title-wrap\"><h4 class=\"block-title td-block-title\"><span class=\"td-pulldown-size\">POPULAR CATEGORY</span></h4></div><ul class=\"td-pb-padding-side\"><li><a href=\"https://insights.blackcoffer.com/category/what-we-think/\"><span class=\"td-cat-name\">What We Think</span><span class=\"td-cat-no\">166</span></a></li><li><a href=\"https://insights.blackcoffer.com/category/our-success-stories/\"><span class=\"td-cat-name\">Our Success Stories</span><span class=\"td-cat-no\">126</span></a></li><li><a href=\"https://insights.blackcoffer.com/category/blackcoffer/\"><span class=\"td-cat-name\">Blackcoffer</span><span class=\"td-cat-no\">118</span></a></li><li><a href=\"https://insights.blackcoffer.com/category/what-we-think/healthcare/\"><span class=\"td-cat-name\">Healthcare</span><span class=\"td-cat-no\">52</span></a></li><li><a href=\"https://insights.blackcoffer.com/category/what-we-think/data-science/artificial-intelligence/\"><span class=\"td-cat-name\">Artificial Intelligence</span><span class=\"td-cat-no\">51</span></a></li><li><a href=\"https://insights.blackcoffer.com/category/our-success-stories/it/\"><span class=\"td-cat-name\">IT</span><span class=\"td-cat-no\">46</span></a></li><li><a href=\"https://insights.blackcoffer.com/category/what-we-think/data-science/big-data/\"><span class=\"td-cat-name\">Big Data</span><span class=\"td-cat-no\">44</span></a></li><li><a href=\"https://insights.blackcoffer.com/category/our-success-stories/lifestyle-ecommerce-market-place/\"><span class=\"td-cat-name\">Lifestyle, eCommerce &amp; Online Market Place</span><span class=\"td-cat-no\">38</span></a></li><li><a href=\"https://insights.blackcoffer.com/category/what-we-think/data-science/\"><span class=\"td-cat-name\">Data Science</span><span class=\"td-cat-no\">34</span></a></li></ul></div> <!-- ./block -->                            </div>\\r\\n        </div>\\r\\n    </div>\\r\\n    <div class=\"td-footer-bottom-full\">\\r\\n        <div class=\"td-container\">\\r\\n            <div class=\"td-pb-row\">\\r\\n                <div class=\"td-pb-span3\"><aside class=\"footer-logo-wrap\"><a href=\"https://insights.blackcoffer.com/\"><img src=\"https://insights.blackcoffer.com/wp-content/uploads/2018/12/insights-white.png\" alt=\"\" title=\"\"/></a></aside></div><div class=\"td-pb-span5\"><aside class=\"footer-text-wrap\"><div class=\"block-title\"><span>ABOUT US</span></div>We provide intelligence, accelerate innovation and implement technology with extraordinary breadth and depth global insights into the big data,data-driven dashboards, applications development, and information management for organizations through combining unique, specialist services and high-lvel human expertise.<div class=\"footer-email-wrap\">Contact us: <a href=\"mailto:hello@blackcoffer.com\">hello@blackcoffer.com</a></div></aside></div><div class=\"td-pb-span4\"><aside class=\"footer-social-wrap td-social-style-2\"><div class=\"block-title\"><span>FOLLOW US</span></div>\\r\\n        <span class=\"td-social-icon-wrap\">\\r\\n            <a target=\"_blank\" href=\"https://www.facebook.com/blackcoffer.consulting\" title=\"Facebook\">\\r\\n                <i class=\"td-icon-font td-icon-facebook\"></i>\\r\\n            </a>\\r\\n        </span>\\r\\n        <span class=\"td-social-icon-wrap\">\\r\\n            <a target=\"_blank\" href=\"https://www.linkedin.com/company/blackcoffer/mycompany/\" title=\"Linkedin\">\\r\\n                <i class=\"td-icon-font td-icon-linkedin\"></i>\\r\\n            </a>\\r\\n        </span>\\r\\n        <span class=\"td-social-icon-wrap\">\\r\\n            <a target=\"_blank\" href=\"https://twitter.com/Blackcoffer1\" title=\"Twitter\">\\r\\n                <i class=\"td-icon-font td-icon-twitter\"></i>\\r\\n            </a>\\r\\n        </span>\\r\\n        <span class=\"td-social-icon-wrap\">\\r\\n            <a target=\"_blank\" href=\"https://www.youtube.com/channel/UCfr95TYacXeHI3cklmYdtXg\" title=\"Youtube\">\\r\\n                <i class=\"td-icon-font td-icon-youtube\"></i>\\r\\n            </a>\\r\\n        </span></aside></div>            </div>\\r\\n        </div>\\r\\n    </div>\\r\\n</div>\\r\\n\\t<!-- Sub Footer -->\\r\\n\\t    <div class=\"td-sub-footer-container td-container-wrap \">\\r\\n        <div class=\"td-container\">\\r\\n            <div class=\"td-pb-row\">\\r\\n                <div class=\"td-pb-span td-sub-footer-menu\">\\r\\n                    <div class=\"menu-td-demo-footer-menu-container\"><ul id=\"menu-td-demo-footer-menu\" class=\"td-subfooter-menu\"><li id=\"menu-item-4689\" class=\"menu-item menu-item-type-custom menu-item-object-custom menu-item-first td-menu-item td-normal-menu menu-item-4689\"><a target=\"_blank\" rel=\"noopener\" href=\"https://blackcoffer.com/\">Home</a></li>\\n<li id=\"menu-item-4690\" class=\"menu-item menu-item-type-custom menu-item-object-custom td-menu-item td-normal-menu menu-item-4690\"><a target=\"_blank\" rel=\"noopener\" href=\"https://blackcoffer.com/about-us/\">About</a></li>\\n<li id=\"menu-item-4691\" class=\"menu-item menu-item-type-custom menu-item-object-custom td-menu-item td-normal-menu menu-item-4691\"><a target=\"_blank\" rel=\"noopener\" href=\"https://blackcoffer.com/services/\">Services</a></li>\\n<li id=\"menu-item-4692\" class=\"menu-item menu-item-type-custom menu-item-object-custom td-menu-item td-normal-menu menu-item-4692\"><a target=\"_blank\" rel=\"noopener\" href=\"https://blackcoffer.com/products/\">Products</a></li>\\n<li id=\"menu-item-4693\" class=\"menu-item menu-item-type-custom menu-item-object-custom td-menu-item td-normal-menu menu-item-4693\"><a target=\"_blank\" rel=\"noopener\" href=\"https://blackcoffer.com/contact/\">Contact</a></li>\\n</ul></div>                </div>\\r\\n\\r\\n                <div class=\"td-pb-span td-sub-footer-copy\">\\r\\n                    &copy; All Right Reserved, Blackcoffer(OPC) Pvt. Ltd.                </div>\\r\\n            </div>\\r\\n        </div>\\r\\n    </div>\\r\\n\\r\\n\\r\\n</div><!--close td-outer-wrap-->\\r\\n\\r\\n\\r\\n                <div class=\"td-more-articles-box\">\\r\\n                    <i class=\"td-icon-close td-close-more-articles-box\"></i>\\r\\n                    <span class=\"td-more-articles-box-title\">MORE STORIES</span>\\r\\n                    <div class=\"td-content-more-articles-box\">\\r\\n\\r\\n                    \\r\\n        <div class=\"td_module_6 td_module_wrap td-animation-stack\">\\r\\n\\r\\n        <div class=\"td-module-thumb\"><a href=\"https://insights.blackcoffer.com/rise-of-telemedicine-and-its-impact-on-livelihood-by-2040-3/\" rel=\"bookmark\" class=\"td-image-wrap\" title=\"Rise of telemedicine and its Impact on Livelihood by 2040\"><img width=\"100\" height=\"70\" class=\"entry-thumb\" src=\"https://insights.blackcoffer.com/wp-content/uploads/2023/01/fidovhj-100x70.jpg\"  srcset=\"https://insights.blackcoffer.com/wp-content/uploads/2023/01/fidovhj-100x70.jpg 100w, https://insights.blackcoffer.com/wp-content/uploads/2023/01/fidovhj-218x150.jpg 218w\" sizes=\"(max-width: 100px) 100vw, 100px\"  alt=\"\" title=\"Rise of telemedicine and its Impact on Livelihood by 2040\" /></a></div>\\r\\n        <div class=\"item-details\">\\r\\n            <h3 class=\"entry-title td-module-title\"><a href=\"https://insights.blackcoffer.com/rise-of-telemedicine-and-its-impact-on-livelihood-by-2040-3/\" rel=\"bookmark\" title=\"Rise of telemedicine and its Impact on Livelihood by 2040\">Rise of telemedicine and its Impact on Livelihood by 2040</a></h3>            <div class=\"td-module-meta-info\">\\r\\n                                                <span class=\"td-post-date\"><time class=\"entry-date updated td-module-date\" datetime=\"2023-01-02T20:45:14+00:00\" >January 2, 2023</time></span>                            </div>\\r\\n        </div>\\r\\n\\r\\n        </div>\\r\\n\\r\\n        \\r\\n        <div class=\"td_module_6 td_module_wrap td-animation-stack\">\\r\\n\\r\\n        <div class=\"td-module-thumb\"><a href=\"https://insights.blackcoffer.com/rise-of-e-health-and-its-impact-on-humans-by-the-year-2030/\" rel=\"bookmark\" class=\"td-image-wrap\" title=\"Rise of e-health and its impact on humans by the year 2030\"><img width=\"100\" height=\"70\" class=\"entry-thumb\" src=\"https://insights.blackcoffer.com/wp-content/uploads/2023/01/digital-health-100x70.jpg\"  srcset=\"https://insights.blackcoffer.com/wp-content/uploads/2023/01/digital-health-100x70.jpg 100w, https://insights.blackcoffer.com/wp-content/uploads/2023/01/digital-health-218x150.jpg 218w\" sizes=\"(max-width: 100px) 100vw, 100px\"  alt=\"\" title=\"Rise of e-health and its impact on humans by the year 2030\" /></a></div>\\r\\n        <div class=\"item-details\">\\r\\n            <h3 class=\"entry-title td-module-title\"><a href=\"https://insights.blackcoffer.com/rise-of-e-health-and-its-impact-on-humans-by-the-year-2030/\" rel=\"bookmark\" title=\"Rise of e-health and its impact on humans by the year 2030\">Rise of e-health and its impact on humans by the year...</a></h3>            <div class=\"td-module-meta-info\">\\r\\n                                                <span class=\"td-post-date\"><time class=\"entry-date updated td-module-date\" datetime=\"2023-01-02T20:32:51+00:00\" >January 2, 2023</time></span>                            </div>\\r\\n        </div>\\r\\n\\r\\n        </div>\\r\\n\\r\\n                            </div>\\r\\n                </div>\\r\\n\\r\\n    <!--\\r\\n\\r\\n        Theme: Newspaper by tagDiv.com 2019\\r\\n        Version: 9.7.2 (rara)\\r\\n        Deploy mode: deploy\\r\\n        \\r\\n        uid: 63e882a062460\\r\\n    -->\\r\\n\\r\\n    <script type=\\'text/javascript\\' src=\\'https://insights.blackcoffer.com/wp-content/plugins/td-composer/legacy/common/wp_booster/js_dev/tdModalPostImages.js?ver=9.7.2\\' id=\\'tdModalPostImages-js\\'></script>\\n<script type=\\'text/javascript\\' src=\\'https://insights.blackcoffer.com/wp-includes/js/underscore.min.js?ver=1.13.4\\' id=\\'underscore-js\\'></script>\\n<script type=\\'text/javascript\\' src=\\'https://insights.blackcoffer.com/wp-content/plugins/td-cloud-library/assets/js/js_posts_autoload.min.js?ver=96be9388232cf6f1e9ad7a3c9f4e9872\\' id=\\'tdb_js_posts_autoload-js\\'></script>\\n<script type=\\'text/javascript\\' src=\\'https://insights.blackcoffer.com/wp-content/themes/Newspaper/js/tagdiv_theme.min.js?ver=9.7.2\\' id=\\'td-site-min-js\\'></script>\\n<script type=\\'text/javascript\\' src=\\'https://insights.blackcoffer.com/wp-includes/js/comment-reply.min.js?ver=6.1.1\\' id=\\'comment-reply-js\\'></script>\\n<script type=\\'text/javascript\\' src=\\'https://insights.blackcoffer.com/wp-content/plugins/td-cloud-library/assets/js/js_files_for_front.min.js?ver=96be9388232cf6f1e9ad7a3c9f4e9872\\' id=\\'tdb_js_files_for_front-js\\'></script>\\n\\n<!-- JS generated by theme -->\\n\\n<script>\\n    \\njQuery(window).ready(function() {\\r\\n(function(){\\r\\nvar td_backstr_item = new tdBackstr.item();\\r\\ntd_backstr_item.wrapper_image_jquery_obj = jQuery( \"#td-full-screen-header-image\" );\\r\\ntd_backstr_item.image_jquery_obj = td_backstr_item.wrapper_image_jquery_obj.find( \\'img:first\\' );\\r\\ntdBackstr.add_item( td_backstr_item );\\r\\njQuery(\\'.td-read-down a\\').click(function(event){\\r\\nevent.preventDefault();\\r\\nvar header_wrap = jQuery( \\'.td-full-screen-header-image-wrap:first\\' )\\r\\nif ( 1 === header_wrap.length ) {\\r\\ntdUtil.scrollToPosition(header_wrap.height() + header_wrap.offset().top, 1200);\\r\\n}\\r\\n});\\r\\n})();\\r\\n});\\n\\r\\n                jQuery().ready(function jQuery_ready() {\\r\\n                    tdAjaxCount.tdGetViewsCountsAjax(\"post\",\"[3839]\");\\r\\n                });\\r\\n            \\n\\n\\t\\r\\n\\r\\n\\t\\t(function(){\\r\\n\\t\\t\\tvar html_jquery_obj = jQuery(\\'html\\');\\r\\n\\r\\n\\t\\t\\tif (html_jquery_obj.length && (html_jquery_obj.is(\\'.ie8\\') || html_jquery_obj.is(\\'.ie9\\'))) {\\r\\n\\r\\n\\t\\t\\t\\tvar path = \\'https://insights.blackcoffer.com/wp-content/themes/Newspaper/style.css\\';\\r\\n\\r\\n\\t\\t\\t\\tjQuery.get(path, function(data) {\\r\\n\\r\\n\\t\\t\\t\\t\\tvar str_split_separator = \\'#td_css_split_separator\\';\\r\\n\\t\\t\\t\\t\\tvar arr_splits = data.split(str_split_separator);\\r\\n\\t\\t\\t\\t\\tvar arr_length = arr_splits.length;\\r\\n\\r\\n\\t\\t\\t\\t\\tif (arr_length > 1) {\\r\\n\\r\\n\\t\\t\\t\\t\\t\\tvar dir_path = \\'https://insights.blackcoffer.com/wp-content/themes/Newspaper\\';\\r\\n\\t\\t\\t\\t\\t\\tvar splited_css = \\'\\';\\r\\n\\r\\n\\t\\t\\t\\t\\t\\tfor (var i = 0; i < arr_length; i++) {\\r\\n\\t\\t\\t\\t\\t\\t\\tif (i > 0) {\\r\\n\\t\\t\\t\\t\\t\\t\\t\\tarr_splits[i] = str_split_separator + \\' \\' + arr_splits[i];\\r\\n\\t\\t\\t\\t\\t\\t\\t}\\r\\n\\t\\t\\t\\t\\t\\t\\t//jQuery(\\'head\\').append(\\'<style>\\' + arr_splits[i] + \\'</style>\\');\\r\\n\\r\\n\\t\\t\\t\\t\\t\\t\\tvar formated_str = arr_splits[i].replace(/\\\\surl\\\\(\\\\\\'(?!data\\\\:)/gi, function regex_function(str) {\\r\\n\\t\\t\\t\\t\\t\\t\\t\\treturn \\' url(\\\\\\'\\' + dir_path + \\'/\\' + str.replace(/url\\\\(\\\\\\'/gi, \\'\\').replace(/^\\\\s+|\\\\s+$/gm,\\'\\');\\r\\n\\t\\t\\t\\t\\t\\t\\t});\\r\\n\\r\\n\\t\\t\\t\\t\\t\\t\\tsplited_css += \"<style>\" + formated_str + \"</style>\";\\r\\n\\t\\t\\t\\t\\t\\t}\\r\\n\\r\\n\\t\\t\\t\\t\\t\\tvar td_theme_css = jQuery(\\'link#td-theme-css\\');\\r\\n\\r\\n\\t\\t\\t\\t\\t\\tif (td_theme_css.length) {\\r\\n\\t\\t\\t\\t\\t\\t\\ttd_theme_css.after(splited_css);\\r\\n\\t\\t\\t\\t\\t\\t}\\r\\n\\t\\t\\t\\t\\t}\\r\\n\\t\\t\\t\\t});\\r\\n\\t\\t\\t}\\r\\n\\t\\t})();\\r\\n\\r\\n\\t\\r\\n\\t\\n</script>\\n\\n\\r\\n</body>\\r\\n</html>'"
      ]
     },
     "execution_count": 12,
     "metadata": {},
     "output_type": "execute_result"
    }
   ],
   "source": [
    "res2.text"
   ]
  },
  {
   "cell_type": "code",
   "execution_count": 13,
   "id": "c99426ff",
   "metadata": {},
   "outputs": [],
   "source": [
    "import bs4"
   ]
  },
  {
   "cell_type": "code",
   "execution_count": 14,
   "id": "83ff28e2",
   "metadata": {},
   "outputs": [],
   "source": [
    "soup1 = bs4.BeautifulSoup(res1.text,\"lxml\")"
   ]
  },
  {
   "cell_type": "code",
   "execution_count": 15,
   "id": "22e676e6",
   "metadata": {},
   "outputs": [],
   "source": [
    "soup2 = bs4.BeautifulSoup(res2.text,\"lxml\")"
   ]
  },
  {
   "cell_type": "code",
   "execution_count": 16,
   "id": "f36c1bf2",
   "metadata": {},
   "outputs": [
    {
     "data": {
      "text/plain": [
       "<!DOCTYPE html>\n",
       "<html>\n",
       "<head>\n",
       "<title>Example Domain</title>\n",
       "<meta charset=\"utf-8\"/>\n",
       "<meta content=\"text/html; charset=utf-8\" http-equiv=\"Content-type\"/>\n",
       "<meta content=\"width=device-width, initial-scale=1\" name=\"viewport\"/>\n",
       "<style type=\"text/css\">\n",
       "    body {\n",
       "        background-color: #f0f0f2;\n",
       "        margin: 0;\n",
       "        padding: 0;\n",
       "        font-family: -apple-system, system-ui, BlinkMacSystemFont, \"Segoe UI\", \"Open Sans\", \"Helvetica Neue\", Helvetica, Arial, sans-serif;\n",
       "        \n",
       "    }\n",
       "    div {\n",
       "        width: 600px;\n",
       "        margin: 5em auto;\n",
       "        padding: 2em;\n",
       "        background-color: #fdfdff;\n",
       "        border-radius: 0.5em;\n",
       "        box-shadow: 2px 3px 7px 2px rgba(0,0,0,0.02);\n",
       "    }\n",
       "    a:link, a:visited {\n",
       "        color: #38488f;\n",
       "        text-decoration: none;\n",
       "    }\n",
       "    @media (max-width: 700px) {\n",
       "        div {\n",
       "            margin: 0 auto;\n",
       "            width: auto;\n",
       "        }\n",
       "    }\n",
       "    </style>\n",
       "</head>\n",
       "<body>\n",
       "<div>\n",
       "<h1>Example Domain</h1>\n",
       "<p>This domain is for use in illustrative examples in documents. You may use this\n",
       "    domain in literature without prior coordination or asking for permission.</p>\n",
       "<p><a href=\"https://www.iana.org/domains/example\">More information...</a></p>\n",
       "</div>\n",
       "</body>\n",
       "</html>"
      ]
     },
     "execution_count": 16,
     "metadata": {},
     "output_type": "execute_result"
    }
   ],
   "source": [
    "soup1"
   ]
  },
  {
   "cell_type": "code",
   "execution_count": 17,
   "id": "2aed865f",
   "metadata": {},
   "outputs": [
    {
     "data": {
      "text/plain": [
       "<!DOCTYPE html>\n",
       "<!--[if IE 8]>    <html class=\"ie8\" lang=\"en\"> <![endif]--><!--[if IE 9]>    <html class=\"ie9\" lang=\"en\"> <![endif]--><!--[if gt IE 8]><!--><html lang=\"en-US\"> <!--<![endif]-->\n",
       "<head>\n",
       "<meta charset=\"utf-8\"/>\n",
       "<meta content=\"width=device-width, initial-scale=1.0\" name=\"viewport\"/>\n",
       "<link href=\"https://insights.blackcoffer.com/xmlrpc.php\" rel=\"pingback\"/>\n",
       "<meta content=\"index, follow, max-image-preview:large, max-snippet:-1, max-video-preview:-1\" name=\"robots\"/>\n",
       "<meta content=\"https://insights.blackcoffer.com/wp-content/uploads/2022/04/GettyImages-1301576794.jpg\" property=\"og:image\"/>\n",
       "<!-- This site is optimized with the Yoast SEO plugin v20.1 - https://yoast.com/wordpress/plugins/seo/ -->\n",
       "<title>How Telehealth and Telemedicine helping people to fight against COVID-19 - Blackcoffer Insights</title>\n",
       "<meta content=\"The aim of this technology is to overcome the barriers and to provide equal access to the services and the interventions. This technology helps to overcome the barrier and solve problems like adverse weather and illness.\" name=\"description\"/>\n",
       "<link href=\"https://insights.blackcoffer.com/how-telehealth-and-telemedicine-helping-people-to-fight-against-covid-19-2/\" rel=\"canonical\"/>\n",
       "<meta content=\"en_US\" property=\"og:locale\"/>\n",
       "<meta content=\"article\" property=\"og:type\"/>\n",
       "<meta content=\"How Telehealth and Telemedicine helping people to fight against COVID-19 - Blackcoffer Insights\" property=\"og:title\"/>\n",
       "<meta content=\"The aim of this technology is to overcome the barriers and to provide equal access to the services and the interventions. This technology helps to overcome the barrier and solve problems like adverse weather and illness.\" property=\"og:description\"/>\n",
       "<meta content=\"https://insights.blackcoffer.com/how-telehealth-and-telemedicine-helping-people-to-fight-against-covid-19-2/\" property=\"og:url\"/>\n",
       "<meta content=\"Blackcoffer Insights\" property=\"og:site_name\"/>\n",
       "<meta content=\"https://www.facebook.com/blackcoffer.consulting\" property=\"article:publisher\"/>\n",
       "<meta content=\"2022-04-28T15:34:47+00:00\" property=\"article:published_time\"/>\n",
       "<meta content=\"https://insights.blackcoffer.com/wp-content/uploads/2022/04/GettyImages-1301576794.jpg\" property=\"og:image\"/>\n",
       "<meta content=\"2100\" property=\"og:image:width\"/>\n",
       "<meta content=\"1400\" property=\"og:image:height\"/>\n",
       "<meta content=\"image/jpeg\" property=\"og:image:type\"/>\n",
       "<meta content=\"Ajay Bidyarthy\" name=\"author\"/>\n",
       "<meta content=\"summary_large_image\" name=\"twitter:card\"/>\n",
       "<meta content=\"@Blackcoffer1\" name=\"twitter:creator\"/>\n",
       "<meta content=\"@Blackcoffer1\" name=\"twitter:site\"/>\n",
       "<meta content=\"Written by\" name=\"twitter:label1\"/>\n",
       "<meta content=\"Ajay Bidyarthy\" name=\"twitter:data1\"/>\n",
       "<meta content=\"Est. reading time\" name=\"twitter:label2\"/>\n",
       "<meta content=\"5 minutes\" name=\"twitter:data2\"/>\n",
       "<script class=\"yoast-schema-graph\" type=\"application/ld+json\">{\"@context\":\"https://schema.org\",\"@graph\":[{\"@type\":\"Article\",\"@id\":\"https://insights.blackcoffer.com/how-telehealth-and-telemedicine-helping-people-to-fight-against-covid-19-2/#article\",\"isPartOf\":{\"@id\":\"https://insights.blackcoffer.com/how-telehealth-and-telemedicine-helping-people-to-fight-against-covid-19-2/\"},\"author\":{\"name\":\"Ajay Bidyarthy\",\"@id\":\"https://insights.blackcoffer.com/#/schema/person/0d4fd6036c1e876d151c7bad2abf5ab4\"},\"headline\":\"How Telehealth and Telemedicine helping people to fight against COVID-19\",\"datePublished\":\"2022-04-28T15:34:47+00:00\",\"dateModified\":\"2022-04-28T15:34:47+00:00\",\"mainEntityOfPage\":{\"@id\":\"https://insights.blackcoffer.com/how-telehealth-and-telemedicine-helping-people-to-fight-against-covid-19-2/\"},\"wordCount\":966,\"publisher\":{\"@id\":\"https://insights.blackcoffer.com/#organization\"},\"image\":{\"@id\":\"https://insights.blackcoffer.com/how-telehealth-and-telemedicine-helping-people-to-fight-against-covid-19-2/#primaryimage\"},\"thumbnailUrl\":\"https://insights.blackcoffer.com/wp-content/uploads/2022/04/GettyImages-1301576794.jpg\",\"keywords\":[\"Communication\",\"Healthcare\",\"Innovation\",\"Telehealth Covid-19\",\"Telemedicine\"],\"articleSection\":[\"Health Care Equipment &amp; Services\",\"Healthcare\",\"Pharmaceuticals, Biotechnology &amp; Life Sciences\",\"What We Think\"],\"inLanguage\":\"en-US\"},{\"@type\":\"WebPage\",\"@id\":\"https://insights.blackcoffer.com/how-telehealth-and-telemedicine-helping-people-to-fight-against-covid-19-2/\",\"url\":\"https://insights.blackcoffer.com/how-telehealth-and-telemedicine-helping-people-to-fight-against-covid-19-2/\",\"name\":\"How Telehealth and Telemedicine helping people to fight against COVID-19 - Blackcoffer Insights\",\"isPartOf\":{\"@id\":\"https://insights.blackcoffer.com/#website\"},\"primaryImageOfPage\":{\"@id\":\"https://insights.blackcoffer.com/how-telehealth-and-telemedicine-helping-people-to-fight-against-covid-19-2/#primaryimage\"},\"image\":{\"@id\":\"https://insights.blackcoffer.com/how-telehealth-and-telemedicine-helping-people-to-fight-against-covid-19-2/#primaryimage\"},\"thumbnailUrl\":\"https://insights.blackcoffer.com/wp-content/uploads/2022/04/GettyImages-1301576794.jpg\",\"datePublished\":\"2022-04-28T15:34:47+00:00\",\"dateModified\":\"2022-04-28T15:34:47+00:00\",\"description\":\"The aim of this technology is to overcome the barriers and to provide equal access to the services and the interventions. This technology helps to overcome the barrier and solve problems like adverse weather and illness.\",\"breadcrumb\":{\"@id\":\"https://insights.blackcoffer.com/how-telehealth-and-telemedicine-helping-people-to-fight-against-covid-19-2/#breadcrumb\"},\"inLanguage\":\"en-US\",\"potentialAction\":[{\"@type\":\"ReadAction\",\"target\":[\"https://insights.blackcoffer.com/how-telehealth-and-telemedicine-helping-people-to-fight-against-covid-19-2/\"]}]},{\"@type\":\"ImageObject\",\"inLanguage\":\"en-US\",\"@id\":\"https://insights.blackcoffer.com/how-telehealth-and-telemedicine-helping-people-to-fight-against-covid-19-2/#primaryimage\",\"url\":\"https://insights.blackcoffer.com/wp-content/uploads/2022/04/GettyImages-1301576794.jpg\",\"contentUrl\":\"https://insights.blackcoffer.com/wp-content/uploads/2022/04/GettyImages-1301576794.jpg\",\"width\":2100,\"height\":1400},{\"@type\":\"BreadcrumbList\",\"@id\":\"https://insights.blackcoffer.com/how-telehealth-and-telemedicine-helping-people-to-fight-against-covid-19-2/#breadcrumb\",\"itemListElement\":[{\"@type\":\"ListItem\",\"position\":1,\"name\":\"Home\",\"item\":\"https://insights.blackcoffer.com/\"},{\"@type\":\"ListItem\",\"position\":2,\"name\":\"How Telehealth and Telemedicine helping people to fight against COVID-19\"}]},{\"@type\":\"WebSite\",\"@id\":\"https://insights.blackcoffer.com/#website\",\"url\":\"https://insights.blackcoffer.com/\",\"name\":\"Blackcoffer Insights\",\"description\":\"Delivering beautiful insights, future strategic foresight, industry trends, innovations, and experts thoughts\",\"publisher\":{\"@id\":\"https://insights.blackcoffer.com/#organization\"},\"potentialAction\":[{\"@type\":\"SearchAction\",\"target\":{\"@type\":\"EntryPoint\",\"urlTemplate\":\"https://insights.blackcoffer.com/?s={search_term_string}\"},\"query-input\":\"required name=search_term_string\"}],\"inLanguage\":\"en-US\"},{\"@type\":\"Organization\",\"@id\":\"https://insights.blackcoffer.com/#organization\",\"name\":\"Blackcoffer Insights\",\"url\":\"https://insights.blackcoffer.com/\",\"logo\":{\"@type\":\"ImageObject\",\"inLanguage\":\"en-US\",\"@id\":\"https://insights.blackcoffer.com/#/schema/logo/image/\",\"url\":\"https://insights.blackcoffer.com/wp-content/uploads/2018/12/Black-720x172-Nobackground.png\",\"contentUrl\":\"https://insights.blackcoffer.com/wp-content/uploads/2018/12/Black-720x172-Nobackground.png\",\"width\":720,\"height\":172,\"caption\":\"Blackcoffer Insights\"},\"image\":{\"@id\":\"https://insights.blackcoffer.com/#/schema/logo/image/\"},\"sameAs\":[\"https://www.facebook.com/blackcoffer.consulting\",\"https://twitter.com/Blackcoffer1\",\"https://www.linkedin.com/company-beta/13218008/\"]},{\"@type\":\"Person\",\"@id\":\"https://insights.blackcoffer.com/#/schema/person/0d4fd6036c1e876d151c7bad2abf5ab4\",\"name\":\"Ajay Bidyarthy\",\"url\":\"https://insights.blackcoffer.com/author/admin/\"}]}</script>\n",
       "<!-- / Yoast SEO plugin. -->\n",
       "<link href=\"//fonts.googleapis.com\" rel=\"dns-prefetch\"/>\n",
       "<link href=\"https://insights.blackcoffer.com/feed/\" rel=\"alternate\" title=\"Blackcoffer Insights » Feed\" type=\"application/rss+xml\"/>\n",
       "<link href=\"https://insights.blackcoffer.com/comments/feed/\" rel=\"alternate\" title=\"Blackcoffer Insights » Comments Feed\" type=\"application/rss+xml\"/>\n",
       "<style type=\"text/css\">\n",
       "img.wp-smiley,\n",
       "img.emoji {\n",
       "\tdisplay: inline !important;\n",
       "\tborder: none !important;\n",
       "\tbox-shadow: none !important;\n",
       "\theight: 1em !important;\n",
       "\twidth: 1em !important;\n",
       "\tmargin: 0 0.07em !important;\n",
       "\tvertical-align: -0.1em !important;\n",
       "\tbackground: none !important;\n",
       "\tpadding: 0 !important;\n",
       "}\n",
       "</style>\n",
       "<link href=\"https://insights.blackcoffer.com/wp-includes/css/dist/block-library/style.min.css?ver=6.1.1\" id=\"wp-block-library-css\" media=\"all\" rel=\"stylesheet\" type=\"text/css\"/>\n",
       "<link href=\"https://insights.blackcoffer.com/wp-includes/css/classic-themes.min.css?ver=1\" id=\"classic-theme-styles-css\" media=\"all\" rel=\"stylesheet\" type=\"text/css\"/>\n",
       "<style id=\"global-styles-inline-css\" type=\"text/css\">\n",
       "body{--wp--preset--color--black: #000000;--wp--preset--color--cyan-bluish-gray: #abb8c3;--wp--preset--color--white: #ffffff;--wp--preset--color--pale-pink: #f78da7;--wp--preset--color--vivid-red: #cf2e2e;--wp--preset--color--luminous-vivid-orange: #ff6900;--wp--preset--color--luminous-vivid-amber: #fcb900;--wp--preset--color--light-green-cyan: #7bdcb5;--wp--preset--color--vivid-green-cyan: #00d084;--wp--preset--color--pale-cyan-blue: #8ed1fc;--wp--preset--color--vivid-cyan-blue: #0693e3;--wp--preset--color--vivid-purple: #9b51e0;--wp--preset--gradient--vivid-cyan-blue-to-vivid-purple: linear-gradient(135deg,rgba(6,147,227,1) 0%,rgb(155,81,224) 100%);--wp--preset--gradient--light-green-cyan-to-vivid-green-cyan: linear-gradient(135deg,rgb(122,220,180) 0%,rgb(0,208,130) 100%);--wp--preset--gradient--luminous-vivid-amber-to-luminous-vivid-orange: linear-gradient(135deg,rgba(252,185,0,1) 0%,rgba(255,105,0,1) 100%);--wp--preset--gradient--luminous-vivid-orange-to-vivid-red: linear-gradient(135deg,rgba(255,105,0,1) 0%,rgb(207,46,46) 100%);--wp--preset--gradient--very-light-gray-to-cyan-bluish-gray: linear-gradient(135deg,rgb(238,238,238) 0%,rgb(169,184,195) 100%);--wp--preset--gradient--cool-to-warm-spectrum: linear-gradient(135deg,rgb(74,234,220) 0%,rgb(151,120,209) 20%,rgb(207,42,186) 40%,rgb(238,44,130) 60%,rgb(251,105,98) 80%,rgb(254,248,76) 100%);--wp--preset--gradient--blush-light-purple: linear-gradient(135deg,rgb(255,206,236) 0%,rgb(152,150,240) 100%);--wp--preset--gradient--blush-bordeaux: linear-gradient(135deg,rgb(254,205,165) 0%,rgb(254,45,45) 50%,rgb(107,0,62) 100%);--wp--preset--gradient--luminous-dusk: linear-gradient(135deg,rgb(255,203,112) 0%,rgb(199,81,192) 50%,rgb(65,88,208) 100%);--wp--preset--gradient--pale-ocean: linear-gradient(135deg,rgb(255,245,203) 0%,rgb(182,227,212) 50%,rgb(51,167,181) 100%);--wp--preset--gradient--electric-grass: linear-gradient(135deg,rgb(202,248,128) 0%,rgb(113,206,126) 100%);--wp--preset--gradient--midnight: linear-gradient(135deg,rgb(2,3,129) 0%,rgb(40,116,252) 100%);--wp--preset--duotone--dark-grayscale: url('#wp-duotone-dark-grayscale');--wp--preset--duotone--grayscale: url('#wp-duotone-grayscale');--wp--preset--duotone--purple-yellow: url('#wp-duotone-purple-yellow');--wp--preset--duotone--blue-red: url('#wp-duotone-blue-red');--wp--preset--duotone--midnight: url('#wp-duotone-midnight');--wp--preset--duotone--magenta-yellow: url('#wp-duotone-magenta-yellow');--wp--preset--duotone--purple-green: url('#wp-duotone-purple-green');--wp--preset--duotone--blue-orange: url('#wp-duotone-blue-orange');--wp--preset--font-size--small: 11px;--wp--preset--font-size--medium: 20px;--wp--preset--font-size--large: 32px;--wp--preset--font-size--x-large: 42px;--wp--preset--font-size--regular: 15px;--wp--preset--font-size--larger: 50px;--wp--preset--spacing--20: 0.44rem;--wp--preset--spacing--30: 0.67rem;--wp--preset--spacing--40: 1rem;--wp--preset--spacing--50: 1.5rem;--wp--preset--spacing--60: 2.25rem;--wp--preset--spacing--70: 3.38rem;--wp--preset--spacing--80: 5.06rem;}:where(.is-layout-flex){gap: 0.5em;}body .is-layout-flow > .alignleft{float: left;margin-inline-start: 0;margin-inline-end: 2em;}body .is-layout-flow > .alignright{float: right;margin-inline-start: 2em;margin-inline-end: 0;}body .is-layout-flow > .aligncenter{margin-left: auto !important;margin-right: auto !important;}body .is-layout-constrained > .alignleft{float: left;margin-inline-start: 0;margin-inline-end: 2em;}body .is-layout-constrained > .alignright{float: right;margin-inline-start: 2em;margin-inline-end: 0;}body .is-layout-constrained > .aligncenter{margin-left: auto !important;margin-right: auto !important;}body .is-layout-constrained > :where(:not(.alignleft):not(.alignright):not(.alignfull)){max-width: var(--wp--style--global--content-size);margin-left: auto !important;margin-right: auto !important;}body .is-layout-constrained > .alignwide{max-width: var(--wp--style--global--wide-size);}body .is-layout-flex{display: flex;}body .is-layout-flex{flex-wrap: wrap;align-items: center;}body .is-layout-flex > *{margin: 0;}:where(.wp-block-columns.is-layout-flex){gap: 2em;}.has-black-color{color: var(--wp--preset--color--black) !important;}.has-cyan-bluish-gray-color{color: var(--wp--preset--color--cyan-bluish-gray) !important;}.has-white-color{color: var(--wp--preset--color--white) !important;}.has-pale-pink-color{color: var(--wp--preset--color--pale-pink) !important;}.has-vivid-red-color{color: var(--wp--preset--color--vivid-red) !important;}.has-luminous-vivid-orange-color{color: var(--wp--preset--color--luminous-vivid-orange) !important;}.has-luminous-vivid-amber-color{color: var(--wp--preset--color--luminous-vivid-amber) !important;}.has-light-green-cyan-color{color: var(--wp--preset--color--light-green-cyan) !important;}.has-vivid-green-cyan-color{color: var(--wp--preset--color--vivid-green-cyan) !important;}.has-pale-cyan-blue-color{color: var(--wp--preset--color--pale-cyan-blue) !important;}.has-vivid-cyan-blue-color{color: var(--wp--preset--color--vivid-cyan-blue) !important;}.has-vivid-purple-color{color: var(--wp--preset--color--vivid-purple) !important;}.has-black-background-color{background-color: var(--wp--preset--color--black) !important;}.has-cyan-bluish-gray-background-color{background-color: var(--wp--preset--color--cyan-bluish-gray) !important;}.has-white-background-color{background-color: var(--wp--preset--color--white) !important;}.has-pale-pink-background-color{background-color: var(--wp--preset--color--pale-pink) !important;}.has-vivid-red-background-color{background-color: var(--wp--preset--color--vivid-red) !important;}.has-luminous-vivid-orange-background-color{background-color: var(--wp--preset--color--luminous-vivid-orange) !important;}.has-luminous-vivid-amber-background-color{background-color: var(--wp--preset--color--luminous-vivid-amber) !important;}.has-light-green-cyan-background-color{background-color: var(--wp--preset--color--light-green-cyan) !important;}.has-vivid-green-cyan-background-color{background-color: var(--wp--preset--color--vivid-green-cyan) !important;}.has-pale-cyan-blue-background-color{background-color: var(--wp--preset--color--pale-cyan-blue) !important;}.has-vivid-cyan-blue-background-color{background-color: var(--wp--preset--color--vivid-cyan-blue) !important;}.has-vivid-purple-background-color{background-color: var(--wp--preset--color--vivid-purple) !important;}.has-black-border-color{border-color: var(--wp--preset--color--black) !important;}.has-cyan-bluish-gray-border-color{border-color: var(--wp--preset--color--cyan-bluish-gray) !important;}.has-white-border-color{border-color: var(--wp--preset--color--white) !important;}.has-pale-pink-border-color{border-color: var(--wp--preset--color--pale-pink) !important;}.has-vivid-red-border-color{border-color: var(--wp--preset--color--vivid-red) !important;}.has-luminous-vivid-orange-border-color{border-color: var(--wp--preset--color--luminous-vivid-orange) !important;}.has-luminous-vivid-amber-border-color{border-color: var(--wp--preset--color--luminous-vivid-amber) !important;}.has-light-green-cyan-border-color{border-color: var(--wp--preset--color--light-green-cyan) !important;}.has-vivid-green-cyan-border-color{border-color: var(--wp--preset--color--vivid-green-cyan) !important;}.has-pale-cyan-blue-border-color{border-color: var(--wp--preset--color--pale-cyan-blue) !important;}.has-vivid-cyan-blue-border-color{border-color: var(--wp--preset--color--vivid-cyan-blue) !important;}.has-vivid-purple-border-color{border-color: var(--wp--preset--color--vivid-purple) !important;}.has-vivid-cyan-blue-to-vivid-purple-gradient-background{background: var(--wp--preset--gradient--vivid-cyan-blue-to-vivid-purple) !important;}.has-light-green-cyan-to-vivid-green-cyan-gradient-background{background: var(--wp--preset--gradient--light-green-cyan-to-vivid-green-cyan) !important;}.has-luminous-vivid-amber-to-luminous-vivid-orange-gradient-background{background: var(--wp--preset--gradient--luminous-vivid-amber-to-luminous-vivid-orange) !important;}.has-luminous-vivid-orange-to-vivid-red-gradient-background{background: var(--wp--preset--gradient--luminous-vivid-orange-to-vivid-red) !important;}.has-very-light-gray-to-cyan-bluish-gray-gradient-background{background: var(--wp--preset--gradient--very-light-gray-to-cyan-bluish-gray) !important;}.has-cool-to-warm-spectrum-gradient-background{background: var(--wp--preset--gradient--cool-to-warm-spectrum) !important;}.has-blush-light-purple-gradient-background{background: var(--wp--preset--gradient--blush-light-purple) !important;}.has-blush-bordeaux-gradient-background{background: var(--wp--preset--gradient--blush-bordeaux) !important;}.has-luminous-dusk-gradient-background{background: var(--wp--preset--gradient--luminous-dusk) !important;}.has-pale-ocean-gradient-background{background: var(--wp--preset--gradient--pale-ocean) !important;}.has-electric-grass-gradient-background{background: var(--wp--preset--gradient--electric-grass) !important;}.has-midnight-gradient-background{background: var(--wp--preset--gradient--midnight) !important;}.has-small-font-size{font-size: var(--wp--preset--font-size--small) !important;}.has-medium-font-size{font-size: var(--wp--preset--font-size--medium) !important;}.has-large-font-size{font-size: var(--wp--preset--font-size--large) !important;}.has-x-large-font-size{font-size: var(--wp--preset--font-size--x-large) !important;}\n",
       ".wp-block-navigation a:where(:not(.wp-element-button)){color: inherit;}\n",
       ":where(.wp-block-columns.is-layout-flex){gap: 2em;}\n",
       ".wp-block-pullquote{font-size: 1.5em;line-height: 1.6;}\n",
       "</style>\n",
       "<link href=\"https://insights.blackcoffer.com/wp-content/plugins/td-newsletter/style.css?ver=9.7.2\" id=\"td-plugin-newsletter-css\" media=\"all\" rel=\"stylesheet\" type=\"text/css\"/>\n",
       "<link href=\"https://insights.blackcoffer.com/wp-content/plugins/td-composer/td-multi-purpose/style.css?ver=87aa69b3a2aab340715eee6578a06159\" id=\"td-plugin-multi-purpose-css\" media=\"all\" rel=\"stylesheet\" type=\"text/css\"/>\n",
       "<link href=\"https://fonts.googleapis.com/css?family=Open+Sans%3A300italic%2C400%2C400italic%2C600%2C600italic%2C700%7CRoboto%3A300%2C400%2C400italic%2C500%2C500italic%2C700%2C900&amp;ver=9.7.2\" id=\"google-fonts-style-css\" media=\"all\" rel=\"stylesheet\" type=\"text/css\"/>\n",
       "<link href=\"https://insights.blackcoffer.com/wp-content/themes/Newspaper/style.css?ver=9.7.2\" id=\"td-theme-css\" media=\"all\" rel=\"stylesheet\" type=\"text/css\"/>\n",
       "<style id=\"td-theme-inline-css\" type=\"text/css\">\n",
       "    \n",
       "        @media (max-width: 767px) {\n",
       "            .td-header-desktop-wrap {\n",
       "                display: none;\n",
       "            }\n",
       "        }\n",
       "        @media (min-width: 767px) {\n",
       "            .td-header-mobile-wrap {\n",
       "                display: none;\n",
       "            }\n",
       "        }\n",
       "    \n",
       "\t\n",
       "</style>\n",
       "<link href=\"https://insights.blackcoffer.com/wp-content/plugins/td-composer/legacy/Newspaper/assets/css/td_legacy_main.css?ver=87aa69b3a2aab340715eee6578a06159\" id=\"td-legacy-framework-front-style-css\" media=\"all\" rel=\"stylesheet\" type=\"text/css\"/>\n",
       "<link href=\"https://insights.blackcoffer.com/wp-content/plugins/td-cloud-library/assets/css/tdb_less_front.css?ver=96be9388232cf6f1e9ad7a3c9f4e9872\" id=\"tdb_front_style-css\" media=\"all\" rel=\"stylesheet\" type=\"text/css\"/>\n",
       "<script id=\"jquery-core-js\" src=\"https://insights.blackcoffer.com/wp-includes/js/jquery/jquery.min.js?ver=3.6.1\" type=\"text/javascript\"></script>\n",
       "<script id=\"jquery-migrate-js\" src=\"https://insights.blackcoffer.com/wp-includes/js/jquery/jquery-migrate.min.js?ver=3.3.2\" type=\"text/javascript\"></script>\n",
       "<link href=\"https://insights.blackcoffer.com/wp-json/\" rel=\"https://api.w.org/\"/><link href=\"https://insights.blackcoffer.com/wp-json/wp/v2/posts/3839\" rel=\"alternate\" type=\"application/json\"/><link href=\"https://insights.blackcoffer.com/xmlrpc.php?rsd\" rel=\"EditURI\" title=\"RSD\" type=\"application/rsd+xml\"/>\n",
       "<link href=\"https://insights.blackcoffer.com/wp-includes/wlwmanifest.xml\" rel=\"wlwmanifest\" type=\"application/wlwmanifest+xml\"/>\n",
       "<meta content=\"WordPress 6.1.1\" name=\"generator\"/>\n",
       "<link href=\"https://insights.blackcoffer.com/?p=3839\" rel=\"shortlink\"/>\n",
       "<!--[if lt IE 9]><script src=\"https://cdnjs.cloudflare.com/ajax/libs/html5shiv/3.7.3/html5shiv.js\"></script><![endif]-->\n",
       "<script>\n",
       "        window.tdb_globals = {\"wpRestNonce\":\"9f1ababae7\",\"wpRestUrl\":\"https:\\/\\/insights.blackcoffer.com\\/wp-json\\/\",\"permalinkStructure\":\"\\/%postname%\\/\",\"isAjax\":false,\"isAdminBarShowing\":false,\"autoloadScrollPercent\":50,\"origPostEditUrl\":null};\n",
       "    </script>\n",
       "<script>\n",
       "\t\t\t\twindow.tdwGlobal = {\"adminUrl\":\"https:\\/\\/insights.blackcoffer.com\\/wp-admin\\/\",\"wpRestNonce\":\"9f1ababae7\",\"wpRestUrl\":\"https:\\/\\/insights.blackcoffer.com\\/wp-json\\/\",\"permalinkStructure\":\"\\/%postname%\\/\"};\n",
       "\t\t\t</script>\n",
       "<!-- JS generated by theme -->\n",
       "<script>\n",
       "    \n",
       "    \n",
       "\n",
       "\t    var tdBlocksArray = []; //here we store all the items for the current page\n",
       "\n",
       "\t    //td_block class - each ajax block uses a object of this class for requests\n",
       "\t    function tdBlock() {\n",
       "\t\t    this.id = '';\n",
       "\t\t    this.block_type = 1; //block type id (1-234 etc)\n",
       "\t\t    this.atts = '';\n",
       "\t\t    this.td_column_number = '';\n",
       "\t\t    this.td_current_page = 1; //\n",
       "\t\t    this.post_count = 0; //from wp\n",
       "\t\t    this.found_posts = 0; //from wp\n",
       "\t\t    this.max_num_pages = 0; //from wp\n",
       "\t\t    this.td_filter_value = ''; //current live filter value\n",
       "\t\t    this.is_ajax_running = false;\n",
       "\t\t    this.td_user_action = ''; // load more or infinite loader (used by the animation)\n",
       "\t\t    this.header_color = '';\n",
       "\t\t    this.ajax_pagination_infinite_stop = ''; //show load more at page x\n",
       "\t    }\n",
       "\n",
       "\n",
       "        // td_js_generator - mini detector\n",
       "        (function(){\n",
       "            var htmlTag = document.getElementsByTagName(\"html\")[0];\n",
       "\n",
       "\t        if ( navigator.userAgent.indexOf(\"MSIE 10.0\") > -1 ) {\n",
       "                htmlTag.className += ' ie10';\n",
       "            }\n",
       "\n",
       "            if ( !!navigator.userAgent.match(/Trident.*rv\\:11\\./) ) {\n",
       "                htmlTag.className += ' ie11';\n",
       "            }\n",
       "\n",
       "\t        if ( navigator.userAgent.indexOf(\"Edge\") > -1 ) {\n",
       "                htmlTag.className += ' ieEdge';\n",
       "            }\n",
       "\n",
       "            if ( /(iPad|iPhone|iPod)/g.test(navigator.userAgent) ) {\n",
       "                htmlTag.className += ' td-md-is-ios';\n",
       "            }\n",
       "\n",
       "            var user_agent = navigator.userAgent.toLowerCase();\n",
       "            if ( user_agent.indexOf(\"android\") > -1 ) {\n",
       "                htmlTag.className += ' td-md-is-android';\n",
       "            }\n",
       "\n",
       "            if ( -1 !== navigator.userAgent.indexOf('Mac OS X')  ) {\n",
       "                htmlTag.className += ' td-md-is-os-x';\n",
       "            }\n",
       "\n",
       "            if ( /chrom(e|ium)/.test(navigator.userAgent.toLowerCase()) ) {\n",
       "               htmlTag.className += ' td-md-is-chrome';\n",
       "            }\n",
       "\n",
       "            if ( -1 !== navigator.userAgent.indexOf('Firefox') ) {\n",
       "                htmlTag.className += ' td-md-is-firefox';\n",
       "            }\n",
       "\n",
       "            if ( -1 !== navigator.userAgent.indexOf('Safari') && -1 === navigator.userAgent.indexOf('Chrome') ) {\n",
       "                htmlTag.className += ' td-md-is-safari';\n",
       "            }\n",
       "\n",
       "            if( -1 !== navigator.userAgent.indexOf('IEMobile') ){\n",
       "                htmlTag.className += ' td-md-is-iemobile';\n",
       "            }\n",
       "\n",
       "        })();\n",
       "\n",
       "\n",
       "\n",
       "\n",
       "        var tdLocalCache = {};\n",
       "\n",
       "        ( function () {\n",
       "            \"use strict\";\n",
       "\n",
       "            tdLocalCache = {\n",
       "                data: {},\n",
       "                remove: function (resource_id) {\n",
       "                    delete tdLocalCache.data[resource_id];\n",
       "                },\n",
       "                exist: function (resource_id) {\n",
       "                    return tdLocalCache.data.hasOwnProperty(resource_id) && tdLocalCache.data[resource_id] !== null;\n",
       "                },\n",
       "                get: function (resource_id) {\n",
       "                    return tdLocalCache.data[resource_id];\n",
       "                },\n",
       "                set: function (resource_id, cachedData) {\n",
       "                    tdLocalCache.remove(resource_id);\n",
       "                    tdLocalCache.data[resource_id] = cachedData;\n",
       "                }\n",
       "            };\n",
       "        })();\n",
       "\n",
       "    \n",
       "    \n",
       "var td_viewport_interval_list=[{\"limitBottom\":767,\"sidebarWidth\":228},{\"limitBottom\":1018,\"sidebarWidth\":300},{\"limitBottom\":1140,\"sidebarWidth\":324}];\n",
       "var tds_general_modal_image=\"yes\";\n",
       "var tdc_is_installed=\"yes\";\n",
       "var td_ajax_url=\"https:\\/\\/insights.blackcoffer.com\\/wp-admin\\/admin-ajax.php?td_theme_name=Newspaper&v=9.7.2\";\n",
       "var td_get_template_directory_uri=\"https:\\/\\/insights.blackcoffer.com\\/wp-content\\/themes\\/Newspaper\";\n",
       "var tds_snap_menu=\"\";\n",
       "var tds_logo_on_sticky=\"show_header_logo\";\n",
       "var tds_header_style=\"\";\n",
       "var td_please_wait=\"Please wait...\";\n",
       "var td_email_user_pass_incorrect=\"User or password incorrect!\";\n",
       "var td_email_user_incorrect=\"Email or username incorrect!\";\n",
       "var td_email_incorrect=\"Email incorrect!\";\n",
       "var tds_more_articles_on_post_enable=\"show\";\n",
       "var tds_more_articles_on_post_time_to_wait=\"\";\n",
       "var tds_more_articles_on_post_pages_distance_from_top=0;\n",
       "var tds_theme_color_site_wide=\"#4db2ec\";\n",
       "var tds_smart_sidebar=\"\";\n",
       "var tdThemeName=\"Newspaper\";\n",
       "var td_magnific_popup_translation_tPrev=\"Previous (Left arrow key)\";\n",
       "var td_magnific_popup_translation_tNext=\"Next (Right arrow key)\";\n",
       "var td_magnific_popup_translation_tCounter=\"%curr% of %total%\";\n",
       "var td_magnific_popup_translation_ajax_tError=\"The content from %url% could not be loaded.\";\n",
       "var td_magnific_popup_translation_image_tError=\"The image #%curr% could not be loaded.\";\n",
       "var tdBlockNonce=\"82acc5427b\";\n",
       "var tdDateNamesI18n={\"month_names\":[\"January\",\"February\",\"March\",\"April\",\"May\",\"June\",\"July\",\"August\",\"September\",\"October\",\"November\",\"December\"],\"month_names_short\":[\"Jan\",\"Feb\",\"Mar\",\"Apr\",\"May\",\"Jun\",\"Jul\",\"Aug\",\"Sep\",\"Oct\",\"Nov\",\"Dec\"],\"day_names\":[\"Sunday\",\"Monday\",\"Tuesday\",\"Wednesday\",\"Thursday\",\"Friday\",\"Saturday\"],\"day_names_short\":[\"Sun\",\"Mon\",\"Tue\",\"Wed\",\"Thu\",\"Fri\",\"Sat\"]};\n",
       "var td_ad_background_click_link=\"\";\n",
       "var td_ad_background_click_target=\"\";\n",
       "</script>\n",
       "<!-- Header style compiled by theme -->\n",
       "<style>\n",
       "    \n",
       ".block-title > span,\n",
       "    .block-title > span > a,\n",
       "    .block-title > a,\n",
       "    .block-title > label,\n",
       "    .widgettitle,\n",
       "    .widgettitle:after,\n",
       "    .td-trending-now-title,\n",
       "    .td-trending-now-wrapper:hover .td-trending-now-title,\n",
       "    .wpb_tabs li.ui-tabs-active a,\n",
       "    .wpb_tabs li:hover a,\n",
       "    .vc_tta-container .vc_tta-color-grey.vc_tta-tabs-position-top.vc_tta-style-classic .vc_tta-tabs-container .vc_tta-tab.vc_active > a,\n",
       "    .vc_tta-container .vc_tta-color-grey.vc_tta-tabs-position-top.vc_tta-style-classic .vc_tta-tabs-container .vc_tta-tab:hover > a,\n",
       "    .td_block_template_1 .td-related-title .td-cur-simple-item,\n",
       "    .woocommerce .product .products h2:not(.woocommerce-loop-product__title),\n",
       "    .td-subcat-filter .td-subcat-dropdown:hover .td-subcat-more,\n",
       "    .td-weather-information:before,\n",
       "    .td-weather-week:before,\n",
       "    .td_block_exchange .td-exchange-header:before,\n",
       "    .td-theme-wrap .td_block_template_3 .td-block-title > *,\n",
       "    .td-theme-wrap .td_block_template_4 .td-block-title > *,\n",
       "    .td-theme-wrap .td_block_template_7 .td-block-title > *,\n",
       "    .td-theme-wrap .td_block_template_9 .td-block-title:after,\n",
       "    .td-theme-wrap .td_block_template_10 .td-block-title::before,\n",
       "    .td-theme-wrap .td_block_template_11 .td-block-title::before,\n",
       "    .td-theme-wrap .td_block_template_11 .td-block-title::after,\n",
       "    .td-theme-wrap .td_block_template_14 .td-block-title,\n",
       "    .td-theme-wrap .td_block_template_15 .td-block-title:before,\n",
       "    .td-theme-wrap .td_block_template_17 .td-block-title:before {\n",
       "        background-color: #222222;\n",
       "    }\n",
       "\n",
       "    .woocommerce div.product .woocommerce-tabs ul.tabs li.active {\n",
       "    \tbackground-color: #222222 !important;\n",
       "    }\n",
       "\n",
       "    .block-title,\n",
       "    .td_block_template_1 .td-related-title,\n",
       "    .wpb_tabs .wpb_tabs_nav,\n",
       "    .vc_tta-container .vc_tta-color-grey.vc_tta-tabs-position-top.vc_tta-style-classic .vc_tta-tabs-container,\n",
       "    .woocommerce div.product .woocommerce-tabs ul.tabs:before,\n",
       "    .td-theme-wrap .td_block_template_5 .td-block-title > *,\n",
       "    .td-theme-wrap .td_block_template_17 .td-block-title,\n",
       "    .td-theme-wrap .td_block_template_17 .td-block-title::before {\n",
       "        border-color: #222222;\n",
       "    }\n",
       "\n",
       "    .td-theme-wrap .td_block_template_4 .td-block-title > *:before,\n",
       "    .td-theme-wrap .td_block_template_17 .td-block-title::after {\n",
       "        border-color: #222222 transparent transparent transparent;\n",
       "    }\n",
       "    \n",
       "    .td-theme-wrap .td_block_template_4 .td-related-title .td-cur-simple-item:before {\n",
       "        border-color: #222222 transparent transparent transparent !important;\n",
       "    }\n",
       "\n",
       "    \n",
       "    .td-header-bg:before {\n",
       "        background-size: auto;\n",
       "    }\n",
       "\n",
       "    \n",
       "    .td-footer-wrapper,\n",
       "    .td-footer-wrapper .td_block_template_7 .td-block-title > *,\n",
       "    .td-footer-wrapper .td_block_template_17 .td-block-title,\n",
       "    .td-footer-wrapper .td-block-title-wrap .td-wrapper-pulldown-filter {\n",
       "        background-color: #111111;\n",
       "    }\n",
       "\n",
       "    \n",
       "    .td-footer-wrapper::before {\n",
       "        background-image: url('https://insights.blackcoffer.com/wp-content/uploads/2022/08/8.jpg');\n",
       "    }\n",
       "\n",
       "    \n",
       "    .td-footer-wrapper::before {\n",
       "        background-size: cover;\n",
       "    }\n",
       "\n",
       "    \n",
       "    .td-footer-wrapper::before {\n",
       "        background-position: center center;\n",
       "    }\n",
       "\n",
       "    \n",
       "    .td-footer-wrapper::before {\n",
       "        opacity: 0.1;\n",
       "    }\n",
       "\n",
       "\n",
       "\n",
       "    \n",
       "    .td-menu-background,\n",
       "    .td-search-background {\n",
       "        background-image: url('https://insights.blackcoffer.com/wp-content/uploads/2022/08/8.jpg');\n",
       "    }\n",
       "\n",
       "    \n",
       "    .white-popup-block:before {\n",
       "        background-image: url('https://insights.blackcoffer.com/wp-content/uploads/2022/08/8.jpg');\n",
       "    }\n",
       "</style>\n",
       "<link href=\"https://insights.blackcoffer.com/wp-content/uploads/2018/06/Black-432x466-v02-150x150.png\" rel=\"icon\" sizes=\"32x32\"/>\n",
       "<link href=\"https://insights.blackcoffer.com/wp-content/uploads/2018/06/Black-432x466-v02.png\" rel=\"icon\" sizes=\"192x192\"/>\n",
       "<link href=\"https://insights.blackcoffer.com/wp-content/uploads/2018/06/Black-432x466-v02.png\" rel=\"apple-touch-icon\"/>\n",
       "<meta content=\"https://insights.blackcoffer.com/wp-content/uploads/2018/06/Black-432x466-v02.png\" name=\"msapplication-TileImage\"/>\n",
       "<!-- Button style compiled by theme -->\n",
       "<style>\n",
       "</style>\n",
       "<style id=\"tdw-css-placeholder\">.td-big-grid-wrapper .entry-thumb {\n",
       "  width: 100% !important;\n",
       "  height: 100% !important;\n",
       "  object-fit: cover !important;\n",
       "}\n",
       "</style></head>\n",
       "<body class=\"post-template-default single single-post postid-3839 single-format-standard how-telehealth-and-telemedicine-helping-people-to-fight-against-covid-19-2 global-block-template-1 single_template_7 td-full-layout\" itemscope=\"itemscope\" itemtype=\"https://schema.org/WebPage\">\n",
       "<div class=\"td-scroll-up\"><i class=\"td-icon-menu-up\"></i></div>\n",
       "<div class=\"td-menu-background\"></div>\n",
       "<div id=\"td-mobile-nav\">\n",
       "<div class=\"td-mobile-container\">\n",
       "<!-- mobile menu top section -->\n",
       "<div class=\"td-menu-socials-wrap\">\n",
       "<!-- socials -->\n",
       "<div class=\"td-menu-socials\">\n",
       "<span class=\"td-social-icon-wrap\">\n",
       "<a href=\"https://www.facebook.com/blackcoffer.consulting\" target=\"_blank\" title=\"Facebook\">\n",
       "<i class=\"td-icon-font td-icon-facebook\"></i>\n",
       "</a>\n",
       "</span>\n",
       "<span class=\"td-social-icon-wrap\">\n",
       "<a href=\"https://www.linkedin.com/company/blackcoffer/mycompany/\" target=\"_blank\" title=\"Linkedin\">\n",
       "<i class=\"td-icon-font td-icon-linkedin\"></i>\n",
       "</a>\n",
       "</span>\n",
       "<span class=\"td-social-icon-wrap\">\n",
       "<a href=\"https://twitter.com/Blackcoffer1\" target=\"_blank\" title=\"Twitter\">\n",
       "<i class=\"td-icon-font td-icon-twitter\"></i>\n",
       "</a>\n",
       "</span>\n",
       "<span class=\"td-social-icon-wrap\">\n",
       "<a href=\"https://www.youtube.com/channel/UCfr95TYacXeHI3cklmYdtXg\" target=\"_blank\" title=\"Youtube\">\n",
       "<i class=\"td-icon-font td-icon-youtube\"></i>\n",
       "</a>\n",
       "</span> </div>\n",
       "<!-- close button -->\n",
       "<div class=\"td-mobile-close\">\n",
       "<a href=\"#\"><i class=\"td-icon-close-mobile\"></i></a>\n",
       "</div>\n",
       "</div>\n",
       "<!-- login section -->\n",
       "<!-- menu section -->\n",
       "<div class=\"td-mobile-content\">\n",
       "<div class=\"menu-main-2-container\"><ul class=\"td-mobile-main-menu\" id=\"menu-main-2\"><li class=\"menu-item menu-item-type-taxonomy menu-item-object-category menu-item-first menu-item-has-children menu-item-4058\" id=\"menu-item-4058\"><a href=\"https://insights.blackcoffer.com/category/our-success-stories/\">Our Success Stories<i class=\"td-icon-menu-right td-element-after\"></i></a>\n",
       "<ul class=\"sub-menu\">\n",
       "<li class=\"menu-item-0\" id=\"menu-item-0\"><a href=\"https://insights.blackcoffer.com/category/our-success-stories/banking-securities-and-insurance/\">Banking, Financials, Securities, and Insurance</a></li>\n",
       "<li class=\"menu-item-0\"><a href=\"https://insights.blackcoffer.com/category/our-success-stories/energy-our-success-stories/\">Energy</a></li>\n",
       "<li class=\"menu-item-0\"><a href=\"https://insights.blackcoffer.com/category/our-success-stories/entertainment-our-success-stories/\">Entertainment</a></li>\n",
       "<li class=\"menu-item-0\"><a href=\"https://insights.blackcoffer.com/category/our-success-stories/fast-moving-consumer-goods/\">Fast Moving Consumer Goods</a></li>\n",
       "<li class=\"menu-item-0\"><a href=\"https://insights.blackcoffer.com/category/our-success-stories/government-think-tanks/\">Government &amp; Think Tanks</a></li>\n",
       "<li class=\"menu-item-0\"><a href=\"https://insights.blackcoffer.com/category/our-success-stories/healthcare-our-success-stories/\">Healthcare</a></li>\n",
       "<li class=\"menu-item-0\"><a href=\"https://insights.blackcoffer.com/category/our-success-stories/infrastructure-real-estate/\">Infrastructure &amp; Real Estate</a></li>\n",
       "<li class=\"menu-item-0\"><a href=\"https://insights.blackcoffer.com/category/our-success-stories/it/\">IT</a></li>\n",
       "<li class=\"menu-item-0\"><a href=\"https://insights.blackcoffer.com/category/our-success-stories/lifestyle-ecommerce-market-place/\">Lifestyle, eCommerce &amp; Online Market Place</a></li>\n",
       "<li class=\"menu-item-0\"><a href=\"https://insights.blackcoffer.com/category/our-success-stories/production-manufacturing/\">Production &amp; Manufacturing</a></li>\n",
       "<li class=\"menu-item-0\"><a href=\"https://insights.blackcoffer.com/category/our-success-stories/research-academia/\">Research &amp; Academia</a></li>\n",
       "<li class=\"menu-item-0\"><a href=\"https://insights.blackcoffer.com/category/our-success-stories/retail-supply-chain/\">Retail &amp; Supply Chain</a></li>\n",
       "<li class=\"menu-item-0\"><a href=\"https://insights.blackcoffer.com/category/our-success-stories/telecom/\">Telecom</a></li>\n",
       "</ul>\n",
       "</li>\n",
       "<li class=\"menu-item menu-item-type-taxonomy menu-item-object-category menu-item-has-children menu-item-4059\" id=\"menu-item-4059\"><a href=\"https://insights.blackcoffer.com/category/our-solutions/\">What We Do<i class=\"td-icon-menu-right td-element-after\"></i></a>\n",
       "<ul class=\"sub-menu\">\n",
       "<li class=\"menu-item-0\"><a href=\"https://insights.blackcoffer.com/category/our-solutions/banking-financials-securities-and-insurance-solutions/\">Banking, Financials, Securities, and Insurance</a></li>\n",
       "<li class=\"menu-item-0\"><a href=\"https://insights.blackcoffer.com/category/our-solutions/energy-our-solutions/\">Energy</a></li>\n",
       "<li class=\"menu-item-0\"><a href=\"https://insights.blackcoffer.com/category/our-solutions/entertainment-our-solutions/\">Entertainment</a></li>\n",
       "<li class=\"menu-item-0\"><a href=\"https://insights.blackcoffer.com/category/our-solutions/fast-moving-consumer-goods-our-solutions/\">Fast Moving Consumer Goods</a></li>\n",
       "<li class=\"menu-item-0\"><a href=\"https://insights.blackcoffer.com/category/our-solutions/government-think-tanks-our-solutions/\">Government &amp; Think Tanks</a></li>\n",
       "<li class=\"menu-item-0\"><a href=\"https://insights.blackcoffer.com/category/our-solutions/healthcare-our-solutions/\">Healthcare</a></li>\n",
       "<li class=\"menu-item-0\"><a href=\"https://insights.blackcoffer.com/category/our-solutions/hospitality/\">Hospitality</a></li>\n",
       "<li class=\"menu-item-0\"><a href=\"https://insights.blackcoffer.com/category/our-solutions/infrastructure-real-estate-our-solutions/\">Infrastructure &amp; Real Estate</a></li>\n",
       "<li class=\"menu-item-0\"><a href=\"https://insights.blackcoffer.com/category/our-solutions/it-services/\">IT Services</a></li>\n",
       "<li class=\"menu-item-0\"><a href=\"https://insights.blackcoffer.com/category/our-solutions/lifestyle-ecommerce-market-place-solutions/\">Lifestyle, eCommerce &amp; Online Market Place</a></li>\n",
       "<li class=\"menu-item-0\"><a href=\"https://insights.blackcoffer.com/category/our-solutions/news-media/\">News &amp; Media</a></li>\n",
       "<li class=\"menu-item-0\"><a href=\"https://insights.blackcoffer.com/category/our-solutions/production-manufacturing-our-solutions/\">Production &amp; Manufacturing</a></li>\n",
       "<li class=\"menu-item-0\"><a href=\"https://insights.blackcoffer.com/category/our-solutions/research-academia-our-solutions/\">Research &amp; Academia</a></li>\n",
       "<li class=\"menu-item-0\"><a href=\"https://insights.blackcoffer.com/category/our-solutions/retail-supply-chain-our-solutions/\">Retail &amp; Supply Chain</a></li>\n",
       "</ul>\n",
       "</li>\n",
       "<li class=\"menu-item menu-item-type-taxonomy menu-item-object-category current-post-ancestor current-menu-parent current-post-parent menu-item-has-children menu-item-4060\" id=\"menu-item-4060\"><a href=\"https://insights.blackcoffer.com/category/what-we-think/\">What We Think<i class=\"td-icon-menu-right td-element-after\"></i></a>\n",
       "<ul class=\"sub-menu\">\n",
       "<li class=\"menu-item-0\"><a href=\"https://insights.blackcoffer.com/category/what-we-think/automobiles-components/\">Automobiles &amp; Components</a></li>\n",
       "<li class=\"menu-item-0\"><a href=\"https://insights.blackcoffer.com/category/what-we-think/financials/\">BFSI</a></li>\n",
       "<li class=\"menu-item-0\"><a href=\"https://insights.blackcoffer.com/category/what-we-think/financials/asset-and-portfolio/\">Asset and Portfolio</a></li>\n",
       "<li class=\"menu-item-0\"><a href=\"https://insights.blackcoffer.com/category/what-we-think/financials/banks/\">Banks</a></li>\n",
       "<li class=\"menu-item-0\"><a href=\"https://insights.blackcoffer.com/category/what-we-think/financials/capital-markets/\">Capital Markets</a></li>\n",
       "<li class=\"menu-item-0\"><a href=\"https://insights.blackcoffer.com/category/what-we-think/financials/derivatives-and-securities/\">Derivatives and Securities</a></li>\n",
       "<li class=\"menu-item-0\"><a href=\"https://insights.blackcoffer.com/category/what-we-think/financials/diversified-financials/\">Diversified Financials</a></li>\n",
       "<li class=\"menu-item-0\"><a href=\"https://insights.blackcoffer.com/category/what-we-think/financials/finance-and-accounting/\">Finance &amp; Accounting</a></li>\n",
       "<li class=\"menu-item-0\"><a href=\"https://insights.blackcoffer.com/category/what-we-think/financials/insurance/\">Insurance</a></li>\n",
       "<li class=\"menu-item-0\"><a href=\"https://insights.blackcoffer.com/category/what-we-think/financials/securities-and-capital-markets/\">Securities and Capital Markets</a></li>\n",
       "<li class=\"menu-item-0\"><a href=\"https://insights.blackcoffer.com/category/what-we-think/capital-goods/\">Capital Goods</a></li>\n",
       "<li class=\"menu-item-0\"><a href=\"https://insights.blackcoffer.com/category/what-we-think/commercial-professional-services/\">Commercial &amp; Professional Services</a></li>\n",
       "<li class=\"menu-item-0\"><a href=\"https://insights.blackcoffer.com/category/what-we-think/consumer-discretionary/\">Consumer Discretionary</a></li>\n",
       "<li class=\"menu-item-0\"><a href=\"https://insights.blackcoffer.com/category/what-we-think/consumer-durables-apparel/\">Consumer Durables &amp; Apparel</a></li>\n",
       "<li class=\"menu-item-0\"><a href=\"https://insights.blackcoffer.com/category/what-we-think/consumer-services/\">Consumer Services</a></li>\n",
       "<li class=\"menu-item-0\"><a href=\"https://insights.blackcoffer.com/category/what-we-think/consumer-staples/\">Consumer Staples</a></li>\n",
       "<li class=\"menu-item-0\"><a href=\"https://insights.blackcoffer.com/category/what-we-think/consumer-staples/food-staples-retailing/\">Food &amp; Staples Retailing</a></li>\n",
       "<li class=\"menu-item-0\"><a href=\"https://insights.blackcoffer.com/category/what-we-think/consumer-staples/food-beverage-tobacco/\">Food, Beverage &amp; Tobacco</a></li>\n",
       "<li class=\"menu-item-0\"><a href=\"https://insights.blackcoffer.com/category/what-we-think/consumer-staples/household-personal-products/\">Household &amp; Personal Products</a></li>\n",
       "<li class=\"menu-item-0\"><a href=\"https://insights.blackcoffer.com/category/what-we-think/data-science/\">Data Science</a></li>\n",
       "<li class=\"menu-item-0\"><a href=\"https://insights.blackcoffer.com/category/what-we-think/data-science/analytics/\">Analytics</a></li>\n",
       "<li class=\"menu-item-0\"><a href=\"https://insights.blackcoffer.com/category/what-we-think/data-science/artificial-intelligence/\">Artificial Intelligence</a></li>\n",
       "<li class=\"menu-item-0\"><a href=\"https://insights.blackcoffer.com/category/what-we-think/data-science/big-data/\">Big Data</a></li>\n",
       "<li class=\"menu-item-0\"><a href=\"https://insights.blackcoffer.com/category/what-we-think/data-science/business-analytics/\">Business Analytics</a></li>\n",
       "<li class=\"menu-item-0\"><a href=\"https://insights.blackcoffer.com/category/what-we-think/data-science/data-visualization/\">Data Visualization</a></li>\n",
       "<li class=\"menu-item-0\"><a href=\"https://insights.blackcoffer.com/category/what-we-think/data-science/internet-of-things/\">Internet of Things</a></li>\n",
       "<li class=\"menu-item-0\"><a href=\"https://insights.blackcoffer.com/category/what-we-think/data-science/machine-learning/\">Machine Learning</a></li>\n",
       "<li class=\"menu-item-0\"><a href=\"https://insights.blackcoffer.com/category/what-we-think/data-science/statistics/\">Statistics</a></li>\n",
       "<li class=\"menu-item-0\"><a href=\"https://insights.blackcoffer.com/category/what-we-think/energy/\">Energy</a></li>\n",
       "<li class=\"menu-item-0\"><a href=\"https://insights.blackcoffer.com/category/what-we-think/energy/dataoil/\">DataOil</a></li>\n",
       "</ul>\n",
       "</li>\n",
       "<li class=\"menu-item menu-item-type-taxonomy menu-item-object-category menu-item-has-children menu-item-4061\" id=\"menu-item-4061\"><a href=\"https://insights.blackcoffer.com/category/how-to/\">How To<i class=\"td-icon-menu-right td-element-after\"></i></a>\n",
       "<ul class=\"sub-menu\">\n",
       "<li class=\"menu-item-0\"><a href=\"https://insights.blackcoffer.com/category/how-to/analytics-how-to/\">Analytics</a></li>\n",
       "<li class=\"menu-item-0\"><a href=\"https://insights.blackcoffer.com/category/how-to/application-development-how-to/\">Application Development</a></li>\n",
       "<li class=\"menu-item-0\"><a href=\"https://insights.blackcoffer.com/category/how-to/artificial-intelligence-how-to/\">Artificial Intelligence</a></li>\n",
       "<li class=\"menu-item-0\"><a href=\"https://insights.blackcoffer.com/category/how-to/business-analytics-how-to/\">Business Analytics</a></li>\n",
       "<li class=\"menu-item-0\"><a href=\"https://insights.blackcoffer.com/category/how-to/example/\">Example</a></li>\n",
       "<li class=\"menu-item-0\"><a href=\"https://insights.blackcoffer.com/category/how-to/optimization/\">Optimization</a></li>\n",
       "<li class=\"menu-item-0\"><a href=\"https://insights.blackcoffer.com/category/how-to/projects/\">Projects</a></li>\n",
       "<li class=\"menu-item-0\"><a href=\"https://insights.blackcoffer.com/category/how-to/software-development/\">Software Development</a></li>\n",
       "<li class=\"menu-item-0\"><a href=\"https://insights.blackcoffer.com/category/how-to/source-code-audit/\">Source Code Audit</a></li>\n",
       "<li class=\"menu-item-0\"><a href=\"https://insights.blackcoffer.com/category/how-to/statistics-how-to/\">Statistics</a></li>\n",
       "<li class=\"menu-item-0\"><a href=\"https://insights.blackcoffer.com/category/how-to/web-mobile-app-development/\">Web &amp; Mobile App Development</a></li>\n",
       "</ul>\n",
       "</li>\n",
       "<li class=\"menu-item menu-item-type-custom menu-item-object-custom menu-item-4062\" id=\"menu-item-4062\"><a href=\"#\">Schedule Demo</a></li>\n",
       "<li class=\"menu-item menu-item-type-post_type menu-item-object-page menu-item-4063\" id=\"menu-item-4063\"><a href=\"https://insights.blackcoffer.com/contact/\">Contact</a></li>\n",
       "</ul></div> </div>\n",
       "</div>\n",
       "<!-- register/login section -->\n",
       "</div> <div class=\"td-search-background\"></div>\n",
       "<div class=\"td-search-wrap-mob\">\n",
       "<div aria-labelledby=\"td-header-search-button\" class=\"td-drop-down-search\">\n",
       "<form action=\"https://insights.blackcoffer.com/\" class=\"td-search-form\" method=\"get\">\n",
       "<!-- close button -->\n",
       "<div class=\"td-search-close\">\n",
       "<a href=\"#\"><i class=\"td-icon-close-mobile\"></i></a>\n",
       "</div>\n",
       "<div class=\"td-search-input\" role=\"search\">\n",
       "<span>Search</span>\n",
       "<input autocomplete=\"off\" id=\"td-header-search-mob\" name=\"s\" type=\"text\" value=\"\"/>\n",
       "</div>\n",
       "</form>\n",
       "<div id=\"td-aj-search-mob\"></div>\n",
       "</div>\n",
       "</div>\n",
       "<div class=\"td-theme-wrap\" id=\"td-outer-wrap\">\n",
       "<div class=\"tdc-header-wrap\">\n",
       "<!--\n",
       "Header style 1\n",
       "-->\n",
       "<div class=\"td-header-wrap td-header-style-1\">\n",
       "<div class=\"td-header-top-menu-full td-container-wrap\">\n",
       "<div class=\"td-container td-header-row td-header-top-menu\">\n",
       "<div class=\"top-bar-style-1\">\n",
       "<div class=\"td-header-sp-top-menu\">\n",
       "<div class=\"td_data_time\">\n",
       "<div>\n",
       "\n",
       "                Sunday, February 12, 2023\n",
       "            </div>\n",
       "</div>\n",
       "</div>\n",
       "<div class=\"td-header-sp-top-widget\">\n",
       "<span class=\"td-social-icon-wrap\">\n",
       "<a href=\"https://www.facebook.com/blackcoffer.consulting\" target=\"_blank\" title=\"Facebook\">\n",
       "<i class=\"td-icon-font td-icon-facebook\"></i>\n",
       "</a>\n",
       "</span>\n",
       "<span class=\"td-social-icon-wrap\">\n",
       "<a href=\"https://www.linkedin.com/company/blackcoffer/mycompany/\" target=\"_blank\" title=\"Linkedin\">\n",
       "<i class=\"td-icon-font td-icon-linkedin\"></i>\n",
       "</a>\n",
       "</span>\n",
       "<span class=\"td-social-icon-wrap\">\n",
       "<a href=\"https://twitter.com/Blackcoffer1\" target=\"_blank\" title=\"Twitter\">\n",
       "<i class=\"td-icon-font td-icon-twitter\"></i>\n",
       "</a>\n",
       "</span>\n",
       "<span class=\"td-social-icon-wrap\">\n",
       "<a href=\"https://www.youtube.com/channel/UCfr95TYacXeHI3cklmYdtXg\" target=\"_blank\" title=\"Youtube\">\n",
       "<i class=\"td-icon-font td-icon-youtube\"></i>\n",
       "</a>\n",
       "</span> </div> </div>\n",
       "<!-- LOGIN MODAL -->\n",
       "</div>\n",
       "</div>\n",
       "<div class=\"td-banner-wrap-full td-logo-wrap-full td-container-wrap\">\n",
       "<div class=\"td-container td-header-row td-header-header\">\n",
       "<div class=\"td-header-sp-logo\">\n",
       "<a class=\"td-main-logo\" href=\"https://insights.blackcoffer.com/\">\n",
       "<img alt=\"\" src=\"https://insights.blackcoffer.com/wp-content/uploads/2018/12/Insights-blackv02.png\"/>\n",
       "<span class=\"td-visual-hidden\">Blackcoffer Insights</span>\n",
       "</a>\n",
       "</div>\n",
       "<div class=\"td-header-sp-recs\">\n",
       "<div class=\"td-header-rec-wrap\">\n",
       "<div class=\"td-a-rec td-a-rec-id-header td-rec-hide-on-p td_uid_1_63e882a03bc24_rand td_block_template_1\">\n",
       "<style>\n",
       "/* custom css */\n",
       ".td_uid_1_63e882a03bc24_rand.td-a-rec-img {\n",
       "\t\t\t\t    text-align: left;\n",
       "\t\t\t\t}\n",
       "\t\t\t\t.td_uid_1_63e882a03bc24_rand.td-a-rec-img img {\n",
       "                    margin: 0 auto 0 0;\n",
       "                }\n",
       "</style><div class=\"td-all-devices\"><a href=\"#\" target=\"_blank\"><img onmouseout=\"this.style.transform=`scale(1)`\" onmouseover=\"this.style.transform=`scale(0.9)`\" src=\"https://insights.blackcoffer.com/wp-content/uploads/2018/12/1.png\" style=\"transition: all 0.3s ease 0s; transform: scale(1);\"/></a></div></div>\n",
       "</div> </div>\n",
       "</div>\n",
       "</div>\n",
       "<div class=\"td-header-menu-wrap-full td-container-wrap\">\n",
       "<div class=\"td-header-menu-wrap td-header-gradient\">\n",
       "<div class=\"td-container td-header-row td-header-main-menu\">\n",
       "<div id=\"td-header-menu\" role=\"navigation\">\n",
       "<div id=\"td-top-mobile-toggle\"><a href=\"#\"><i class=\"td-icon-font td-icon-mobile\"></i></a></div>\n",
       "<div class=\"td-main-menu-logo td-logo-in-header\">\n",
       "<a class=\"td-mobile-logo td-sticky-header\" href=\"https://insights.blackcoffer.com/\">\n",
       "<img alt=\"\" src=\"https://insights.blackcoffer.com/wp-content/uploads/2018/12/Insights-blackv02-300x60.png\"/>\n",
       "</a>\n",
       "<a class=\"td-header-logo td-sticky-header\" href=\"https://insights.blackcoffer.com/\">\n",
       "<img alt=\"\" src=\"https://insights.blackcoffer.com/wp-content/uploads/2018/12/Insights-blackv02.png\"/>\n",
       "</a>\n",
       "</div>\n",
       "<div class=\"menu-main-2-container\"><ul class=\"sf-menu\" id=\"menu-main-3\"><li class=\"menu-item menu-item-type-taxonomy menu-item-object-category menu-item-first td-menu-item td-mega-menu menu-item-4058\"><a href=\"https://insights.blackcoffer.com/category/our-success-stories/\">Our Success Stories</a>\n",
       "<ul class=\"sub-menu\">\n",
       "<li class=\"menu-item-0\"><div class=\"td-container-border\"><div class=\"td-mega-grid\"><div class=\"td_block_wrap td_block_mega_menu td_uid_2_63e882a03d4b5_rand td_with_ajax_pagination td-pb-border-top td_block_template_1\" data-td-block-uid=\"td_uid_2_63e882a03d4b5\"><script>var block_td_uid_2_63e882a03d4b5 = new tdBlock();\n",
       "block_td_uid_2_63e882a03d4b5.id = \"td_uid_2_63e882a03d4b5\";\n",
       "block_td_uid_2_63e882a03d4b5.atts = '{\"limit\":4,\"td_column_number\":3,\"ajax_pagination\":\"next_prev\",\"category_id\":\"268\",\"show_child_cat\":30,\"td_ajax_filter_type\":\"td_category_ids_filter\",\"td_ajax_preloading\":\"\",\"block_template_id\":\"\",\"header_color\":\"\",\"ajax_pagination_infinite_stop\":\"\",\"offset\":\"\",\"td_filter_default_txt\":\"\",\"td_ajax_filter_ids\":\"\",\"el_class\":\"\",\"color_preset\":\"\",\"border_top\":\"\",\"css\":\"\",\"tdc_css\":\"\",\"class\":\"td_uid_2_63e882a03d4b5_rand\",\"tdc_css_class\":\"td_uid_2_63e882a03d4b5_rand\",\"tdc_css_class_style\":\"td_uid_2_63e882a03d4b5_rand_style\"}';\n",
       "block_td_uid_2_63e882a03d4b5.td_column_number = \"3\";\n",
       "block_td_uid_2_63e882a03d4b5.block_type = \"td_block_mega_menu\";\n",
       "block_td_uid_2_63e882a03d4b5.post_count = \"4\";\n",
       "block_td_uid_2_63e882a03d4b5.found_posts = \"132\";\n",
       "block_td_uid_2_63e882a03d4b5.header_color = \"\";\n",
       "block_td_uid_2_63e882a03d4b5.ajax_pagination_infinite_stop = \"\";\n",
       "block_td_uid_2_63e882a03d4b5.max_num_pages = \"33\";\n",
       "tdBlocksArray.push(block_td_uid_2_63e882a03d4b5);\n",
       "</script><div class=\"td_mega_menu_sub_cats\"><div class=\"block-mega-child-cats\"><a class=\"cur-sub-cat mega-menu-sub-cat-td_uid_2_63e882a03d4b5\" data-td_block_id=\"td_uid_2_63e882a03d4b5\" data-td_filter_value=\"\" href=\"https://insights.blackcoffer.com/category/our-success-stories/\" id=\"td_uid_3_63e882a041003\">All</a><a class=\"mega-menu-sub-cat-td_uid_2_63e882a03d4b5\" data-td_block_id=\"td_uid_2_63e882a03d4b5\" data-td_filter_value=\"274\" href=\"https://insights.blackcoffer.com/category/our-success-stories/banking-securities-and-insurance/\" id=\"td_uid_4_63e882a041044\">Banking, Financials, Securities, and Insurance</a><a class=\"mega-menu-sub-cat-td_uid_2_63e882a03d4b5\" data-td_block_id=\"td_uid_2_63e882a03d4b5\" data-td_filter_value=\"273\" href=\"https://insights.blackcoffer.com/category/our-success-stories/energy-our-success-stories/\" id=\"td_uid_5_63e882a041081\">Energy</a><a class=\"mega-menu-sub-cat-td_uid_2_63e882a03d4b5\" data-td_block_id=\"td_uid_2_63e882a03d4b5\" data-td_filter_value=\"279\" href=\"https://insights.blackcoffer.com/category/our-success-stories/entertainment-our-success-stories/\" id=\"td_uid_6_63e882a0410a8\">Entertainment</a><a class=\"mega-menu-sub-cat-td_uid_2_63e882a03d4b5\" data-td_block_id=\"td_uid_2_63e882a03d4b5\" data-td_filter_value=\"275\" href=\"https://insights.blackcoffer.com/category/our-success-stories/fast-moving-consumer-goods/\" id=\"td_uid_7_63e882a0410cb\">Fast Moving Consumer Goods</a><a class=\"mega-menu-sub-cat-td_uid_2_63e882a03d4b5\" data-td_block_id=\"td_uid_2_63e882a03d4b5\" data-td_filter_value=\"277\" href=\"https://insights.blackcoffer.com/category/our-success-stories/government-think-tanks/\" id=\"td_uid_8_63e882a0410ef\">Government &amp; Think Tanks</a><a class=\"mega-menu-sub-cat-td_uid_2_63e882a03d4b5\" data-td_block_id=\"td_uid_2_63e882a03d4b5\" data-td_filter_value=\"272\" href=\"https://insights.blackcoffer.com/category/our-success-stories/healthcare-our-success-stories/\" id=\"td_uid_9_63e882a041112\">Healthcare</a><a class=\"mega-menu-sub-cat-td_uid_2_63e882a03d4b5\" data-td_block_id=\"td_uid_2_63e882a03d4b5\" data-td_filter_value=\"281\" href=\"https://insights.blackcoffer.com/category/our-success-stories/infrastructure-real-estate/\" id=\"td_uid_10_63e882a041135\">Infrastructure &amp; Real Estate</a><a class=\"mega-menu-sub-cat-td_uid_2_63e882a03d4b5\" data-td_block_id=\"td_uid_2_63e882a03d4b5\" data-td_filter_value=\"1264\" href=\"https://insights.blackcoffer.com/category/our-success-stories/it/\" id=\"td_uid_11_63e882a04116b\">IT</a><a class=\"mega-menu-sub-cat-td_uid_2_63e882a03d4b5\" data-td_block_id=\"td_uid_2_63e882a03d4b5\" data-td_filter_value=\"280\" href=\"https://insights.blackcoffer.com/category/our-success-stories/lifestyle-ecommerce-market-place/\" id=\"td_uid_12_63e882a04118e\">Lifestyle, eCommerce &amp; Online Market Place</a><a class=\"mega-menu-sub-cat-td_uid_2_63e882a03d4b5\" data-td_block_id=\"td_uid_2_63e882a03d4b5\" data-td_filter_value=\"278\" href=\"https://insights.blackcoffer.com/category/our-success-stories/production-manufacturing/\" id=\"td_uid_13_63e882a0411b1\">Production &amp; Manufacturing</a><a class=\"mega-menu-sub-cat-td_uid_2_63e882a03d4b5\" data-td_block_id=\"td_uid_2_63e882a03d4b5\" data-td_filter_value=\"276\" href=\"https://insights.blackcoffer.com/category/our-success-stories/research-academia/\" id=\"td_uid_14_63e882a0411d3\">Research &amp; Academia</a><a class=\"mega-menu-sub-cat-td_uid_2_63e882a03d4b5\" data-td_block_id=\"td_uid_2_63e882a03d4b5\" data-td_filter_value=\"282\" href=\"https://insights.blackcoffer.com/category/our-success-stories/retail-supply-chain/\" id=\"td_uid_15_63e882a0411f6\">Retail &amp; Supply Chain</a><a class=\"mega-menu-sub-cat-td_uid_2_63e882a03d4b5\" data-td_block_id=\"td_uid_2_63e882a03d4b5\" data-td_filter_value=\"331\" href=\"https://insights.blackcoffer.com/category/our-success-stories/telecom/\" id=\"td_uid_16_63e882a041219\">Telecom</a></div></div><div class=\"td_block_inner\" id=\"td_uid_2_63e882a03d4b5\"><div class=\"td-mega-row\"><div class=\"td-mega-span\">\n",
       "<div class=\"td_module_mega_menu td-animation-stack td_mod_mega_menu\">\n",
       "<div class=\"td-module-image\">\n",
       "<div class=\"td-module-thumb\"><a class=\"td-image-wrap\" href=\"https://insights.blackcoffer.com/ranking-customer-behaviours-for-business-strategy/\" rel=\"bookmark\" title=\"Ranking customer behaviours for business strategy\"><img alt=\"\" class=\"entry-thumb\" height=\"150\" sizes=\"(max-width: 218px) 100vw, 218px\" src=\"https://insights.blackcoffer.com/wp-content/uploads/2022/12/chooseus-1-1-218x150.jpg\" srcset=\"https://insights.blackcoffer.com/wp-content/uploads/2022/12/chooseus-1-1-218x150.jpg 218w, https://insights.blackcoffer.com/wp-content/uploads/2022/12/chooseus-1-1-100x70.jpg 100w\" title=\"Ranking customer behaviours for business strategy\" width=\"218\"/></a></div> <a class=\"td-post-category\" href=\"https://insights.blackcoffer.com/category/our-success-stories/\">Our Success Stories</a> </div>\n",
       "<div class=\"item-details\">\n",
       "<h3 class=\"entry-title td-module-title\"><a href=\"https://insights.blackcoffer.com/ranking-customer-behaviours-for-business-strategy/\" rel=\"bookmark\" title=\"Ranking customer behaviours for business strategy\">Ranking customer behaviours for business strategy</a></h3> </div>\n",
       "</div>\n",
       "</div><div class=\"td-mega-span\">\n",
       "<div class=\"td_module_mega_menu td-animation-stack td_mod_mega_menu\">\n",
       "<div class=\"td-module-image\">\n",
       "<div class=\"td-module-thumb\"><a class=\"td-image-wrap\" href=\"https://insights.blackcoffer.com/algorithmic-trading-for-multiple-commodities-markets-like-forex-metals-energy-etc/\" rel=\"bookmark\" title=\"Algorithmic trading for multiple commodities markets, like Forex, Metals, Energy, etc.\"><img alt=\"\" class=\"entry-thumb\" height=\"150\" sizes=\"(max-width: 218px) 100vw, 218px\" src=\"https://insights.blackcoffer.com/wp-content/uploads/2022/12/h4-img-01-218x150.jpg\" srcset=\"https://insights.blackcoffer.com/wp-content/uploads/2022/12/h4-img-01-218x150.jpg 218w, https://insights.blackcoffer.com/wp-content/uploads/2022/12/h4-img-01-100x70.jpg 100w\" title=\"Algorithmic trading for multiple commodities markets, like Forex, Metals, Energy, etc.\" width=\"218\"/></a></div> <a class=\"td-post-category\" href=\"https://insights.blackcoffer.com/category/our-success-stories/\">Our Success Stories</a> </div>\n",
       "<div class=\"item-details\">\n",
       "<h3 class=\"entry-title td-module-title\"><a href=\"https://insights.blackcoffer.com/algorithmic-trading-for-multiple-commodities-markets-like-forex-metals-energy-etc/\" rel=\"bookmark\" title=\"Algorithmic trading for multiple commodities markets, like Forex, Metals, Energy, etc.\">Algorithmic trading for multiple commodities markets, like Forex, Metals, Energy, etc.</a></h3> </div>\n",
       "</div>\n",
       "</div><div class=\"td-mega-span\">\n",
       "<div class=\"td_module_mega_menu td-animation-stack td_mod_mega_menu\">\n",
       "<div class=\"td-module-image\">\n",
       "<div class=\"td-module-thumb\"><a class=\"td-image-wrap\" href=\"https://insights.blackcoffer.com/trading-bot-for-forex/\" rel=\"bookmark\" title=\"Trading Bot for FOREX\"><img alt=\"\" class=\"entry-thumb\" height=\"150\" sizes=\"(max-width: 218px) 100vw, 218px\" src=\"https://insights.blackcoffer.com/wp-content/uploads/2022/12/32-218x150.jpg\" srcset=\"https://insights.blackcoffer.com/wp-content/uploads/2022/12/32-218x150.jpg 218w, https://insights.blackcoffer.com/wp-content/uploads/2022/12/32-100x70.jpg 100w\" title=\"Trading Bot for FOREX\" width=\"218\"/></a></div> <a class=\"td-post-category\" href=\"https://insights.blackcoffer.com/category/our-success-stories/\">Our Success Stories</a> </div>\n",
       "<div class=\"item-details\">\n",
       "<h3 class=\"entry-title td-module-title\"><a href=\"https://insights.blackcoffer.com/trading-bot-for-forex/\" rel=\"bookmark\" title=\"Trading Bot for FOREX\">Trading Bot for FOREX</a></h3> </div>\n",
       "</div>\n",
       "</div><div class=\"td-mega-span\">\n",
       "<div class=\"td_module_mega_menu td-animation-stack td_mod_mega_menu\">\n",
       "<div class=\"td-module-image\">\n",
       "<div class=\"td-module-thumb\"><a class=\"td-image-wrap\" href=\"https://insights.blackcoffer.com/python-model-for-the-analysis-of-sector-specific-stock-etfs-for-investment-purposes%ef%bf%bc/\" rel=\"bookmark\" title=\"Python model for the analysis of sector-specific stock ETFs for investment purposes\"><img alt=\"\" class=\"entry-thumb\" height=\"150\" sizes=\"(max-width: 218px) 100vw, 218px\" src=\"https://insights.blackcoffer.com/wp-content/uploads/2022/12/main-218x150.jpg\" srcset=\"https://insights.blackcoffer.com/wp-content/uploads/2022/12/main-218x150.jpg 218w, https://insights.blackcoffer.com/wp-content/uploads/2022/12/main-100x70.jpg 100w\" title=\"Python model for the analysis of sector-specific stock ETFs for investment purposes\" width=\"218\"/></a></div> <a class=\"td-post-category\" href=\"https://insights.blackcoffer.com/category/our-success-stories/\">Our Success Stories</a> </div>\n",
       "<div class=\"item-details\">\n",
       "<h3 class=\"entry-title td-module-title\"><a href=\"https://insights.blackcoffer.com/python-model-for-the-analysis-of-sector-specific-stock-etfs-for-investment-purposes%ef%bf%bc/\" rel=\"bookmark\" title=\"Python model for the analysis of sector-specific stock ETFs for investment purposes\">Python model for the analysis of sector-specific stock ETFs for investment…</a></h3> </div>\n",
       "</div>\n",
       "</div></div></div><div class=\"td-next-prev-wrap\"><a class=\"td-ajax-prev-page ajax-page-disabled\" data-td_block_id=\"td_uid_2_63e882a03d4b5\" href=\"#\" id=\"prev-page-td_uid_2_63e882a03d4b5\"><i class=\"td-icon-font td-icon-menu-left\"></i></a><a class=\"td-ajax-next-page\" data-td_block_id=\"td_uid_2_63e882a03d4b5\" href=\"#\" id=\"next-page-td_uid_2_63e882a03d4b5\"><i class=\"td-icon-font td-icon-menu-right\"></i></a></div><div class=\"clearfix\"></div></div> <!-- ./block1 --></div></div></li>\n",
       "</ul>\n",
       "</li>\n",
       "<li class=\"menu-item menu-item-type-taxonomy menu-item-object-category td-menu-item td-mega-menu menu-item-4059\"><a href=\"https://insights.blackcoffer.com/category/our-solutions/\">What We Do</a>\n",
       "<ul class=\"sub-menu\">\n",
       "<li class=\"menu-item-0\"><div class=\"td-container-border\"><div class=\"td-mega-grid\"><div class=\"td_block_wrap td_block_mega_menu td_uid_17_63e882a0430c8_rand td_with_ajax_pagination td-pb-border-top td_block_template_1\" data-td-block-uid=\"td_uid_17_63e882a0430c8\"><script>var block_td_uid_17_63e882a0430c8 = new tdBlock();\n",
       "block_td_uid_17_63e882a0430c8.id = \"td_uid_17_63e882a0430c8\";\n",
       "block_td_uid_17_63e882a0430c8.atts = '{\"limit\":4,\"td_column_number\":3,\"ajax_pagination\":\"next_prev\",\"category_id\":\"269\",\"show_child_cat\":30,\"td_ajax_filter_type\":\"td_category_ids_filter\",\"td_ajax_preloading\":\"\",\"block_template_id\":\"\",\"header_color\":\"\",\"ajax_pagination_infinite_stop\":\"\",\"offset\":\"\",\"td_filter_default_txt\":\"\",\"td_ajax_filter_ids\":\"\",\"el_class\":\"\",\"color_preset\":\"\",\"border_top\":\"\",\"css\":\"\",\"tdc_css\":\"\",\"class\":\"td_uid_17_63e882a0430c8_rand\",\"tdc_css_class\":\"td_uid_17_63e882a0430c8_rand\",\"tdc_css_class_style\":\"td_uid_17_63e882a0430c8_rand_style\"}';\n",
       "block_td_uid_17_63e882a0430c8.td_column_number = \"3\";\n",
       "block_td_uid_17_63e882a0430c8.block_type = \"td_block_mega_menu\";\n",
       "block_td_uid_17_63e882a0430c8.post_count = \"4\";\n",
       "block_td_uid_17_63e882a0430c8.found_posts = \"52\";\n",
       "block_td_uid_17_63e882a0430c8.header_color = \"\";\n",
       "block_td_uid_17_63e882a0430c8.ajax_pagination_infinite_stop = \"\";\n",
       "block_td_uid_17_63e882a0430c8.max_num_pages = \"13\";\n",
       "tdBlocksArray.push(block_td_uid_17_63e882a0430c8);\n",
       "</script><div class=\"td_mega_menu_sub_cats\"><div class=\"block-mega-child-cats\"><a class=\"cur-sub-cat mega-menu-sub-cat-td_uid_17_63e882a0430c8\" data-td_block_id=\"td_uid_17_63e882a0430c8\" data-td_filter_value=\"\" href=\"https://insights.blackcoffer.com/category/our-solutions/\" id=\"td_uid_18_63e882a0445ff\">All</a><a class=\"mega-menu-sub-cat-td_uid_17_63e882a0430c8\" data-td_block_id=\"td_uid_17_63e882a0430c8\" data-td_filter_value=\"285\" href=\"https://insights.blackcoffer.com/category/our-solutions/banking-financials-securities-and-insurance-solutions/\" id=\"td_uid_19_63e882a044631\">Banking, Financials, Securities, and Insurance</a><a class=\"mega-menu-sub-cat-td_uid_17_63e882a0430c8\" data-td_block_id=\"td_uid_17_63e882a0430c8\" data-td_filter_value=\"284\" href=\"https://insights.blackcoffer.com/category/our-solutions/energy-our-solutions/\" id=\"td_uid_20_63e882a04465b\">Energy</a><a class=\"mega-menu-sub-cat-td_uid_17_63e882a0430c8\" data-td_block_id=\"td_uid_17_63e882a0430c8\" data-td_filter_value=\"290\" href=\"https://insights.blackcoffer.com/category/our-solutions/entertainment-our-solutions/\" id=\"td_uid_21_63e882a044680\">Entertainment</a><a class=\"mega-menu-sub-cat-td_uid_17_63e882a0430c8\" data-td_block_id=\"td_uid_17_63e882a0430c8\" data-td_filter_value=\"286\" href=\"https://insights.blackcoffer.com/category/our-solutions/fast-moving-consumer-goods-our-solutions/\" id=\"td_uid_22_63e882a0446a4\">Fast Moving Consumer Goods</a><a class=\"mega-menu-sub-cat-td_uid_17_63e882a0430c8\" data-td_block_id=\"td_uid_17_63e882a0430c8\" data-td_filter_value=\"288\" href=\"https://insights.blackcoffer.com/category/our-solutions/government-think-tanks-our-solutions/\" id=\"td_uid_23_63e882a0446c6\">Government &amp; Think Tanks</a><a class=\"mega-menu-sub-cat-td_uid_17_63e882a0430c8\" data-td_block_id=\"td_uid_17_63e882a0430c8\" data-td_filter_value=\"283\" href=\"https://insights.blackcoffer.com/category/our-solutions/healthcare-our-solutions/\" id=\"td_uid_24_63e882a0446e8\">Healthcare</a><a class=\"mega-menu-sub-cat-td_uid_17_63e882a0430c8\" data-td_block_id=\"td_uid_17_63e882a0430c8\" data-td_filter_value=\"339\" href=\"https://insights.blackcoffer.com/category/our-solutions/hospitality/\" id=\"td_uid_25_63e882a04471c\">Hospitality</a><a class=\"mega-menu-sub-cat-td_uid_17_63e882a0430c8\" data-td_block_id=\"td_uid_17_63e882a0430c8\" data-td_filter_value=\"292\" href=\"https://insights.blackcoffer.com/category/our-solutions/infrastructure-real-estate-our-solutions/\" id=\"td_uid_26_63e882a04473f\">Infrastructure &amp; Real Estate</a><a class=\"mega-menu-sub-cat-td_uid_17_63e882a0430c8\" data-td_block_id=\"td_uid_17_63e882a0430c8\" data-td_filter_value=\"321\" href=\"https://insights.blackcoffer.com/category/our-solutions/it-services/\" id=\"td_uid_27_63e882a044761\">IT Services</a><a class=\"mega-menu-sub-cat-td_uid_17_63e882a0430c8\" data-td_block_id=\"td_uid_17_63e882a0430c8\" data-td_filter_value=\"291\" href=\"https://insights.blackcoffer.com/category/our-solutions/lifestyle-ecommerce-market-place-solutions/\" id=\"td_uid_28_63e882a044784\">Lifestyle, eCommerce &amp; Online Market Place</a><a class=\"mega-menu-sub-cat-td_uid_17_63e882a0430c8\" data-td_block_id=\"td_uid_17_63e882a0430c8\" data-td_filter_value=\"604\" href=\"https://insights.blackcoffer.com/category/our-solutions/news-media/\" id=\"td_uid_29_63e882a0447a6\">News &amp; Media</a><a class=\"mega-menu-sub-cat-td_uid_17_63e882a0430c8\" data-td_block_id=\"td_uid_17_63e882a0430c8\" data-td_filter_value=\"289\" href=\"https://insights.blackcoffer.com/category/our-solutions/production-manufacturing-our-solutions/\" id=\"td_uid_30_63e882a0447c8\">Production &amp; Manufacturing</a><a class=\"mega-menu-sub-cat-td_uid_17_63e882a0430c8\" data-td_block_id=\"td_uid_17_63e882a0430c8\" data-td_filter_value=\"287\" href=\"https://insights.blackcoffer.com/category/our-solutions/research-academia-our-solutions/\" id=\"td_uid_31_63e882a0447e9\">Research &amp; Academia</a><a class=\"mega-menu-sub-cat-td_uid_17_63e882a0430c8\" data-td_block_id=\"td_uid_17_63e882a0430c8\" data-td_filter_value=\"293\" href=\"https://insights.blackcoffer.com/category/our-solutions/retail-supply-chain-our-solutions/\" id=\"td_uid_32_63e882a044813\">Retail &amp; Supply Chain</a></div></div><div class=\"td_block_inner\" id=\"td_uid_17_63e882a0430c8\"><div class=\"td-mega-row\"><div class=\"td-mega-span\">\n",
       "<div class=\"td_module_mega_menu td-animation-stack td_mod_mega_menu\">\n",
       "<div class=\"td-module-image\">\n",
       "<div class=\"td-module-thumb\"><a class=\"td-image-wrap\" href=\"https://insights.blackcoffer.com/playstore-appstore-to-google-analytics-ga-or-firebase-to-google-data-studio-mobile-app-kpi-dashboard/\" rel=\"bookmark\" title=\"Playstore &amp; Appstore to Google Analytics (GA) or Firebase to Google Data Studio Mobile App KPI Dashboard\"><img alt=\"\" class=\"entry-thumb\" height=\"150\" sizes=\"(max-width: 218px) 100vw, 218px\" src=\"https://insights.blackcoffer.com/wp-content/uploads/2022/09/post_08-218x150.jpg\" srcset=\"https://insights.blackcoffer.com/wp-content/uploads/2022/09/post_08-218x150.jpg 218w, https://insights.blackcoffer.com/wp-content/uploads/2022/09/post_08-100x70.jpg 100w\" title=\"Playstore &amp; Appstore to Google Analytics (GA) or Firebase to Google Data Studio Mobile App KPI Dashboard\" width=\"218\"/></a></div> <a class=\"td-post-category\" href=\"https://insights.blackcoffer.com/category/our-solutions/\">What We Do</a> </div>\n",
       "<div class=\"item-details\">\n",
       "<h3 class=\"entry-title td-module-title\"><a href=\"https://insights.blackcoffer.com/playstore-appstore-to-google-analytics-ga-or-firebase-to-google-data-studio-mobile-app-kpi-dashboard/\" rel=\"bookmark\" title=\"Playstore &amp; Appstore to Google Analytics (GA) or Firebase to Google Data Studio Mobile App KPI Dashboard\">Playstore &amp; Appstore to Google Analytics (GA) or Firebase to Google…</a></h3> </div>\n",
       "</div>\n",
       "</div><div class=\"td-mega-span\">\n",
       "<div class=\"td_module_mega_menu td-animation-stack td_mod_mega_menu\">\n",
       "<div class=\"td-module-image\">\n",
       "<div class=\"td-module-thumb\"><a class=\"td-image-wrap\" href=\"https://insights.blackcoffer.com/google-local-service-ads-lsa-api-to-google-bigquery-to-google-data-studio/\" rel=\"bookmark\" title=\"Google Local Service Ads LSA API To Google BigQuery to Google Data Studio\"><img alt=\"\" class=\"entry-thumb\" height=\"150\" sizes=\"(max-width: 218px) 100vw, 218px\" src=\"https://insights.blackcoffer.com/wp-content/uploads/2022/05/bgn-hero-218x150.jpg\" srcset=\"https://insights.blackcoffer.com/wp-content/uploads/2022/05/bgn-hero-218x150.jpg 218w, https://insights.blackcoffer.com/wp-content/uploads/2022/05/bgn-hero-100x70.jpg 100w\" title=\"Google Local Service Ads LSA API To Google BigQuery to Google Data Studio\" width=\"218\"/></a></div> <a class=\"td-post-category\" href=\"https://insights.blackcoffer.com/category/our-solutions/\">What We Do</a> </div>\n",
       "<div class=\"item-details\">\n",
       "<h3 class=\"entry-title td-module-title\"><a href=\"https://insights.blackcoffer.com/google-local-service-ads-lsa-api-to-google-bigquery-to-google-data-studio/\" rel=\"bookmark\" title=\"Google Local Service Ads LSA API To Google BigQuery to Google Data Studio\">Google Local Service Ads LSA API To Google BigQuery to Google…</a></h3> </div>\n",
       "</div>\n",
       "</div><div class=\"td-mega-span\">\n",
       "<div class=\"td_module_mega_menu td-animation-stack td_mod_mega_menu\">\n",
       "<div class=\"td-module-image\">\n",
       "<div class=\"td-module-thumb\"><a class=\"td-image-wrap\" href=\"https://insights.blackcoffer.com/ai-conversational-bot-using-rasa/\" rel=\"bookmark\" title=\"AI Conversational Bot using RASA\"><img alt=\"\" class=\"entry-thumb\" height=\"150\" sizes=\"(max-width: 218px) 100vw, 218px\" src=\"https://insights.blackcoffer.com/wp-content/uploads/2022/02/background_home_03-218x150.jpg\" srcset=\"https://insights.blackcoffer.com/wp-content/uploads/2022/02/background_home_03-218x150.jpg 218w, https://insights.blackcoffer.com/wp-content/uploads/2022/02/background_home_03-100x70.jpg 100w\" title=\"AI Conversational Bot using RASA\" width=\"218\"/></a></div> <a class=\"td-post-category\" href=\"https://insights.blackcoffer.com/category/our-success-stories/\">Our Success Stories</a> </div>\n",
       "<div class=\"item-details\">\n",
       "<h3 class=\"entry-title td-module-title\"><a href=\"https://insights.blackcoffer.com/ai-conversational-bot-using-rasa/\" rel=\"bookmark\" title=\"AI Conversational Bot using RASA\">AI Conversational Bot using RASA</a></h3> </div>\n",
       "</div>\n",
       "</div><div class=\"td-mega-span\">\n",
       "<div class=\"td_module_mega_menu td-animation-stack td_mod_mega_menu\">\n",
       "<div class=\"td-module-image\">\n",
       "<div class=\"td-module-thumb\"><a class=\"td-image-wrap\" href=\"https://insights.blackcoffer.com/recommendation-system-architecture/\" rel=\"bookmark\" title=\"Recommendation System Architecture\"><img alt=\"\" class=\"entry-thumb\" height=\"150\" sizes=\"(max-width: 218px) 100vw, 218px\" src=\"https://insights.blackcoffer.com/wp-content/uploads/2021/10/update-blog3-218x150.jpg\" srcset=\"https://insights.blackcoffer.com/wp-content/uploads/2021/10/update-blog3-218x150.jpg 218w, https://insights.blackcoffer.com/wp-content/uploads/2021/10/update-blog3-100x70.jpg 100w\" title=\"Recommendation System Architecture\" width=\"218\"/></a></div> <a class=\"td-post-category\" href=\"https://insights.blackcoffer.com/category/our-solutions/\">What We Do</a> </div>\n",
       "<div class=\"item-details\">\n",
       "<h3 class=\"entry-title td-module-title\"><a href=\"https://insights.blackcoffer.com/recommendation-system-architecture/\" rel=\"bookmark\" title=\"Recommendation System Architecture\">Recommendation System Architecture</a></h3> </div>\n",
       "</div>\n",
       "</div></div></div><div class=\"td-next-prev-wrap\"><a class=\"td-ajax-prev-page ajax-page-disabled\" data-td_block_id=\"td_uid_17_63e882a0430c8\" href=\"#\" id=\"prev-page-td_uid_17_63e882a0430c8\"><i class=\"td-icon-font td-icon-menu-left\"></i></a><a class=\"td-ajax-next-page\" data-td_block_id=\"td_uid_17_63e882a0430c8\" href=\"#\" id=\"next-page-td_uid_17_63e882a0430c8\"><i class=\"td-icon-font td-icon-menu-right\"></i></a></div><div class=\"clearfix\"></div></div> <!-- ./block1 --></div></div></li>\n",
       "</ul>\n",
       "</li>\n",
       "<li class=\"menu-item menu-item-type-taxonomy menu-item-object-category current-post-ancestor current-menu-parent current-post-parent td-menu-item td-mega-menu menu-item-4060\"><a href=\"https://insights.blackcoffer.com/category/what-we-think/\">What We Think</a>\n",
       "<ul class=\"sub-menu\">\n",
       "<li class=\"menu-item-0\"><div class=\"td-container-border\"><div class=\"td-mega-grid\"><div class=\"td_block_wrap td_block_mega_menu td_uid_33_63e882a0466df_rand td_with_ajax_pagination td-pb-border-top td_block_template_1\" data-td-block-uid=\"td_uid_33_63e882a0466df\"><script>var block_td_uid_33_63e882a0466df = new tdBlock();\n",
       "block_td_uid_33_63e882a0466df.id = \"td_uid_33_63e882a0466df\";\n",
       "block_td_uid_33_63e882a0466df.atts = '{\"limit\":4,\"td_column_number\":3,\"ajax_pagination\":\"next_prev\",\"category_id\":\"270\",\"show_child_cat\":30,\"td_ajax_filter_type\":\"td_category_ids_filter\",\"td_ajax_preloading\":\"\",\"block_template_id\":\"\",\"header_color\":\"\",\"ajax_pagination_infinite_stop\":\"\",\"offset\":\"\",\"td_filter_default_txt\":\"\",\"td_ajax_filter_ids\":\"\",\"el_class\":\"\",\"color_preset\":\"\",\"border_top\":\"\",\"css\":\"\",\"tdc_css\":\"\",\"class\":\"td_uid_33_63e882a0466df_rand\",\"tdc_css_class\":\"td_uid_33_63e882a0466df_rand\",\"tdc_css_class_style\":\"td_uid_33_63e882a0466df_rand_style\"}';\n",
       "block_td_uid_33_63e882a0466df.td_column_number = \"3\";\n",
       "block_td_uid_33_63e882a0466df.block_type = \"td_block_mega_menu\";\n",
       "block_td_uid_33_63e882a0466df.post_count = \"4\";\n",
       "block_td_uid_33_63e882a0466df.found_posts = \"205\";\n",
       "block_td_uid_33_63e882a0466df.header_color = \"\";\n",
       "block_td_uid_33_63e882a0466df.ajax_pagination_infinite_stop = \"\";\n",
       "block_td_uid_33_63e882a0466df.max_num_pages = \"52\";\n",
       "tdBlocksArray.push(block_td_uid_33_63e882a0466df);\n",
       "</script><div class=\"td_mega_menu_sub_cats\"><div class=\"block-mega-child-cats\"><a class=\"cur-sub-cat mega-menu-sub-cat-td_uid_33_63e882a0466df\" data-td_block_id=\"td_uid_33_63e882a0466df\" data-td_filter_value=\"\" href=\"https://insights.blackcoffer.com/category/what-we-think/\" id=\"td_uid_34_63e882a048dd2\">All</a><a class=\"mega-menu-sub-cat-td_uid_33_63e882a0466df\" data-td_block_id=\"td_uid_33_63e882a0466df\" data-td_filter_value=\"116\" href=\"https://insights.blackcoffer.com/category/what-we-think/automobiles-components/\" id=\"td_uid_35_63e882a048e0f\">Automobiles &amp; Components</a><a class=\"mega-menu-sub-cat-td_uid_33_63e882a0466df\" data-td_block_id=\"td_uid_33_63e882a0466df\" data-td_filter_value=\"129\" href=\"https://insights.blackcoffer.com/category/what-we-think/financials/\" id=\"td_uid_36_63e882a048e39\">BFSI</a><a class=\"mega-menu-sub-cat-td_uid_33_63e882a0466df\" data-td_block_id=\"td_uid_33_63e882a0466df\" data-td_filter_value=\"247\" href=\"https://insights.blackcoffer.com/category/what-we-think/financials/asset-and-portfolio/\" id=\"td_uid_37_63e882a048e6b\">Asset and Portfolio</a><a class=\"mega-menu-sub-cat-td_uid_33_63e882a0466df\" data-td_block_id=\"td_uid_33_63e882a0466df\" data-td_filter_value=\"130\" href=\"https://insights.blackcoffer.com/category/what-we-think/financials/banks/\" id=\"td_uid_38_63e882a048e99\">Banks</a><a class=\"mega-menu-sub-cat-td_uid_33_63e882a0466df\" data-td_block_id=\"td_uid_33_63e882a0466df\" data-td_filter_value=\"244\" href=\"https://insights.blackcoffer.com/category/what-we-think/financials/capital-markets/\" id=\"td_uid_39_63e882a048ec6\">Capital Markets</a><a class=\"mega-menu-sub-cat-td_uid_33_63e882a0466df\" data-td_block_id=\"td_uid_33_63e882a0466df\" data-td_filter_value=\"245\" href=\"https://insights.blackcoffer.com/category/what-we-think/financials/derivatives-and-securities/\" id=\"td_uid_40_63e882a048ef4\">Derivatives and Securities</a><a class=\"mega-menu-sub-cat-td_uid_33_63e882a0466df\" data-td_block_id=\"td_uid_33_63e882a0466df\" data-td_filter_value=\"131\" href=\"https://insights.blackcoffer.com/category/what-we-think/financials/diversified-financials/\" id=\"td_uid_41_63e882a048f21\">Diversified Financials</a><a class=\"mega-menu-sub-cat-td_uid_33_63e882a0466df\" data-td_block_id=\"td_uid_33_63e882a0466df\" data-td_filter_value=\"243\" href=\"https://insights.blackcoffer.com/category/what-we-think/financials/finance-and-accounting/\" id=\"td_uid_42_63e882a048f4d\">Finance &amp; Accounting</a><a class=\"mega-menu-sub-cat-td_uid_33_63e882a0466df\" data-td_block_id=\"td_uid_33_63e882a0466df\" data-td_filter_value=\"132\" href=\"https://insights.blackcoffer.com/category/what-we-think/financials/insurance/\" id=\"td_uid_43_63e882a048f7a\">Insurance</a><a class=\"mega-menu-sub-cat-td_uid_33_63e882a0466df\" data-td_block_id=\"td_uid_33_63e882a0466df\" data-td_filter_value=\"246\" href=\"https://insights.blackcoffer.com/category/what-we-think/financials/securities-and-capital-markets/\" id=\"td_uid_44_63e882a048fa6\">Securities and Capital Markets</a><a class=\"mega-menu-sub-cat-td_uid_33_63e882a0466df\" data-td_block_id=\"td_uid_33_63e882a0466df\" data-td_filter_value=\"113\" href=\"https://insights.blackcoffer.com/category/what-we-think/capital-goods/\" id=\"td_uid_45_63e882a048fd2\">Capital Goods</a><a class=\"mega-menu-sub-cat-td_uid_33_63e882a0466df\" data-td_block_id=\"td_uid_33_63e882a0466df\" data-td_filter_value=\"114\" href=\"https://insights.blackcoffer.com/category/what-we-think/commercial-professional-services/\" id=\"td_uid_46_63e882a048ff5\">Commercial &amp; Professional Services</a><a class=\"mega-menu-sub-cat-td_uid_33_63e882a0466df\" data-td_block_id=\"td_uid_33_63e882a0466df\" data-td_filter_value=\"122\" href=\"https://insights.blackcoffer.com/category/what-we-think/consumer-discretionary/\" id=\"td_uid_47_63e882a049017\">Consumer Discretionary</a><a class=\"mega-menu-sub-cat-td_uid_33_63e882a0466df\" data-td_block_id=\"td_uid_33_63e882a0466df\" data-td_filter_value=\"117\" href=\"https://insights.blackcoffer.com/category/what-we-think/consumer-durables-apparel/\" id=\"td_uid_48_63e882a049039\">Consumer Durables &amp; Apparel</a><a class=\"mega-menu-sub-cat-td_uid_33_63e882a0466df\" data-td_block_id=\"td_uid_33_63e882a0466df\" data-td_filter_value=\"118\" href=\"https://insights.blackcoffer.com/category/what-we-think/consumer-services/\" id=\"td_uid_49_63e882a04905b\">Consumer Services</a><a class=\"mega-menu-sub-cat-td_uid_33_63e882a0466df\" data-td_block_id=\"td_uid_33_63e882a0466df\" data-td_filter_value=\"123\" href=\"https://insights.blackcoffer.com/category/what-we-think/consumer-staples/\" id=\"td_uid_50_63e882a04907c\">Consumer Staples</a><a class=\"mega-menu-sub-cat-td_uid_33_63e882a0466df\" data-td_block_id=\"td_uid_33_63e882a0466df\" data-td_filter_value=\"124\" href=\"https://insights.blackcoffer.com/category/what-we-think/consumer-staples/food-staples-retailing/\" id=\"td_uid_51_63e882a04909d\">Food &amp; Staples Retailing</a><a class=\"mega-menu-sub-cat-td_uid_33_63e882a0466df\" data-td_block_id=\"td_uid_33_63e882a0466df\" data-td_filter_value=\"125\" href=\"https://insights.blackcoffer.com/category/what-we-think/consumer-staples/food-beverage-tobacco/\" id=\"td_uid_52_63e882a0490ca\">Food, Beverage &amp; Tobacco</a><a class=\"mega-menu-sub-cat-td_uid_33_63e882a0466df\" data-td_block_id=\"td_uid_33_63e882a0466df\" data-td_filter_value=\"126\" href=\"https://insights.blackcoffer.com/category/what-we-think/consumer-staples/household-personal-products/\" id=\"td_uid_53_63e882a0490f5\">Household &amp; Personal Products</a><a class=\"mega-menu-sub-cat-td_uid_33_63e882a0466df\" data-td_block_id=\"td_uid_33_63e882a0466df\" data-td_filter_value=\"140\" href=\"https://insights.blackcoffer.com/category/what-we-think/data-science/\" id=\"td_uid_54_63e882a049121\">Data Science</a><a class=\"mega-menu-sub-cat-td_uid_33_63e882a0466df\" data-td_block_id=\"td_uid_33_63e882a0466df\" data-td_filter_value=\"146\" href=\"https://insights.blackcoffer.com/category/what-we-think/data-science/analytics/\" id=\"td_uid_55_63e882a04914e\">Analytics</a><a class=\"mega-menu-sub-cat-td_uid_33_63e882a0466df\" data-td_block_id=\"td_uid_33_63e882a0466df\" data-td_filter_value=\"143\" href=\"https://insights.blackcoffer.com/category/what-we-think/data-science/artificial-intelligence/\" id=\"td_uid_56_63e882a04917a\">Artificial Intelligence</a><a class=\"mega-menu-sub-cat-td_uid_33_63e882a0466df\" data-td_block_id=\"td_uid_33_63e882a0466df\" data-td_filter_value=\"145\" href=\"https://insights.blackcoffer.com/category/what-we-think/data-science/big-data/\" id=\"td_uid_57_63e882a0491a6\">Big Data</a><a class=\"mega-menu-sub-cat-td_uid_33_63e882a0466df\" data-td_block_id=\"td_uid_33_63e882a0466df\" data-td_filter_value=\"195\" href=\"https://insights.blackcoffer.com/category/what-we-think/data-science/business-analytics/\" id=\"td_uid_58_63e882a0491d2\">Business Analytics</a><a class=\"mega-menu-sub-cat-td_uid_33_63e882a0466df\" data-td_block_id=\"td_uid_33_63e882a0466df\" data-td_filter_value=\"148\" href=\"https://insights.blackcoffer.com/category/what-we-think/data-science/data-visualization/\" id=\"td_uid_59_63e882a0491fe\">Data Visualization</a><a class=\"mega-menu-sub-cat-td_uid_33_63e882a0466df\" data-td_block_id=\"td_uid_33_63e882a0466df\" data-td_filter_value=\"144\" href=\"https://insights.blackcoffer.com/category/what-we-think/data-science/internet-of-things/\" id=\"td_uid_60_63e882a04922a\">Internet of Things</a><a class=\"mega-menu-sub-cat-td_uid_33_63e882a0466df\" data-td_block_id=\"td_uid_33_63e882a0466df\" data-td_filter_value=\"142\" href=\"https://insights.blackcoffer.com/category/what-we-think/data-science/machine-learning/\" id=\"td_uid_61_63e882a049264\">Machine Learning</a><a class=\"mega-menu-sub-cat-td_uid_33_63e882a0466df\" data-td_block_id=\"td_uid_33_63e882a0466df\" data-td_filter_value=\"141\" href=\"https://insights.blackcoffer.com/category/what-we-think/data-science/statistics/\" id=\"td_uid_62_63e882a049290\">Statistics</a><a class=\"mega-menu-sub-cat-td_uid_33_63e882a0466df\" data-td_block_id=\"td_uid_33_63e882a0466df\" data-td_filter_value=\"109\" href=\"https://insights.blackcoffer.com/category/what-we-think/energy/\" id=\"td_uid_63_63e882a0492bc\">Energy</a><a class=\"mega-menu-sub-cat-td_uid_33_63e882a0466df\" data-td_block_id=\"td_uid_33_63e882a0466df\" data-td_filter_value=\"150\" href=\"https://insights.blackcoffer.com/category/what-we-think/energy/dataoil/\" id=\"td_uid_64_63e882a0492de\">DataOil</a></div></div><div class=\"td_block_inner\" id=\"td_uid_33_63e882a0466df\"><div class=\"td-mega-row\"><div class=\"td-mega-span\">\n",
       "<div class=\"td_module_mega_menu td-animation-stack td_mod_mega_menu\">\n",
       "<div class=\"td-module-image\">\n",
       "<div class=\"td-module-thumb\"><a class=\"td-image-wrap\" href=\"https://insights.blackcoffer.com/rise-of-telemedicine-and-its-impact-on-livelihood-by-2040-3/\" rel=\"bookmark\" title=\"Rise of telemedicine and its Impact on Livelihood by 2040\"><img alt=\"\" class=\"entry-thumb\" height=\"150\" sizes=\"(max-width: 218px) 100vw, 218px\" src=\"https://insights.blackcoffer.com/wp-content/uploads/2023/01/fidovhj-218x150.jpg\" srcset=\"https://insights.blackcoffer.com/wp-content/uploads/2023/01/fidovhj-218x150.jpg 218w, https://insights.blackcoffer.com/wp-content/uploads/2023/01/fidovhj-100x70.jpg 100w\" title=\"Rise of telemedicine and its Impact on Livelihood by 2040\" width=\"218\"/></a></div> <a class=\"td-post-category\" href=\"https://insights.blackcoffer.com/category/what-we-think/\">What We Think</a> </div>\n",
       "<div class=\"item-details\">\n",
       "<h3 class=\"entry-title td-module-title\"><a href=\"https://insights.blackcoffer.com/rise-of-telemedicine-and-its-impact-on-livelihood-by-2040-3/\" rel=\"bookmark\" title=\"Rise of telemedicine and its Impact on Livelihood by 2040\">Rise of telemedicine and its Impact on Livelihood by 2040</a></h3> </div>\n",
       "</div>\n",
       "</div><div class=\"td-mega-span\">\n",
       "<div class=\"td_module_mega_menu td-animation-stack td_mod_mega_menu\">\n",
       "<div class=\"td-module-image\">\n",
       "<div class=\"td-module-thumb\"><a class=\"td-image-wrap\" href=\"https://insights.blackcoffer.com/rise-of-e-health-and-its-impact-on-humans-by-the-year-2030/\" rel=\"bookmark\" title=\"Rise of e-health and its impact on humans by the year 2030\"><img alt=\"\" class=\"entry-thumb\" height=\"150\" sizes=\"(max-width: 218px) 100vw, 218px\" src=\"https://insights.blackcoffer.com/wp-content/uploads/2023/01/digital-health-218x150.jpg\" srcset=\"https://insights.blackcoffer.com/wp-content/uploads/2023/01/digital-health-218x150.jpg 218w, https://insights.blackcoffer.com/wp-content/uploads/2023/01/digital-health-100x70.jpg 100w\" title=\"Rise of e-health and its impact on humans by the year 2030\" width=\"218\"/></a></div> <a class=\"td-post-category\" href=\"https://insights.blackcoffer.com/category/what-we-think/\">What We Think</a> </div>\n",
       "<div class=\"item-details\">\n",
       "<h3 class=\"entry-title td-module-title\"><a href=\"https://insights.blackcoffer.com/rise-of-e-health-and-its-impact-on-humans-by-the-year-2030/\" rel=\"bookmark\" title=\"Rise of e-health and its impact on humans by the year 2030\">Rise of e-health and its impact on humans by the year…</a></h3> </div>\n",
       "</div>\n",
       "</div><div class=\"td-mega-span\">\n",
       "<div class=\"td_module_mega_menu td-animation-stack td_mod_mega_menu\">\n",
       "<div class=\"td-module-image\">\n",
       "<div class=\"td-module-thumb\"><a class=\"td-image-wrap\" href=\"https://insights.blackcoffer.com/rise-of-e-health-and-its-imapct-on-humans-by-the-year-2030-2/\" rel=\"bookmark\" title=\"Rise of e-health and its impact on humans by the year 2030\"><img alt=\"\" class=\"entry-thumb\" height=\"150\" sizes=\"(max-width: 218px) 100vw, 218px\" src=\"https://insights.blackcoffer.com/wp-content/uploads/2023/01/po-218x150.jpg\" srcset=\"https://insights.blackcoffer.com/wp-content/uploads/2023/01/po-218x150.jpg 218w, https://insights.blackcoffer.com/wp-content/uploads/2023/01/po-100x70.jpg 100w\" title=\"Rise of e-health and its impact on humans by the year 2030\" width=\"218\"/></a></div> <a class=\"td-post-category\" href=\"https://insights.blackcoffer.com/category/what-we-think/\">What We Think</a> </div>\n",
       "<div class=\"item-details\">\n",
       "<h3 class=\"entry-title td-module-title\"><a href=\"https://insights.blackcoffer.com/rise-of-e-health-and-its-imapct-on-humans-by-the-year-2030-2/\" rel=\"bookmark\" title=\"Rise of e-health and its impact on humans by the year 2030\">Rise of e-health and its impact on humans by the year…</a></h3> </div>\n",
       "</div>\n",
       "</div><div class=\"td-mega-span\">\n",
       "<div class=\"td_module_mega_menu td-animation-stack td_mod_mega_menu\">\n",
       "<div class=\"td-module-image\">\n",
       "<div class=\"td-module-thumb\"><a class=\"td-image-wrap\" href=\"https://insights.blackcoffer.com/rise-of-chatbots-and-its-impact-on-customer-support-by-the-year-2040-2/\" rel=\"bookmark\" title=\"Rise of Chatbots and its impact on customer support by the year 2040\"><img alt=\"\" class=\"entry-thumb\" height=\"150\" sizes=\"(max-width: 218px) 100vw, 218px\" src=\"https://insights.blackcoffer.com/wp-content/uploads/2023/01/AI-chatbot-218x150.jpg\" srcset=\"https://insights.blackcoffer.com/wp-content/uploads/2023/01/AI-chatbot-218x150.jpg 218w, https://insights.blackcoffer.com/wp-content/uploads/2023/01/AI-chatbot-100x70.jpg 100w\" title=\"Rise of Chatbots and its impact on customer support by the year 2040\" width=\"218\"/></a></div> <a class=\"td-post-category\" href=\"https://insights.blackcoffer.com/category/what-we-think/\">What We Think</a> </div>\n",
       "<div class=\"item-details\">\n",
       "<h3 class=\"entry-title td-module-title\"><a href=\"https://insights.blackcoffer.com/rise-of-chatbots-and-its-impact-on-customer-support-by-the-year-2040-2/\" rel=\"bookmark\" title=\"Rise of Chatbots and its impact on customer support by the year 2040\">Rise of Chatbots and its impact on customer support by the…</a></h3> </div>\n",
       "</div>\n",
       "</div></div></div><div class=\"td-next-prev-wrap\"><a class=\"td-ajax-prev-page ajax-page-disabled\" data-td_block_id=\"td_uid_33_63e882a0466df\" href=\"#\" id=\"prev-page-td_uid_33_63e882a0466df\"><i class=\"td-icon-font td-icon-menu-left\"></i></a><a class=\"td-ajax-next-page\" data-td_block_id=\"td_uid_33_63e882a0466df\" href=\"#\" id=\"next-page-td_uid_33_63e882a0466df\"><i class=\"td-icon-font td-icon-menu-right\"></i></a></div><div class=\"clearfix\"></div></div> <!-- ./block1 --></div></div></li>\n",
       "</ul>\n",
       "</li>\n",
       "<li class=\"menu-item menu-item-type-taxonomy menu-item-object-category td-menu-item td-mega-menu menu-item-4061\"><a href=\"https://insights.blackcoffer.com/category/how-to/\">How To</a>\n",
       "<ul class=\"sub-menu\">\n",
       "<li class=\"menu-item-0\"><div class=\"td-container-border\"><div class=\"td-mega-grid\"><div class=\"td_block_wrap td_block_mega_menu td_uid_65_63e882a04afac_rand td_with_ajax_pagination td-pb-border-top td_block_template_1\" data-td-block-uid=\"td_uid_65_63e882a04afac\"><script>var block_td_uid_65_63e882a04afac = new tdBlock();\n",
       "block_td_uid_65_63e882a04afac.id = \"td_uid_65_63e882a04afac\";\n",
       "block_td_uid_65_63e882a04afac.atts = '{\"limit\":4,\"td_column_number\":3,\"ajax_pagination\":\"next_prev\",\"category_id\":\"271\",\"show_child_cat\":30,\"td_ajax_filter_type\":\"td_category_ids_filter\",\"td_ajax_preloading\":\"\",\"block_template_id\":\"\",\"header_color\":\"\",\"ajax_pagination_infinite_stop\":\"\",\"offset\":\"\",\"td_filter_default_txt\":\"\",\"td_ajax_filter_ids\":\"\",\"el_class\":\"\",\"color_preset\":\"\",\"border_top\":\"\",\"css\":\"\",\"tdc_css\":\"\",\"class\":\"td_uid_65_63e882a04afac_rand\",\"tdc_css_class\":\"td_uid_65_63e882a04afac_rand\",\"tdc_css_class_style\":\"td_uid_65_63e882a04afac_rand_style\"}';\n",
       "block_td_uid_65_63e882a04afac.td_column_number = \"3\";\n",
       "block_td_uid_65_63e882a04afac.block_type = \"td_block_mega_menu\";\n",
       "block_td_uid_65_63e882a04afac.post_count = \"4\";\n",
       "block_td_uid_65_63e882a04afac.found_posts = \"15\";\n",
       "block_td_uid_65_63e882a04afac.header_color = \"\";\n",
       "block_td_uid_65_63e882a04afac.ajax_pagination_infinite_stop = \"\";\n",
       "block_td_uid_65_63e882a04afac.max_num_pages = \"4\";\n",
       "tdBlocksArray.push(block_td_uid_65_63e882a04afac);\n",
       "</script><div class=\"td_mega_menu_sub_cats\"><div class=\"block-mega-child-cats\"><a class=\"cur-sub-cat mega-menu-sub-cat-td_uid_65_63e882a04afac\" data-td_block_id=\"td_uid_65_63e882a04afac\" data-td_filter_value=\"\" href=\"https://insights.blackcoffer.com/category/how-to/\" id=\"td_uid_66_63e882a04c22c\">All</a><a class=\"mega-menu-sub-cat-td_uid_65_63e882a04afac\" data-td_block_id=\"td_uid_65_63e882a04afac\" data-td_filter_value=\"294\" href=\"https://insights.blackcoffer.com/category/how-to/analytics-how-to/\" id=\"td_uid_67_63e882a04c261\">Analytics</a><a class=\"mega-menu-sub-cat-td_uid_65_63e882a04afac\" data-td_block_id=\"td_uid_65_63e882a04afac\" data-td_filter_value=\"305\" href=\"https://insights.blackcoffer.com/category/how-to/application-development-how-to/\" id=\"td_uid_68_63e882a04c28b\">Application Development</a><a class=\"mega-menu-sub-cat-td_uid_65_63e882a04afac\" data-td_block_id=\"td_uid_65_63e882a04afac\" data-td_filter_value=\"295\" href=\"https://insights.blackcoffer.com/category/how-to/artificial-intelligence-how-to/\" id=\"td_uid_69_63e882a04c2b0\">Artificial Intelligence</a><a class=\"mega-menu-sub-cat-td_uid_65_63e882a04afac\" data-td_block_id=\"td_uid_65_63e882a04afac\" data-td_filter_value=\"297\" href=\"https://insights.blackcoffer.com/category/how-to/business-analytics-how-to/\" id=\"td_uid_70_63e882a04c2d3\">Business Analytics</a><a class=\"mega-menu-sub-cat-td_uid_65_63e882a04afac\" data-td_block_id=\"td_uid_65_63e882a04afac\" data-td_filter_value=\"309\" href=\"https://insights.blackcoffer.com/category/how-to/example/\" id=\"td_uid_71_63e882a04c2f5\">Example</a><a class=\"mega-menu-sub-cat-td_uid_65_63e882a04afac\" data-td_block_id=\"td_uid_65_63e882a04afac\" data-td_filter_value=\"313\" href=\"https://insights.blackcoffer.com/category/how-to/optimization/\" id=\"td_uid_72_63e882a04c318\">Optimization</a><a class=\"mega-menu-sub-cat-td_uid_65_63e882a04afac\" data-td_block_id=\"td_uid_65_63e882a04afac\" data-td_filter_value=\"311\" href=\"https://insights.blackcoffer.com/category/how-to/projects/\" id=\"td_uid_73_63e882a04c33b\">Projects</a><a class=\"mega-menu-sub-cat-td_uid_65_63e882a04afac\" data-td_block_id=\"td_uid_65_63e882a04afac\" data-td_filter_value=\"307\" href=\"https://insights.blackcoffer.com/category/how-to/software-development/\" id=\"td_uid_74_63e882a04c35d\">Software Development</a><a class=\"mega-menu-sub-cat-td_uid_65_63e882a04afac\" data-td_block_id=\"td_uid_65_63e882a04afac\" data-td_filter_value=\"347\" href=\"https://insights.blackcoffer.com/category/how-to/source-code-audit/\" id=\"td_uid_75_63e882a04c380\">Source Code Audit</a><a class=\"mega-menu-sub-cat-td_uid_65_63e882a04afac\" data-td_block_id=\"td_uid_65_63e882a04afac\" data-td_filter_value=\"301\" href=\"https://insights.blackcoffer.com/category/how-to/statistics-how-to/\" id=\"td_uid_76_63e882a04c3a2\">Statistics</a><a class=\"mega-menu-sub-cat-td_uid_65_63e882a04afac\" data-td_block_id=\"td_uid_65_63e882a04afac\" data-td_filter_value=\"306\" href=\"https://insights.blackcoffer.com/category/how-to/web-mobile-app-development/\" id=\"td_uid_77_63e882a04c3c3\">Web &amp; Mobile App Development</a></div></div><div class=\"td_block_inner\" id=\"td_uid_65_63e882a04afac\"><div class=\"td-mega-row\"><div class=\"td-mega-span\">\n",
       "<div class=\"td_module_mega_menu td-animation-stack td_mod_mega_menu\">\n",
       "<div class=\"td-module-image\">\n",
       "<div class=\"td-module-thumb\"><a class=\"td-image-wrap\" href=\"https://insights.blackcoffer.com/ai-ml-and-predictive-modeling/\" rel=\"bookmark\" title=\"AI/ML and Predictive Modeling\"><img alt=\"\" class=\"entry-thumb\" height=\"150\" sizes=\"(max-width: 218px) 100vw, 218px\" src=\"https://insights.blackcoffer.com/wp-content/uploads/2022/02/theme-08-218x150.jpg\" srcset=\"https://insights.blackcoffer.com/wp-content/uploads/2022/02/theme-08-218x150.jpg 218w, https://insights.blackcoffer.com/wp-content/uploads/2022/02/theme-08-100x70.jpg 100w\" title=\"AI/ML and Predictive Modeling\" width=\"218\"/></a></div> <a class=\"td-post-category\" href=\"https://insights.blackcoffer.com/category/our-solutions/\">What We Do</a> </div>\n",
       "<div class=\"item-details\">\n",
       "<h3 class=\"entry-title td-module-title\"><a href=\"https://insights.blackcoffer.com/ai-ml-and-predictive-modeling/\" rel=\"bookmark\" title=\"AI/ML and Predictive Modeling\">AI/ML and Predictive Modeling</a></h3> </div>\n",
       "</div>\n",
       "</div><div class=\"td-mega-span\">\n",
       "<div class=\"td_module_mega_menu td-animation-stack td_mod_mega_menu\">\n",
       "<div class=\"td-module-image\">\n",
       "<div class=\"td-module-thumb\"><a class=\"td-image-wrap\" href=\"https://insights.blackcoffer.com/solution-for-contact-centre-problems/\" rel=\"bookmark\" title=\"Solution for Contact Centre Problems\"><img alt=\"\" class=\"entry-thumb\" height=\"150\" sizes=\"(max-width: 218px) 100vw, 218px\" src=\"https://insights.blackcoffer.com/wp-content/uploads/2020/01/new2-slider1-bg02-218x150.jpg\" srcset=\"https://insights.blackcoffer.com/wp-content/uploads/2020/01/new2-slider1-bg02-218x150.jpg 218w, https://insights.blackcoffer.com/wp-content/uploads/2020/01/new2-slider1-bg02-100x70.jpg 100w\" title=\"Solution for Contact Centre Problems\" width=\"218\"/></a></div> <a class=\"td-post-category\" href=\"https://insights.blackcoffer.com/category/blackcoffer/\">Blackcoffer</a> </div>\n",
       "<div class=\"item-details\">\n",
       "<h3 class=\"entry-title td-module-title\"><a href=\"https://insights.blackcoffer.com/solution-for-contact-centre-problems/\" rel=\"bookmark\" title=\"Solution for Contact Centre Problems\">Solution for Contact Centre Problems</a></h3> </div>\n",
       "</div>\n",
       "</div><div class=\"td-mega-span\">\n",
       "<div class=\"td_module_mega_menu td-animation-stack td_mod_mega_menu\">\n",
       "<div class=\"td-module-image\">\n",
       "<div class=\"td-module-thumb\"><a class=\"td-image-wrap\" href=\"https://insights.blackcoffer.com/how-to-setup-custom-domain-for-google-app-engine-application/\" rel=\"bookmark\" title=\"How to Setup Custom Domain for Google App Engine Application?\"><img alt=\"Google App Engine Application\" class=\"entry-thumb\" height=\"150\" sizes=\"(max-width: 218px) 100vw, 218px\" src=\"https://insights.blackcoffer.com/wp-content/uploads/2021/02/01-3-7-768x581-1-218x150.png\" srcset=\"https://insights.blackcoffer.com/wp-content/uploads/2021/02/01-3-7-768x581-1-218x150.png 218w, https://insights.blackcoffer.com/wp-content/uploads/2021/02/01-3-7-768x581-1-100x70.png 100w\" title=\"How to Setup Custom Domain for Google App Engine Application?\" width=\"218\"/></a></div> <a class=\"td-post-category\" href=\"https://insights.blackcoffer.com/category/how-to/\">How To</a> </div>\n",
       "<div class=\"item-details\">\n",
       "<h3 class=\"entry-title td-module-title\"><a href=\"https://insights.blackcoffer.com/how-to-setup-custom-domain-for-google-app-engine-application/\" rel=\"bookmark\" title=\"How to Setup Custom Domain for Google App Engine Application?\">How to Setup Custom Domain for Google App Engine Application?</a></h3> </div>\n",
       "</div>\n",
       "</div><div class=\"td-mega-span\">\n",
       "<div class=\"td_module_mega_menu td-animation-stack td_mod_mega_menu\">\n",
       "<div class=\"td-module-image\">\n",
       "<div class=\"td-module-thumb\"><a class=\"td-image-wrap\" href=\"https://insights.blackcoffer.com/code-review-checklist/\" rel=\"bookmark\" title=\"Code Review Checklist\"><img alt=\"\" class=\"entry-thumb\" height=\"150\" sizes=\"(max-width: 218px) 100vw, 218px\" src=\"https://insights.blackcoffer.com/wp-content/uploads/2020/04/slider-home-3-218x150.jpg\" srcset=\"https://insights.blackcoffer.com/wp-content/uploads/2020/04/slider-home-3-218x150.jpg 218w, https://insights.blackcoffer.com/wp-content/uploads/2020/04/slider-home-3-100x70.jpg 100w\" title=\"Code Review Checklist\" width=\"218\"/></a></div> <a class=\"td-post-category\" href=\"https://insights.blackcoffer.com/category/how-to/\">How To</a> </div>\n",
       "<div class=\"item-details\">\n",
       "<h3 class=\"entry-title td-module-title\"><a href=\"https://insights.blackcoffer.com/code-review-checklist/\" rel=\"bookmark\" title=\"Code Review Checklist\">Code Review Checklist</a></h3> </div>\n",
       "</div>\n",
       "</div></div></div><div class=\"td-next-prev-wrap\"><a class=\"td-ajax-prev-page ajax-page-disabled\" data-td_block_id=\"td_uid_65_63e882a04afac\" href=\"#\" id=\"prev-page-td_uid_65_63e882a04afac\"><i class=\"td-icon-font td-icon-menu-left\"></i></a><a class=\"td-ajax-next-page\" data-td_block_id=\"td_uid_65_63e882a04afac\" href=\"#\" id=\"next-page-td_uid_65_63e882a04afac\"><i class=\"td-icon-font td-icon-menu-right\"></i></a></div><div class=\"clearfix\"></div></div> <!-- ./block1 --></div></div></li>\n",
       "</ul>\n",
       "</li>\n",
       "<li class=\"menu-item menu-item-type-custom menu-item-object-custom td-menu-item td-normal-menu menu-item-4062\"><a href=\"#\">Schedule Demo</a></li>\n",
       "<li class=\"menu-item menu-item-type-post_type menu-item-object-page td-menu-item td-normal-menu menu-item-4063\"><a href=\"https://insights.blackcoffer.com/contact/\">Contact</a></li>\n",
       "</ul></div></div>\n",
       "<div class=\"header-search-wrap\">\n",
       "<div class=\"td-search-btns-wrap\">\n",
       "<a class=\"dropdown-toggle\" data-toggle=\"dropdown\" href=\"#\" id=\"td-header-search-button\" role=\"button\"><i class=\"td-icon-search\"></i></a>\n",
       "<a class=\"dropdown-toggle\" data-toggle=\"dropdown\" href=\"#\" id=\"td-header-search-button-mob\"><i class=\"td-icon-search\"></i></a>\n",
       "</div>\n",
       "<div aria-labelledby=\"td-header-search-button\" class=\"td-drop-down-search\">\n",
       "<form action=\"https://insights.blackcoffer.com/\" class=\"td-search-form\" method=\"get\">\n",
       "<div class=\"td-head-form-search-wrap\" role=\"search\">\n",
       "<input autocomplete=\"off\" id=\"td-header-search\" name=\"s\" type=\"text\" value=\"\"/><input class=\"wpb_button wpb_btn-inverse btn\" id=\"td-header-search-top\" type=\"submit\" value=\"Search\"/>\n",
       "</div>\n",
       "</form>\n",
       "<div id=\"td-aj-search\"></div>\n",
       "</div>\n",
       "</div>\n",
       "</div>\n",
       "</div>\n",
       "</div>\n",
       "</div>\n",
       "</div>\n",
       "<article class=\"td-post-template-7 post-3839 post type-post status-publish format-standard has-post-thumbnail category-health-care-equipment-services category-healthcare category-pharmaceuticals-biotechnology-life-sciences category-what-we-think tag-communication tag-healthcare tag-innovation tag-telehealth-covid-19 tag-telemedicine td-container-wrap\" id=\"post-3839\" itemscope=\"\" itemtype=\"https://schema.org/Article\">\n",
       "<div class=\"td-full-screen-header-image-wrap\">\n",
       "<div class=\"td-container td-post-header\">\n",
       "<div class=\"td-crumb-container\"></div>\n",
       "<div class=\"td-post-header-holder\">\n",
       "<div class=\"td-parallax-header\">\n",
       "<header class=\"td-post-title\">\n",
       "<ul class=\"td-category\"><li class=\"entry-category\"><a href=\"https://insights.blackcoffer.com/category/what-we-think/healthcare/health-care-equipment-services/\">Health Care Equipment &amp; Services</a></li><li class=\"entry-category\"><a href=\"https://insights.blackcoffer.com/category/what-we-think/healthcare/\">Healthcare</a></li><li class=\"entry-category\"><a href=\"https://insights.blackcoffer.com/category/what-we-think/healthcare/pharmaceuticals-biotechnology-life-sciences/\">Pharmaceuticals, Biotechnology &amp; Life Sciences</a></li><li class=\"entry-category\"><a href=\"https://insights.blackcoffer.com/category/what-we-think/\">What We Think</a></li></ul> <h1 class=\"entry-title\">How Telehealth and Telemedicine helping people to fight against COVID-19</h1>\n",
       "<div class=\"td-module-meta-info\">\n",
       "<span class=\"td-post-date\"><time class=\"entry-date updated td-module-date\" datetime=\"2022-04-28T21:04:47+00:00\">April 28, 2022</time></span> <div class=\"td-post-views\"><i class=\"td-icon-views\"></i><span class=\"td-nr-views-3839\">125</span></div> </div>\n",
       "</header>\n",
       "<div class=\"td-read-down\"><a href=\"#\"><i class=\"td-icon-read-down\"></i></a></div>\n",
       "</div>\n",
       "</div>\n",
       "</div>\n",
       "<div class=\"td-image-gradient-style7\" id=\"td-full-screen-header-image\">\n",
       "<img class=\"td-backstretch\" src=\"https://insights.blackcoffer.com/wp-content/uploads/2022/04/GettyImages-1301576794.jpg\"/>\n",
       "</div>\n",
       "</div>\n",
       "<div class=\"td-container\">\n",
       "<div class=\"td-pb-row\">\n",
       "<div class=\"td-pb-span8 td-main-content\" role=\"main\">\n",
       "<div class=\"td-ss-main-content\">\n",
       "<div class=\"td-post-content\">\n",
       "<p>The last 2 years are the most critical time in the world and to survive in that time it’s a great challenge for people. People all around the world are to be aware of this and they protect their families by maintaining the protocols. At this time online services play a great role. People all around the world can buy their daily life needs online and the providers also care for their customers, so they delivered the product to their customers by maintaining the covid-19 protocols. This online medicine service has also become popular. The people don’t need to be panicked to go out for this and they can provide the medicines to the patients at the home, and also store the necessary medicines on their own. The terms telehealth and telemedicine are used interchangeably. In remote areas to provide medicines and healthcare telehealth is used and to provide medicines at the doorsteps to the people telemedicine’s used. The technology is used for this clinic information. This technique is used for electronic communication and sharing the medicine’s information with the pharmacy directly. This concept is not new but in this situation, the use of this system has become very popular and also very useful.</p>\n",
       "<h1><a>Discussion</a></h1>\n",
       "<h2><a>Current scenario</a></h2>\n",
       "<p>In every world, every government gives priority to telehealth and telemedicine technology. This thing started with the medicine library, which provides the necessary medicine and also gives an idea of the use of every medicine. This technique is used for electronic communication and sharing the medicine’s information with the pharmacy directly. In every remote area, this technology provides a great role. To support the teleconnection activity department of information technology has set a standard for that so that people can use this in this critical situation.</p>\n",
       "<h2><a>Implementation</a></h2>\n",
       "<p>Telehealth and telemedicine are different things, but the aim and purpose of these two technologies are the same, to provide healthcare services to people without any problem. This system is used for both the patient and healthcare professional education also for the public(Leite,2018). This technology aims to overcome the barriers and provide equal access to the services and the interventions. This technology helps to overcome the barrier and solve problems like adverse weather and illness. Telehealth technology is used to consult with the patient’s family about diagnosis and treatment by the service.</p>\n",
       "<h2><a>Marketing Strategies</a></h2>\n",
       "<p>The telehealth system provides the patient’s information to various locations to provide the patient with the best treatment. This system is accessed by every unavailable service for the patient in every remote area. Telehealth removes the travel time and waiting rooms for the patients to the remote areas. for this technique, the patients can get safe ety and are too ill to travel in restricted areas.  This technology is not dependent on locations, it can work in every location. This marketing for this technology is very popular in the market and people also love to use this technology.</p>\n",
       "<h2><a>Benefit</a></h2>\n",
       "<p> This is the benefit of this technology. This technology can manage the health of the patients by self-management and through monitoring. The patients can go for a checkup in time when they can choose this thing that always gives a benefit to the patients. There are more opportunities to improve standard care with various technologies. This is more equitable to access healthcare. The clients can use the medical images for diagnosis and they can tell the doctors about their problems through video calls. If the case is very serious they don’t wait to check the doctor they can directly connect with the doctors through video calls. But in other ways, it causes some problems for the patients. With this technology they can meet various doctors each time, these things can create confusion for the patients and their families. The older patients and the child does have a family member with them for their health purpose. The patient’s and the doctor’s communication is needed to be good and they need to understand this is a part of the therapy. If they do not communicate with each other, the problem will take a long time to resolve. The most important thing is that the patient and the therapist need to use the technology properly. In time this technology will help people in many ways like that.</p>\n",
       "<h2><a>Future Scopes</a></h2>\n",
       "<p>This technology has the scope to be more popular in the future. After the covid-19 situation, this technology became very popular so the care delivery services that connect the patient to the health professionals to provide using the video calls and texting, and many more. For this, accessible and affordable health care is born as people’s care. Today telehealth is bigger than everything (Rametta<em>et al </em>.2019).  The services provide the patients to use this properly and get their therapy not to go to the clinic and can use these things as a lucky chance for their family and also.</p>\n",
       "<h1><a>Conclusion</a></h1>\n",
       "<p>Patients always appreciate this technology and agree that this technology always helps them a lot and this is a good review to proceed with these things in the future. The most common reason is to provide the technology everywhere to the GP technology which is easy to locate the patient’s position to access them in various conditions.  Proper communication is when the GP system is working properly and it has the locking time that causes problems so that the two parties have every mall chance to face any problem.  With this technology, people can have courage and faith in their life. So they believe in this system nowadays. After surviving this critical situation they are already using this in daily life. So the purpose of building this system is to reach their level and be successful to achieve its purpose.</p>\n",
       "<pre class=\"wp-block-preformatted\">Blackcoffer Insights 40: Pranavitha.V, WOXSEN UNIVERSITY</pre>\n",
       "</div>\n",
       "<footer>\n",
       "<div class=\"td-post-source-tags\">\n",
       "<ul class=\"td-tags td-post-small-box clearfix\"><li><span>TAGS</span></li><li><a href=\"https://insights.blackcoffer.com/tag/communication/\">Communication</a></li><li><a href=\"https://insights.blackcoffer.com/tag/healthcare/\">Healthcare</a></li><li><a href=\"https://insights.blackcoffer.com/tag/innovation/\">Innovation</a></li><li><a href=\"https://insights.blackcoffer.com/tag/telehealth-covid-19/\">Telehealth Covid-19</a></li><li><a href=\"https://insights.blackcoffer.com/tag/telemedicine/\">Telemedicine</a></li></ul> </div>\n",
       "<div class=\"td-block-row td-post-next-prev\"><div class=\"td-block-span6 td-post-prev-post\"><div class=\"td-post-next-prev-content\"><span>Previous article</span><a href=\"https://insights.blackcoffer.com/is-telemedicine-effective-in-treating-patients/\">Is telemedicine effective in treating patients?</a></div></div><div class=\"td-next-prev-separator\"></div><div class=\"td-block-span6 td-post-next-post\"><div class=\"td-post-next-prev-content\"><span>Next article</span><a href=\"https://insights.blackcoffer.com/is-telehealth-the-future-of-healthcare-3/\">Is telehealth the future of healthcare?</a></div></div></div> <div class=\"td-author-name vcard author\" style=\"display: none\"><span class=\"fn\"><a href=\"https://insights.blackcoffer.com/author/admin/\">Ajay Bidyarthy</a></span></div> <span class=\"td-page-meta\" itemprop=\"author\" itemscope=\"\" itemtype=\"https://schema.org/Person\"><meta content=\"Ajay Bidyarthy\" itemprop=\"name\"/></span><meta content=\"2022-04-28T21:04:47+00:00\" itemprop=\"datePublished\"/><meta content=\"2022-04-28T21:04:47+05:30\" itemprop=\"dateModified\"/><meta itemid=\"https://insights.blackcoffer.com/how-telehealth-and-telemedicine-helping-people-to-fight-against-covid-19-2/\" itemprop=\"mainEntityOfPage\" itemscope=\"\" itemtype=\"https://schema.org/WebPage\"/><span class=\"td-page-meta\" itemprop=\"publisher\" itemscope=\"\" itemtype=\"https://schema.org/Organization\"><span class=\"td-page-meta\" itemprop=\"logo\" itemscope=\"\" itemtype=\"https://schema.org/ImageObject\"><meta content=\"https://insights.blackcoffer.com/wp-content/uploads/2018/12/Insights-blackv02.png\" itemprop=\"url\"/></span><meta content=\"Blackcoffer Insights\" itemprop=\"name\"/></span><meta content=\"How Telehealth and Telemedicine helping people to fight against COVID-19\" itemprop=\"headline \"/><span class=\"td-page-meta\" itemprop=\"image\" itemscope=\"\" itemtype=\"https://schema.org/ImageObject\"><meta content=\"https://insights.blackcoffer.com/wp-content/uploads/2022/04/GettyImages-1301576794.jpg\" itemprop=\"url\"/><meta content=\"2100\" itemprop=\"width\"/><meta content=\"1400\" itemprop=\"height\"/></span> </footer>\n",
       "<div class=\"td_block_wrap td_block_related_posts td_uid_79_63e882a04fdd2_rand td_with_ajax_pagination td-pb-border-top td_block_template_1\" data-td-block-uid=\"td_uid_79_63e882a04fdd2\"><script>var block_td_uid_79_63e882a04fdd2 = new tdBlock();\n",
       "block_td_uid_79_63e882a04fdd2.id = \"td_uid_79_63e882a04fdd2\";\n",
       "block_td_uid_79_63e882a04fdd2.atts = '{\"limit\":3,\"ajax_pagination\":\"next_prev\",\"live_filter\":\"cur_post_same_categories\",\"td_ajax_filter_type\":\"td_custom_related\",\"class\":\"td_uid_79_63e882a04fdd2_rand\",\"td_column_number\":3,\"live_filter_cur_post_id\":3839,\"live_filter_cur_post_author\":\"1\",\"block_template_id\":\"\",\"header_color\":\"\",\"ajax_pagination_infinite_stop\":\"\",\"offset\":\"\",\"td_ajax_preloading\":\"\",\"td_filter_default_txt\":\"\",\"td_ajax_filter_ids\":\"\",\"el_class\":\"\",\"color_preset\":\"\",\"border_top\":\"\",\"css\":\"\",\"tdc_css\":\"\",\"tdc_css_class\":\"td_uid_79_63e882a04fdd2_rand\",\"tdc_css_class_style\":\"td_uid_79_63e882a04fdd2_rand_style\"}';\n",
       "block_td_uid_79_63e882a04fdd2.td_column_number = \"3\";\n",
       "block_td_uid_79_63e882a04fdd2.block_type = \"td_block_related_posts\";\n",
       "block_td_uid_79_63e882a04fdd2.post_count = \"3\";\n",
       "block_td_uid_79_63e882a04fdd2.found_posts = \"171\";\n",
       "block_td_uid_79_63e882a04fdd2.header_color = \"\";\n",
       "block_td_uid_79_63e882a04fdd2.ajax_pagination_infinite_stop = \"\";\n",
       "block_td_uid_79_63e882a04fdd2.max_num_pages = \"57\";\n",
       "tdBlocksArray.push(block_td_uid_79_63e882a04fdd2);\n",
       "</script><h4 class=\"td-related-title td-block-title\"><a class=\"td-related-left td-cur-simple-item\" data-td_block_id=\"td_uid_79_63e882a04fdd2\" data-td_filter_value=\"\" href=\"#\" id=\"td_uid_80_63e882a0510a2\">RELATED ARTICLES</a><a class=\"td-related-right\" data-td_block_id=\"td_uid_79_63e882a04fdd2\" data-td_filter_value=\"td_related_more_from_author\" href=\"#\" id=\"td_uid_81_63e882a0510a8\">MORE FROM AUTHOR</a></h4><div class=\"td_block_inner\" id=\"td_uid_79_63e882a04fdd2\">\n",
       "<div class=\"td-related-row\">\n",
       "<div class=\"td-related-span4\">\n",
       "<div class=\"td_module_related_posts td-animation-stack td_mod_related_posts\">\n",
       "<div class=\"td-module-image\">\n",
       "<div class=\"td-module-thumb\"><a class=\"td-image-wrap\" href=\"https://insights.blackcoffer.com/rise-of-telemedicine-and-its-impact-on-livelihood-by-2040-3/\" rel=\"bookmark\" title=\"Rise of telemedicine and its Impact on Livelihood by 2040\"><img alt=\"\" class=\"entry-thumb\" height=\"150\" sizes=\"(max-width: 218px) 100vw, 218px\" src=\"https://insights.blackcoffer.com/wp-content/uploads/2023/01/fidovhj-218x150.jpg\" srcset=\"https://insights.blackcoffer.com/wp-content/uploads/2023/01/fidovhj-218x150.jpg 218w, https://insights.blackcoffer.com/wp-content/uploads/2023/01/fidovhj-100x70.jpg 100w\" title=\"Rise of telemedicine and its Impact on Livelihood by 2040\" width=\"218\"/></a></div> <a class=\"td-post-category\" href=\"https://insights.blackcoffer.com/category/what-we-think/\">What We Think</a> </div>\n",
       "<div class=\"item-details\">\n",
       "<h3 class=\"entry-title td-module-title\"><a href=\"https://insights.blackcoffer.com/rise-of-telemedicine-and-its-impact-on-livelihood-by-2040-3/\" rel=\"bookmark\" title=\"Rise of telemedicine and its Impact on Livelihood by 2040\">Rise of telemedicine and its Impact on Livelihood by 2040</a></h3> </div>\n",
       "</div>\n",
       "</div> <!-- ./td-related-span4 -->\n",
       "<div class=\"td-related-span4\">\n",
       "<div class=\"td_module_related_posts td-animation-stack td_mod_related_posts\">\n",
       "<div class=\"td-module-image\">\n",
       "<div class=\"td-module-thumb\"><a class=\"td-image-wrap\" href=\"https://insights.blackcoffer.com/rise-of-e-health-and-its-impact-on-humans-by-the-year-2030/\" rel=\"bookmark\" title=\"Rise of e-health and its impact on humans by the year 2030\"><img alt=\"\" class=\"entry-thumb\" height=\"150\" sizes=\"(max-width: 218px) 100vw, 218px\" src=\"https://insights.blackcoffer.com/wp-content/uploads/2023/01/digital-health-218x150.jpg\" srcset=\"https://insights.blackcoffer.com/wp-content/uploads/2023/01/digital-health-218x150.jpg 218w, https://insights.blackcoffer.com/wp-content/uploads/2023/01/digital-health-100x70.jpg 100w\" title=\"Rise of e-health and its impact on humans by the year 2030\" width=\"218\"/></a></div> <a class=\"td-post-category\" href=\"https://insights.blackcoffer.com/category/what-we-think/\">What We Think</a> </div>\n",
       "<div class=\"item-details\">\n",
       "<h3 class=\"entry-title td-module-title\"><a href=\"https://insights.blackcoffer.com/rise-of-e-health-and-its-impact-on-humans-by-the-year-2030/\" rel=\"bookmark\" title=\"Rise of e-health and its impact on humans by the year 2030\">Rise of e-health and its impact on humans by the year 2030</a></h3> </div>\n",
       "</div>\n",
       "</div> <!-- ./td-related-span4 -->\n",
       "<div class=\"td-related-span4\">\n",
       "<div class=\"td_module_related_posts td-animation-stack td_mod_related_posts\">\n",
       "<div class=\"td-module-image\">\n",
       "<div class=\"td-module-thumb\"><a class=\"td-image-wrap\" href=\"https://insights.blackcoffer.com/rise-of-e-health-and-its-imapct-on-humans-by-the-year-2030-2/\" rel=\"bookmark\" title=\"Rise of e-health and its impact on humans by the year 2030\"><img alt=\"\" class=\"entry-thumb\" height=\"150\" sizes=\"(max-width: 218px) 100vw, 218px\" src=\"https://insights.blackcoffer.com/wp-content/uploads/2023/01/po-218x150.jpg\" srcset=\"https://insights.blackcoffer.com/wp-content/uploads/2023/01/po-218x150.jpg 218w, https://insights.blackcoffer.com/wp-content/uploads/2023/01/po-100x70.jpg 100w\" title=\"Rise of e-health and its impact on humans by the year 2030\" width=\"218\"/></a></div> <a class=\"td-post-category\" href=\"https://insights.blackcoffer.com/category/what-we-think/\">What We Think</a> </div>\n",
       "<div class=\"item-details\">\n",
       "<h3 class=\"entry-title td-module-title\"><a href=\"https://insights.blackcoffer.com/rise-of-e-health-and-its-imapct-on-humans-by-the-year-2030-2/\" rel=\"bookmark\" title=\"Rise of e-health and its impact on humans by the year 2030\">Rise of e-health and its impact on humans by the year 2030</a></h3> </div>\n",
       "</div>\n",
       "</div> <!-- ./td-related-span4 --></div><!--./row-fluid--></div><div class=\"td-next-prev-wrap\"><a class=\"td-ajax-prev-page ajax-page-disabled\" data-td_block_id=\"td_uid_79_63e882a04fdd2\" href=\"#\" id=\"prev-page-td_uid_79_63e882a04fdd2\"><i class=\"td-icon-font td-icon-menu-left\"></i></a><a class=\"td-ajax-next-page\" data-td_block_id=\"td_uid_79_63e882a04fdd2\" href=\"#\" id=\"next-page-td_uid_79_63e882a04fdd2\"><i class=\"td-icon-font td-icon-menu-right\"></i></a></div></div> <!-- ./block -->\n",
       "<div class=\"comments\" id=\"comments\">\n",
       "</div> <!-- /.content -->\n",
       "</div>\n",
       "</div>\n",
       "<div class=\"td-pb-span4 td-main-sidebar\" role=\"complementary\">\n",
       "<div class=\"td-ss-main-sidebar\">\n",
       "<div class=\"td-a-rec td-a-rec-id-sidebar td_uid_82_63e882a052144_rand td_block_template_1\">\n",
       "<style>\n",
       "/* custom css */\n",
       ".td_uid_82_63e882a052144_rand.td-a-rec-img {\n",
       "\t\t\t\t    text-align: left;\n",
       "\t\t\t\t}\n",
       "\t\t\t\t.td_uid_82_63e882a052144_rand.td-a-rec-img img {\n",
       "                    margin: 0 auto 0 0;\n",
       "                }\n",
       "</style><span class=\"td-adspot-title\">- Advertisement -</span><div class=\"td-all-devices\"><a href=\"#\" target=\"_blank\"><img onmouseout=\"this.style.transform=`scale(1)`\" onmouseover=\"this.style.transform=`scale(1.1)`\" src=\"https://insights.blackcoffer.com/wp-content/uploads/2019/01/Blackcoffer_ad.png\" style=\"transition: all 0.3s ease 0s; transform: scale(1);\"/></a></div></div><div class=\"td_block_wrap td_block_7 td_block_widget td_uid_83_63e882a05245c_rand td_with_ajax_pagination td-pb-border-top td_block_template_1 td-column-1 td_block_padding\" data-td-block-uid=\"td_uid_83_63e882a05245c\"><script>var block_td_uid_83_63e882a05245c = new tdBlock();\n",
       "block_td_uid_83_63e882a05245c.id = \"td_uid_83_63e882a05245c\";\n",
       "block_td_uid_83_63e882a05245c.atts = '{\"custom_title\":\"MOST POPULAR INSIGHTS\",\"custom_url\":\"\",\"block_template_id\":\"\",\"header_color\":\"#\",\"header_text_color\":\"#\",\"accent_text_color\":\"#\",\"m6_tl\":\"\",\"limit\":\"4\",\"offset\":\"\",\"el_class\":\"\",\"post_ids\":\"\",\"category_id\":\"\",\"category_ids\":\"\",\"tag_slug\":\"\",\"autors_id\":\"\",\"installed_post_types\":\"\",\"sort\":\"random_posts\",\"td_ajax_filter_type\":\"\",\"td_ajax_filter_ids\":\"\",\"td_filter_default_txt\":\"All\",\"td_ajax_preloading\":\"\",\"ajax_pagination\":\"load_more\",\"ajax_pagination_infinite_stop\":\"\",\"class\":\"td_block_widget td_uid_83_63e882a05245c_rand\",\"separator\":\"\",\"show_modified_date\":\"\",\"f_header_font_header\":\"\",\"f_header_font_title\":\"Block header\",\"f_header_font_settings\":\"\",\"f_header_font_family\":\"\",\"f_header_font_size\":\"\",\"f_header_font_line_height\":\"\",\"f_header_font_style\":\"\",\"f_header_font_weight\":\"\",\"f_header_font_transform\":\"\",\"f_header_font_spacing\":\"\",\"f_header_\":\"\",\"f_ajax_font_title\":\"Ajax categories\",\"f_ajax_font_settings\":\"\",\"f_ajax_font_family\":\"\",\"f_ajax_font_size\":\"\",\"f_ajax_font_line_height\":\"\",\"f_ajax_font_style\":\"\",\"f_ajax_font_weight\":\"\",\"f_ajax_font_transform\":\"\",\"f_ajax_font_spacing\":\"\",\"f_ajax_\":\"\",\"f_more_font_title\":\"Load more button\",\"f_more_font_settings\":\"\",\"f_more_font_family\":\"\",\"f_more_font_size\":\"\",\"f_more_font_line_height\":\"\",\"f_more_font_style\":\"\",\"f_more_font_weight\":\"\",\"f_more_font_transform\":\"\",\"f_more_font_spacing\":\"\",\"f_more_\":\"\",\"m6f_title_font_header\":\"\",\"m6f_title_font_title\":\"Article title\",\"m6f_title_font_settings\":\"\",\"m6f_title_font_family\":\"\",\"m6f_title_font_size\":\"\",\"m6f_title_font_line_height\":\"\",\"m6f_title_font_style\":\"\",\"m6f_title_font_weight\":\"\",\"m6f_title_font_transform\":\"\",\"m6f_title_font_spacing\":\"\",\"m6f_title_\":\"\",\"m6f_cat_font_title\":\"Article category tag\",\"m6f_cat_font_settings\":\"\",\"m6f_cat_font_family\":\"\",\"m6f_cat_font_size\":\"\",\"m6f_cat_font_line_height\":\"\",\"m6f_cat_font_style\":\"\",\"m6f_cat_font_weight\":\"\",\"m6f_cat_font_transform\":\"\",\"m6f_cat_font_spacing\":\"\",\"m6f_cat_\":\"\",\"m6f_meta_font_title\":\"Article meta info\",\"m6f_meta_font_settings\":\"\",\"m6f_meta_font_family\":\"\",\"m6f_meta_font_size\":\"\",\"m6f_meta_font_line_height\":\"\",\"m6f_meta_font_style\":\"\",\"m6f_meta_font_weight\":\"\",\"m6f_meta_font_transform\":\"\",\"m6f_meta_font_spacing\":\"\",\"m6f_meta_\":\"\",\"css\":\"\",\"tdc_css\":\"\",\"td_column_number\":1,\"color_preset\":\"\",\"border_top\":\"\",\"tdc_css_class\":\"td_uid_83_63e882a05245c_rand\",\"tdc_css_class_style\":\"td_uid_83_63e882a05245c_rand_style\"}';\n",
       "block_td_uid_83_63e882a05245c.td_column_number = \"1\";\n",
       "block_td_uid_83_63e882a05245c.block_type = \"td_block_7\";\n",
       "block_td_uid_83_63e882a05245c.post_count = \"4\";\n",
       "block_td_uid_83_63e882a05245c.found_posts = \"408\";\n",
       "block_td_uid_83_63e882a05245c.header_color = \"#\";\n",
       "block_td_uid_83_63e882a05245c.ajax_pagination_infinite_stop = \"\";\n",
       "block_td_uid_83_63e882a05245c.max_num_pages = \"102\";\n",
       "tdBlocksArray.push(block_td_uid_83_63e882a05245c);\n",
       "</script><div class=\"td-block-title-wrap\"><h4 class=\"block-title td-block-title\"><span class=\"td-pulldown-size\">MOST POPULAR INSIGHTS</span></h4></div><div class=\"td_block_inner\" id=\"td_uid_83_63e882a05245c\">\n",
       "<div class=\"td-block-span12\">\n",
       "<div class=\"td_module_6 td_module_wrap td-animation-stack\">\n",
       "<div class=\"td-module-thumb\"><a class=\"td-image-wrap\" href=\"https://insights.blackcoffer.com/population-and-community-survey-of-america/\" rel=\"bookmark\" title=\"Population and Community Survey of America\"><img alt=\"\" class=\"entry-thumb\" height=\"70\" sizes=\"(max-width: 100px) 100vw, 100px\" src=\"https://insights.blackcoffer.com/wp-content/uploads/2021/08/hero_home_02-1-100x70.jpg\" srcset=\"https://insights.blackcoffer.com/wp-content/uploads/2021/08/hero_home_02-1-100x70.jpg 100w, https://insights.blackcoffer.com/wp-content/uploads/2021/08/hero_home_02-1-218x150.jpg 218w\" title=\"Population and Community Survey of America\" width=\"100\"/></a></div>\n",
       "<div class=\"item-details\">\n",
       "<h3 class=\"entry-title td-module-title\"><a href=\"https://insights.blackcoffer.com/population-and-community-survey-of-america/\" rel=\"bookmark\" title=\"Population and Community Survey of America\">Population and Community Survey of America</a></h3> <div class=\"td-module-meta-info\">\n",
       "<span class=\"td-post-date\"><time class=\"entry-date updated td-module-date\" datetime=\"2021-08-22T18:34:50+00:00\">August 22, 2021</time></span> </div>\n",
       "</div>\n",
       "</div>\n",
       "</div> <!-- ./td-block-span12 -->\n",
       "<div class=\"td-block-span12\">\n",
       "<div class=\"td_module_6 td_module_wrap td-animation-stack\">\n",
       "<div class=\"td-module-thumb\"><a class=\"td-image-wrap\" href=\"https://insights.blackcoffer.com/interprets-the-coefficients-in-regression-models/\" rel=\"bookmark\" title=\"Interpret the Coefficients in Regression Models\"><img alt=\"\" class=\"entry-thumb\" height=\"70\" sizes=\"(max-width: 100px) 100vw, 100px\" src=\"https://insights.blackcoffer.com/wp-content/uploads/2019/04/520x400x5-100x70.jpg\" srcset=\"https://insights.blackcoffer.com/wp-content/uploads/2019/04/520x400x5-100x70.jpg 100w, https://insights.blackcoffer.com/wp-content/uploads/2019/04/520x400x5-218x150.jpg 218w\" title=\"Interpret the Coefficients in Regression Models\" width=\"100\"/></a></div>\n",
       "<div class=\"item-details\">\n",
       "<h3 class=\"entry-title td-module-title\"><a href=\"https://insights.blackcoffer.com/interprets-the-coefficients-in-regression-models/\" rel=\"bookmark\" title=\"Interpret the Coefficients in Regression Models\">Interpret the Coefficients in Regression Models</a></h3> <div class=\"td-module-meta-info\">\n",
       "<span class=\"td-post-date\"><time class=\"entry-date updated td-module-date\" datetime=\"2019-04-04T22:03:26+00:00\">April 4, 2019</time></span> </div>\n",
       "</div>\n",
       "</div>\n",
       "</div> <!-- ./td-block-span12 -->\n",
       "<div class=\"td-block-span12\">\n",
       "<div class=\"td_module_6 td_module_wrap td-animation-stack\">\n",
       "<div class=\"td-module-thumb\"><a class=\"td-image-wrap\" href=\"https://insights.blackcoffer.com/how-does-ai-help-to-monitor-retail-shelf-watches/\" rel=\"bookmark\" title=\"How does AI help to monitor Retail Shelf watches?\"><img alt=\"\" class=\"entry-thumb\" height=\"70\" sizes=\"(max-width: 100px) 100vw, 100px\" src=\"https://insights.blackcoffer.com/wp-content/uploads/2021/09/dmall1-100x70.jpg\" srcset=\"https://insights.blackcoffer.com/wp-content/uploads/2021/09/dmall1-100x70.jpg 100w, https://insights.blackcoffer.com/wp-content/uploads/2021/09/dmall1-218x150.jpg 218w\" title=\"How does AI help to monitor Retail Shelf watches?\" width=\"100\"/></a></div>\n",
       "<div class=\"item-details\">\n",
       "<h3 class=\"entry-title td-module-title\"><a href=\"https://insights.blackcoffer.com/how-does-ai-help-to-monitor-retail-shelf-watches/\" rel=\"bookmark\" title=\"How does AI help to monitor Retail Shelf watches?\">How does AI help to monitor Retail Shelf watches?</a></h3> <div class=\"td-module-meta-info\">\n",
       "<span class=\"td-post-date\"><time class=\"entry-date updated td-module-date\" datetime=\"2021-09-28T14:21:25+00:00\">September 28, 2021</time></span> </div>\n",
       "</div>\n",
       "</div>\n",
       "</div> <!-- ./td-block-span12 -->\n",
       "<div class=\"td-block-span12\">\n",
       "<div class=\"td_module_6 td_module_wrap td-animation-stack\">\n",
       "<div class=\"td-module-thumb\"><a class=\"td-image-wrap\" href=\"https://insights.blackcoffer.com/big-data-problem-solutions/\" rel=\"bookmark\" title=\"Big Data Problem &amp; Solutions\"><img alt=\"Big Data Problem &amp; Solutions\" class=\"entry-thumb\" height=\"70\" sizes=\"(max-width: 100px) 100vw, 100px\" src=\"https://insights.blackcoffer.com/wp-content/uploads/2019/07/Big-Data-Problem-Solutions-100x70.jpg\" srcset=\"https://insights.blackcoffer.com/wp-content/uploads/2019/07/Big-Data-Problem-Solutions-100x70.jpg 100w, https://insights.blackcoffer.com/wp-content/uploads/2019/07/Big-Data-Problem-Solutions-218x150.jpg 218w\" title=\"Big Data Problem &amp; Solutions\" width=\"100\"/></a></div>\n",
       "<div class=\"item-details\">\n",
       "<h3 class=\"entry-title td-module-title\"><a href=\"https://insights.blackcoffer.com/big-data-problem-solutions/\" rel=\"bookmark\" title=\"Big Data Problem &amp; Solutions\">Big Data Problem &amp; Solutions</a></h3> <div class=\"td-module-meta-info\">\n",
       "<span class=\"td-post-date\"><time class=\"entry-date updated td-module-date\" datetime=\"2019-07-04T16:12:27+00:00\">July 4, 2019</time></span> </div>\n",
       "</div>\n",
       "</div>\n",
       "</div> <!-- ./td-block-span12 --></div><div class=\"td-load-more-wrap\"><a class=\"td_ajax_load_more td_ajax_load_more_js\" data-td_block_id=\"td_uid_83_63e882a05245c\" href=\"#\" id=\"next-page-td_uid_83_63e882a05245c\">Load more<i class=\"td-icon-font td-icon-menu-right\"></i></a></div></div> <!-- ./block --><div class=\"td_block_wrap td_block_15 td_block_widget td_uid_84_63e882a0556b0_rand td_with_ajax_pagination td-pb-border-top td_block_template_1 td-column-1 td_block_padding\" data-td-block-uid=\"td_uid_84_63e882a0556b0\"><script>var block_td_uid_84_63e882a0556b0 = new tdBlock();\n",
       "block_td_uid_84_63e882a0556b0.id = \"td_uid_84_63e882a0556b0\";\n",
       "block_td_uid_84_63e882a0556b0.atts = '{\"custom_title\":\"RECOMMENDED INSIGHTS\",\"custom_url\":\"\",\"block_template_id\":\"\",\"header_color\":\"#\",\"header_text_color\":\"#\",\"accent_text_color\":\"#\",\"mx4_tl\":\"\",\"limit\":\"4\",\"offset\":\"\",\"el_class\":\"\",\"post_ids\":\"\",\"category_id\":\"\",\"category_ids\":\"\",\"tag_slug\":\"\",\"autors_id\":\"\",\"installed_post_types\":\"\",\"sort\":\"random_posts\",\"td_ajax_filter_type\":\"\",\"td_ajax_filter_ids\":\"\",\"td_filter_default_txt\":\"All\",\"td_ajax_preloading\":\"\",\"ajax_pagination\":\"next_prev\",\"ajax_pagination_infinite_stop\":\"\",\"class\":\"td_block_widget td_uid_84_63e882a0556b0_rand\",\"separator\":\"\",\"show_modified_date\":\"\",\"f_header_font_header\":\"\",\"f_header_font_title\":\"Block header\",\"f_header_font_settings\":\"\",\"f_header_font_family\":\"\",\"f_header_font_size\":\"\",\"f_header_font_line_height\":\"\",\"f_header_font_style\":\"\",\"f_header_font_weight\":\"\",\"f_header_font_transform\":\"\",\"f_header_font_spacing\":\"\",\"f_header_\":\"\",\"f_ajax_font_title\":\"Ajax categories\",\"f_ajax_font_settings\":\"\",\"f_ajax_font_family\":\"\",\"f_ajax_font_size\":\"\",\"f_ajax_font_line_height\":\"\",\"f_ajax_font_style\":\"\",\"f_ajax_font_weight\":\"\",\"f_ajax_font_transform\":\"\",\"f_ajax_font_spacing\":\"\",\"f_ajax_\":\"\",\"f_more_font_title\":\"Load more button\",\"f_more_font_settings\":\"\",\"f_more_font_family\":\"\",\"f_more_font_size\":\"\",\"f_more_font_line_height\":\"\",\"f_more_font_style\":\"\",\"f_more_font_weight\":\"\",\"f_more_font_transform\":\"\",\"f_more_font_spacing\":\"\",\"f_more_\":\"\",\"mx4f_title_font_header\":\"\",\"mx4f_title_font_title\":\"Article title\",\"mx4f_title_font_settings\":\"\",\"mx4f_title_font_family\":\"\",\"mx4f_title_font_size\":\"\",\"mx4f_title_font_line_height\":\"\",\"mx4f_title_font_style\":\"\",\"mx4f_title_font_weight\":\"\",\"mx4f_title_font_transform\":\"\",\"mx4f_title_font_spacing\":\"\",\"mx4f_title_\":\"\",\"mx4f_cat_font_title\":\"Article category tag\",\"mx4f_cat_font_settings\":\"\",\"mx4f_cat_font_family\":\"\",\"mx4f_cat_font_size\":\"\",\"mx4f_cat_font_line_height\":\"\",\"mx4f_cat_font_style\":\"\",\"mx4f_cat_font_weight\":\"\",\"mx4f_cat_font_transform\":\"\",\"mx4f_cat_font_spacing\":\"\",\"mx4f_cat_\":\"\",\"css\":\"\",\"tdc_css\":\"\",\"td_column_number\":1,\"color_preset\":\"\",\"border_top\":\"\",\"tdc_css_class\":\"td_uid_84_63e882a0556b0_rand\",\"tdc_css_class_style\":\"td_uid_84_63e882a0556b0_rand_style\"}';\n",
       "block_td_uid_84_63e882a0556b0.td_column_number = \"1\";\n",
       "block_td_uid_84_63e882a0556b0.block_type = \"td_block_15\";\n",
       "block_td_uid_84_63e882a0556b0.post_count = \"4\";\n",
       "block_td_uid_84_63e882a0556b0.found_posts = \"408\";\n",
       "block_td_uid_84_63e882a0556b0.header_color = \"#\";\n",
       "block_td_uid_84_63e882a0556b0.ajax_pagination_infinite_stop = \"\";\n",
       "block_td_uid_84_63e882a0556b0.max_num_pages = \"102\";\n",
       "tdBlocksArray.push(block_td_uid_84_63e882a0556b0);\n",
       "</script><div class=\"td-block-title-wrap\"><h4 class=\"block-title td-block-title\"><span class=\"td-pulldown-size\">RECOMMENDED INSIGHTS</span></h4></div><div class=\"td_block_inner td-column-1\" id=\"td_uid_84_63e882a0556b0\"><div class=\"td-cust-row\">\n",
       "<div class=\"td-block-span12\">\n",
       "<div class=\"td_module_mx4 td_module_wrap td-animation-stack\">\n",
       "<div class=\"td-module-image\">\n",
       "<div class=\"td-module-thumb\"><a class=\"td-image-wrap\" href=\"https://insights.blackcoffer.com/sentiment-analysis-bot-for-price-prediction/\" rel=\"bookmark\" title=\"Sentiment Analysis Bot for Price Prediction\"><img alt=\"\" class=\"entry-thumb\" height=\"150\" sizes=\"(max-width: 218px) 100vw, 218px\" src=\"https://insights.blackcoffer.com/wp-content/uploads/2021/03/h1-image-4-1536x593-1-218x150.jpg\" srcset=\"https://insights.blackcoffer.com/wp-content/uploads/2021/03/h1-image-4-1536x593-1-218x150.jpg 218w, https://insights.blackcoffer.com/wp-content/uploads/2021/03/h1-image-4-1536x593-1-100x70.jpg 100w\" title=\"Sentiment Analysis Bot for Price Prediction\" width=\"218\"/></a></div> <a class=\"td-post-category\" href=\"https://insights.blackcoffer.com/category/our-solutions/\">What We Do</a> </div>\n",
       "<h3 class=\"entry-title td-module-title\"><a href=\"https://insights.blackcoffer.com/sentiment-analysis-bot-for-price-prediction/\" rel=\"bookmark\" title=\"Sentiment Analysis Bot for Price Prediction\">Sentiment Analysis Bot for Price Prediction</a></h3>\n",
       "</div>\n",
       "</div> <!-- ./td-block-span12 -->\n",
       "<div class=\"td-block-span12\">\n",
       "<div class=\"td_module_mx4 td_module_wrap td-animation-stack\">\n",
       "<div class=\"td-module-image\">\n",
       "<div class=\"td-module-thumb\"><a class=\"td-image-wrap\" href=\"https://insights.blackcoffer.com/easy-database-access/\" rel=\"bookmark\" title=\"Easy Database Access\"><img alt=\"\" class=\"entry-thumb\" height=\"150\" sizes=\"(max-width: 218px) 100vw, 218px\" src=\"https://insights.blackcoffer.com/wp-content/uploads/2019/06/Members_Map_–_Eonet-218x150.jpg\" srcset=\"https://insights.blackcoffer.com/wp-content/uploads/2019/06/Members_Map_–_Eonet-218x150.jpg 218w, https://insights.blackcoffer.com/wp-content/uploads/2019/06/Members_Map_–_Eonet-100x70.jpg 100w\" title=\"Easy Database Access\" width=\"218\"/></a></div> <a class=\"td-post-category\" href=\"https://insights.blackcoffer.com/category/our-solutions/\">What We Do</a> </div>\n",
       "<h3 class=\"entry-title td-module-title\"><a href=\"https://insights.blackcoffer.com/easy-database-access/\" rel=\"bookmark\" title=\"Easy Database Access\">Easy Database Access</a></h3>\n",
       "</div>\n",
       "</div> <!-- ./td-block-span12 --></div><div class=\"td-cust-row\">\n",
       "<div class=\"td-block-span12\">\n",
       "<div class=\"td_module_mx4 td_module_wrap td-animation-stack\">\n",
       "<div class=\"td-module-image\">\n",
       "<div class=\"td-module-thumb\"><a class=\"td-image-wrap\" href=\"https://insights.blackcoffer.com/the-future-of-telehealth-services/\" rel=\"bookmark\" title=\"The future of Telehealth services.\"><img alt=\"\" class=\"entry-thumb\" height=\"150\" sizes=\"(max-width: 218px) 100vw, 218px\" src=\"https://insights.blackcoffer.com/wp-content/uploads/2022/04/tel2-218x150.jpeg\" srcset=\"https://insights.blackcoffer.com/wp-content/uploads/2022/04/tel2-218x150.jpeg 218w, https://insights.blackcoffer.com/wp-content/uploads/2022/04/tel2-100x70.jpeg 100w\" title=\"The future of Telehealth services.\" width=\"218\"/></a></div> <a class=\"td-post-category\" href=\"https://insights.blackcoffer.com/category/what-we-think/\">What We Think</a> </div>\n",
       "<h3 class=\"entry-title td-module-title\"><a href=\"https://insights.blackcoffer.com/the-future-of-telehealth-services/\" rel=\"bookmark\" title=\"The future of Telehealth services.\">The future of Telehealth services.</a></h3>\n",
       "</div>\n",
       "</div> <!-- ./td-block-span12 -->\n",
       "<div class=\"td-block-span12\">\n",
       "<div class=\"td_module_mx4 td_module_wrap td-animation-stack\">\n",
       "<div class=\"td-module-image\">\n",
       "<div class=\"td-module-thumb\"><a class=\"td-image-wrap\" href=\"https://insights.blackcoffer.com/business-analytics-textile-industry/\" rel=\"bookmark\" title=\"Business Analytics in Textile Industry (Raymond Ltd.)\"><img alt=\"Business Analytics in Textile Industry (Raymond Ltd.)\" class=\"entry-thumb\" height=\"150\" sizes=\"(max-width: 218px) 100vw, 218px\" src=\"https://insights.blackcoffer.com/wp-content/uploads/2018/06/Business-Analytics-in-Textile-Industry-Raymond-Ltd.-218x150.jpg\" srcset=\"https://insights.blackcoffer.com/wp-content/uploads/2018/06/Business-Analytics-in-Textile-Industry-Raymond-Ltd.-218x150.jpg 218w, https://insights.blackcoffer.com/wp-content/uploads/2018/06/Business-Analytics-in-Textile-Industry-Raymond-Ltd.-100x70.jpg 100w\" title=\"Business Analytics in Textile Industry (Raymond Ltd.)\" width=\"218\"/></a></div> <a class=\"td-post-category\" href=\"https://insights.blackcoffer.com/category/what-we-think/data-science/analytics/\">Analytics</a> </div>\n",
       "<h3 class=\"entry-title td-module-title\"><a href=\"https://insights.blackcoffer.com/business-analytics-textile-industry/\" rel=\"bookmark\" title=\"Business Analytics in Textile Industry (Raymond Ltd.)\">Business Analytics in Textile Industry (Raymond Ltd.)</a></h3>\n",
       "</div>\n",
       "</div> <!-- ./td-block-span12 --></div></div><div class=\"td-next-prev-wrap\"><a class=\"td-ajax-prev-page ajax-page-disabled\" data-td_block_id=\"td_uid_84_63e882a0556b0\" href=\"#\" id=\"prev-page-td_uid_84_63e882a0556b0\"><i class=\"td-icon-font td-icon-menu-left\"></i></a><a class=\"td-ajax-next-page\" data-td_block_id=\"td_uid_84_63e882a0556b0\" href=\"#\" id=\"next-page-td_uid_84_63e882a0556b0\"><i class=\"td-icon-font td-icon-menu-right\"></i></a></div></div> <!-- ./block --><div class=\"clearfix\"></div> </div>\n",
       "</div>\n",
       "</div> <!-- /.td-pb-row -->\n",
       "</div> <!-- /.td-container -->\n",
       "</article> <!-- /.post -->\n",
       "<!-- Instagram -->\n",
       "<!-- Footer -->\n",
       "<div class=\"td-footer-wrapper td-footer-container td-container-wrap\">\n",
       "<div class=\"td-container\">\n",
       "<div class=\"td-pb-row\">\n",
       "<div class=\"td-pb-span12\">\n",
       "</div>\n",
       "</div>\n",
       "<div class=\"td-pb-row\">\n",
       "<div class=\"td-pb-span4\">\n",
       "<div class=\"td_block_wrap td_block_7 td_uid_86_63e882a0588c9_rand td-pb-border-top td_block_template_1 td-column-1 td_block_padding\" data-td-block-uid=\"td_uid_86_63e882a0588c9\"><script>var block_td_uid_86_63e882a0588c9 = new tdBlock();\n",
       "block_td_uid_86_63e882a0588c9.id = \"td_uid_86_63e882a0588c9\";\n",
       "block_td_uid_86_63e882a0588c9.atts = '{\"custom_title\":\"EDITOR PICKS\",\"limit\":3,\"sort\":\"featured\",\"separator\":\"\",\"custom_url\":\"\",\"block_template_id\":\"\",\"m6_tl\":\"\",\"post_ids\":\"\",\"category_id\":\"\",\"category_ids\":\"\",\"tag_slug\":\"\",\"autors_id\":\"\",\"installed_post_types\":\"\",\"offset\":\"\",\"show_modified_date\":\"\",\"el_class\":\"\",\"td_ajax_filter_type\":\"\",\"td_ajax_filter_ids\":\"\",\"td_filter_default_txt\":\"All\",\"td_ajax_preloading\":\"\",\"f_header_font_header\":\"\",\"f_header_font_title\":\"Block header\",\"f_header_font_settings\":\"\",\"f_header_font_family\":\"\",\"f_header_font_size\":\"\",\"f_header_font_line_height\":\"\",\"f_header_font_style\":\"\",\"f_header_font_weight\":\"\",\"f_header_font_transform\":\"\",\"f_header_font_spacing\":\"\",\"f_header_\":\"\",\"f_ajax_font_title\":\"Ajax categories\",\"f_ajax_font_settings\":\"\",\"f_ajax_font_family\":\"\",\"f_ajax_font_size\":\"\",\"f_ajax_font_line_height\":\"\",\"f_ajax_font_style\":\"\",\"f_ajax_font_weight\":\"\",\"f_ajax_font_transform\":\"\",\"f_ajax_font_spacing\":\"\",\"f_ajax_\":\"\",\"f_more_font_title\":\"Load more button\",\"f_more_font_settings\":\"\",\"f_more_font_family\":\"\",\"f_more_font_size\":\"\",\"f_more_font_line_height\":\"\",\"f_more_font_style\":\"\",\"f_more_font_weight\":\"\",\"f_more_font_transform\":\"\",\"f_more_font_spacing\":\"\",\"f_more_\":\"\",\"m6f_title_font_header\":\"\",\"m6f_title_font_title\":\"Article title\",\"m6f_title_font_settings\":\"\",\"m6f_title_font_family\":\"\",\"m6f_title_font_size\":\"\",\"m6f_title_font_line_height\":\"\",\"m6f_title_font_style\":\"\",\"m6f_title_font_weight\":\"\",\"m6f_title_font_transform\":\"\",\"m6f_title_font_spacing\":\"\",\"m6f_title_\":\"\",\"m6f_cat_font_title\":\"Article category tag\",\"m6f_cat_font_settings\":\"\",\"m6f_cat_font_family\":\"\",\"m6f_cat_font_size\":\"\",\"m6f_cat_font_line_height\":\"\",\"m6f_cat_font_style\":\"\",\"m6f_cat_font_weight\":\"\",\"m6f_cat_font_transform\":\"\",\"m6f_cat_font_spacing\":\"\",\"m6f_cat_\":\"\",\"m6f_meta_font_title\":\"Article meta info\",\"m6f_meta_font_settings\":\"\",\"m6f_meta_font_family\":\"\",\"m6f_meta_font_size\":\"\",\"m6f_meta_font_line_height\":\"\",\"m6f_meta_font_style\":\"\",\"m6f_meta_font_weight\":\"\",\"m6f_meta_font_transform\":\"\",\"m6f_meta_font_spacing\":\"\",\"m6f_meta_\":\"\",\"ajax_pagination\":\"\",\"ajax_pagination_infinite_stop\":\"\",\"css\":\"\",\"tdc_css\":\"\",\"td_column_number\":1,\"header_color\":\"\",\"color_preset\":\"\",\"border_top\":\"\",\"class\":\"td_uid_86_63e882a0588c9_rand\",\"tdc_css_class\":\"td_uid_86_63e882a0588c9_rand\",\"tdc_css_class_style\":\"td_uid_86_63e882a0588c9_rand_style\"}';\n",
       "block_td_uid_86_63e882a0588c9.td_column_number = \"1\";\n",
       "block_td_uid_86_63e882a0588c9.block_type = \"td_block_7\";\n",
       "block_td_uid_86_63e882a0588c9.post_count = \"3\";\n",
       "block_td_uid_86_63e882a0588c9.found_posts = \"72\";\n",
       "block_td_uid_86_63e882a0588c9.header_color = \"\";\n",
       "block_td_uid_86_63e882a0588c9.ajax_pagination_infinite_stop = \"\";\n",
       "block_td_uid_86_63e882a0588c9.max_num_pages = \"24\";\n",
       "tdBlocksArray.push(block_td_uid_86_63e882a0588c9);\n",
       "</script><div class=\"td-block-title-wrap\"><h4 class=\"block-title td-block-title\"><span class=\"td-pulldown-size\">EDITOR PICKS</span></h4></div><div class=\"td_block_inner\" id=\"td_uid_86_63e882a0588c9\">\n",
       "<div class=\"td-block-span12\">\n",
       "<div class=\"td_module_6 td_module_wrap td-animation-stack\">\n",
       "<div class=\"td-module-thumb\"><a class=\"td-image-wrap\" href=\"https://insights.blackcoffer.com/algorithmic-trading-for-multiple-commodities-markets-like-forex-metals-energy-etc/\" rel=\"bookmark\" title=\"Algorithmic trading for multiple commodities markets, like Forex, Metals, Energy, etc.\"><img alt=\"\" class=\"entry-thumb\" height=\"70\" sizes=\"(max-width: 100px) 100vw, 100px\" src=\"https://insights.blackcoffer.com/wp-content/uploads/2022/12/h4-img-01-100x70.jpg\" srcset=\"https://insights.blackcoffer.com/wp-content/uploads/2022/12/h4-img-01-100x70.jpg 100w, https://insights.blackcoffer.com/wp-content/uploads/2022/12/h4-img-01-218x150.jpg 218w\" title=\"Algorithmic trading for multiple commodities markets, like Forex, Metals, Energy, etc.\" width=\"100\"/></a></div>\n",
       "<div class=\"item-details\">\n",
       "<h3 class=\"entry-title td-module-title\"><a href=\"https://insights.blackcoffer.com/algorithmic-trading-for-multiple-commodities-markets-like-forex-metals-energy-etc/\" rel=\"bookmark\" title=\"Algorithmic trading for multiple commodities markets, like Forex, Metals, Energy, etc.\">Algorithmic trading for multiple commodities markets, like Forex, Metals, Energy, etc.</a></h3> <div class=\"td-module-meta-info\">\n",
       "<span class=\"td-post-date\"><time class=\"entry-date updated td-module-date\" datetime=\"2022-12-31T20:32:11+00:00\">December 31, 2022</time></span> </div>\n",
       "</div>\n",
       "</div>\n",
       "</div> <!-- ./td-block-span12 -->\n",
       "<div class=\"td-block-span12\">\n",
       "<div class=\"td_module_6 td_module_wrap td-animation-stack\">\n",
       "<div class=\"td-module-thumb\"><a class=\"td-image-wrap\" href=\"https://insights.blackcoffer.com/trading-bot-for-forex/\" rel=\"bookmark\" title=\"Trading Bot for FOREX\"><img alt=\"\" class=\"entry-thumb\" height=\"70\" sizes=\"(max-width: 100px) 100vw, 100px\" src=\"https://insights.blackcoffer.com/wp-content/uploads/2022/12/32-100x70.jpg\" srcset=\"https://insights.blackcoffer.com/wp-content/uploads/2022/12/32-100x70.jpg 100w, https://insights.blackcoffer.com/wp-content/uploads/2022/12/32-218x150.jpg 218w\" title=\"Trading Bot for FOREX\" width=\"100\"/></a></div>\n",
       "<div class=\"item-details\">\n",
       "<h3 class=\"entry-title td-module-title\"><a href=\"https://insights.blackcoffer.com/trading-bot-for-forex/\" rel=\"bookmark\" title=\"Trading Bot for FOREX\">Trading Bot for FOREX</a></h3> <div class=\"td-module-meta-info\">\n",
       "<span class=\"td-post-date\"><time class=\"entry-date updated td-module-date\" datetime=\"2022-12-31T20:12:47+00:00\">December 31, 2022</time></span> </div>\n",
       "</div>\n",
       "</div>\n",
       "</div> <!-- ./td-block-span12 -->\n",
       "<div class=\"td-block-span12\">\n",
       "<div class=\"td_module_6 td_module_wrap td-animation-stack\">\n",
       "<div class=\"td-module-thumb\"><a class=\"td-image-wrap\" href=\"https://insights.blackcoffer.com/python-model-for-the-analysis-of-sector-specific-stock-etfs-for-investment-purposes%ef%bf%bc/\" rel=\"bookmark\" title=\"Python model for the analysis of sector-specific stock ETFs for investment purposes\"><img alt=\"\" class=\"entry-thumb\" height=\"70\" sizes=\"(max-width: 100px) 100vw, 100px\" src=\"https://insights.blackcoffer.com/wp-content/uploads/2022/12/main-100x70.jpg\" srcset=\"https://insights.blackcoffer.com/wp-content/uploads/2022/12/main-100x70.jpg 100w, https://insights.blackcoffer.com/wp-content/uploads/2022/12/main-218x150.jpg 218w\" title=\"Python model for the analysis of sector-specific stock ETFs for investment purposes\" width=\"100\"/></a></div>\n",
       "<div class=\"item-details\">\n",
       "<h3 class=\"entry-title td-module-title\"><a href=\"https://insights.blackcoffer.com/python-model-for-the-analysis-of-sector-specific-stock-etfs-for-investment-purposes%ef%bf%bc/\" rel=\"bookmark\" title=\"Python model for the analysis of sector-specific stock ETFs for investment purposes\">Python model for the analysis of sector-specific stock ETFs for investment...</a></h3> <div class=\"td-module-meta-info\">\n",
       "<span class=\"td-post-date\"><time class=\"entry-date updated td-module-date\" datetime=\"2022-12-31T19:31:55+00:00\">December 31, 2022</time></span> </div>\n",
       "</div>\n",
       "</div>\n",
       "</div> <!-- ./td-block-span12 --></div></div> <!-- ./block --> </div>\n",
       "<div class=\"td-pb-span4\">\n",
       "<div class=\"td_block_wrap td_block_7 td_uid_87_63e882a05aa57_rand td-pb-border-top td_block_template_1 td-column-1 td_block_padding\" data-td-block-uid=\"td_uid_87_63e882a05aa57\"><script>var block_td_uid_87_63e882a05aa57 = new tdBlock();\n",
       "block_td_uid_87_63e882a05aa57.id = \"td_uid_87_63e882a05aa57\";\n",
       "block_td_uid_87_63e882a05aa57.atts = '{\"custom_title\":\"POPULAR POSTS\",\"limit\":3,\"sort\":\"popular\",\"separator\":\"\",\"custom_url\":\"\",\"block_template_id\":\"\",\"m6_tl\":\"\",\"post_ids\":\"\",\"category_id\":\"\",\"category_ids\":\"\",\"tag_slug\":\"\",\"autors_id\":\"\",\"installed_post_types\":\"\",\"offset\":\"\",\"show_modified_date\":\"\",\"el_class\":\"\",\"td_ajax_filter_type\":\"\",\"td_ajax_filter_ids\":\"\",\"td_filter_default_txt\":\"All\",\"td_ajax_preloading\":\"\",\"f_header_font_header\":\"\",\"f_header_font_title\":\"Block header\",\"f_header_font_settings\":\"\",\"f_header_font_family\":\"\",\"f_header_font_size\":\"\",\"f_header_font_line_height\":\"\",\"f_header_font_style\":\"\",\"f_header_font_weight\":\"\",\"f_header_font_transform\":\"\",\"f_header_font_spacing\":\"\",\"f_header_\":\"\",\"f_ajax_font_title\":\"Ajax categories\",\"f_ajax_font_settings\":\"\",\"f_ajax_font_family\":\"\",\"f_ajax_font_size\":\"\",\"f_ajax_font_line_height\":\"\",\"f_ajax_font_style\":\"\",\"f_ajax_font_weight\":\"\",\"f_ajax_font_transform\":\"\",\"f_ajax_font_spacing\":\"\",\"f_ajax_\":\"\",\"f_more_font_title\":\"Load more button\",\"f_more_font_settings\":\"\",\"f_more_font_family\":\"\",\"f_more_font_size\":\"\",\"f_more_font_line_height\":\"\",\"f_more_font_style\":\"\",\"f_more_font_weight\":\"\",\"f_more_font_transform\":\"\",\"f_more_font_spacing\":\"\",\"f_more_\":\"\",\"m6f_title_font_header\":\"\",\"m6f_title_font_title\":\"Article title\",\"m6f_title_font_settings\":\"\",\"m6f_title_font_family\":\"\",\"m6f_title_font_size\":\"\",\"m6f_title_font_line_height\":\"\",\"m6f_title_font_style\":\"\",\"m6f_title_font_weight\":\"\",\"m6f_title_font_transform\":\"\",\"m6f_title_font_spacing\":\"\",\"m6f_title_\":\"\",\"m6f_cat_font_title\":\"Article category tag\",\"m6f_cat_font_settings\":\"\",\"m6f_cat_font_family\":\"\",\"m6f_cat_font_size\":\"\",\"m6f_cat_font_line_height\":\"\",\"m6f_cat_font_style\":\"\",\"m6f_cat_font_weight\":\"\",\"m6f_cat_font_transform\":\"\",\"m6f_cat_font_spacing\":\"\",\"m6f_cat_\":\"\",\"m6f_meta_font_title\":\"Article meta info\",\"m6f_meta_font_settings\":\"\",\"m6f_meta_font_family\":\"\",\"m6f_meta_font_size\":\"\",\"m6f_meta_font_line_height\":\"\",\"m6f_meta_font_style\":\"\",\"m6f_meta_font_weight\":\"\",\"m6f_meta_font_transform\":\"\",\"m6f_meta_font_spacing\":\"\",\"m6f_meta_\":\"\",\"ajax_pagination\":\"\",\"ajax_pagination_infinite_stop\":\"\",\"css\":\"\",\"tdc_css\":\"\",\"td_column_number\":1,\"header_color\":\"\",\"color_preset\":\"\",\"border_top\":\"\",\"class\":\"td_uid_87_63e882a05aa57_rand\",\"tdc_css_class\":\"td_uid_87_63e882a05aa57_rand\",\"tdc_css_class_style\":\"td_uid_87_63e882a05aa57_rand_style\"}';\n",
       "block_td_uid_87_63e882a05aa57.td_column_number = \"1\";\n",
       "block_td_uid_87_63e882a05aa57.block_type = \"td_block_7\";\n",
       "block_td_uid_87_63e882a05aa57.post_count = \"3\";\n",
       "block_td_uid_87_63e882a05aa57.found_posts = \"408\";\n",
       "block_td_uid_87_63e882a05aa57.header_color = \"\";\n",
       "block_td_uid_87_63e882a05aa57.ajax_pagination_infinite_stop = \"\";\n",
       "block_td_uid_87_63e882a05aa57.max_num_pages = \"136\";\n",
       "tdBlocksArray.push(block_td_uid_87_63e882a05aa57);\n",
       "</script><div class=\"td-block-title-wrap\"><h4 class=\"block-title td-block-title\"><span class=\"td-pulldown-size\">POPULAR POSTS</span></h4></div><div class=\"td_block_inner\" id=\"td_uid_87_63e882a05aa57\">\n",
       "<div class=\"td-block-span12\">\n",
       "<div class=\"td_module_6 td_module_wrap td-animation-stack\">\n",
       "<div class=\"td-module-thumb\"><a class=\"td-image-wrap\" href=\"https://insights.blackcoffer.com/ai-in-healthcare-to-improve-patient-outcomes/\" rel=\"bookmark\" title=\"AI in healthcare to Improve Patient Outcomes\"><img alt=\"\" class=\"entry-thumb\" height=\"70\" sizes=\"(max-width: 100px) 100vw, 100px\" src=\"https://insights.blackcoffer.com/wp-content/uploads/2021/06/h12-slider-image-2-100x70.jpg\" srcset=\"https://insights.blackcoffer.com/wp-content/uploads/2021/06/h12-slider-image-2-100x70.jpg 100w, https://insights.blackcoffer.com/wp-content/uploads/2021/06/h12-slider-image-2-218x150.jpg 218w\" title=\"AI in healthcare to Improve Patient Outcomes\" width=\"100\"/></a></div>\n",
       "<div class=\"item-details\">\n",
       "<h3 class=\"entry-title td-module-title\"><a href=\"https://insights.blackcoffer.com/ai-in-healthcare-to-improve-patient-outcomes/\" rel=\"bookmark\" title=\"AI in healthcare to Improve Patient Outcomes\">AI in healthcare to Improve Patient Outcomes</a></h3> <div class=\"td-module-meta-info\">\n",
       "<span class=\"td-post-date\"><time class=\"entry-date updated td-module-date\" datetime=\"2021-06-26T12:37:50+00:00\">June 26, 2021</time></span> </div>\n",
       "</div>\n",
       "</div>\n",
       "</div> <!-- ./td-block-span12 -->\n",
       "<div class=\"td-block-span12\">\n",
       "<div class=\"td_module_6 td_module_wrap td-animation-stack\">\n",
       "<div class=\"td-module-thumb\"><a class=\"td-image-wrap\" href=\"https://insights.blackcoffer.com/how-is-login-logout-time-tracking-for-employees-in-office-done-by-ai/\" rel=\"bookmark\" title=\"How is Login Logout Time Tracking for Employees in Office done by AI?\"><img alt=\"\" class=\"entry-thumb\" height=\"70\" sizes=\"(max-width: 100px) 100vw, 100px\" src=\"https://insights.blackcoffer.com/wp-content/uploads/2021/09/pro2-100x70.jpg\" srcset=\"https://insights.blackcoffer.com/wp-content/uploads/2021/09/pro2-100x70.jpg 100w, https://insights.blackcoffer.com/wp-content/uploads/2021/09/pro2-218x150.jpg 218w\" title=\"How is Login Logout Time Tracking for Employees in Office done by AI?\" width=\"100\"/></a></div>\n",
       "<div class=\"item-details\">\n",
       "<h3 class=\"entry-title td-module-title\"><a href=\"https://insights.blackcoffer.com/how-is-login-logout-time-tracking-for-employees-in-office-done-by-ai/\" rel=\"bookmark\" title=\"How is Login Logout Time Tracking for Employees in Office done by AI?\">How is Login Logout Time Tracking for Employees in Office done...</a></h3> <div class=\"td-module-meta-info\">\n",
       "<span class=\"td-post-date\"><time class=\"entry-date updated td-module-date\" datetime=\"2021-09-28T15:23:17+00:00\">September 28, 2021</time></span> </div>\n",
       "</div>\n",
       "</div>\n",
       "</div> <!-- ./td-block-span12 -->\n",
       "<div class=\"td-block-span12\">\n",
       "<div class=\"td_module_6 td_module_wrap td-animation-stack\">\n",
       "<div class=\"td-module-thumb\"><a class=\"td-image-wrap\" href=\"https://insights.blackcoffer.com/should-celebrities-be-allowed-to-join-politics/\" rel=\"bookmark\" title=\"Should celebrities be allowed to join politics?\"><img alt=\"Should celebrities be allowed to join politics ?\" class=\"entry-thumb\" height=\"70\" sizes=\"(max-width: 100px) 100vw, 100px\" src=\"https://insights.blackcoffer.com/wp-content/uploads/2020/04/new-100x70.jpg\" srcset=\"https://insights.blackcoffer.com/wp-content/uploads/2020/04/new-100x70.jpg 100w, https://insights.blackcoffer.com/wp-content/uploads/2020/04/new-218x150.jpg 218w\" title=\"Should celebrities be allowed to join politics?\" width=\"100\"/></a></div>\n",
       "<div class=\"item-details\">\n",
       "<h3 class=\"entry-title td-module-title\"><a href=\"https://insights.blackcoffer.com/should-celebrities-be-allowed-to-join-politics/\" rel=\"bookmark\" title=\"Should celebrities be allowed to join politics?\">Should celebrities be allowed to join politics?</a></h3> <div class=\"td-module-meta-info\">\n",
       "<span class=\"td-post-date\"><time class=\"entry-date updated td-module-date\" datetime=\"2020-04-16T12:04:12+00:00\">April 16, 2020</time></span> </div>\n",
       "</div>\n",
       "</div>\n",
       "</div> <!-- ./td-block-span12 --></div></div> <!-- ./block --> </div>\n",
       "<div class=\"td-pb-span4\">\n",
       "<div class=\"td_block_wrap td_block_popular_categories td_uid_88_63e882a05f7bd_rand widget widget_categories td-pb-border-top td_block_template_1\" data-td-block-uid=\"td_uid_88_63e882a05f7bd\"><div class=\"td-block-title-wrap\"><h4 class=\"block-title td-block-title\"><span class=\"td-pulldown-size\">POPULAR CATEGORY</span></h4></div><ul class=\"td-pb-padding-side\"><li><a href=\"https://insights.blackcoffer.com/category/what-we-think/\"><span class=\"td-cat-name\">What We Think</span><span class=\"td-cat-no\">166</span></a></li><li><a href=\"https://insights.blackcoffer.com/category/our-success-stories/\"><span class=\"td-cat-name\">Our Success Stories</span><span class=\"td-cat-no\">126</span></a></li><li><a href=\"https://insights.blackcoffer.com/category/blackcoffer/\"><span class=\"td-cat-name\">Blackcoffer</span><span class=\"td-cat-no\">118</span></a></li><li><a href=\"https://insights.blackcoffer.com/category/what-we-think/healthcare/\"><span class=\"td-cat-name\">Healthcare</span><span class=\"td-cat-no\">52</span></a></li><li><a href=\"https://insights.blackcoffer.com/category/what-we-think/data-science/artificial-intelligence/\"><span class=\"td-cat-name\">Artificial Intelligence</span><span class=\"td-cat-no\">51</span></a></li><li><a href=\"https://insights.blackcoffer.com/category/our-success-stories/it/\"><span class=\"td-cat-name\">IT</span><span class=\"td-cat-no\">46</span></a></li><li><a href=\"https://insights.blackcoffer.com/category/what-we-think/data-science/big-data/\"><span class=\"td-cat-name\">Big Data</span><span class=\"td-cat-no\">44</span></a></li><li><a href=\"https://insights.blackcoffer.com/category/our-success-stories/lifestyle-ecommerce-market-place/\"><span class=\"td-cat-name\">Lifestyle, eCommerce &amp; Online Market Place</span><span class=\"td-cat-no\">38</span></a></li><li><a href=\"https://insights.blackcoffer.com/category/what-we-think/data-science/\"><span class=\"td-cat-name\">Data Science</span><span class=\"td-cat-no\">34</span></a></li></ul></div> <!-- ./block --> </div>\n",
       "</div>\n",
       "</div>\n",
       "<div class=\"td-footer-bottom-full\">\n",
       "<div class=\"td-container\">\n",
       "<div class=\"td-pb-row\">\n",
       "<div class=\"td-pb-span3\"><aside class=\"footer-logo-wrap\"><a href=\"https://insights.blackcoffer.com/\"><img alt=\"\" src=\"https://insights.blackcoffer.com/wp-content/uploads/2018/12/insights-white.png\" title=\"\"/></a></aside></div><div class=\"td-pb-span5\"><aside class=\"footer-text-wrap\"><div class=\"block-title\"><span>ABOUT US</span></div>We provide intelligence, accelerate innovation and implement technology with extraordinary breadth and depth global insights into the big data,data-driven dashboards, applications development, and information management for organizations through combining unique, specialist services and high-lvel human expertise.<div class=\"footer-email-wrap\">Contact us: <a href=\"mailto:hello@blackcoffer.com\">hello@blackcoffer.com</a></div></aside></div><div class=\"td-pb-span4\"><aside class=\"footer-social-wrap td-social-style-2\"><div class=\"block-title\"><span>FOLLOW US</span></div>\n",
       "<span class=\"td-social-icon-wrap\">\n",
       "<a href=\"https://www.facebook.com/blackcoffer.consulting\" target=\"_blank\" title=\"Facebook\">\n",
       "<i class=\"td-icon-font td-icon-facebook\"></i>\n",
       "</a>\n",
       "</span>\n",
       "<span class=\"td-social-icon-wrap\">\n",
       "<a href=\"https://www.linkedin.com/company/blackcoffer/mycompany/\" target=\"_blank\" title=\"Linkedin\">\n",
       "<i class=\"td-icon-font td-icon-linkedin\"></i>\n",
       "</a>\n",
       "</span>\n",
       "<span class=\"td-social-icon-wrap\">\n",
       "<a href=\"https://twitter.com/Blackcoffer1\" target=\"_blank\" title=\"Twitter\">\n",
       "<i class=\"td-icon-font td-icon-twitter\"></i>\n",
       "</a>\n",
       "</span>\n",
       "<span class=\"td-social-icon-wrap\">\n",
       "<a href=\"https://www.youtube.com/channel/UCfr95TYacXeHI3cklmYdtXg\" target=\"_blank\" title=\"Youtube\">\n",
       "<i class=\"td-icon-font td-icon-youtube\"></i>\n",
       "</a>\n",
       "</span></aside></div> </div>\n",
       "</div>\n",
       "</div>\n",
       "</div>\n",
       "<!-- Sub Footer -->\n",
       "<div class=\"td-sub-footer-container td-container-wrap\">\n",
       "<div class=\"td-container\">\n",
       "<div class=\"td-pb-row\">\n",
       "<div class=\"td-pb-span td-sub-footer-menu\">\n",
       "<div class=\"menu-td-demo-footer-menu-container\"><ul class=\"td-subfooter-menu\" id=\"menu-td-demo-footer-menu\"><li class=\"menu-item menu-item-type-custom menu-item-object-custom menu-item-first td-menu-item td-normal-menu menu-item-4689\" id=\"menu-item-4689\"><a href=\"https://blackcoffer.com/\" rel=\"noopener\" target=\"_blank\">Home</a></li>\n",
       "<li class=\"menu-item menu-item-type-custom menu-item-object-custom td-menu-item td-normal-menu menu-item-4690\" id=\"menu-item-4690\"><a href=\"https://blackcoffer.com/about-us/\" rel=\"noopener\" target=\"_blank\">About</a></li>\n",
       "<li class=\"menu-item menu-item-type-custom menu-item-object-custom td-menu-item td-normal-menu menu-item-4691\" id=\"menu-item-4691\"><a href=\"https://blackcoffer.com/services/\" rel=\"noopener\" target=\"_blank\">Services</a></li>\n",
       "<li class=\"menu-item menu-item-type-custom menu-item-object-custom td-menu-item td-normal-menu menu-item-4692\" id=\"menu-item-4692\"><a href=\"https://blackcoffer.com/products/\" rel=\"noopener\" target=\"_blank\">Products</a></li>\n",
       "<li class=\"menu-item menu-item-type-custom menu-item-object-custom td-menu-item td-normal-menu menu-item-4693\" id=\"menu-item-4693\"><a href=\"https://blackcoffer.com/contact/\" rel=\"noopener\" target=\"_blank\">Contact</a></li>\n",
       "</ul></div> </div>\n",
       "<div class=\"td-pb-span td-sub-footer-copy\">\n",
       "                    © All Right Reserved, Blackcoffer(OPC) Pvt. Ltd.                </div>\n",
       "</div>\n",
       "</div>\n",
       "</div>\n",
       "</div><!--close td-outer-wrap-->\n",
       "<div class=\"td-more-articles-box\">\n",
       "<i class=\"td-icon-close td-close-more-articles-box\"></i>\n",
       "<span class=\"td-more-articles-box-title\">MORE STORIES</span>\n",
       "<div class=\"td-content-more-articles-box\">\n",
       "<div class=\"td_module_6 td_module_wrap td-animation-stack\">\n",
       "<div class=\"td-module-thumb\"><a class=\"td-image-wrap\" href=\"https://insights.blackcoffer.com/rise-of-telemedicine-and-its-impact-on-livelihood-by-2040-3/\" rel=\"bookmark\" title=\"Rise of telemedicine and its Impact on Livelihood by 2040\"><img alt=\"\" class=\"entry-thumb\" height=\"70\" sizes=\"(max-width: 100px) 100vw, 100px\" src=\"https://insights.blackcoffer.com/wp-content/uploads/2023/01/fidovhj-100x70.jpg\" srcset=\"https://insights.blackcoffer.com/wp-content/uploads/2023/01/fidovhj-100x70.jpg 100w, https://insights.blackcoffer.com/wp-content/uploads/2023/01/fidovhj-218x150.jpg 218w\" title=\"Rise of telemedicine and its Impact on Livelihood by 2040\" width=\"100\"/></a></div>\n",
       "<div class=\"item-details\">\n",
       "<h3 class=\"entry-title td-module-title\"><a href=\"https://insights.blackcoffer.com/rise-of-telemedicine-and-its-impact-on-livelihood-by-2040-3/\" rel=\"bookmark\" title=\"Rise of telemedicine and its Impact on Livelihood by 2040\">Rise of telemedicine and its Impact on Livelihood by 2040</a></h3> <div class=\"td-module-meta-info\">\n",
       "<span class=\"td-post-date\"><time class=\"entry-date updated td-module-date\" datetime=\"2023-01-02T20:45:14+00:00\">January 2, 2023</time></span> </div>\n",
       "</div>\n",
       "</div>\n",
       "<div class=\"td_module_6 td_module_wrap td-animation-stack\">\n",
       "<div class=\"td-module-thumb\"><a class=\"td-image-wrap\" href=\"https://insights.blackcoffer.com/rise-of-e-health-and-its-impact-on-humans-by-the-year-2030/\" rel=\"bookmark\" title=\"Rise of e-health and its impact on humans by the year 2030\"><img alt=\"\" class=\"entry-thumb\" height=\"70\" sizes=\"(max-width: 100px) 100vw, 100px\" src=\"https://insights.blackcoffer.com/wp-content/uploads/2023/01/digital-health-100x70.jpg\" srcset=\"https://insights.blackcoffer.com/wp-content/uploads/2023/01/digital-health-100x70.jpg 100w, https://insights.blackcoffer.com/wp-content/uploads/2023/01/digital-health-218x150.jpg 218w\" title=\"Rise of e-health and its impact on humans by the year 2030\" width=\"100\"/></a></div>\n",
       "<div class=\"item-details\">\n",
       "<h3 class=\"entry-title td-module-title\"><a href=\"https://insights.blackcoffer.com/rise-of-e-health-and-its-impact-on-humans-by-the-year-2030/\" rel=\"bookmark\" title=\"Rise of e-health and its impact on humans by the year 2030\">Rise of e-health and its impact on humans by the year...</a></h3> <div class=\"td-module-meta-info\">\n",
       "<span class=\"td-post-date\"><time class=\"entry-date updated td-module-date\" datetime=\"2023-01-02T20:32:51+00:00\">January 2, 2023</time></span> </div>\n",
       "</div>\n",
       "</div>\n",
       "</div>\n",
       "</div>\n",
       "<!--\n",
       "\n",
       "        Theme: Newspaper by tagDiv.com 2019\n",
       "        Version: 9.7.2 (rara)\n",
       "        Deploy mode: deploy\n",
       "        \n",
       "        uid: 63e882a062460\n",
       "    -->\n",
       "<script id=\"tdModalPostImages-js\" src=\"https://insights.blackcoffer.com/wp-content/plugins/td-composer/legacy/common/wp_booster/js_dev/tdModalPostImages.js?ver=9.7.2\" type=\"text/javascript\"></script>\n",
       "<script id=\"underscore-js\" src=\"https://insights.blackcoffer.com/wp-includes/js/underscore.min.js?ver=1.13.4\" type=\"text/javascript\"></script>\n",
       "<script id=\"tdb_js_posts_autoload-js\" src=\"https://insights.blackcoffer.com/wp-content/plugins/td-cloud-library/assets/js/js_posts_autoload.min.js?ver=96be9388232cf6f1e9ad7a3c9f4e9872\" type=\"text/javascript\"></script>\n",
       "<script id=\"td-site-min-js\" src=\"https://insights.blackcoffer.com/wp-content/themes/Newspaper/js/tagdiv_theme.min.js?ver=9.7.2\" type=\"text/javascript\"></script>\n",
       "<script id=\"comment-reply-js\" src=\"https://insights.blackcoffer.com/wp-includes/js/comment-reply.min.js?ver=6.1.1\" type=\"text/javascript\"></script>\n",
       "<script id=\"tdb_js_files_for_front-js\" src=\"https://insights.blackcoffer.com/wp-content/plugins/td-cloud-library/assets/js/js_files_for_front.min.js?ver=96be9388232cf6f1e9ad7a3c9f4e9872\" type=\"text/javascript\"></script>\n",
       "<!-- JS generated by theme -->\n",
       "<script>\n",
       "    \n",
       "jQuery(window).ready(function() {\n",
       "(function(){\n",
       "var td_backstr_item = new tdBackstr.item();\n",
       "td_backstr_item.wrapper_image_jquery_obj = jQuery( \"#td-full-screen-header-image\" );\n",
       "td_backstr_item.image_jquery_obj = td_backstr_item.wrapper_image_jquery_obj.find( 'img:first' );\n",
       "tdBackstr.add_item( td_backstr_item );\n",
       "jQuery('.td-read-down a').click(function(event){\n",
       "event.preventDefault();\n",
       "var header_wrap = jQuery( '.td-full-screen-header-image-wrap:first' )\n",
       "if ( 1 === header_wrap.length ) {\n",
       "tdUtil.scrollToPosition(header_wrap.height() + header_wrap.offset().top, 1200);\n",
       "}\n",
       "});\n",
       "})();\n",
       "});\n",
       "\n",
       "                jQuery().ready(function jQuery_ready() {\n",
       "                    tdAjaxCount.tdGetViewsCountsAjax(\"post\",\"[3839]\");\n",
       "                });\n",
       "            \n",
       "\n",
       "\t\n",
       "\n",
       "\t\t(function(){\n",
       "\t\t\tvar html_jquery_obj = jQuery('html');\n",
       "\n",
       "\t\t\tif (html_jquery_obj.length && (html_jquery_obj.is('.ie8') || html_jquery_obj.is('.ie9'))) {\n",
       "\n",
       "\t\t\t\tvar path = 'https://insights.blackcoffer.com/wp-content/themes/Newspaper/style.css';\n",
       "\n",
       "\t\t\t\tjQuery.get(path, function(data) {\n",
       "\n",
       "\t\t\t\t\tvar str_split_separator = '#td_css_split_separator';\n",
       "\t\t\t\t\tvar arr_splits = data.split(str_split_separator);\n",
       "\t\t\t\t\tvar arr_length = arr_splits.length;\n",
       "\n",
       "\t\t\t\t\tif (arr_length > 1) {\n",
       "\n",
       "\t\t\t\t\t\tvar dir_path = 'https://insights.blackcoffer.com/wp-content/themes/Newspaper';\n",
       "\t\t\t\t\t\tvar splited_css = '';\n",
       "\n",
       "\t\t\t\t\t\tfor (var i = 0; i < arr_length; i++) {\n",
       "\t\t\t\t\t\t\tif (i > 0) {\n",
       "\t\t\t\t\t\t\t\tarr_splits[i] = str_split_separator + ' ' + arr_splits[i];\n",
       "\t\t\t\t\t\t\t}\n",
       "\t\t\t\t\t\t\t//jQuery('head').append('<style>' + arr_splits[i] + '</style>');\n",
       "\n",
       "\t\t\t\t\t\t\tvar formated_str = arr_splits[i].replace(/\\surl\\(\\'(?!data\\:)/gi, function regex_function(str) {\n",
       "\t\t\t\t\t\t\t\treturn ' url(\\'' + dir_path + '/' + str.replace(/url\\(\\'/gi, '').replace(/^\\s+|\\s+$/gm,'');\n",
       "\t\t\t\t\t\t\t});\n",
       "\n",
       "\t\t\t\t\t\t\tsplited_css += \"<style>\" + formated_str + \"</style>\";\n",
       "\t\t\t\t\t\t}\n",
       "\n",
       "\t\t\t\t\t\tvar td_theme_css = jQuery('link#td-theme-css');\n",
       "\n",
       "\t\t\t\t\t\tif (td_theme_css.length) {\n",
       "\t\t\t\t\t\t\ttd_theme_css.after(splited_css);\n",
       "\t\t\t\t\t\t}\n",
       "\t\t\t\t\t}\n",
       "\t\t\t\t});\n",
       "\t\t\t}\n",
       "\t\t})();\n",
       "\n",
       "\t\n",
       "\t\n",
       "</script>\n",
       "</body>\n",
       "</html>"
      ]
     },
     "execution_count": 17,
     "metadata": {},
     "output_type": "execute_result"
    }
   ],
   "source": [
    "soup2"
   ]
  },
  {
   "cell_type": "code",
   "execution_count": 18,
   "id": "fefdece0",
   "metadata": {},
   "outputs": [
    {
     "data": {
      "text/plain": [
       "[<title>Example Domain</title>]"
      ]
     },
     "execution_count": 18,
     "metadata": {},
     "output_type": "execute_result"
    }
   ],
   "source": [
    "soup1.select('title')"
   ]
  },
  {
   "cell_type": "code",
   "execution_count": 19,
   "id": "7d02821e",
   "metadata": {},
   "outputs": [
    {
     "data": {
      "text/plain": [
       "[<title>How Telehealth and Telemedicine helping people to fight against COVID-19 - Blackcoffer Insights</title>]"
      ]
     },
     "execution_count": 19,
     "metadata": {},
     "output_type": "execute_result"
    }
   ],
   "source": [
    "soup2.select('title')"
   ]
  },
  {
   "cell_type": "code",
   "execution_count": 20,
   "id": "c6e476c2",
   "metadata": {},
   "outputs": [],
   "source": [
    "title_tag1 = soup1.select('title')"
   ]
  },
  {
   "cell_type": "code",
   "execution_count": 21,
   "id": "1b90b917",
   "metadata": {},
   "outputs": [],
   "source": [
    "title_tag2 = soup2.select('title')"
   ]
  },
  {
   "cell_type": "code",
   "execution_count": 22,
   "id": "0cc6fb4d",
   "metadata": {},
   "outputs": [
    {
     "data": {
      "text/plain": [
       "<title>Example Domain</title>"
      ]
     },
     "execution_count": 22,
     "metadata": {},
     "output_type": "execute_result"
    }
   ],
   "source": [
    "title_tag1[0]"
   ]
  },
  {
   "cell_type": "code",
   "execution_count": 23,
   "id": "2bfb6441",
   "metadata": {},
   "outputs": [
    {
     "data": {
      "text/plain": [
       "<title>How Telehealth and Telemedicine helping people to fight against COVID-19 - Blackcoffer Insights</title>"
      ]
     },
     "execution_count": 23,
     "metadata": {},
     "output_type": "execute_result"
    }
   ],
   "source": [
    "title_tag2[0]"
   ]
  },
  {
   "cell_type": "code",
   "execution_count": 24,
   "id": "6403bd6f",
   "metadata": {},
   "outputs": [
    {
     "data": {
      "text/plain": [
       "bs4.element.Tag"
      ]
     },
     "execution_count": 24,
     "metadata": {},
     "output_type": "execute_result"
    }
   ],
   "source": [
    "type(title_tag1[0])"
   ]
  },
  {
   "cell_type": "code",
   "execution_count": 25,
   "id": "6a09482f",
   "metadata": {},
   "outputs": [
    {
     "data": {
      "text/plain": [
       "bs4.element.Tag"
      ]
     },
     "execution_count": 25,
     "metadata": {},
     "output_type": "execute_result"
    }
   ],
   "source": [
    "type(title_tag2[0])"
   ]
  },
  {
   "cell_type": "code",
   "execution_count": 26,
   "id": "98df7007",
   "metadata": {},
   "outputs": [
    {
     "data": {
      "text/plain": [
       "'Example Domain'"
      ]
     },
     "execution_count": 26,
     "metadata": {},
     "output_type": "execute_result"
    }
   ],
   "source": [
    "title_tag1[0].getText()"
   ]
  },
  {
   "cell_type": "code",
   "execution_count": 27,
   "id": "51945e4b",
   "metadata": {},
   "outputs": [
    {
     "data": {
      "text/plain": [
       "'How Telehealth and Telemedicine helping people to fight against COVID-19 - Blackcoffer Insights'"
      ]
     },
     "execution_count": 27,
     "metadata": {},
     "output_type": "execute_result"
    }
   ],
   "source": [
    "title_tag2[0].getText()"
   ]
  },
  {
   "cell_type": "code",
   "execution_count": 28,
   "id": "18b7d8ea",
   "metadata": {},
   "outputs": [],
   "source": [
    "paragraph1 = soup1.select('p')"
   ]
  },
  {
   "cell_type": "code",
   "execution_count": 29,
   "id": "6062f228",
   "metadata": {},
   "outputs": [],
   "source": [
    "paragraph2 = soup2.select('p')"
   ]
  },
  {
   "cell_type": "code",
   "execution_count": 30,
   "id": "bfcb6f7c",
   "metadata": {},
   "outputs": [
    {
     "data": {
      "text/plain": [
       "[<p>This domain is for use in illustrative examples in documents. You may use this\n",
       "     domain in literature without prior coordination or asking for permission.</p>,\n",
       " <p><a href=\"https://www.iana.org/domains/example\">More information...</a></p>]"
      ]
     },
     "execution_count": 30,
     "metadata": {},
     "output_type": "execute_result"
    }
   ],
   "source": [
    "paragraph1"
   ]
  },
  {
   "cell_type": "code",
   "execution_count": 31,
   "id": "fd7f5221",
   "metadata": {},
   "outputs": [
    {
     "data": {
      "text/plain": [
       "[<p>The last 2 years are the most critical time in the world and to survive in that time it’s a great challenge for people. People all around the world are to be aware of this and they protect their families by maintaining the protocols. At this time online services play a great role. People all around the world can buy their daily life needs online and the providers also care for their customers, so they delivered the product to their customers by maintaining the covid-19 protocols. This online medicine service has also become popular. The people don’t need to be panicked to go out for this and they can provide the medicines to the patients at the home, and also store the necessary medicines on their own. The terms telehealth and telemedicine are used interchangeably. In remote areas to provide medicines and healthcare telehealth is used and to provide medicines at the doorsteps to the people telemedicine’s used. The technology is used for this clinic information. This technique is used for electronic communication and sharing the medicine’s information with the pharmacy directly. This concept is not new but in this situation, the use of this system has become very popular and also very useful.</p>,\n",
       " <p>In every world, every government gives priority to telehealth and telemedicine technology. This thing started with the medicine library, which provides the necessary medicine and also gives an idea of the use of every medicine. This technique is used for electronic communication and sharing the medicine’s information with the pharmacy directly. In every remote area, this technology provides a great role. To support the teleconnection activity department of information technology has set a standard for that so that people can use this in this critical situation.</p>,\n",
       " <p>Telehealth and telemedicine are different things, but the aim and purpose of these two technologies are the same, to provide healthcare services to people without any problem. This system is used for both the patient and healthcare professional education also for the public(Leite,2018). This technology aims to overcome the barriers and provide equal access to the services and the interventions. This technology helps to overcome the barrier and solve problems like adverse weather and illness. Telehealth technology is used to consult with the patient’s family about diagnosis and treatment by the service.</p>,\n",
       " <p>The telehealth system provides the patient’s information to various locations to provide the patient with the best treatment. This system is accessed by every unavailable service for the patient in every remote area. Telehealth removes the travel time and waiting rooms for the patients to the remote areas. for this technique, the patients can get safe ety and are too ill to travel in restricted areas.  This technology is not dependent on locations, it can work in every location. This marketing for this technology is very popular in the market and people also love to use this technology.</p>,\n",
       " <p> This is the benefit of this technology. This technology can manage the health of the patients by self-management and through monitoring. The patients can go for a checkup in time when they can choose this thing that always gives a benefit to the patients. There are more opportunities to improve standard care with various technologies. This is more equitable to access healthcare. The clients can use the medical images for diagnosis and they can tell the doctors about their problems through video calls. If the case is very serious they don’t wait to check the doctor they can directly connect with the doctors through video calls. But in other ways, it causes some problems for the patients. With this technology they can meet various doctors each time, these things can create confusion for the patients and their families. The older patients and the child does have a family member with them for their health purpose. The patient’s and the doctor’s communication is needed to be good and they need to understand this is a part of the therapy. If they do not communicate with each other, the problem will take a long time to resolve. The most important thing is that the patient and the therapist need to use the technology properly. In time this technology will help people in many ways like that.</p>,\n",
       " <p>This technology has the scope to be more popular in the future. After the covid-19 situation, this technology became very popular so the care delivery services that connect the patient to the health professionals to provide using the video calls and texting, and many more. For this, accessible and affordable health care is born as people’s care. Today telehealth is bigger than everything (Rametta<em>et al </em>.2019).  The services provide the patients to use this properly and get their therapy not to go to the clinic and can use these things as a lucky chance for their family and also.</p>,\n",
       " <p>Patients always appreciate this technology and agree that this technology always helps them a lot and this is a good review to proceed with these things in the future. The most common reason is to provide the technology everywhere to the GP technology which is easy to locate the patient’s position to access them in various conditions.  Proper communication is when the GP system is working properly and it has the locking time that causes problems so that the two parties have every mall chance to face any problem.  With this technology, people can have courage and faith in their life. So they believe in this system nowadays. After surviving this critical situation they are already using this in daily life. So the purpose of building this system is to reach their level and be successful to achieve its purpose.</p>]"
      ]
     },
     "execution_count": 31,
     "metadata": {},
     "output_type": "execute_result"
    }
   ],
   "source": [
    "paragraph2"
   ]
  },
  {
   "cell_type": "code",
   "execution_count": 32,
   "id": "b4b72ccf",
   "metadata": {},
   "outputs": [
    {
     "data": {
      "text/plain": [
       "'This domain is for use in illustrative examples in documents. You may use this\\n    domain in literature without prior coordination or asking for permission.'"
      ]
     },
     "execution_count": 32,
     "metadata": {},
     "output_type": "execute_result"
    }
   ],
   "source": [
    "paragraph1[0].getText()"
   ]
  },
  {
   "cell_type": "code",
   "execution_count": 33,
   "id": "6ef6320c",
   "metadata": {},
   "outputs": [
    {
     "data": {
      "text/plain": [
       "'The last 2 years are the most critical time in the world and to survive in that time it’s a great challenge for people. People all around the world are to be aware of this and they protect their families by maintaining the protocols. At this time online services play a great role. People all around the world can buy their daily life needs online and the providers also care for their customers, so they delivered the product to their customers by maintaining the covid-19 protocols. This online medicine service has also become popular. The people don’t need to be panicked to go out for this and they can provide the medicines to the patients at the home, and also store the necessary medicines on their own. The terms telehealth and telemedicine are used interchangeably. In remote areas to provide medicines and healthcare telehealth is used and to provide medicines at the doorsteps to the people telemedicine’s used. The technology is used for this clinic information. This technique is used for electronic communication and sharing the medicine’s information with the pharmacy directly. This concept is not new but in this situation, the use of this system has become very popular and also very useful.'"
      ]
     },
     "execution_count": 33,
     "metadata": {},
     "output_type": "execute_result"
    }
   ],
   "source": [
    "paragraph2[0].getText()"
   ]
  },
  {
   "cell_type": "code",
   "execution_count": 34,
   "id": "4fcd0d9d",
   "metadata": {},
   "outputs": [
    {
     "data": {
      "text/plain": [
       "'In every world, every government gives priority to telehealth and telemedicine technology. This thing started with the medicine library, which provides the necessary medicine and also gives an idea of the use of every medicine. This technique is used for electronic communication and sharing the medicine’s information with the pharmacy directly. In every remote area, this technology provides a great role. To support the teleconnection activity department of information technology has set a standard for that so that people can use this in this critical situation.'"
      ]
     },
     "execution_count": 34,
     "metadata": {},
     "output_type": "execute_result"
    }
   ],
   "source": [
    "paragraph2[1].getText()"
   ]
  },
  {
   "cell_type": "code",
   "execution_count": 35,
   "id": "206832ad",
   "metadata": {},
   "outputs": [],
   "source": [
    "table = soup2.select('.td-pulldown-size')[0]"
   ]
  },
  {
   "cell_type": "code",
   "execution_count": 36,
   "id": "42c17906",
   "metadata": {},
   "outputs": [
    {
     "data": {
      "text/plain": [
       "'MOST POPULAR INSIGHTS'"
      ]
     },
     "execution_count": 36,
     "metadata": {},
     "output_type": "execute_result"
    }
   ],
   "source": [
    "table.text"
   ]
  },
  {
   "cell_type": "code",
   "execution_count": 37,
   "id": "46bd2503",
   "metadata": {},
   "outputs": [
    {
     "name": "stdout",
     "output_type": "stream",
     "text": [
      "MOST POPULAR INSIGHTS\n",
      "RECOMMENDED INSIGHTS\n",
      "EDITOR PICKS\n",
      "POPULAR POSTS\n",
      "POPULAR CATEGORY\n"
     ]
    }
   ],
   "source": [
    "for item in soup2.select('.td-pulldown-size'):\n",
    "    print(item.text) "
   ]
  },
  {
   "cell_type": "code",
   "execution_count": null,
   "id": "66c0b7bd",
   "metadata": {},
   "outputs": [],
   "source": []
  },
  {
   "cell_type": "markdown",
   "id": "4b3b95a8",
   "metadata": {},
   "source": [
    "## IMAGE SCRAPING"
   ]
  },
  {
   "cell_type": "code",
   "execution_count": 38,
   "id": "98d3ab4a",
   "metadata": {},
   "outputs": [],
   "source": [
    "res3 = requests.get('https://en.wikipedia.org/wiki/Optimism')"
   ]
  },
  {
   "cell_type": "code",
   "execution_count": 39,
   "id": "7391087d",
   "metadata": {},
   "outputs": [],
   "source": [
    "soup3 = bs4.BeautifulSoup(res3.text, 'lxml')"
   ]
  },
  {
   "cell_type": "code",
   "execution_count": 40,
   "id": "21f62c1d",
   "metadata": {},
   "outputs": [
    {
     "data": {
      "text/plain": [
       "[<img alt=\"\" class=\"thumbimage\" data-file-height=\"4888\" data-file-width=\"6510\" decoding=\"async\" height=\"165\" src=\"//upload.wikimedia.org/wikipedia/commons/thumb/2/2b/BerlinWallMonumentWestView.jpg/220px-BerlinWallMonumentWestView.jpg\" srcset=\"//upload.wikimedia.org/wikipedia/commons/thumb/2/2b/BerlinWallMonumentWestView.jpg/330px-BerlinWallMonumentWestView.jpg 1.5x, //upload.wikimedia.org/wikipedia/commons/thumb/2/2b/BerlinWallMonumentWestView.jpg/440px-BerlinWallMonumentWestView.jpg 2x\" width=\"220\"/>,\n",
       " <img alt=\"\" class=\"thumbimage\" data-file-height=\"724\" data-file-width=\"1000\" decoding=\"async\" height=\"159\" src=\"//upload.wikimedia.org/wikipedia/commons/thumb/4/46/%D0%9E%D0%BF%D1%82%D0%B8%D0%BC%D0%B8%D1%81%D1%82_%D0%B8_%D0%BF%D0%B5%D1%81%D1%81%D0%B8%D0%BC%D0%B8%D1%81%D1%82.jpg/220px-%D0%9E%D0%BF%D1%82%D0%B8%D0%BC%D0%B8%D1%81%D1%82_%D0%B8_%D0%BF%D0%B5%D1%81%D1%81%D0%B8%D0%BC%D0%B8%D1%81%D1%82.jpg\" srcset=\"//upload.wikimedia.org/wikipedia/commons/thumb/4/46/%D0%9E%D0%BF%D1%82%D0%B8%D0%BC%D0%B8%D1%81%D1%82_%D0%B8_%D0%BF%D0%B5%D1%81%D1%81%D0%B8%D0%BC%D0%B8%D1%81%D1%82.jpg/330px-%D0%9E%D0%BF%D1%82%D0%B8%D0%BC%D0%B8%D1%81%D1%82_%D0%B8_%D0%BF%D0%B5%D1%81%D1%81%D0%B8%D0%BC%D0%B8%D1%81%D1%82.jpg 1.5x, //upload.wikimedia.org/wikipedia/commons/thumb/4/46/%D0%9E%D0%BF%D1%82%D0%B8%D0%BC%D0%B8%D1%81%D1%82_%D0%B8_%D0%BF%D0%B5%D1%81%D1%81%D0%B8%D0%BC%D0%B8%D1%81%D1%82.jpg/440px-%D0%9E%D0%BF%D1%82%D0%B8%D0%BC%D0%B8%D1%81%D1%82_%D0%B8_%D0%BF%D0%B5%D1%81%D1%81%D0%B8%D0%BC%D0%B8%D1%81%D1%82.jpg 2x\" width=\"220\"/>,\n",
       " <img alt=\"\" class=\"thumbimage\" data-file-height=\"523\" data-file-width=\"652\" decoding=\"async\" height=\"176\" src=\"//upload.wikimedia.org/wikipedia/commons/thumb/3/39/Optimistic_Personality.png/220px-Optimistic_Personality.png\" srcset=\"//upload.wikimedia.org/wikipedia/commons/thumb/3/39/Optimistic_Personality.png/330px-Optimistic_Personality.png 1.5x, //upload.wikimedia.org/wikipedia/commons/thumb/3/39/Optimistic_Personality.png/440px-Optimistic_Personality.png 2x\" width=\"220\"/>]"
      ]
     },
     "execution_count": 40,
     "metadata": {},
     "output_type": "execute_result"
    }
   ],
   "source": [
    "soup3.select('.thumbimage')"
   ]
  },
  {
   "cell_type": "code",
   "execution_count": 41,
   "id": "1fcea6f8",
   "metadata": {},
   "outputs": [],
   "source": [
    "image = soup3.select('.thumbimage')[1]"
   ]
  },
  {
   "cell_type": "code",
   "execution_count": 42,
   "id": "ca5c5364",
   "metadata": {},
   "outputs": [
    {
     "data": {
      "text/plain": [
       "'//upload.wikimedia.org/wikipedia/commons/thumb/4/46/%D0%9E%D0%BF%D1%82%D0%B8%D0%BC%D0%B8%D1%81%D1%82_%D0%B8_%D0%BF%D0%B5%D1%81%D1%81%D0%B8%D0%BC%D0%B8%D1%81%D1%82.jpg/220px-%D0%9E%D0%BF%D1%82%D0%B8%D0%BC%D0%B8%D1%81%D1%82_%D0%B8_%D0%BF%D0%B5%D1%81%D1%81%D0%B8%D0%BC%D0%B8%D1%81%D1%82.jpg'"
      ]
     },
     "execution_count": 42,
     "metadata": {},
     "output_type": "execute_result"
    }
   ],
   "source": [
    "image['src']"
   ]
  },
  {
   "cell_type": "markdown",
   "id": "ab118caf",
   "metadata": {},
   "source": [
    "<img src = \"//upload.wikimedia.org/wikipedia/commons/thumb/4/46/%D0%9E%D0%BF%D1%82%D0%B8%D0%BC%D0%B8%D1%81%D1%82_%D0%B8_%D0%BF%D0%B5%D1%81%D1%81%D0%B8%D0%BC%D0%B8%D1%81%D1%82.jpg/220px-%D0%9E%D0%BF%D1%82%D0%B8%D0%BC%D0%B8%D1%81%D1%82_%D0%B8_%D0%BF%D0%B5%D1%81%D1%81%D0%B8%D0%BC%D0%B8%D1%81%D1%82.jpg\" >"
   ]
  },
  {
   "cell_type": "code",
   "execution_count": null,
   "id": "8aac4eb9",
   "metadata": {},
   "outputs": [],
   "source": []
  },
  {
   "cell_type": "markdown",
   "id": "bd749da9",
   "metadata": {},
   "source": [
    "## Grab books with 5 star rating"
   ]
  },
  {
   "cell_type": "code",
   "execution_count": 43,
   "id": "0fb89a5d",
   "metadata": {},
   "outputs": [
    {
     "data": {
      "text/plain": [
       "'https://books.toscrape.com/catalogue/page-3.html'"
      ]
     },
     "execution_count": 43,
     "metadata": {},
     "output_type": "execute_result"
    }
   ],
   "source": [
    "'https://books.toscrape.com/catalogue/page-3.html'"
   ]
  },
  {
   "cell_type": "code",
   "execution_count": 44,
   "id": "2b00d6d6",
   "metadata": {},
   "outputs": [],
   "source": [
    "base_url = 'https://books.toscrape.com/catalogue/page-{}.html'"
   ]
  },
  {
   "cell_type": "code",
   "execution_count": 45,
   "id": "f301d25b",
   "metadata": {},
   "outputs": [
    {
     "data": {
      "text/plain": [
       "'https://books.toscrape.com/catalogue/page-23.html'"
      ]
     },
     "execution_count": 45,
     "metadata": {},
     "output_type": "execute_result"
    }
   ],
   "source": [
    "base_url.format(23)"
   ]
  },
  {
   "cell_type": "code",
   "execution_count": 46,
   "id": "d9352e00",
   "metadata": {},
   "outputs": [
    {
     "data": {
      "text/plain": [
       "'https://books.toscrape.com/catalogue/page-36.html'"
      ]
     },
     "execution_count": 46,
     "metadata": {},
     "output_type": "execute_result"
    }
   ],
   "source": [
    "page_num = 36\n",
    "base_url.format(page_num)"
   ]
  },
  {
   "cell_type": "code",
   "execution_count": null,
   "id": "0346d4fc",
   "metadata": {},
   "outputs": [],
   "source": []
  },
  {
   "cell_type": "code",
   "execution_count": 73,
   "id": "36381991",
   "metadata": {},
   "outputs": [
    {
     "name": "stdout",
     "output_type": "stream",
     "text": [
      "25\n"
     ]
    }
   ],
   "source": [
    "page_num = int(input())"
   ]
  },
  {
   "cell_type": "code",
   "execution_count": 74,
   "id": "35712c4c",
   "metadata": {},
   "outputs": [],
   "source": [
    "#base_url = 'https://books.toscrape.com/catalogue/page-{}.html'"
   ]
  },
  {
   "cell_type": "code",
   "execution_count": 75,
   "id": "0ae61368",
   "metadata": {},
   "outputs": [],
   "source": [
    "base_url = f'https://books.toscrape.com/catalogue/page-{page_num}.html'"
   ]
  },
  {
   "cell_type": "code",
   "execution_count": 76,
   "id": "c930b5d8",
   "metadata": {},
   "outputs": [],
   "source": [
    "res4 = requests.get(base_url.format(page_num))"
   ]
  },
  {
   "cell_type": "code",
   "execution_count": 77,
   "id": "698029a1",
   "metadata": {},
   "outputs": [],
   "source": [
    "soup4 = bs4.BeautifulSoup(res4.text, 'lxml')"
   ]
  },
  {
   "cell_type": "code",
   "execution_count": 80,
   "id": "903b2201",
   "metadata": {},
   "outputs": [
    {
     "data": {
      "text/plain": [
       "20"
      ]
     },
     "execution_count": 80,
     "metadata": {},
     "output_type": "execute_result"
    }
   ],
   "source": [
    "len(soup4.select('.product_pod'))\n"
   ]
  },
  {
   "cell_type": "code",
   "execution_count": 83,
   "id": "3bbb8f5c",
   "metadata": {},
   "outputs": [],
   "source": [
    "products = soup4.select('.product_pod')"
   ]
  },
  {
   "cell_type": "code",
   "execution_count": 86,
   "id": "36e391e1",
   "metadata": {},
   "outputs": [],
   "source": [
    "example = products[0]"
   ]
  },
  {
   "cell_type": "code",
   "execution_count": null,
   "id": "51c57a14",
   "metadata": {},
   "outputs": [],
   "source": []
  },
  {
   "cell_type": "code",
   "execution_count": null,
   "id": "8815d040",
   "metadata": {},
   "outputs": [],
   "source": []
  }
 ],
 "metadata": {
  "kernelspec": {
   "display_name": "Python 3",
   "language": "python",
   "name": "python3"
  },
  "language_info": {
   "codemirror_mode": {
    "name": "ipython",
    "version": 3
   },
   "file_extension": ".py",
   "mimetype": "text/x-python",
   "name": "python",
   "nbconvert_exporter": "python",
   "pygments_lexer": "ipython3",
   "version": "3.8.8"
  }
 },
 "nbformat": 4,
 "nbformat_minor": 5
}
